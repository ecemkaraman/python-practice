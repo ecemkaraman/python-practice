{
 "cells": [
  {
   "cell_type": "markdown",
   "id": "d5603fe9",
   "metadata": {},
   "source": [
    "\n",
    "# Day 1- `yield`, Generators, and Coroutines (Async/Await)\n"
   ]
  },
  {
   "cell_type": "markdown",
   "id": "1b27681f",
   "metadata": {},
   "source": [
    "\n",
    "## 1. Understanding Generators and `yield`\n",
    "\n",
    "A **generator** is a type of iterator in Python that is created using a function with the `yield` keyword. Unlike regular functions that return a single value, generators produce a sequence of values **lazily** (on demand).\n",
    "\n",
    "### Key Features:\n",
    "1. **Stateful**: Generators remember their state (local variables, execution position) between calls.\n",
    "2. **Lazy Evaluation**: They compute values only when needed, saving memory.\n",
    "3. **`yield` vs. `return`**:\n",
    "   - `return` ends the function entirely.\n",
    "   - `yield` pauses the function and allows it to resume later.\n",
    "   \n",
    "   \n",
    "### 2 types of generators: **Generator Functions & Expressions**\n",
    "\n",
    "- Both **create generator objects**.\n",
    "- **Generator functions:** Defined with def + yield,for more complex tasks (loops, conditionals etc)\n",
    "- **Generator expressions:** Defined inline using (), for quick, simple, one-liner tasks.\n",
    "\n",
    "### Anatomy of a Generator Function\n",
    "- Use `yield` to produce values one at a time.\n",
    "- Use `next()` to iterate through the values.\n"
   ]
  },
  {
   "cell_type": "code",
   "execution_count": 2,
   "id": "80a30a41",
   "metadata": {},
   "outputs": [
    {
     "name": "stdout",
     "output_type": "stream",
     "text": [
      "First\n",
      "Second\n",
      "Third\n"
     ]
    },
    {
     "ename": "StopIteration",
     "evalue": "",
     "output_type": "error",
     "traceback": [
      "\u001b[0;31m---------------------------------------------------------------------------\u001b[0m",
      "\u001b[0;31mStopIteration\u001b[0m                             Traceback (most recent call last)",
      "Cell \u001b[0;32mIn[2], line 14\u001b[0m\n\u001b[1;32m     12\u001b[0m \u001b[38;5;28mprint\u001b[39m(\u001b[38;5;28mnext\u001b[39m(gen))  \u001b[38;5;66;03m# Output: \"Third\"\u001b[39;00m\n\u001b[1;32m     13\u001b[0m \u001b[38;5;66;03m# Uncomment the line below to trigger StopIteration\u001b[39;00m\n\u001b[0;32m---> 14\u001b[0m \u001b[38;5;28mprint\u001b[39m(\u001b[38;5;28mnext\u001b[39m(gen))\n",
      "\u001b[0;31mStopIteration\u001b[0m: "
     ]
    }
   ],
   "source": [
    "\n",
    "# Example: Basic generator\n",
    "def simple_generator():\n",
    "    yield \"First\"\n",
    "    yield \"Second\"\n",
    "    yield \"Third\"\n",
    "\n",
    "# Using the generator\n",
    "gen = simple_generator()\n",
    "\n",
    "print(next(gen))  # Output: \"First\"\n",
    "print(next(gen))  # Output: \"Second\"\n",
    "print(next(gen))  # Output: \"Third\"\n",
    "# Uncomment the line below to trigger StopIteration\n",
    "# print(next(gen))\n"
   ]
  },
  {
   "cell_type": "markdown",
   "id": "14f9ef5d",
   "metadata": {},
   "source": [
    "\n",
    "## 2. Generator Expressions\n",
    "\n",
    "A **generator expression** is a compact way to create a generator. It's similar to a list comprehension but uses parentheses `()` instead of brackets `[]`.\n",
    "\n",
    "### Advantages:\n",
    "1. Saves memory by not creating the entire list in memory.\n",
    "2. Evaluates values lazily.\n",
    "\n",
    "### Example: List Comprehension vs. Generator Expression\n",
    "- **List Comprehension**: `[x * x for x in range(5)]` → Creates a list `[0, 1, 4, 9, 16]`.\n",
    "- **Generator Expression**: `(x * x for x in range(5))` → Creates a generator that computes squares lazily.\n"
   ]
  },
  {
   "cell_type": "code",
   "execution_count": null,
   "id": "7bec0e37",
   "metadata": {},
   "outputs": [],
   "source": [
    "\n",
    "# List comprehension vs. generator expression\n",
    "list_comp = [x * x for x in range(5)]\n",
    "gen_expr = (x * x for x in range(5))\n",
    "\n",
    "print(\"List comprehension:\", list_comp)  # Outputs the entire list\n",
    "print(\"Generator expression:\", gen_expr)  # Outputs a generator object\n",
    "\n",
    "# Iterating through the generator expression\n",
    "for value in gen_expr:\n",
    "    print(value)  # Outputs squares one at a time\n"
   ]
  },
  {
   "cell_type": "markdown",
   "id": "f091e37f",
   "metadata": {},
   "source": [
    "\n",
    "## 3. Async and Await with Coroutines\n",
    "\n",
    "Coroutines extend the concept of generators, allowing asynchronous programming. They are designed for tasks that involve **waiting** (e.g., network calls, file I/O) without blocking the entire program.\n",
    "\n",
    "### Key Features:\n",
    "1. **Defined with `async def`**: Indicates the function is a coroutine.\n",
    "2. **Awaitable Tasks**:\n",
    "   - Use `await` to pause a coroutine until another async task completes.\n",
    "3. **Event Loop**: The core of asynchronous programming, responsible for managing coroutines.\n",
    "\n",
    "### Key Syntax:\n",
    "- `async def func():` → Defines a coroutine.\n",
    "- `await` → Waits for another coroutine or async task to finish.\n",
    "- `asyncio.run(coroutine())` → Starts the event loop.\n"
   ]
  },
  {
   "cell_type": "code",
   "execution_count": null,
   "id": "3c9f220b",
   "metadata": {},
   "outputs": [],
   "source": [
    "\n",
    "import asyncio\n",
    "\n",
    "# Example: Async coroutine with await\n",
    "async def fetch_data():\n",
    "    print(\"Start fetching...\")\n",
    "    await asyncio.sleep(2)  # Simulate a network call\n",
    "    print(\"Data fetched!\")\n",
    "    return {\"data\": 123}\n",
    "\n",
    "# Run the coroutine\n",
    "asyncio.run(fetch_data())\n"
   ]
  },
  {
   "cell_type": "markdown",
   "id": "e53588a7",
   "metadata": {},
   "source": [
    "\n",
    "## 4. Combining `yield` and Async for Advanced Use Cases\n",
    "\n",
    "You can combine `yield` and async programming for advanced workflows, such as streaming data from asynchronous sources. While not common, these scenarios demonstrate the flexibility of Python generators and coroutines.\n",
    "\n"
   ]
  },
  {
   "cell_type": "code",
   "execution_count": null,
   "id": "6ae3cb9d",
   "metadata": {},
   "outputs": [],
   "source": [
    "import asyncio\n",
    "\n",
    "# Async generator example\n",
    "async def async_number_generator():\n",
    "    for i in range(5):\n",
    "        await asyncio.sleep(1)  # Simulate async work\n",
    "        yield i\n",
    "\n",
    "# Consuming the async generator\n",
    "async def consume_async_gen():\n",
    "    async for num in async_number_generator():\n",
    "        print(f\"Received: {num}\")\n",
    "\n",
    "# Run the async consumer\n",
    "asyncio.run(consume_async_gen())"
   ]
  },
  {
   "cell_type": "markdown",
   "id": "6b485f05",
   "metadata": {},
   "source": [
    "\n",
    "## 5. Key Takeaways\n",
    "\n",
    "- **`yield`**: Pauses a function and remembers its state.\n",
    "- **Generators**:\n",
    "  - Created with `yield`, used for lazy evaluation.\n",
    "  - Ideal for processing large or infinite data streams.\n",
    "- **Generator Expressions**: Compact syntax for lazy sequences.\n",
    "- **Coroutines (Async/Await)**:\n",
    "  - Use `async def` and `await` for asynchronous tasks.\n",
    "  - Run with `asyncio` for non-blocking workflows.\n",
    "- **Advanced Use Cases**:\n",
    "  - Combine `yield` and async for streaming workflows.\n",
    "  - Create scalable, memory-efficient pipelines.\n"
   ]
  },
  {
   "cell_type": "markdown",
   "id": "9c126a41",
   "metadata": {},
   "source": [
    "\n",
    "## 6. Advanced Implementations of Generators\n",
    "\n",
    "Generators are versatile tools that can handle a variety of real-world scenarios. Below are advanced use cases that demonstrate their power and flexibility.\n",
    "\n",
    "### 6.1. Infinite Sequences\n",
    "Generate an infinite sequence of numbers or data lazily without consuming memory.\n"
   ]
  },
  {
   "cell_type": "code",
   "execution_count": null,
   "id": "92d5d6d7",
   "metadata": {},
   "outputs": [],
   "source": [
    "# Infinite Fibonacci Sequence Generator\n",
    "def fibonacci():\n",
    "    a, b = 0, 1\n",
    "    while True:\n",
    "        yield a\n",
    "        a, b = b, a + b\n",
    "\n",
    "# Using the Fibonacci generator\n",
    "fib_gen = fibonacci()\n",
    "for _ in range(10):  # Print the first 10 Fibonacci numbers\n",
    "    print(next(fib_gen))"
   ]
  },
  {
   "cell_type": "markdown",
   "id": "796f464e",
   "metadata": {},
   "source": [
    "\n",
    "### 6.2. Pipeline Processing\n",
    "\n",
    "Generators can be chained together to process data in stages, mimicking a production pipeline.\n"
   ]
  },
  {
   "cell_type": "code",
   "execution_count": null,
   "id": "c23b69f1",
   "metadata": {},
   "outputs": [],
   "source": [
    "\n",
    "# Example: Data processing pipeline\n",
    "def read_data():\n",
    "    for i in range(1, 6):  # Simulate reading raw data\n",
    "        yield f\"raw_{i}\"\n",
    "\n",
    "def clean_data(data_gen):\n",
    "    for item in data_gen:\n",
    "        yield item.replace(\"raw\", \"cleaned\")  # Simulate cleaning\n",
    "\n",
    "def analyze_data(data_gen):\n",
    "    for item in data_gen:\n",
    "        yield f\"analyzed({item})\"  # Simulate analysis\n",
    "\n",
    "# Chain the generators\n",
    "raw_data = read_data()\n",
    "cleaned_data = clean_data(raw_data)\n",
    "analyzed_data = analyze_data(cleaned_data)\n",
    "\n",
    "# Process the data through the pipeline\n",
    "for result in analyzed_data:\n",
    "    print(result)\n"
   ]
  },
  {
   "cell_type": "markdown",
   "id": "0fa75432",
   "metadata": {},
   "source": [
    "\n",
    "### 6.3. Stateful Generators\n",
    "\n",
    "Generators can maintain internal state for tasks like rate limiting or periodic updates.\n"
   ]
  },
  {
   "cell_type": "code",
   "execution_count": null,
   "id": "def73d2d",
   "metadata": {},
   "outputs": [],
   "source": [
    "# Example: Generator with rate limiting\n",
    "import time\n",
    "\n",
    "def rate_limited_generator(limit_per_second):\n",
    "    interval = 1 / limit_per_second\n",
    "    while True:\n",
    "        yield time.time()\n",
    "        time.sleep(interval)\n",
    "\n",
    "# Generate timestamps at a rate of 2 per second\n",
    "for timestamp in rate_limited_generator(2):\n",
    "    print(timestamp)\n",
    "    if timestamp - int(timestamp) > 0.8:  # Stop after a few iterations\n",
    "        break"
   ]
  },
  {
   "cell_type": "markdown",
   "id": "d1659612",
   "metadata": {},
   "source": [
    "\n",
    "### 6.4. Flattening Nested Iterables\n",
    "\n",
    "Generators can be used to traverse and flatten nested structures.\n"
   ]
  },
  {
   "cell_type": "code",
   "execution_count": null,
   "id": "9be9410c",
   "metadata": {},
   "outputs": [],
   "source": [
    "# Example: Flatten nested lists\n",
    "def flatten(nested):\n",
    "    for item in nested:\n",
    "        if isinstance(item, list):\n",
    "            yield from flatten(item)  # Recursively yield from nested lists\n",
    "        else:\n",
    "            yield item\n",
    "\n",
    "# Nested list\n",
    "nested_list = [1, [2, [3, 4], 5], 6]\n",
    "flat_list = list(flatten(nested_list))\n",
    "print(flat_list)  # Output: [1, 2, 3, 4, 5, 6]"
   ]
  },
  {
   "cell_type": "markdown",
   "id": "3b207356",
   "metadata": {},
   "source": [
    "\n",
    "### 6.5. Combining Sync and Async Generators\n",
    "\n",
    "Use synchronous generators to process data while awaiting asynchronous tasks.\n"
   ]
  },
  {
   "cell_type": "code",
   "execution_count": null,
   "id": "e82e0af9",
   "metadata": {},
   "outputs": [],
   "source": [
    "import asyncio\n",
    "\n",
    "# Async data fetcher\n",
    "async def fetch_data():\n",
    "    for i in range(3):\n",
    "        await asyncio.sleep(1)  # Simulate async I/O\n",
    "        yield f\"data_{i}\"\n",
    "\n",
    "# Sync processor that consumes async generator\n",
    "def sync_processor(async_gen):\n",
    "    loop = asyncio.get_event_loop()\n",
    "    async def run():\n",
    "        async for item in async_gen:\n",
    "            yield f\"processed({item})\"\n",
    "    return loop.run_until_complete(run())\n",
    "\n",
    "# Combine generators\n",
    "async_gen = fetch_data()\n",
    "processed_gen = sync_processor(async_gen)\n",
    "for result in processed_gen:\n",
    "    print(result)"
   ]
  }
 ],
 "metadata": {
  "kernelspec": {
   "display_name": "Python 3 (ipykernel)",
   "language": "python",
   "name": "python3"
  },
  "language_info": {
   "codemirror_mode": {
    "name": "ipython",
    "version": 3
   },
   "file_extension": ".py",
   "mimetype": "text/x-python",
   "name": "python",
   "nbconvert_exporter": "python",
   "pygments_lexer": "ipython3",
   "version": "3.11.3"
  }
 },
 "nbformat": 4,
 "nbformat_minor": 5
}
