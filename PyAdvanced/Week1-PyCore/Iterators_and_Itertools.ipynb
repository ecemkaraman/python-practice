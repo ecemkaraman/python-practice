{
 "cells": [
  {
   "cell_type": "markdown",
   "id": "a5b3d814",
   "metadata": {},
   "source": [
    "# **Iterators in Python: End-to-End Guide**"
   ]
  },
  {
   "cell_type": "markdown",
   "id": "2ab7fbb1",
   "metadata": {},
   "source": [
    "## **1. Basics of Iterators**\n",
    "\n",
    "### What is an Iterator?\n",
    "An iterator in Python is an object that implements the `__iter__()` and `__next__()` methods. Iterators are used to traverse through a sequence lazily."
   ]
  },
  {
   "cell_type": "code",
   "execution_count": null,
   "id": "8c3b18a3",
   "metadata": {},
   "outputs": [],
   "source": [
    "# Example: Simple Iterator\n",
    "iterable = [1, 2, 3]\n",
    "iterator = iter(iterable)  # Get an iterator\n",
    "\n",
    "print(next(iterator))  # Output: 1\n",
    "print(next(iterator))  # Output: 2\n",
    "print(next(iterator))  # Output: 3\n",
    "# print(next(iterator))  # Raises StopIteration"
   ]
  },
  {
   "cell_type": "markdown",
   "id": "6354b5a7",
   "metadata": {},
   "source": [
    "### Why Use Iterators?\n",
    "- Lazy evaluation: Process data one element at a time.\n",
    "- Efficient for large datasets.\n",
    "\n",
    "### Common Iterable Objects\n",
    "- Lists, Tuples, Sets, Dictionaries, Strings\n",
    "- Generators\n",
    "- File objects"
   ]
  },
  {
   "cell_type": "markdown",
   "id": "68836dd4",
   "metadata": {},
   "source": [
    "## **2. Custom Iterators**\n",
    "\n",
    "You can create your own iterators by implementing the `__iter__` and `__next__` methods."
   ]
  },
  {
   "cell_type": "code",
   "execution_count": null,
   "id": "a7c19273",
   "metadata": {},
   "outputs": [],
   "source": [
    "# Example: Custom Iterator for a Range\n",
    "class CustomRange:\n",
    "    def __init__(self, start, end):\n",
    "        self.start = start\n",
    "        self.end = end\n",
    "        self.current = start\n",
    "\n",
    "    def __iter__(self):\n",
    "        return self\n",
    "\n",
    "    def __next__(self):\n",
    "        if self.current >= self.end:\n",
    "            raise StopIteration\n",
    "        current = self.current\n",
    "        self.current += 1\n",
    "        return current\n",
    "\n",
    "# Usage\n",
    "for num in CustomRange(1, 5):\n",
    "    print(num)  # Outputs: 1, 2, 3, 4"
   ]
  },
  {
   "cell_type": "code",
   "execution_count": null,
   "id": "26eb70bc",
   "metadata": {},
   "outputs": [],
   "source": [
    "# Example: Fibonacci Iterator\n",
    "class Fibonacci:\n",
    "    def __init__(self, max_val):\n",
    "        self.max_val = max_val\n",
    "        self.a, self.b = 0, 1\n",
    "\n",
    "    def __iter__(self):\n",
    "        return self\n",
    "\n",
    "    def __next__(self):\n",
    "        if self.a > self.max_val:\n",
    "            raise StopIteration\n",
    "        value = self.a\n",
    "        self.a, self.b = self.b, self.a + self.b\n",
    "        return value\n",
    "\n",
    "# Usage\n",
    "for num in Fibonacci(50):\n",
    "    print(num)  # Outputs Fibonacci numbers <= 50"
   ]
  },
  {
   "cell_type": "markdown",
   "id": "8c443ff8",
   "metadata": {},
   "source": [
    "## **3. Generators: Simplified Iterators**\n",
    "\n",
    "Generators are a simpler way to create iterators using the `yield` keyword."
   ]
  },
  {
   "cell_type": "code",
   "execution_count": null,
   "id": "29d8d95e",
   "metadata": {},
   "outputs": [],
   "source": [
    "# Example: Generator for Custom Range\n",
    "def custom_range(start, end):\n",
    "    current = start\n",
    "    while current < end:\n",
    "        yield current\n",
    "        current += 1\n",
    "\n",
    "# Usage\n",
    "for num in custom_range(1, 5):\n",
    "    print(num)  # Outputs: 1, 2, 3, 4"
   ]
  },
  {
   "cell_type": "code",
   "execution_count": null,
   "id": "0ea02493",
   "metadata": {},
   "outputs": [],
   "source": [
    "# Example: Generator for Fibonacci Numbers\n",
    "def fibonacci(max_val):\n",
    "    a, b = 0, 1\n",
    "    while a <= max_val:\n",
    "        yield a\n",
    "        a, b = b, a + b\n",
    "\n",
    "# Usage\n",
    "for num in fibonacci(50):\n",
    "    print(num)  # Outputs Fibonacci numbers <= 50"
   ]
  },
  {
   "cell_type": "markdown",
   "id": "9788acc1",
   "metadata": {},
   "source": [
    "## **4. Efficient Looping with `itertools`**\n",
    "\n",
    "`itertools` is a Python library offering tools for efficient looping and combinatorics."
   ]
  },
  {
   "cell_type": "markdown",
   "id": "ad95be20",
   "metadata": {},
   "source": [
    "### 4.1 Infinite Iterators"
   ]
  },
  {
   "cell_type": "code",
   "execution_count": null,
   "id": "23e2fe62",
   "metadata": {},
   "outputs": [],
   "source": [
    "# Example: Infinite Counter\n",
    "from itertools import count\n",
    "for i in count(5):  # Starts at 5\n",
    "    print(i)\n",
    "    if i >= 10:\n",
    "        break  # Prevent infinite loop"
   ]
  },
  {
   "cell_type": "code",
   "execution_count": null,
   "id": "ecbcdca4",
   "metadata": {},
   "outputs": [],
   "source": [
    "# Example: Cycling Through an Iterable\n",
    "from itertools import cycle\n",
    "counter = 0\n",
    "for char in cycle(\"AB\"):\n",
    "    print(char)\n",
    "    counter += 1\n",
    "    if counter == 6:\n",
    "        break  # Outputs: A, B, A, B, A, B"
   ]
  },
  {
   "cell_type": "code",
   "execution_count": null,
   "id": "44cf2f3d",
   "metadata": {},
   "outputs": [],
   "source": [
    "# Example: Repeating an Item\n",
    "from itertools import repeat\n",
    "for item in repeat(\"Hello\", 3):\n",
    "    print(item)  # Outputs: Hello, Hello, Hello"
   ]
  },
  {
   "cell_type": "markdown",
   "id": "c116ff57",
   "metadata": {},
   "source": [
    "### 4.2 Combinatorics"
   ]
  },
  {
   "cell_type": "code",
   "execution_count": null,
   "id": "8588bb28",
   "metadata": {},
   "outputs": [],
   "source": [
    "# Example: Cartesian Product\n",
    "from itertools import product\n",
    "print(list(product(\"AB\", [1, 2])))  # Outputs: [('A', 1), ('A', 2), ('B', 1), ('B', 2)]"
   ]
  },
  {
   "cell_type": "code",
   "execution_count": null,
   "id": "5b3c87be",
   "metadata": {},
   "outputs": [],
   "source": [
    "# Example: Permutations\n",
    "from itertools import permutations\n",
    "print(list(permutations(\"ABC\", 2)))  # Outputs: [('A', 'B'), ('A', 'C'), ('B', 'A'), ...]"
   ]
  },
  {
   "cell_type": "code",
   "execution_count": null,
   "id": "09c68962",
   "metadata": {},
   "outputs": [],
   "source": [
    "# Example: Combinations\n",
    "from itertools import combinations\n",
    "print(list(combinations(\"ABC\", 2)))  # Outputs: [('A', 'B'), ('A', 'C'), ('B', 'C')]"
   ]
  },
  {
   "cell_type": "code",
   "execution_count": null,
   "id": "64c9d7a6",
   "metadata": {},
   "outputs": [],
   "source": [
    "# Example: Combinations with Replacement\n",
    "from itertools import combinations_with_replacement\n",
    "print(list(combinations_with_replacement(\"ABC\", 2)))  # Outputs: [('A', 'A'), ('A', 'B'), ...]"
   ]
  },
  {
   "cell_type": "markdown",
   "id": "374f7a7e",
   "metadata": {},
   "source": [
    "### 4.3 Efficient Iteration Tools"
   ]
  },
  {
   "cell_type": "code",
   "execution_count": null,
   "id": "ab168110",
   "metadata": {},
   "outputs": [],
   "source": [
    "# Example: Chain Multiple Iterables\n",
    "from itertools import chain\n",
    "print(list(chain(\"ABC\", [1, 2, 3])))  # Outputs: ['A', 'B', 'C', 1, 2, 3]"
   ]
  },
  {
   "cell_type": "code",
   "execution_count": null,
   "id": "51188aaa",
   "metadata": {},
   "outputs": [],
   "source": [
    "# Example: Slicing an Iterator\n",
    "from itertools import islice\n",
    "print(list(islice(range(10), 2, 7, 2)))  # Outputs: [2, 4, 6]"
   ]
  },
  {
   "cell_type": "code",
   "execution_count": null,
   "id": "50c3b164",
   "metadata": {},
   "outputs": [],
   "source": [
    "# Example: Grouping with `groupby`\n",
    "from itertools import groupby\n",
    "data = [\"A\", \"A\", \"B\", \"B\", \"C\"]\n",
    "for key, group in groupby(data):\n",
    "    print(key, list(group))  # Outputs: A ['A', 'A'], B ['B', 'B'], C ['C']"
   ]
  },
  {
   "cell_type": "markdown",
   "id": "fa288692",
   "metadata": {},
   "source": [
    "## **5. Applications of Iterators and `itertools`**\n",
    "\n",
    "- Efficient data processing (e.g., reading large files).\n",
    "- Generating permutations/combinations for algorithmic problems.\n",
    "- Building lazy pipelines for data transformations.\n",
    "\n",
    "Experiment with the examples provided to deepen your understanding!"
   ]
  }
 ],
 "metadata": {
  "kernelspec": {
   "display_name": "Python 3 (ipykernel)",
   "language": "python",
   "name": "python3"
  },
  "language_info": {
   "codemirror_mode": {
    "name": "ipython",
    "version": 3
   },
   "file_extension": ".py",
   "mimetype": "text/x-python",
   "name": "python",
   "nbconvert_exporter": "python",
   "pygments_lexer": "ipython3",
   "version": "3.11.3"
  }
 },
 "nbformat": 4,
 "nbformat_minor": 5
}
