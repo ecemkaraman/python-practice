{
 "cells": [
  {
   "cell_type": "markdown",
   "id": "d5603fe9",
   "metadata": {},
   "source": [
    "\n",
    "# Advanced Generators and Coroutines - Day 1\n",
    "### Reverse Engineering `yield`, Generators, and Coroutines (Async/Await)\n",
    "This notebook explores the advanced concepts of `yield`, generators, coroutines, and generator expressions in Python. \n"
   ]
  },
  {
   "cell_type": "markdown",
   "id": "1b27681f",
   "metadata": {},
   "source": [
    "\n",
    "## 1. Understanding Generators and `yield`\n",
    "\n",
    "A **generator** is a type of iterator in Python that is created using a function with the `yield` keyword. Unlike regular functions that return a single value, generators produce a sequence of values **lazily** (on demand).\n",
    "\n",
    "### Key Features:\n",
    "1. **Stateful**: Generators remember their state (local variables, execution position) between calls.\n",
    "2. **Lazy Evaluation**: They compute values only when needed, saving memory.\n",
    "3. **`yield` vs. `return`**:\n",
    "   - `return` ends the function entirely.\n",
    "   - `yield` pauses the function and allows it to resume later.\n",
    "\n",
    "### Anatomy of a Generator Function\n",
    "- Use `yield` to produce values one at a time.\n",
    "- Use `next()` to iterate through the values.\n"
   ]
  },
  {
   "cell_type": "code",
   "execution_count": null,
   "id": "80a30a41",
   "metadata": {},
   "outputs": [],
   "source": [
    "\n",
    "# Example: Basic generator\n",
    "def simple_generator():\n",
    "    yield \"First\"\n",
    "    yield \"Second\"\n",
    "    yield \"Third\"\n",
    "\n",
    "# Using the generator\n",
    "gen = simple_generator()\n",
    "\n",
    "print(next(gen))  # Output: \"First\"\n",
    "print(next(gen))  # Output: \"Second\"\n",
    "print(next(gen))  # Output: \"Third\"\n",
    "# Uncomment the line below to trigger StopIteration\n",
    "# print(next(gen))\n"
   ]
  },
  {
   "cell_type": "markdown",
   "id": "14f9ef5d",
   "metadata": {},
   "source": [
    "\n",
    "## 2. Generator Expressions\n",
    "\n",
    "A **generator expression** is a compact way to create a generator. It's similar to a list comprehension but uses parentheses `()` instead of brackets `[]`.\n",
    "\n",
    "### Advantages:\n",
    "1. Saves memory by not creating the entire list in memory.\n",
    "2. Evaluates values lazily.\n",
    "\n",
    "### Example: List Comprehension vs. Generator Expression\n",
    "- **List Comprehension**: `[x * x for x in range(5)]` → Creates a list `[0, 1, 4, 9, 16]`.\n",
    "- **Generator Expression**: `(x * x for x in range(5))` → Creates a generator that computes squares lazily.\n"
   ]
  },
  {
   "cell_type": "code",
   "execution_count": null,
   "id": "7bec0e37",
   "metadata": {},
   "outputs": [],
   "source": [
    "\n",
    "# List comprehension vs. generator expression\n",
    "list_comp = [x * x for x in range(5)]\n",
    "gen_expr = (x * x for x in range(5))\n",
    "\n",
    "print(\"List comprehension:\", list_comp)  # Outputs the entire list\n",
    "print(\"Generator expression:\", gen_expr)  # Outputs a generator object\n",
    "\n",
    "# Iterating through the generator expression\n",
    "for value in gen_expr:\n",
    "    print(value)  # Outputs squares one at a time\n"
   ]
  },
  {
   "cell_type": "markdown",
   "id": "f091e37f",
   "metadata": {},
   "source": [
    "\n",
    "## 3. Async and Await with Coroutines\n",
    "\n",
    "Coroutines extend the concept of generators, allowing asynchronous programming. They are designed for tasks that involve **waiting** (e.g., network calls, file I/O) without blocking the entire program.\n",
    "\n",
    "### Key Features:\n",
    "1. **Defined with `async def`**: Indicates the function is a coroutine.\n",
    "2. **Awaitable Tasks**:\n",
    "   - Use `await` to pause a coroutine until another async task completes.\n",
    "3. **Event Loop**: The core of asynchronous programming, responsible for managing coroutines.\n",
    "\n",
    "### Key Syntax:\n",
    "- `async def func():` → Defines a coroutine.\n",
    "- `await` → Waits for another coroutine or async task to finish.\n",
    "- `asyncio.run(coroutine())` → Starts the event loop.\n"
   ]
  },
  {
   "cell_type": "code",
   "execution_count": null,
   "id": "3c9f220b",
   "metadata": {},
   "outputs": [],
   "source": [
    "\n",
    "import asyncio\n",
    "\n",
    "# Example: Async coroutine with await\n",
    "async def fetch_data():\n",
    "    print(\"Start fetching...\")\n",
    "    await asyncio.sleep(2)  # Simulate a network call\n",
    "    print(\"Data fetched!\")\n",
    "    return {\"data\": 123}\n",
    "\n",
    "# Run the coroutine\n",
    "asyncio.run(fetch_data())\n"
   ]
  },
  {
   "cell_type": "markdown",
   "id": "e53588a7",
   "metadata": {},
   "source": [
    "\n",
    "## 4. Combining `yield` and Async for Advanced Use Cases\n",
    "\n",
    "You can combine `yield` and async programming for advanced workflows, such as streaming data from asynchronous sources. While not common, these scenarios demonstrate the flexibility of Python generators and coroutines.\n",
    "\n"
   ]
  },
  {
   "cell_type": "code",
   "execution_count": null,
   "id": "6ae3cb9d",
   "metadata": {},
   "outputs": [],
   "source": [
    "\n",
    "import asyncio\n",
    "\n",
    "# Async generator example\n",
    "async def async_number_generator():\n",
    "    for i in range(5):\n",
    "        await asyncio.sleep(1)  # Simulate async work\n",
    "        yield i\n",
    "\n",
    "# Consuming the async generator\n",
    "async def consume_async_gen():\n",
    "    async for num in async_number_generator():\n",
    "        print(f\"Received: {num}\")\n",
    "\n",
    "# Run the async consumer\n",
    "asyncio.run(consume_async_gen())\n"
   ]
  },
  {
   "cell_type": "markdown",
   "id": "6b485f05",
   "metadata": {},
   "source": [
    "\n",
    "## 5. Key Takeaways\n",
    "\n",
    "- **`yield`**: Pauses a function and remembers its state.\n",
    "- **Generators**:\n",
    "  - Created with `yield`, used for lazy evaluation.\n",
    "  - Ideal for processing large or infinite data streams.\n",
    "- **Generator Expressions**: Compact syntax for lazy sequences.\n",
    "- **Coroutines (Async/Await)**:\n",
    "  - Use `async def` and `await` for asynchronous tasks.\n",
    "  - Run with `asyncio` for non-blocking workflows.\n",
    "- **Advanced Use Cases**:\n",
    "  - Combine `yield` and async for streaming workflows.\n",
    "  - Create scalable, memory-efficient pipelines.\n",
    "\n",
    "Practice these concepts with real-world examples to deepen your understanding.\n"
   ]
  }
 ],
 "metadata": {
  "kernelspec": {
   "display_name": "Python 3 (ipykernel)",
   "language": "python",
   "name": "python3"
  },
  "language_info": {
   "codemirror_mode": {
    "name": "ipython",
    "version": 3
   },
   "file_extension": ".py",
   "mimetype": "text/x-python",
   "name": "python",
   "nbconvert_exporter": "python",
   "pygments_lexer": "ipython3",
   "version": "3.11.3"
  }
 },
 "nbformat": 4,
 "nbformat_minor": 5
}
