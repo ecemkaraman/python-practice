{
 "cells": [
  {
   "cell_type": "markdown",
   "id": "34b6e253",
   "metadata": {},
   "source": [
    "# **Python `bisect` Module Practice**\n",
    "This notebook provides an overview and practice examples for the `bisect` module in Python, which is used for managing sorted lists by maintaining order through efficient insertion and searching."
   ]
  },
  {
   "cell_type": "markdown",
   "id": "c69b9187",
   "metadata": {},
   "source": [
    "## **1. Basic Setup**\n",
    "The `bisect` module is part of Python's standard library, so no additional installation is required."
   ]
  },
  {
   "cell_type": "code",
   "execution_count": null,
   "id": "497925a2",
   "metadata": {},
   "outputs": [],
   "source": [
    "import bisect"
   ]
  },
  {
   "cell_type": "markdown",
   "id": "83553601",
   "metadata": {},
   "source": [
    "## **2. Using `bisect` to Find Insert Position**\n",
    "The `bisect` function returns the position in a sorted list where a new element can be inserted to maintain the order."
   ]
  },
  {
   "cell_type": "code",
   "execution_count": null,
   "id": "0cc2fca4",
   "metadata": {},
   "outputs": [],
   "source": [
    "sorted_list = [1, 3, 4, 7, 9]\n",
    "position = bisect.bisect(sorted_list, 5)\n",
    "print(f\"Insert position for 5: {position}\")"
   ]
  },
  {
   "cell_type": "markdown",
   "id": "b93e636b",
   "metadata": {},
   "source": [
    "## **3. Using `bisect_left` and `bisect_right`**\n",
    "`bisect_left` finds the position to insert while keeping the element to the left of any equal elements.\n",
    "`bisect_right` does the opposite and places the element to the right."
   ]
  },
  {
   "cell_type": "code",
   "execution_count": null,
   "id": "f19f6a14",
   "metadata": {},
   "outputs": [],
   "source": [
    "position_left = bisect.bisect_left(sorted_list, 7)\n",
    "position_right = bisect.bisect_right(sorted_list, 7)\n",
    "print(f\"Insert position (left) for 7: {position_left}\")\n",
    "print(f\"Insert position (right) for 7: {position_right}\")"
   ]
  },
  {
   "cell_type": "markdown",
   "id": "5b88f481",
   "metadata": {},
   "source": [
    "## **4. Using `insort` to Insert While Maintaining Order**\n",
    "`insort` inserts an element into a sorted list and maintains its sorted order."
   ]
  },
  {
   "cell_type": "code",
   "execution_count": null,
   "id": "b2e80390",
   "metadata": {},
   "outputs": [],
   "source": [
    "bisect.insort(sorted_list, 5)\n",
    "print(f\"List after inserting 5: {sorted_list}\")"
   ]
  },
  {
   "cell_type": "markdown",
   "id": "7793614b",
   "metadata": {},
   "source": [
    "## **5. Using `insort_left` and `insort_right`**\n",
    "`insort_left` and `insort_right` behave like `bisect_left` and `bisect_right`, controlling where duplicates are placed."
   ]
  },
  {
   "cell_type": "code",
   "execution_count": null,
   "id": "ed607170",
   "metadata": {},
   "outputs": [],
   "source": [
    "sorted_list = [1, 3, 4, 7, 7, 9]\n",
    "bisect.insort_left(sorted_list, 7)\n",
    "print(f\"List after insort_left(7): {sorted_list}\")\n",
    "bisect.insort_right(sorted_list, 7)\n",
    "print(f\"List after insort_right(7): {sorted_list}\")"
   ]
  },
  {
   "cell_type": "markdown",
   "id": "839af32b",
   "metadata": {},
   "source": [
    "## **6. Practical Example: Grade Boundaries**\n",
    "Using `bisect` to determine the grade based on score boundaries."
   ]
  },
  {
   "cell_type": "code",
   "execution_count": null,
   "id": "1644ed1e",
   "metadata": {},
   "outputs": [],
   "source": [
    "boundaries = [50, 60, 70, 80, 90]\n",
    "grades = ['F', 'D', 'C', 'B', 'A']\n",
    "\n",
    "def get_grade(score):\n",
    "    index = bisect.bisect(boundaries, score)\n",
    "    return grades[index]\n",
    "\n",
    "print(f\"Grade for score 85: {get_grade(85)}\")\n",
    "print(f\"Grade for score 45: {get_grade(45)}\")"
   ]
  },
  {
   "cell_type": "markdown",
   "id": "4a9d79b7",
   "metadata": {},
   "source": [
    "## **7. Practical Example: Inserting into Sorted Data**\n",
    "Efficiently inserting new data into a sorted list using `insort`."
   ]
  },
  {
   "cell_type": "code",
   "execution_count": null,
   "id": "e9243662",
   "metadata": {},
   "outputs": [],
   "source": [
    "sorted_data = [10, 20, 30, 40, 50]\n",
    "new_value = 25\n",
    "bisect.insort(sorted_data, new_value)\n",
    "print(f\"Sorted data after insertion: {sorted_data}\")"
   ]
  },
  {
   "cell_type": "markdown",
   "id": "0bee4e11",
   "metadata": {},
   "source": [
    "## **8. Practical Example: Maintaining a Sliding Window**\n",
    "Using `bisect` to maintain a sliding window of sorted data for efficient median calculations."
   ]
  },
  {
   "cell_type": "code",
   "execution_count": null,
   "id": "b1b300ee",
   "metadata": {},
   "outputs": [],
   "source": [
    "def maintain_sliding_window(window, new_value):\n",
    "    bisect.insort(window, new_value)\n",
    "    if len(window) > 5:  # Keep only the last 5 elements\n",
    "        window.pop(0)\n",
    "    return window\n",
    "\n",
    "window = [10, 20, 30, 40, 50]\n",
    "print(f\"Initial window: {window}\")\n",
    "new_values = [25, 35, 45]\n",
    "for value in new_values:\n",
    "    window = maintain_sliding_window(window, value)\n",
    "    print(f\"Updated window: {window}\")"
   ]
  }
 ],
 "metadata": {},
 "nbformat": 4,
 "nbformat_minor": 5
}
