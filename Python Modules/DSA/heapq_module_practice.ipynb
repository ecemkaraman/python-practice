{
 "cells": [
  {
   "cell_type": "markdown",
   "id": "dbf90d70",
   "metadata": {},
   "source": [
    "# **Python `heapq` Module Practice**\n",
    "This notebook provides an overview and practice examples for the `heapq` module in Python, which is used for heap queue algorithms, also known as the priority queue algorithm."
   ]
  },
  {
   "cell_type": "markdown",
   "id": "906bc394",
   "metadata": {},
   "source": [
    "## **1. Basic Setup**\n",
    "The `heapq` module is part of Python's standard library, so no additional installation is required."
   ]
  },
  {
   "cell_type": "code",
   "execution_count": null,
   "id": "d36b5146",
   "metadata": {},
   "outputs": [],
   "source": [
    "import heapq"
   ]
  },
  {
   "cell_type": "markdown",
   "id": "b8b20834",
   "metadata": {},
   "source": [
    "## **2. Creating a Heap**\n",
    "A heap is a binary tree-based data structure where the parent node is smaller than (or equal to) its children (min-heap). The `heapq` module works directly with Python lists to maintain the heap property."
   ]
  },
  {
   "cell_type": "code",
   "execution_count": null,
   "id": "c3662a82",
   "metadata": {},
   "outputs": [],
   "source": [
    "data = [5, 7, 9, 1, 3]\n",
    "heapq.heapify(data)\n",
    "print(f\"Heapified list: {data}\")"
   ]
  },
  {
   "cell_type": "markdown",
   "id": "c486ffe4",
   "metadata": {},
   "source": [
    "## **3. Pushing and Popping Elements**\n",
    "The `heapq.heappush` function adds an element to the heap while maintaining the heap property. The `heapq.heappop` function removes and returns the smallest element."
   ]
  },
  {
   "cell_type": "code",
   "execution_count": null,
   "id": "783be3d7",
   "metadata": {},
   "outputs": [],
   "source": [
    "heapq.heappush(data, 2)\n",
    "print(f\"Heap after pushing 2: {data}\")\n",
    "smallest = heapq.heappop(data)\n",
    "print(f\"Popped smallest element: {smallest}\")\n",
    "print(f\"Heap after popping: {data}\")"
   ]
  },
  {
   "cell_type": "markdown",
   "id": "aff1162a",
   "metadata": {},
   "source": [
    "## **4. Peek at the Smallest Element**\n",
    "The smallest element in the heap can be accessed without removing it by using `data[0]`. This operation is O(1)."
   ]
  },
  {
   "cell_type": "code",
   "execution_count": null,
   "id": "8514de9c",
   "metadata": {},
   "outputs": [],
   "source": [
    "smallest = data[0]\n",
    "print(f\"Smallest element in the heap: {smallest}\")"
   ]
  },
  {
   "cell_type": "markdown",
   "id": "3c7ccca1",
   "metadata": {},
   "source": [
    "## **5. Using `nlargest` and `nsmallest`**\n",
    "The `heapq.nlargest` and `heapq.nsmallest` functions retrieve the n largest or n smallest elements from the heap efficiently."
   ]
  },
  {
   "cell_type": "code",
   "execution_count": null,
   "id": "a2987639",
   "metadata": {},
   "outputs": [],
   "source": [
    "largest_elements = heapq.nlargest(3, data)\n",
    "smallest_elements = heapq.nsmallest(3, data)\n",
    "print(f\"3 largest elements: {largest_elements}\")\n",
    "print(f\"3 smallest elements: {smallest_elements}\")"
   ]
  },
  {
   "cell_type": "markdown",
   "id": "71c41788",
   "metadata": {},
   "source": [
    "## **6. Merging Sorted Iterables**\n",
    "The `heapq.merge` function takes multiple sorted iterables and merges them into a single sorted iterator. This is useful for external sorting algorithms."
   ]
  },
  {
   "cell_type": "code",
   "execution_count": null,
   "id": "4118b47c",
   "metadata": {},
   "outputs": [],
   "source": [
    "iterable1 = [1, 3, 5]\n",
    "iterable2 = [2, 4, 6]\n",
    "merged = list(heapq.merge(iterable1, iterable2))\n",
    "print(f\"Merged sorted iterables: {merged}\")"
   ]
  },
  {
   "cell_type": "markdown",
   "id": "e7ef3a70",
   "metadata": {},
   "source": [
    "## **7. Practical Example: Priority Queue**\n",
    "A priority queue ensures that elements with higher priority are dequeued before elements with lower priority."
   ]
  },
  {
   "cell_type": "code",
   "execution_count": null,
   "id": "774cdc81",
   "metadata": {},
   "outputs": [],
   "source": [
    "priority_queue = []\n",
    "heapq.heappush(priority_queue, (1, 'low priority'))\n",
    "heapq.heappush(priority_queue, (3, 'high priority'))\n",
    "heapq.heappush(priority_queue, (2, 'medium priority'))\n",
    "\n",
    "while priority_queue:\n",
    "    priority, task = heapq.heappop(priority_queue)\n",
    "    print(f\"Processing task: {task} with priority {priority}\")"
   ]
  },
  {
   "cell_type": "markdown",
   "id": "c1653592",
   "metadata": {},
   "source": [
    "## **8. Practical Example: Kth Largest Element**\n",
    "The `heapq` module can be used to efficiently find the Kth largest or smallest element in a dataset."
   ]
  },
  {
   "cell_type": "code",
   "execution_count": null,
   "id": "e95ba83f",
   "metadata": {},
   "outputs": [],
   "source": [
    "def find_kth_largest(nums, k):\n",
    "    return heapq.nlargest(k, nums)[-1]\n",
    "\n",
    "nums = [3, 2, 1, 5, 6, 4]\n",
    "k = 2\n",
    "print(f\"{k}th largest element: {find_kth_largest(nums, k)}\")"
   ]
  }
 ],
 "metadata": {},
 "nbformat": 4,
 "nbformat_minor": 5
}
