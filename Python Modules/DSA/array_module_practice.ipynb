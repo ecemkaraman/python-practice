{
 "cells": [
  {
   "cell_type": "markdown",
   "id": "5a5358eb",
   "metadata": {},
   "source": [
    "# **Python `array` Module Practice**\n",
    "This notebook provides an overview and practice examples for the `array` module in Python, which is used to create and manipulate array data structures for efficient storage of numeric data."
   ]
  },
  {
   "cell_type": "markdown",
   "id": "afdc7e97",
   "metadata": {},
   "source": [
    "## **1. Basic Setup**\n",
    "The `array` module is part of Python's standard library, so no additional installation is required."
   ]
  },
  {
   "cell_type": "code",
   "execution_count": null,
   "id": "146bd07b",
   "metadata": {},
   "outputs": [],
   "source": [
    "import array"
   ]
  },
  {
   "cell_type": "markdown",
   "id": "f5886081",
   "metadata": {},
   "source": [
    "## **2. Creating Arrays**\n",
    "Arrays in Python using the `array` module are homogeneous and require a type code to specify the type of elements."
   ]
  },
  {
   "cell_type": "code",
   "execution_count": null,
   "id": "ff56abb3",
   "metadata": {},
   "outputs": [],
   "source": [
    "# Create an array of integers\n",
    "int_array = array.array('i', [1, 2, 3, 4, 5])\n",
    "print(f\"Integer array: {int_array}\")\n",
    "\n",
    "# Create an array of floats\n",
    "float_array = array.array('f', [1.1, 2.2, 3.3, 4.4])\n",
    "print(f\"Float array: {float_array}\")"
   ]
  },
  {
   "cell_type": "markdown",
   "id": "a61aad14",
   "metadata": {},
   "source": [
    "## **3. Accessing Array Elements**\n",
    "Array elements can be accessed and modified using their index."
   ]
  },
  {
   "cell_type": "code",
   "execution_count": null,
   "id": "5460dca9",
   "metadata": {},
   "outputs": [],
   "source": [
    "print(f\"First element: {int_array[0]}\")\n",
    "int_array[1] = 10\n",
    "print(f\"Modified array: {int_array}\")"
   ]
  },
  {
   "cell_type": "markdown",
   "id": "c236b1b5",
   "metadata": {},
   "source": [
    "## **4. Adding and Removing Elements**\n",
    "Elements can be added to an array using `append` or `extend`, and removed using `remove` or `pop`."
   ]
  },
  {
   "cell_type": "code",
   "execution_count": null,
   "id": "380f9aff",
   "metadata": {},
   "outputs": [],
   "source": [
    "int_array.append(6)\n",
    "print(f\"Array after append: {int_array}\")\n",
    "\n",
    "int_array.extend([7, 8])\n",
    "print(f\"Array after extend: {int_array}\")\n",
    "\n",
    "int_array.remove(3)\n",
    "print(f\"Array after removing 3: {int_array}\")\n",
    "\n",
    "popped_element = int_array.pop()\n",
    "print(f\"Popped element: {popped_element}\")\n",
    "print(f\"Array after pop: {int_array}\")"
   ]
  },
  {
   "cell_type": "markdown",
   "id": "25997e84",
   "metadata": {},
   "source": [
    "## **5. Array Slicing**\n",
    "Array slicing works the same way as list slicing in Python."
   ]
  },
  {
   "cell_type": "code",
   "execution_count": null,
   "id": "f05def8c",
   "metadata": {},
   "outputs": [],
   "source": [
    "sliced_array = int_array[1:4]\n",
    "print(f\"Sliced array: {sliced_array}\")"
   ]
  },
  {
   "cell_type": "markdown",
   "id": "5c678eb6",
   "metadata": {},
   "source": [
    "## **6. Array Operations**\n",
    "You can perform basic operations like iterating through the array or finding its length."
   ]
  },
  {
   "cell_type": "code",
   "execution_count": null,
   "id": "df3adfff",
   "metadata": {},
   "outputs": [],
   "source": [
    "print(f\"Length of array: {len(int_array)}\")\n",
    "\n",
    "print(\"Iterating through array:\")\n",
    "for element in int_array:\n",
    "    print(element)"
   ]
  },
  {
   "cell_type": "markdown",
   "id": "d94f70ae",
   "metadata": {},
   "source": [
    "## **7. Converting Arrays to Lists**\n",
    "Arrays can be converted to lists using the `tolist` method."
   ]
  },
  {
   "cell_type": "code",
   "execution_count": null,
   "id": "4fc01348",
   "metadata": {},
   "outputs": [],
   "source": [
    "array_as_list = int_array.tolist()\n",
    "print(f\"Array as list: {array_as_list}\")"
   ]
  },
  {
   "cell_type": "markdown",
   "id": "cc694526",
   "metadata": {},
   "source": [
    "## **8. File I/O with Arrays**\n",
    "Arrays can be written to and read from files using `tofile` and `fromfile` methods."
   ]
  },
  {
   "cell_type": "code",
   "execution_count": null,
   "id": "750f1138",
   "metadata": {},
   "outputs": [],
   "source": [
    "# Write array to a file\n",
    "with open('array_data.bin', 'wb') as f:\n",
    "    int_array.tofile(f)\n",
    "\n",
    "# Read array from a file\n",
    "new_array = array.array('i')\n",
    "with open('array_data.bin', 'rb') as f:\n",
    "    new_array.fromfile(f, len(int_array))\n",
    "print(f\"Array read from file: {new_array}\")"
   ]
  },
  {
   "cell_type": "markdown",
   "id": "430fda27",
   "metadata": {},
   "source": [
    "## **9. Practical Example: Basic Statistics**\n",
    "Using arrays for numerical operations can be efficient for basic statistical calculations."
   ]
  },
  {
   "cell_type": "code",
   "execution_count": null,
   "id": "794807a8",
   "metadata": {},
   "outputs": [],
   "source": [
    "def calculate_statistics(arr):\n",
    "    total = sum(arr)\n",
    "    count = len(arr)\n",
    "    mean = total / count if count > 0 else 0\n",
    "    return total, mean\n",
    "\n",
    "total, mean = calculate_statistics(int_array)\n",
    "print(f\"Total: {total}, Mean: {mean}\")"
   ]
  },
  {
   "cell_type": "markdown",
   "id": "6cab7907",
   "metadata": {},
   "source": [
    "## **10. Practical Example: Array Manipulation**\n",
    "Demonstrating how arrays can be used for manipulating numerical datasets."
   ]
  },
  {
   "cell_type": "code",
   "execution_count": null,
   "id": "8f001f19",
   "metadata": {},
   "outputs": [],
   "source": [
    "squared_array = array.array('i', (x**2 for x in int_array))\n",
    "print(f\"Original array: {int_array}\")\n",
    "print(f\"Squared array: {squared_array}\")"
   ]
  }
 ],
 "metadata": {
  "kernelspec": {
   "display_name": "Python 3 (ipykernel)",
   "language": "python",
   "name": "python3"
  },
  "language_info": {
   "codemirror_mode": {
    "name": "ipython",
    "version": 3
   },
   "file_extension": ".py",
   "mimetype": "text/x-python",
   "name": "python",
   "nbconvert_exporter": "python",
   "pygments_lexer": "ipython3",
   "version": "3.11.3"
  }
 },
 "nbformat": 4,
 "nbformat_minor": 5
}
