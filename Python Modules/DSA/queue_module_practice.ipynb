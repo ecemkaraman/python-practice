{
 "cells": [
  {
   "cell_type": "markdown",
   "id": "b6903d5f",
   "metadata": {},
   "source": [
    "# **Python `queue` Module Practice**\n",
    "This notebook provides an overview and practice examples for the `queue` module in Python, which provides thread-safe classes for creating and managing queues."
   ]
  },
  {
   "cell_type": "markdown",
   "id": "aeb63f6b",
   "metadata": {},
   "source": [
    "## **1. Basic Setup**\n",
    "The `queue` module is part of Python's standard library, so no additional installation is required."
   ]
  },
  {
   "cell_type": "code",
   "execution_count": null,
   "id": "128ca26d",
   "metadata": {},
   "outputs": [],
   "source": [
    "from queue import Queue, LifoQueue, PriorityQueue"
   ]
  },
  {
   "cell_type": "markdown",
   "id": "2ae6292e",
   "metadata": {},
   "source": [
    "## **2. `Queue` (FIFO)**\n",
    "A `Queue` is a first-in, first-out (FIFO) data structure. Items are added to the end of the queue and removed from the front."
   ]
  },
  {
   "cell_type": "code",
   "execution_count": null,
   "id": "a833d47c",
   "metadata": {},
   "outputs": [],
   "source": [
    "# Create a FIFO queue\n",
    "fifo_queue = Queue()\n",
    "fifo_queue.put('Task 1')\n",
    "fifo_queue.put('Task 2')\n",
    "fifo_queue.put('Task 3')\n",
    "\n",
    "print(\"Processing tasks from FIFO queue:\")\n",
    "while not fifo_queue.empty():\n",
    "    print(fifo_queue.get())"
   ]
  },
  {
   "cell_type": "markdown",
   "id": "cd2b0491",
   "metadata": {},
   "source": [
    "## **3. `LifoQueue` (Stack)**\n",
    "A `LifoQueue` is a last-in, first-out (LIFO) data structure, similar to a stack. Items are added to the top of the stack and removed from the top."
   ]
  },
  {
   "cell_type": "code",
   "execution_count": null,
   "id": "4f12ccfe",
   "metadata": {},
   "outputs": [],
   "source": [
    "# Create a LIFO queue (stack)\n",
    "lifo_queue = LifoQueue()\n",
    "lifo_queue.put('Task 1')\n",
    "lifo_queue.put('Task 2')\n",
    "lifo_queue.put('Task 3')\n",
    "\n",
    "print(\"Processing tasks from LIFO queue:\")\n",
    "while not lifo_queue.empty():\n",
    "    print(lifo_queue.get())"
   ]
  },
  {
   "cell_type": "markdown",
   "id": "4170fea0",
   "metadata": {},
   "source": [
    "## **4. `PriorityQueue`**\n",
    "A `PriorityQueue` is used to manage items with associated priorities. Items with the lowest priority values are retrieved first."
   ]
  },
  {
   "cell_type": "code",
   "execution_count": null,
   "id": "c4050d63",
   "metadata": {},
   "outputs": [],
   "source": [
    "# Create a priority queue\n",
    "priority_queue = PriorityQueue()\n",
    "priority_queue.put((3, 'Low priority task'))\n",
    "priority_queue.put((1, 'High priority task'))\n",
    "priority_queue.put((2, 'Medium priority task'))\n",
    "\n",
    "print(\"Processing tasks from PriorityQueue:\")\n",
    "while not priority_queue.empty():\n",
    "    priority, task = priority_queue.get()\n",
    "    print(f\"{task} with priority {priority}\")"
   ]
  },
  {
   "cell_type": "markdown",
   "id": "62287567",
   "metadata": {},
   "source": [
    "## **5. Thread-Safety in Queues**\n",
    "The `queue` module provides thread-safe implementations for all its classes, making it ideal for multi-threaded applications."
   ]
  },
  {
   "cell_type": "code",
   "execution_count": null,
   "id": "3444aa3c",
   "metadata": {},
   "outputs": [],
   "source": [
    "import threading\n",
    "\n",
    "def worker(q):\n",
    "    while not q.empty():\n",
    "        task = q.get()\n",
    "        print(f\"Processing {task}\")\n",
    "        q.task_done()\n",
    "\n",
    "thread_safe_queue = Queue()\n",
    "for i in range(5):\n",
    "    thread_safe_queue.put(f'Task {i}')\n",
    "\n",
    "threads = [threading.Thread(target=worker, args=(thread_safe_queue,)) for _ in range(2)]\n",
    "for thread in threads:\n",
    "    thread.start()\n",
    "for thread in threads:\n",
    "    thread.join()\n",
    "print(\"All tasks processed.\")"
   ]
  },
  {
   "cell_type": "markdown",
   "id": "86246260",
   "metadata": {},
   "source": [
    "## **6. Practical Example: Producer-Consumer Problem**\n",
    "The producer-consumer problem is a classic example of multithreading where multiple producers add tasks to a queue and multiple consumers process tasks from the queue."
   ]
  },
  {
   "cell_type": "code",
   "execution_count": null,
   "id": "beb42f54",
   "metadata": {},
   "outputs": [],
   "source": [
    "def producer(q):\n",
    "    for i in range(5):\n",
    "        q.put(f'Produced item {i}')\n",
    "        print(f\"Produced item {i}\")\n",
    "\n",
    "def consumer(q):\n",
    "    while not q.empty():\n",
    "        item = q.get()\n",
    "        print(f\"Consumed {item}\")\n",
    "        q.task_done()\n",
    "\n",
    "queue = Queue()\n",
    "\n",
    "prod_thread = threading.Thread(target=producer, args=(queue,))\n",
    "cons_thread = threading.Thread(target=consumer, args=(queue,))\n",
    "\n",
    "prod_thread.start()\n",
    "prod_thread.join()\n",
    "\n",
    "cons_thread.start()\n",
    "cons_thread.join()"
   ]
  }
 ],
 "metadata": {},
 "nbformat": 4,
 "nbformat_minor": 5
}
