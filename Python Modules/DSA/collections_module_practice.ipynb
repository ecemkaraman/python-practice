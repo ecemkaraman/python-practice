{
 "cells": [
  {
   "cell_type": "markdown",
   "id": "3dce925e",
   "metadata": {},
   "source": [
    "# **Python `collections` Module Practice**\n",
    "This notebook provides an overview and practice examples for the `collections` module in Python, which provides specialized container datatypes for advanced data handling."
   ]
  },
  {
   "cell_type": "markdown",
   "id": "e65c4e83",
   "metadata": {},
   "source": [
    "## **1. Basic Setup**\n",
    "The `collections` module is part of Python's standard library, so no additional installation is required."
   ]
  },
  {
   "cell_type": "code",
   "execution_count": null,
   "id": "59216752",
   "metadata": {},
   "outputs": [],
   "source": [
    "from collections import Counter, defaultdict, deque, namedtuple, OrderedDict, ChainMap"
   ]
  },
  {
   "cell_type": "markdown",
   "id": "9bb24edf",
   "metadata": {},
   "source": [
    "## **2. `Counter`**\n",
    "A `Counter` is a dictionary subclass used for counting hashable objects. It returns a dictionary where elements are stored as keys and their counts as values."
   ]
  },
  {
   "cell_type": "code",
   "execution_count": null,
   "id": "ea8a9230",
   "metadata": {},
   "outputs": [],
   "source": [
    "data = ['apple', 'banana', 'apple', 'orange', 'banana', 'apple']\n",
    "counter = Counter(data)\n",
    "print(f\"Counts: {counter}\")\n",
    "print(f\"Most Common: {counter.most_common(2)}\")"
   ]
  },
  {
   "cell_type": "markdown",
   "id": "e53ebb38",
   "metadata": {},
   "source": [
    "## **3. `defaultdict`**\n",
    "A `defaultdict` is a dictionary subclass that provides a default value for a key that does not exist, specified by a factory function."
   ]
  },
  {
   "cell_type": "code",
   "execution_count": null,
   "id": "57d69245",
   "metadata": {},
   "outputs": [],
   "source": [
    "dd = defaultdict(int)\n",
    "values = [1, 2, 2, 3, 3, 3]\n",
    "for value in values:\n",
    "    dd[value] += 1\n",
    "print(f\"Defaultdict counts: {dd}\")"
   ]
  },
  {
   "cell_type": "markdown",
   "id": "0cd6039e",
   "metadata": {},
   "source": [
    "## **4. `deque`**\n",
    "A `deque` (double-ended queue) is a generalization of stacks and queues. It supports constant-time appends and pops from either end."
   ]
  },
  {
   "cell_type": "code",
   "execution_count": null,
   "id": "0985c110",
   "metadata": {},
   "outputs": [],
   "source": [
    "dq = deque(['a', 'b', 'c'])\n",
    "dq.append('d')\n",
    "dq.appendleft('z')\n",
    "print(f\"Deque after additions: {dq}\")\n",
    "dq.pop()\n",
    "dq.popleft()\n",
    "print(f\"Deque after removals: {dq}\")"
   ]
  },
  {
   "cell_type": "markdown",
   "id": "eb8934e1",
   "metadata": {},
   "source": [
    "## **5. `namedtuple`**\n",
    "A `namedtuple` is a factory function for creating tuple subclasses with named fields. It can be used to create lightweight objects that are easy to use and immutable."
   ]
  },
  {
   "cell_type": "code",
   "execution_count": null,
   "id": "c26f9f87",
   "metadata": {},
   "outputs": [],
   "source": [
    "Point = namedtuple('Point', ['x', 'y'])\n",
    "p = Point(10, 20)\n",
    "print(f\"Point: {p}\")\n",
    "print(f\"X: {p.x}, Y: {p.y}\")"
   ]
  },
  {
   "cell_type": "markdown",
   "id": "b51b49f4",
   "metadata": {},
   "source": [
    "## **6. `OrderedDict`**\n",
    "An `OrderedDict` is a dictionary subclass that remembers the order in which keys were first inserted."
   ]
  },
  {
   "cell_type": "code",
   "execution_count": null,
   "id": "39bd8d67",
   "metadata": {},
   "outputs": [],
   "source": [
    "od = OrderedDict()\n",
    "od['a'] = 1\n",
    "od['b'] = 2\n",
    "od['c'] = 3\n",
    "print(f\"OrderedDict: {od}\")\n",
    "print(f\"Keys: {list(od.keys())}\")"
   ]
  },
  {
   "cell_type": "markdown",
   "id": "64a40f10",
   "metadata": {},
   "source": [
    "## **7. `ChainMap`**\n",
    "A `ChainMap` groups multiple dictionaries together and treats them as a single dictionary. Lookups search the underlying dictionaries in order."
   ]
  },
  {
   "cell_type": "code",
   "execution_count": null,
   "id": "ff3d0642",
   "metadata": {},
   "outputs": [],
   "source": [
    "dict1 = {'a': 1, 'b': 2}\n",
    "dict2 = {'b': 3, 'c': 4}\n",
    "chain = ChainMap(dict1, dict2)\n",
    "print(f\"ChainMap: {chain}\")\n",
    "print(f\"Value for 'b': {chain['b']}\")"
   ]
  },
  {
   "cell_type": "markdown",
   "id": "823b566e",
   "metadata": {},
   "source": [
    "## **8. Practical Example: Word Frequency with `Counter`**"
   ]
  },
  {
   "cell_type": "code",
   "execution_count": null,
   "id": "a3f90907",
   "metadata": {},
   "outputs": [],
   "source": [
    "text = \"this is a test this is only a test\"\n",
    "word_counts = Counter(text.split())\n",
    "print(f\"Word Counts: {word_counts}\")"
   ]
  },
  {
   "cell_type": "markdown",
   "id": "74388555",
   "metadata": {},
   "source": [
    "## **9. Practical Example: Grouping with `defaultdict`**"
   ]
  },
  {
   "cell_type": "code",
   "execution_count": null,
   "id": "abe6f128",
   "metadata": {},
   "outputs": [],
   "source": [
    "names = ['Alice', 'Bob', 'Charlie', 'David', 'Eve']\n",
    "by_length = defaultdict(list)\n",
    "for name in names:\n",
    "    by_length[len(name)].append(name)\n",
    "print(f\"Grouped by length: {dict(by_length)}\")"
   ]
  },
  {
   "cell_type": "markdown",
   "id": "c35a4c6d",
   "metadata": {},
   "source": [
    "## **10. Practical Example: Task Scheduling with `deque`**"
   ]
  },
  {
   "cell_type": "code",
   "execution_count": null,
   "id": "670215e7",
   "metadata": {},
   "outputs": [],
   "source": [
    "tasks = deque(['task1', 'task2', 'task3'])\n",
    "while tasks:\n",
    "    current_task = tasks.popleft()\n",
    "    print(f\"Processing: {current_task}\")"
   ]
  }
 ],
 "metadata": {},
 "nbformat": 4,
 "nbformat_minor": 5
}
