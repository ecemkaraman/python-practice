{
 "cells": [
  {
   "cell_type": "markdown",
   "id": "ea62442b",
   "metadata": {},
   "source": [
    "# **Python `scapy` Module Practice**\n",
    "This notebook provides an overview and practice examples for the `scapy` module in Python, which is used for packet crafting, sniffing, and network traffic analysis."
   ]
  },
  {
   "cell_type": "markdown",
   "id": "80daf933",
   "metadata": {},
   "source": [
    "## **1. Basic Setup**\n",
    "Ensure the `scapy` module is installed. Install it using:\n",
    "```bash\n",
    "pip install scapy\n",
    "```\n",
    "Import the necessary functions:"
   ]
  },
  {
   "cell_type": "code",
   "execution_count": null,
   "id": "29a53713",
   "metadata": {},
   "outputs": [],
   "source": [
    "from scapy.all import *"
   ]
  },
  {
   "cell_type": "markdown",
   "id": "c805aa0b",
   "metadata": {},
   "source": [
    "## **2. Crafting and Sending Packets**"
   ]
  },
  {
   "cell_type": "code",
   "execution_count": null,
   "id": "1a427574",
   "metadata": {},
   "outputs": [],
   "source": [
    "# Craft an ICMP packet\n",
    "icmp_packet = IP(dst='8.8.8.8')/ICMP()\n",
    "print(\"Crafted Packet:\")\n",
    "icmp_packet.show()\n",
    "\n",
    "# Send the packet\n",
    "# Uncomment the line below to send the packet\n",
    "# send(icmp_packet)"
   ]
  },
  {
   "cell_type": "markdown",
   "id": "7ee251a0",
   "metadata": {},
   "source": [
    "## **3. Sniffing Packets**"
   ]
  },
  {
   "cell_type": "code",
   "execution_count": null,
   "id": "5ae10b2a",
   "metadata": {},
   "outputs": [],
   "source": [
    "# Sniff packets on the network interface\n",
    "def packet_handler(packet):\n",
    "    print(packet.summary())\n",
    "\n",
    "# Uncomment the line below to start sniffing (Ctrl+C to stop)\n",
    "# sniff(prn=packet_handler, count=5)"
   ]
  },
  {
   "cell_type": "markdown",
   "id": "d567a9ba",
   "metadata": {},
   "source": [
    "## **4. Analyzing Packets**"
   ]
  },
  {
   "cell_type": "code",
   "execution_count": null,
   "id": "b125ecf4",
   "metadata": {},
   "outputs": [],
   "source": [
    "# Read packets from a pcap file\n",
    "# packets = rdpcap('example.pcap')\n",
    "# for packet in packets:\n",
    "#     packet.show()\n",
    "\n",
    "# Uncomment and replace 'example.pcap' with your pcap file path"
   ]
  },
  {
   "cell_type": "markdown",
   "id": "de21b3a4",
   "metadata": {},
   "source": [
    "## **5. Traceroute Example**"
   ]
  },
  {
   "cell_type": "code",
   "execution_count": null,
   "id": "be335bd4",
   "metadata": {},
   "outputs": [],
   "source": [
    "# Perform a traceroute\n",
    "# Uncomment the line below to execute\n",
    "# result, unanswered = traceroute(['8.8.8.8', '1.1.1.1'])"
   ]
  },
  {
   "cell_type": "markdown",
   "id": "f9b4e159",
   "metadata": {},
   "source": [
    "## **6. DNS Query Example**"
   ]
  },
  {
   "cell_type": "code",
   "execution_count": null,
   "id": "e3339a40",
   "metadata": {},
   "outputs": [],
   "source": [
    "# Craft a DNS query packet\n",
    "dns_query = IP(dst='8.8.8.8')/UDP(dport=53)/DNS(rd=1, qd=DNSQR(qname='www.google.com'))\n",
    "print(\"DNS Query Packet:\")\n",
    "dns_query.show()\n",
    "\n",
    "# Uncomment the line below to send the query\n",
    "# response = sr1(dns_query)\n",
    "# response.show()"
   ]
  },
  {
   "cell_type": "markdown",
   "id": "031e5217",
   "metadata": {},
   "source": [
    "## **7. ARP Request Example**"
   ]
  },
  {
   "cell_type": "code",
   "execution_count": null,
   "id": "8d39a065",
   "metadata": {},
   "outputs": [],
   "source": [
    "# Craft an ARP request\n",
    "arp_request = ARP(pdst='192.168.1.1')\n",
    "print(\"ARP Request Packet:\")\n",
    "arp_request.show()\n",
    "\n",
    "# Uncomment the line below to send the ARP request\n",
    "# answered, unanswered = sr(arp_request)\n",
    "# for sent, received in answered:\n",
    "#     print(f\"IP: {received.psrc}, MAC: {received.hwsrc}\")"
   ]
  },
  {
   "cell_type": "markdown",
   "id": "8299e628",
   "metadata": {},
   "source": [
    "## **8. Practical Example: Network Scanner**"
   ]
  },
  {
   "cell_type": "code",
   "execution_count": null,
   "id": "8be701e1",
   "metadata": {},
   "outputs": [],
   "source": [
    "def network_scanner(subnet):\n",
    "    arp_request = ARP(pdst=subnet)\n",
    "    broadcast = Ether(dst='ff:ff:ff:ff:ff:ff')\n",
    "    arp_request_broadcast = broadcast/arp_request\n",
    "\n",
    "    answered_list = srp(arp_request_broadcast, timeout=2, verbose=False)[0]\n",
    "\n",
    "    devices = []\n",
    "    for sent, received in answered_list:\n",
    "        devices.append({'ip': received.psrc, 'mac': received.hwsrc})\n",
    "\n",
    "    return devices\n",
    "\n",
    "# Uncomment to scan the network\n",
    "# devices = network_scanner('192.168.1.0/24')\n",
    "# for device in devices:\n",
    "#     print(device)"
   ]
  }
 ],
 "metadata": {},
 "nbformat": 4,
 "nbformat_minor": 5
}
