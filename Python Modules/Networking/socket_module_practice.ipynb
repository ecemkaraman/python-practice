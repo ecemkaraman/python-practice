{
 "cells": [
  {
   "cell_type": "markdown",
   "id": "b1c4950f",
   "metadata": {},
   "source": [
    "# **Python `socket` Module Practice**\n",
    "This notebook provides an overview and practice examples for the `socket` module in Python, which is used for network communications using sockets."
   ]
  },
  {
   "cell_type": "markdown",
   "id": "e2ae1065",
   "metadata": {},
   "source": [
    "## **1. Basic Setup**\n",
    "The `socket` module is part of Python's standard library, so no additional installation is required."
   ]
  },
  {
   "cell_type": "code",
   "execution_count": null,
   "id": "c024ffd8",
   "metadata": {},
   "outputs": [],
   "source": [
    "import socket"
   ]
  },
  {
   "cell_type": "markdown",
   "id": "de5ceb75",
   "metadata": {},
   "source": [
    "## **2. Creating a Socket**"
   ]
  },
  {
   "cell_type": "code",
   "execution_count": null,
   "id": "50d75fd7",
   "metadata": {},
   "outputs": [],
   "source": [
    "s = socket.socket(socket.AF_INET, socket.SOCK_STREAM)\n",
    "print(\"Socket created\")\n",
    "s.close()"
   ]
  },
  {
   "cell_type": "markdown",
   "id": "1f53fa4a",
   "metadata": {},
   "source": [
    "## **3. Simple Server Example**"
   ]
  },
  {
   "cell_type": "code",
   "execution_count": null,
   "id": "d5e23241",
   "metadata": {},
   "outputs": [],
   "source": [
    "def simple_server():\n",
    "    server_socket = socket.socket(socket.AF_INET, socket.SOCK_STREAM)\n",
    "    server_socket.bind((\"localhost\", 8080))\n",
    "    server_socket.listen(1)\n",
    "    print(\"Server is listening on port 8080...\")\n",
    "\n",
    "    conn, addr = server_socket.accept()\n",
    "    print(f\"Connection established with {addr}\")\n",
    "\n",
    "    data = conn.recv(1024).decode()\n",
    "    print(f\"Received data: {data}\")\n",
    "\n",
    "    conn.send(\"Hello, Client!\".encode())\n",
    "    conn.close()\n",
    "    server_socket.close()\n",
    "\n",
    "# Uncomment to run the server\n",
    "# simple_server()"
   ]
  },
  {
   "cell_type": "markdown",
   "id": "9cd1a650",
   "metadata": {},
   "source": [
    "## **4. Simple Client Example**"
   ]
  },
  {
   "cell_type": "code",
   "execution_count": null,
   "id": "0f020682",
   "metadata": {},
   "outputs": [],
   "source": [
    "def simple_client():\n",
    "    client_socket = socket.socket(socket.AF_INET, socket.SOCK_STREAM)\n",
    "    client_socket.connect((\"localhost\", 8080))\n",
    "    client_socket.send(\"Hello, Server!\".encode())\n",
    "    response = client_socket.recv(1024).decode()\n",
    "    print(f\"Received from server: {response}\")\n",
    "    client_socket.close()\n",
    "\n",
    "# Uncomment to run the client\n",
    "# simple_client()"
   ]
  },
  {
   "cell_type": "markdown",
   "id": "bb1d2980",
   "metadata": {},
   "source": [
    "## **5. UDP Server and Client**"
   ]
  },
  {
   "cell_type": "code",
   "execution_count": null,
   "id": "5e1767a0",
   "metadata": {},
   "outputs": [],
   "source": [
    "def udp_server():\n",
    "    server_socket = socket.socket(socket.AF_INET, socket.SOCK_DGRAM)\n",
    "    server_socket.bind((\"localhost\", 8081))\n",
    "    print(\"UDP Server is listening on port 8081...\")\n",
    "\n",
    "    data, addr = server_socket.recvfrom(1024)\n",
    "    print(f\"Received message: {data.decode()} from {addr}\")\n",
    "\n",
    "    server_socket.sendto(\"Hello, UDP Client!\".encode(), addr)\n",
    "    server_socket.close()\n",
    "\n",
    "# Uncomment to run the UDP server\n",
    "# udp_server()"
   ]
  },
  {
   "cell_type": "code",
   "execution_count": null,
   "id": "32626530",
   "metadata": {},
   "outputs": [],
   "source": [
    "def udp_client():\n",
    "    client_socket = socket.socket(socket.AF_INET, socket.SOCK_DGRAM)\n",
    "    client_socket.sendto(\"Hello, UDP Server!\".encode(), (\"localhost\", 8081))\n",
    "\n",
    "    response, addr = client_socket.recvfrom(1024)\n",
    "    print(f\"Received from server: {response.decode()}\")\n",
    "    client_socket.close()\n",
    "\n",
    "# Uncomment to run the UDP client\n",
    "# udp_client()"
   ]
  },
  {
   "cell_type": "markdown",
   "id": "fdfd1853",
   "metadata": {},
   "source": [
    "## **6. Using `socket.gethostbyname` and `socket.gethostname`**"
   ]
  },
  {
   "cell_type": "code",
   "execution_count": null,
   "id": "f2653aaf",
   "metadata": {},
   "outputs": [],
   "source": [
    "hostname = socket.gethostname()\n",
    "ip_address = socket.gethostbyname(hostname)\n",
    "print(f\"Hostname: {hostname}\")\n",
    "print(f\"IP Address: {ip_address}\")"
   ]
  },
  {
   "cell_type": "markdown",
   "id": "fb4a9527",
   "metadata": {},
   "source": [
    "## **7. Practical Example: HTTP Request**"
   ]
  },
  {
   "cell_type": "code",
   "execution_count": null,
   "id": "769242bc",
   "metadata": {},
   "outputs": [],
   "source": [
    "def http_request():\n",
    "    client_socket = socket.socket(socket.AF_INET, socket.SOCK_STREAM)\n",
    "    client_socket.connect((\"example.com\", 80))\n",
    "\n",
    "    request = \"GET / HTTP/1.1\\r\\nHost: example.com\\r\\n\\r\\n\"\n",
    "    client_socket.send(request.encode())\n",
    "\n",
    "    response = client_socket.recv(4096)\n",
    "    print(response.decode())\n",
    "    client_socket.close()\n",
    "\n",
    "# Uncomment to run the HTTP request\n",
    "# http_request()"
   ]
  }
 ],
 "metadata": {
  "kernelspec": {
   "display_name": "Python 3 (ipykernel)",
   "language": "python",
   "name": "python3"
  },
  "language_info": {
   "codemirror_mode": {
    "name": "ipython",
    "version": 3
   },
   "file_extension": ".py",
   "mimetype": "text/x-python",
   "name": "python",
   "nbconvert_exporter": "python",
   "pygments_lexer": "ipython3",
   "version": "3.11.3"
  }
 },
 "nbformat": 4,
 "nbformat_minor": 5
}
