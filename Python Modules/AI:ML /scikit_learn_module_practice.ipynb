{
 "cells": [
  {
   "cell_type": "markdown",
   "id": "5e677edc",
   "metadata": {},
   "source": [
    "# **Python `scikit-learn` Module Practice**\n",
    "This notebook provides an overview and practice examples for the `scikit-learn` module, a library used for machine learning tasks such as classification, regression, clustering, and data preprocessing."
   ]
  },
  {
   "cell_type": "markdown",
   "id": "9ae6e67f",
   "metadata": {},
   "source": [
    "## **1. Installing Scikit-learn**\n",
    "Ensure `scikit-learn` is installed using:\n",
    "```bash\n",
    "pip install scikit-learn\n",
    "```\n",
    "\n",
    "Import the necessary modules:"
   ]
  },
  {
   "cell_type": "code",
   "execution_count": null,
   "id": "e8ebe0ea",
   "metadata": {},
   "outputs": [],
   "source": [
    "from sklearn import datasets, model_selection, preprocessing, metrics\n",
    "from sklearn.linear_model import LogisticRegression\n",
    "from sklearn.ensemble import RandomForestClassifier\n",
    "from sklearn.cluster import KMeans"
   ]
  },
  {
   "cell_type": "markdown",
   "id": "9691c576",
   "metadata": {},
   "source": [
    "## **2. Loading and Exploring Datasets**\n",
    "Scikit-learn provides several built-in datasets such as `iris`, `digits`, and `boston`. You can also load your custom datasets."
   ]
  },
  {
   "cell_type": "code",
   "execution_count": null,
   "id": "a6381bd9",
   "metadata": {},
   "outputs": [],
   "source": [
    "# Load the iris dataset\n",
    "iris = datasets.load_iris()\n",
    "print(f\"Features: {iris.feature_names}\")\n",
    "print(f\"Target: {iris.target_names}\")\n",
    "\n",
    "# Split the dataset\n",
    "X_train, X_test, y_train, y_test = model_selection.train_test_split(\n",
    "    iris.data, iris.target, test_size=0.2, random_state=42\n",
    ")\n",
    "print(f\"Training data shape: {X_train.shape}, Testing data shape: {X_test.shape}\")"
   ]
  },
  {
   "cell_type": "markdown",
   "id": "c420238e",
   "metadata": {},
   "source": [
    "## **3. Data Preprocessing**\n",
    "Scikit-learn provides preprocessing tools such as scaling, encoding, and imputation."
   ]
  },
  {
   "cell_type": "code",
   "execution_count": null,
   "id": "e21639fe",
   "metadata": {},
   "outputs": [],
   "source": [
    "# Scale the data\n",
    "scaler = preprocessing.StandardScaler()\n",
    "X_train_scaled = scaler.fit_transform(X_train)\n",
    "X_test_scaled = scaler.transform(X_test)\n",
    "print(f\"First scaled training sample: {X_train_scaled[0]}\")"
   ]
  },
  {
   "cell_type": "markdown",
   "id": "26e665b3",
   "metadata": {},
   "source": [
    "## **4. Building and Training Models**\n",
    "Scikit-learn provides APIs to build and train machine learning models, such as logistic regression and random forests."
   ]
  },
  {
   "cell_type": "code",
   "execution_count": null,
   "id": "ffb7fc31",
   "metadata": {},
   "outputs": [],
   "source": [
    "# Train a Logistic Regression model\n",
    "log_reg = LogisticRegression(max_iter=200)\n",
    "log_reg.fit(X_train_scaled, y_train)\n",
    "\n",
    "# Train a Random Forest Classifier\n",
    "rf_clf = RandomForestClassifier(random_state=42)\n",
    "rf_clf.fit(X_train, y_train)"
   ]
  },
  {
   "cell_type": "markdown",
   "id": "96283d2c",
   "metadata": {},
   "source": [
    "## **5. Evaluating Models**\n",
    "Evaluate model performance using metrics like accuracy, precision, recall, and confusion matrix."
   ]
  },
  {
   "cell_type": "code",
   "execution_count": null,
   "id": "1135eb80",
   "metadata": {},
   "outputs": [],
   "source": [
    "# Evaluate Logistic Regression model\n",
    "y_pred_log = log_reg.predict(X_test_scaled)\n",
    "print(f\"Logistic Regression Accuracy: {metrics.accuracy_score(y_test, y_pred_log)}\")\n",
    "\n",
    "# Evaluate Random Forest Classifier\n",
    "y_pred_rf = rf_clf.predict(X_test)\n",
    "print(f\"Random Forest Accuracy: {metrics.accuracy_score(y_test, y_pred_rf)}\")\n",
    "\n",
    "# Confusion Matrix\n",
    "print(f\"Confusion Matrix:\\n{metrics.confusion_matrix(y_test, y_pred_rf)}\")"
   ]
  },
  {
   "cell_type": "markdown",
   "id": "cec19674",
   "metadata": {},
   "source": [
    "## **6. Hyperparameter Tuning**\n",
    "Optimize model performance using techniques like Grid Search or Random Search."
   ]
  },
  {
   "cell_type": "code",
   "execution_count": null,
   "id": "7226bf0f",
   "metadata": {},
   "outputs": [],
   "source": [
    "# Perform Grid Search on Random Forest\n",
    "param_grid = {\n",
    "    'n_estimators': [10, 50, 100],\n",
    "    'max_depth': [None, 10, 20]\n",
    "}\n",
    "grid_search = model_selection.GridSearchCV(\n",
    "    rf_clf, param_grid, cv=3\n",
    ")\n",
    "grid_search.fit(X_train, y_train)\n",
    "print(f\"Best Parameters: {grid_search.best_params_}\")"
   ]
  },
  {
   "cell_type": "markdown",
   "id": "959911b5",
   "metadata": {},
   "source": [
    "## **7. Clustering with KMeans**\n",
    "Scikit-learn supports unsupervised learning algorithms like KMeans for clustering."
   ]
  },
  {
   "cell_type": "code",
   "execution_count": null,
   "id": "602b191d",
   "metadata": {},
   "outputs": [],
   "source": [
    "# Apply KMeans clustering\n",
    "kmeans = KMeans(n_clusters=3, random_state=42)\n",
    "kmeans.fit(iris.data)\n",
    "print(f\"Cluster Centers:\\n{kmeans.cluster_centers_}\")\n",
    "print(f\"Predicted Clusters: {kmeans.labels_}\")"
   ]
  },
  {
   "cell_type": "markdown",
   "id": "32f2e1bc",
   "metadata": {},
   "source": [
    "## **8. Model Persistence**\n",
    "Save and load trained models using joblib or pickle."
   ]
  },
  {
   "cell_type": "code",
   "execution_count": null,
   "id": "b2eb4b34",
   "metadata": {},
   "outputs": [],
   "source": [
    "from joblib import dump, load\n",
    "\n",
    "# Save the model\n",
    "dump(rf_clf, 'random_forest_model.joblib')\n",
    "print(\"Model saved.\")\n",
    "\n",
    "# Load the model\n",
    "loaded_model = load('random_forest_model.joblib')\n",
    "print(\"Model loaded.\")"
   ]
  },
  {
   "cell_type": "markdown",
   "id": "df89caaa",
   "metadata": {},
   "source": [
    "## **9. Practical Example: Regression with Boston Dataset**\n",
    "Demonstrating regression tasks using the Boston housing dataset."
   ]
  },
  {
   "cell_type": "code",
   "execution_count": null,
   "id": "8ab0f909",
   "metadata": {},
   "outputs": [],
   "source": [
    "# Load the Boston dataset\n",
    "boston = datasets.load_boston()\n",
    "X_train, X_test, y_train, y_test = model_selection.train_test_split(\n",
    "    boston.data, boston.target, test_size=0.2, random_state=42\n",
    ")\n",
    "\n",
    "# Train a Linear Regression model\n",
    "from sklearn.linear_model import LinearRegression\n",
    "lin_reg = LinearRegression()\n",
    "lin_reg.fit(X_train, y_train)\n",
    "\n",
    "# Evaluate the model\n",
    "y_pred = lin_reg.predict(X_test)\n",
    "print(f\"Mean Squared Error: {metrics.mean_squared_error(y_test, y_pred)}\")"
   ]
  },
  {
   "cell_type": "markdown",
   "id": "76043b1c",
   "metadata": {},
   "source": [
    "## **10. Practical Example: Cross-Validation**\n",
    "Use cross-validation to evaluate models more robustly."
   ]
  },
  {
   "cell_type": "code",
   "execution_count": null,
   "id": "5a3959b2",
   "metadata": {},
   "outputs": [],
   "source": [
    "# Perform cross-validation\n",
    "scores = model_selection.cross_val_score(\n",
    "    rf_clf, X_train, y_train, cv=5, scoring='accuracy'\n",
    ")\n",
    "print(f\"Cross-validation scores: {scores}\")\n",
    "print(f\"Mean accuracy: {scores.mean()}\")"
   ]
  }
 ],
 "metadata": {},
 "nbformat": 4,
 "nbformat_minor": 5
}
