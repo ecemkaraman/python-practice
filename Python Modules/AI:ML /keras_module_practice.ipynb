{
 "cells": [
  {
   "cell_type": "markdown",
   "id": "181bd883",
   "metadata": {},
   "source": [
    "# **Python `keras` Module Practice**\n",
    "This notebook provides an overview and practice examples for the `keras` module, a high-level API of TensorFlow used for building and training deep learning models."
   ]
  },
  {
   "cell_type": "markdown",
   "id": "36b7cdc4",
   "metadata": {},
   "source": [
    "## **1. Installing Keras and TensorFlow**\n",
    "Ensure TensorFlow (which includes Keras) is installed. Install it using:\n",
    "```bash\n",
    "pip install tensorflow\n",
    "```\n",
    "\n",
    "Import the necessary modules:"
   ]
  },
  {
   "cell_type": "code",
   "execution_count": null,
   "id": "6c496138",
   "metadata": {},
   "outputs": [],
   "source": [
    "from tensorflow import keras\n",
    "from tensorflow.keras import layers"
   ]
  },
  {
   "cell_type": "markdown",
   "id": "cc792cac",
   "metadata": {},
   "source": [
    "## **2. Building a Simple Neural Network**\n",
    "Keras provides a `Sequential` API to define models as a sequence of layers."
   ]
  },
  {
   "cell_type": "code",
   "execution_count": null,
   "id": "d7feda14",
   "metadata": {},
   "outputs": [],
   "source": [
    "# Define a simple sequential model\n",
    "model = keras.Sequential([\n",
    "    layers.Dense(32, activation='relu', input_shape=(10,)),\n",
    "    layers.Dense(16, activation='relu'),\n",
    "    layers.Dense(1, activation='sigmoid')\n",
    "])\n",
    "\n",
    "model.summary()  # Display model architecture"
   ]
  },
  {
   "cell_type": "markdown",
   "id": "af5c2a6e",
   "metadata": {},
   "source": [
    "## **3. Compiling the Model**\n",
    "Compile the model by specifying the optimizer, loss function, and metrics."
   ]
  },
  {
   "cell_type": "code",
   "execution_count": null,
   "id": "b50b31f0",
   "metadata": {},
   "outputs": [],
   "source": [
    "model.compile(\n",
    "    optimizer='adam',\n",
    "    loss='binary_crossentropy',\n",
    "    metrics=['accuracy']\n",
    ")"
   ]
  },
  {
   "cell_type": "markdown",
   "id": "0b46c5d7",
   "metadata": {},
   "source": [
    "## **4. Training the Model**\n",
    "Train the model using the `fit` method with training data and labels."
   ]
  },
  {
   "cell_type": "code",
   "execution_count": null,
   "id": "91e30fd5",
   "metadata": {},
   "outputs": [],
   "source": [
    "# Generate dummy data\n",
    "import numpy as np\n",
    "x_train = np.random.random((100, 10))\n",
    "y_train = np.random.randint(2, size=(100, 1))\n",
    "\n",
    "# Train the model\n",
    "history = model.fit(x_train, y_train, epochs=10, batch_size=8)"
   ]
  },
  {
   "cell_type": "markdown",
   "id": "3a172a8f",
   "metadata": {},
   "source": [
    "## **5. Evaluating the Model**\n",
    "Evaluate the model on test data to measure its performance."
   ]
  },
  {
   "cell_type": "code",
   "execution_count": null,
   "id": "ebf0388a",
   "metadata": {},
   "outputs": [],
   "source": [
    "# Generate dummy test data\n",
    "x_test = np.random.random((20, 10))\n",
    "y_test = np.random.randint(2, size=(20, 1))\n",
    "\n",
    "# Evaluate the model\n",
    "loss, accuracy = model.evaluate(x_test, y_test)\n",
    "print(f\"Test Loss: {loss}, Test Accuracy: {accuracy}\")"
   ]
  },
  {
   "cell_type": "markdown",
   "id": "019d0fe2",
   "metadata": {},
   "source": [
    "## **6. Making Predictions**\n",
    "Use the `predict` method to generate predictions on new data."
   ]
  },
  {
   "cell_type": "code",
   "execution_count": null,
   "id": "89ebfa7d",
   "metadata": {},
   "outputs": [],
   "source": [
    "# Generate predictions\n",
    "predictions = model.predict(x_test)\n",
    "print(f\"Predictions:\\n{predictions}\")"
   ]
  },
  {
   "cell_type": "markdown",
   "id": "f1f74075",
   "metadata": {},
   "source": [
    "## **7. Customizing Models with Functional API**\n",
    "The Functional API provides flexibility to define complex models, such as multi-input or multi-output models."
   ]
  },
  {
   "cell_type": "code",
   "execution_count": null,
   "id": "cc836134",
   "metadata": {},
   "outputs": [],
   "source": [
    "# Define inputs and layers\n",
    "inputs = keras.Input(shape=(10,))\n",
    "x = layers.Dense(32, activation='relu')(inputs)\n",
    "x = layers.Dense(16, activation='relu')(x)\n",
    "outputs = layers.Dense(1, activation='sigmoid')(x)\n",
    "\n",
    "# Create the model\n",
    "functional_model = keras.Model(inputs=inputs, outputs=outputs)\n",
    "functional_model.summary()"
   ]
  },
  {
   "cell_type": "markdown",
   "id": "3032ca99",
   "metadata": {},
   "source": [
    "## **8. Callbacks**\n",
    "Callbacks are used to customize and control training processes, such as early stopping or saving checkpoints."
   ]
  },
  {
   "cell_type": "code",
   "execution_count": null,
   "id": "c0810f54",
   "metadata": {},
   "outputs": [],
   "source": [
    "# Define a callback for early stopping\n",
    "early_stopping = keras.callbacks.EarlyStopping(\n",
    "    monitor='val_loss',\n",
    "    patience=3\n",
    ")\n",
    "\n",
    "# Retrain the model with validation split\n",
    "history = model.fit(\n",
    "    x_train, y_train,\n",
    "    epochs=20,\n",
    "    batch_size=8,\n",
    "    validation_split=0.2,\n",
    "    callbacks=[early_stopping]\n",
    ")"
   ]
  },
  {
   "cell_type": "markdown",
   "id": "c99c4ff8",
   "metadata": {},
   "source": [
    "## **9. Saving and Loading Models**\n",
    "Keras allows saving and loading models using `save` and `load_model` methods."
   ]
  },
  {
   "cell_type": "code",
   "execution_count": null,
   "id": "8a5c2426",
   "metadata": {},
   "outputs": [],
   "source": [
    "# Save the model\n",
    "model.save('model.h5')\n",
    "print(\"Model saved.\")\n",
    "\n",
    "# Load the model\n",
    "loaded_model = keras.models.load_model('model.h5')\n",
    "print(\"Model loaded.\")"
   ]
  },
  {
   "cell_type": "markdown",
   "id": "9aafc927",
   "metadata": {},
   "source": [
    "## **10. Practical Example: Image Classification**\n",
    "Build a Convolutional Neural Network (CNN) for classifying images using Keras."
   ]
  },
  {
   "cell_type": "code",
   "execution_count": null,
   "id": "1afd0bc4",
   "metadata": {},
   "outputs": [],
   "source": [
    "# Example: Define a CNN model\n",
    "cnn_model = keras.Sequential([\n",
    "    layers.Conv2D(32, (3, 3), activation='relu', input_shape=(28, 28, 1)),\n",
    "    layers.MaxPooling2D((2, 2)),\n",
    "    layers.Flatten(),\n",
    "    layers.Dense(64, activation='relu'),\n",
    "    layers.Dense(10, activation='softmax')\n",
    "])\n",
    "\n",
    "cnn_model.compile(\n",
    "    optimizer='adam',\n",
    "    loss='sparse_categorical_crossentropy',\n",
    "    metrics=['accuracy']\n",
    ")\n",
    "\n",
    "cnn_model.summary()"
   ]
  }
 ],
 "metadata": {},
 "nbformat": 4,
 "nbformat_minor": 5
}
