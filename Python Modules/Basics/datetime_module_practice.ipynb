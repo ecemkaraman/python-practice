{
 "cells": [
  {
   "cell_type": "markdown",
   "id": "ac99373e",
   "metadata": {},
   "source": [
    "# **Python `datetime` Module Practice**\n",
    "This notebook provides an overview and practice examples for the `datetime` module, a standard library for working with dates and times in Python."
   ]
  },
  {
   "cell_type": "markdown",
   "id": "72b51653",
   "metadata": {},
   "source": [
    "## **1. Importing the `datetime` Module**\n",
    "The `datetime` module is part of Python's standard library, so no additional installation is required."
   ]
  },
  {
   "cell_type": "code",
   "execution_count": null,
   "id": "a3f902f0",
   "metadata": {},
   "outputs": [],
   "source": [
    "from datetime import datetime, timedelta, date, time"
   ]
  },
  {
   "cell_type": "markdown",
   "id": "1efea28e",
   "metadata": {},
   "source": [
    "## **2. Getting the Current Date and Time**\n",
    "Use `datetime.now` to get the current date and time."
   ]
  },
  {
   "cell_type": "code",
   "execution_count": null,
   "id": "289c1941",
   "metadata": {},
   "outputs": [],
   "source": [
    "# Get the current date and time\n",
    "current_datetime = datetime.now()\n",
    "print(f\"Current date and time: {current_datetime}\")"
   ]
  },
  {
   "cell_type": "markdown",
   "id": "4ffeedcd",
   "metadata": {},
   "source": [
    "## **3. Creating a Specific Date and Time**\n",
    "Use `datetime` to create a specific date and time object."
   ]
  },
  {
   "cell_type": "code",
   "execution_count": null,
   "id": "e885eb82",
   "metadata": {},
   "outputs": [],
   "source": [
    "# Create a specific date and time\n",
    "specific_datetime = datetime(2024, 12, 25, 15, 30, 45)\n",
    "print(f\"Specific date and time: {specific_datetime}\")"
   ]
  },
  {
   "cell_type": "markdown",
   "id": "d16c8a62",
   "metadata": {},
   "source": [
    "## **4. Formatting Dates and Times**\n",
    "Use `strftime` to format date and time objects into readable strings."
   ]
  },
  {
   "cell_type": "code",
   "execution_count": null,
   "id": "aad3c2bb",
   "metadata": {},
   "outputs": [],
   "source": [
    "# Format the current date and time\n",
    "formatted = current_datetime.strftime('%Y-%m-%d %H:%M:%S')\n",
    "print(f\"Formatted date and time: {formatted}\")"
   ]
  },
  {
   "cell_type": "markdown",
   "id": "c48b63f5",
   "metadata": {},
   "source": [
    "## **5. Parsing Strings into Dates and Times**\n",
    "Use `strptime` to parse strings into `datetime` objects."
   ]
  },
  {
   "cell_type": "code",
   "execution_count": null,
   "id": "d01525d8",
   "metadata": {},
   "outputs": [],
   "source": [
    "# Parse a string into a datetime object\n",
    "date_string = '2024-12-25 15:30:45'\n",
    "parsed_datetime = datetime.strptime(date_string, '%Y-%m-%d %H:%M:%S')\n",
    "print(f\"Parsed datetime: {parsed_datetime}\")"
   ]
  },
  {
   "cell_type": "markdown",
   "id": "3a5cef17",
   "metadata": {},
   "source": [
    "## **6. Working with Timedeltas**\n",
    "Use `timedelta` to perform arithmetic on dates and times."
   ]
  },
  {
   "cell_type": "code",
   "execution_count": null,
   "id": "cecb8e8b",
   "metadata": {},
   "outputs": [],
   "source": [
    "# Add 7 days to the current date\n",
    "future_date = current_datetime + timedelta(days=7)\n",
    "print(f\"Date 7 days from now: {future_date}\")\n",
    "\n",
    "# Subtract 5 hours from the current date\n",
    "past_time = current_datetime - timedelta(hours=5)\n",
    "print(f\"Time 5 hours ago: {past_time}\")"
   ]
  },
  {
   "cell_type": "markdown",
   "id": "66ec4410",
   "metadata": {},
   "source": [
    "## **7. Extracting Components from Dates and Times**\n",
    "Access individual components like year, month, and day."
   ]
  },
  {
   "cell_type": "code",
   "execution_count": null,
   "id": "0729b344",
   "metadata": {},
   "outputs": [],
   "source": [
    "# Extract components\n",
    "year = current_datetime.year\n",
    "month = current_datetime.month\n",
    "day = current_datetime.day\n",
    "hour = current_datetime.hour\n",
    "minute = current_datetime.minute\n",
    "second = current_datetime.second\n",
    "\n",
    "print(f\"Year: {year}, Month: {month}, Day: {day}\")\n",
    "print(f\"Hour: {hour}, Minute: {minute}, Second: {second}\")"
   ]
  },
  {
   "cell_type": "markdown",
   "id": "e2264dc1",
   "metadata": {},
   "source": [
    "## **8. Comparing Dates and Times**\n",
    "Compare `datetime` objects using comparison operators."
   ]
  },
  {
   "cell_type": "code",
   "execution_count": null,
   "id": "d3066f7c",
   "metadata": {},
   "outputs": [],
   "source": [
    "# Compare dates\n",
    "date1 = datetime(2024, 12, 25)\n",
    "date2 = datetime(2023, 12, 25)\n",
    "\n",
    "if date1 > date2:\n",
    "    print(f\"{date1} is after {date2}\")\n",
    "else:\n",
    "    print(f\"{date1} is before {date2}\")"
   ]
  },
  {
   "cell_type": "markdown",
   "id": "bc63a577",
   "metadata": {},
   "source": [
    "## **9. Working with `date` and `time` Objects**\n",
    "Use `date` and `time` classes for more specialized operations."
   ]
  },
  {
   "cell_type": "code",
   "execution_count": null,
   "id": "093e7590",
   "metadata": {},
   "outputs": [],
   "source": [
    "# Create a date object\n",
    "current_date = date.today()\n",
    "print(f\"Today's date: {current_date}\")\n",
    "\n",
    "# Create a time object\n",
    "specific_time = time(15, 30, 45)\n",
    "print(f\"Specific time: {specific_time}\")"
   ]
  },
  {
   "cell_type": "markdown",
   "id": "22fe017d",
   "metadata": {},
   "source": [
    "## **10. Practical Example: Countdown Timer**\n",
    "Calculate the number of days left until a specific event."
   ]
  },
  {
   "cell_type": "code",
   "execution_count": null,
   "id": "d0854470",
   "metadata": {},
   "outputs": [],
   "source": [
    "# Calculate days until New Year\n",
    "new_year = datetime(2025, 1, 1)\n",
    "days_until_new_year = (new_year - current_datetime).days\n",
    "print(f\"Days until New Year: {days_until_new_year}\")"
   ]
  }
 ],
 "metadata": {},
 "nbformat": 4,
 "nbformat_minor": 5
}
