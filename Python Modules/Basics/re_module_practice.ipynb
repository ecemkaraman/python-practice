{
 "cells": [
  {
   "cell_type": "markdown",
   "id": "3114beeb",
   "metadata": {},
   "source": [
    "# **Python `re` Module Practice**\n",
    "This notebook provides an overview and practice examples for the `re` module, Python's built-in library for working with regular expressions."
   ]
  },
  {
   "cell_type": "markdown",
   "id": "fbe71f2e",
   "metadata": {},
   "source": [
    "## **1. Importing the `re` Module**\n",
    "The `re` module is part of Python's standard library, so no additional installation is required."
   ]
  },
  {
   "cell_type": "code",
   "execution_count": null,
   "id": "fd83a19c",
   "metadata": {},
   "outputs": [],
   "source": [
    "import re"
   ]
  },
  {
   "cell_type": "markdown",
   "id": "c3529636",
   "metadata": {},
   "source": [
    "## **2. Basic Pattern Matching with `re.search`**\n",
    "Use `re.search` to find the first occurrence of a pattern in a string."
   ]
  },
  {
   "cell_type": "code",
   "execution_count": null,
   "id": "7d942351",
   "metadata": {},
   "outputs": [],
   "source": [
    "# Basic pattern matching\n",
    "text = 'The quick brown fox jumps over the lazy dog.'\n",
    "match = re.search(r'quick', text)\n",
    "if match:\n",
    "    print(f\"Found match: {match.group()} at position {match.start()}-{match.end()}\")"
   ]
  },
  {
   "cell_type": "markdown",
   "id": "51e02e86",
   "metadata": {},
   "source": [
    "## **3. Matching at the Start or End with `re.match` and `re.fullmatch`**\n",
    "Use `re.match` to match patterns at the start of a string and `re.fullmatch` for the entire string."
   ]
  },
  {
   "cell_type": "code",
   "execution_count": null,
   "id": "436a7dd7",
   "metadata": {},
   "outputs": [],
   "source": [
    "# Matching at the start of the string\n",
    "start_match = re.match(r'The', text)\n",
    "if start_match:\n",
    "    print(f\"Matched at the start: {start_match.group()}\")\n",
    "\n",
    "# Full string match\n",
    "full_match = re.fullmatch(r'The quick.*dog\\.', text)\n",
    "if full_match:\n",
    "    print(f\"Matched the full string: {full_match.group()}\")"
   ]
  },
  {
   "cell_type": "markdown",
   "id": "13aa741d",
   "metadata": {},
   "source": [
    "## **4. Finding All Matches with `re.findall`**\n",
    "Retrieve all occurrences of a pattern in a string using `re.findall`. This returns a list of matches."
   ]
  },
  {
   "cell_type": "code",
   "execution_count": null,
   "id": "6534bc45",
   "metadata": {},
   "outputs": [],
   "source": [
    "# Find all matches of a pattern\n",
    "words = re.findall(r'\\b\\w{4}\\b', text)  # Words with exactly 4 letters\n",
    "print(f\"Words with 4 letters: {words}\")"
   ]
  },
  {
   "cell_type": "markdown",
   "id": "c7776d2b",
   "metadata": {},
   "source": [
    "## **5. Iterating Over Matches with `re.finditer`**\n",
    "Use `re.finditer` to iterate over all matches of a pattern in a string."
   ]
  },
  {
   "cell_type": "code",
   "execution_count": null,
   "id": "899d373e",
   "metadata": {},
   "outputs": [],
   "source": [
    "# Iterate over matches\n",
    "for match in re.finditer(r'\\b\\w{4}\\b', text):\n",
    "    print(f\"Match: {match.group()} at position {match.start()}-{match.end()}\")"
   ]
  },
  {
   "cell_type": "markdown",
   "id": "73590140",
   "metadata": {},
   "source": [
    "## **6. Substituting Patterns with `re.sub`**\n",
    "Replace patterns in a string using `re.sub`."
   ]
  },
  {
   "cell_type": "code",
   "execution_count": null,
   "id": "61cf723f",
   "metadata": {},
   "outputs": [],
   "source": [
    "# Replace words with 'FOUR'\n",
    "modified_text = re.sub(r'\\b\\w{4}\\b', 'FOUR', text)\n",
    "print(f\"Modified text: {modified_text}\")"
   ]
  },
  {
   "cell_type": "markdown",
   "id": "77a8ddc6",
   "metadata": {},
   "source": [
    "## **7. Splitting Strings with `re.split`**\n",
    "Split a string into a list based on a pattern."
   ]
  },
  {
   "cell_type": "code",
   "execution_count": null,
   "id": "944e74d0",
   "metadata": {},
   "outputs": [],
   "source": [
    "# Split text by spaces\n",
    "split_text = re.split(r'\\s+', text)\n",
    "print(f\"Split text: {split_text}\")"
   ]
  },
  {
   "cell_type": "markdown",
   "id": "ba0b391b",
   "metadata": {},
   "source": [
    "## **8. Using Groups in Regular Expressions**\n",
    "Capture specific parts of a match using parentheses to create groups."
   ]
  },
  {
   "cell_type": "code",
   "execution_count": null,
   "id": "4361788d",
   "metadata": {},
   "outputs": [],
   "source": [
    "# Extract year, month, and day\n",
    "date_text = 'Date: 2024-12-21'\n",
    "match = re.search(r'(\\d{4})-(\\d{2})-(\\d{2})', date_text)\n",
    "if match:\n",
    "    year, month, day = match.groups()\n",
    "    print(f\"Year: {year}, Month: {month}, Day: {day}\")"
   ]
  },
  {
   "cell_type": "markdown",
   "id": "59fa5972",
   "metadata": {},
   "source": [
    "## **9. Compiling Regular Expressions with `re.compile`**\n",
    "Pre-compile regular expressions for reuse, improving performance when matching multiple times."
   ]
  },
  {
   "cell_type": "code",
   "execution_count": null,
   "id": "778609b6",
   "metadata": {},
   "outputs": [],
   "source": [
    "# Compile a pattern\n",
    "pattern = re.compile(r'\\b\\w{4}\\b')\n",
    "matches = pattern.findall(text)\n",
    "print(f\"Compiled matches: {matches}\")"
   ]
  },
  {
   "cell_type": "markdown",
   "id": "5cd76dd8",
   "metadata": {},
   "source": [
    "## **10. Practical Example: Email Validation**\n",
    "Use a regular expression to validate email addresses."
   ]
  },
  {
   "cell_type": "code",
   "execution_count": null,
   "id": "938acb2a",
   "metadata": {},
   "outputs": [],
   "source": [
    "# Email validation pattern\n",
    "email_pattern = r'^[a-zA-Z0-9_.+-]+@[a-zA-Z0-9-]+\\.[a-zA-Z0-9-.]+$'\n",
    "emails = ['user@example.com', 'invalid-email', 'test@domain.co.uk']\n",
    "\n",
    "for email in emails:\n",
    "    if re.fullmatch(email_pattern, email):\n",
    "        print(f\"Valid email: {email}\")\n",
    "    else:\n",
    "        print(f\"Invalid email: {email}\")"
   ]
  }
 ],
 "metadata": {},
 "nbformat": 4,
 "nbformat_minor": 5
}
