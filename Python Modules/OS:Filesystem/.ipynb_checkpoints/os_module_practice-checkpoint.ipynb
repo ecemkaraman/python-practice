{
 "cells": [
  {
   "cell_type": "markdown",
   "id": "56c70f78",
   "metadata": {},
   "source": [
    "# **Python `os` Module Practice**\n",
    "This notebook provides an overview and practice examples for the `os` module in Python, including core functionalities, environment management, and file system operations."
   ]
  },
  {
   "cell_type": "markdown",
   "id": "e96d241f",
   "metadata": {},
   "source": [
    "## **1. Basic Setup**\n",
    "Let's start by importing the `os` module."
   ]
  },
  {
   "cell_type": "code",
   "execution_count": 2,
   "id": "7f4dda8f",
   "metadata": {},
   "outputs": [],
   "source": [
    "import os"
   ]
  },
  {
   "cell_type": "markdown",
   "id": "5c3a82f6",
   "metadata": {},
   "source": [
    "## **2. Working with Directories**"
   ]
  },
  {
   "cell_type": "code",
   "execution_count": 2,
   "id": "d3e4a452",
   "metadata": {},
   "outputs": [
    {
     "data": {
      "text/plain": [
       "'/Users/ecemkaraman/Desktop/Jupyter Py/Python Modules'"
      ]
     },
     "execution_count": 2,
     "metadata": {},
     "output_type": "execute_result"
    }
   ],
   "source": [
    "# Get current working directory\n",
    "os.getcwd()"
   ]
  },
  {
   "cell_type": "code",
   "execution_count": 3,
   "id": "a3b7ebeb",
   "metadata": {},
   "outputs": [
    {
     "data": {
      "text/plain": [
       "'/Users/ecemkaraman/Desktop/Jupyter Py'"
      ]
     },
     "execution_count": 3,
     "metadata": {},
     "output_type": "execute_result"
    }
   ],
   "source": [
    "# Change current working directory\n",
    "os.chdir('..')  # Navigate up one directory level\n",
    "os.getcwd()"
   ]
  },
  {
   "cell_type": "code",
   "execution_count": 4,
   "id": "fc727239",
   "metadata": {},
   "outputs": [
    {
     "data": {
      "text/plain": [
       "['.DS_Store',\n",
       " 'PyAdvanced',\n",
       " 'Py_DS_ML_Bootcamp-master',\n",
       " 'Fashion',\n",
       " '22_web_scraping.py',\n",
       " 'Python Review',\n",
       " 'NumPy_Basics_and_Operations.ipynb',\n",
       " 'Jupyter HTML',\n",
       " '.ipynb_checkpoints',\n",
       " 'Python Modules']"
      ]
     },
     "execution_count": 4,
     "metadata": {},
     "output_type": "execute_result"
    }
   ],
   "source": [
    "# List files and directories in the current directory\n",
    "os.listdir('.')"
   ]
  },
  {
   "cell_type": "markdown",
   "id": "88f88ffe",
   "metadata": {},
   "source": [
    "### **Creating and Removing Directories**"
   ]
  },
  {
   "cell_type": "code",
   "execution_count": 5,
   "id": "2e61a64a",
   "metadata": {},
   "outputs": [
    {
     "data": {
      "text/plain": [
       "['.DS_Store',\n",
       " 'PyAdvanced',\n",
       " 'Py_DS_ML_Bootcamp-master',\n",
       " 'Fashion',\n",
       " '22_web_scraping.py',\n",
       " 'Python Review',\n",
       " 'NumPy_Basics_and_Operations.ipynb',\n",
       " 'Jupyter HTML',\n",
       " '.ipynb_checkpoints',\n",
       " 'practice_folder',\n",
       " 'Python Modules']"
      ]
     },
     "execution_count": 5,
     "metadata": {},
     "output_type": "execute_result"
    }
   ],
   "source": [
    "# Create a single directory\n",
    "os.mkdir('practice_folder')\n",
    "os.listdir('.')"
   ]
  },
  {
   "cell_type": "code",
   "execution_count": 6,
   "id": "2196f091",
   "metadata": {},
   "outputs": [
    {
     "data": {
      "text/plain": [
       "['.DS_Store',\n",
       " 'PyAdvanced',\n",
       " 'Py_DS_ML_Bootcamp-master',\n",
       " 'Fashion',\n",
       " '22_web_scraping.py',\n",
       " 'Python Review',\n",
       " 'NumPy_Basics_and_Operations.ipynb',\n",
       " 'Jupyter HTML',\n",
       " '.ipynb_checkpoints',\n",
       " 'Python Modules']"
      ]
     },
     "execution_count": 6,
     "metadata": {},
     "output_type": "execute_result"
    }
   ],
   "source": [
    "# Remove the created directory\n",
    "os.rmdir('practice_folder')\n",
    "os.listdir('.')"
   ]
  },
  {
   "cell_type": "code",
   "execution_count": 7,
   "id": "d96b24af",
   "metadata": {},
   "outputs": [
    {
     "data": {
      "text/plain": [
       "['child']"
      ]
     },
     "execution_count": 7,
     "metadata": {},
     "output_type": "execute_result"
    }
   ],
   "source": [
    "# Create nested directories\n",
    "os.makedirs('parent/child/grandchild')\n",
    "os.listdir('parent')"
   ]
  },
  {
   "cell_type": "code",
   "execution_count": 8,
   "id": "ae4ce05a",
   "metadata": {},
   "outputs": [],
   "source": [
    "# Remove nested directories\n",
    "os.removedirs('parent/child/grandchild')"
   ]
  },
  {
   "cell_type": "code",
   "execution_count": 4,
   "id": "e7977206",
   "metadata": {},
   "outputs": [
    {
     "data": {
      "text/plain": [
       "['platform_module_practice_final.ipynb',\n",
       " 'subprocess_module_practice.ipynb',\n",
       " 'sys_module_practice.ipynb',\n",
       " 'os_module_practice.ipynb',\n",
       " '.ipynb_checkpoints',\n",
       " 'shutil_module_practice.ipynb',\n",
       " 'pathlib_module_practice.ipynb']"
      ]
     },
     "execution_count": 4,
     "metadata": {},
     "output_type": "execute_result"
    }
   ],
   "source": [
    "os.listdir('.')"
   ]
  },
  {
   "cell_type": "markdown",
   "id": "1edfef86",
   "metadata": {},
   "source": [
    "**os.walk()** generates a directory tree traversal, yielding a tuple for each directory it visits that contains the directory path, a list of subdirectories, and a list of files."
   ]
  },
  {
   "cell_type": "code",
   "execution_count": 3,
   "id": "231fd832",
   "metadata": {},
   "outputs": [
    {
     "name": "stdout",
     "output_type": "stream",
     "text": [
      ". ['.ipynb_checkpoints'] ['platform_module_practice_final.ipynb', 'subprocess_module_practice.ipynb', 'sys_module_practice.ipynb', 'os_module_practice.ipynb', 'shutil_module_practice.ipynb', 'pathlib_module_practice.ipynb']\n",
      "./.ipynb_checkpoints [] ['os_module_practice-checkpoint.ipynb']\n"
     ]
    }
   ],
   "source": [
    "for root, dirs, files in os.walk('.'):\n",
    "    print(root, dirs, files)"
   ]
  },
  {
   "cell_type": "markdown",
   "id": "c56d98e9",
   "metadata": {},
   "source": [
    "## **3. Working with Files**"
   ]
  },
  {
   "cell_type": "code",
   "execution_count": null,
   "id": "89203425",
   "metadata": {},
   "outputs": [],
   "source": [
    "# Create a new file\n",
    "with open('example.txt', 'w') as file:\n",
    "    file.write('Hello, World!')\n",
    "os.listdir('.')"
   ]
  },
  {
   "cell_type": "code",
   "execution_count": null,
   "id": "38cc8bd8",
   "metadata": {},
   "outputs": [],
   "source": [
    "# Rename the file\n",
    "os.rename('example.txt', 'renamed_example.txt')\n",
    "os.listdir('.')"
   ]
  },
  {
   "cell_type": "code",
   "execution_count": null,
   "id": "1d390f37",
   "metadata": {},
   "outputs": [],
   "source": [
    "# Remove the file\n",
    "os.remove('renamed_example.txt')\n",
    "os.listdir('.')"
   ]
  },
  {
   "cell_type": "markdown",
   "id": "c36e1730",
   "metadata": {},
   "source": [
    "## **4. Environment Variables**"
   ]
  },
  {
   "cell_type": "code",
   "execution_count": 5,
   "id": "66230b49",
   "metadata": {},
   "outputs": [
    {
     "data": {
      "text/plain": [
       "environ{'MANPATH': '/opt/homebrew/share/man::',\n",
       "        'TERM_PROGRAM': 'Apple_Terminal',\n",
       "        'SHELL': '/bin/zsh',\n",
       "        'TERM': 'xterm-color',\n",
       "        'HOMEBREW_REPOSITORY': '/opt/homebrew',\n",
       "        'TMPDIR': '/var/folders/bz/lc2wp4g51gxcrvmk2z0dpd080000gn/T/',\n",
       "        'CONDA_SHLVL': '1',\n",
       "        'CONDA_PROMPT_MODIFIER': '(base) ',\n",
       "        'TERM_PROGRAM_VERSION': '453',\n",
       "        'TERM_SESSION_ID': 'FDB0E0BE-64EC-4497-8EE1-076250ACDB6B',\n",
       "        'USER': 'ecemkaraman',\n",
       "        'CONDA_EXE': '/Users/ecemkaraman/anaconda3/bin/conda',\n",
       "        'SSH_AUTH_SOCK': '/private/tmp/com.apple.launchd.vMhagtEQqb/Listeners',\n",
       "        '_CE_CONDA': '',\n",
       "        'CONDA_ROOT': '/Users/ecemkaraman/anaconda3',\n",
       "        'PATH': '/Users/ecemkaraman/.cargo/bin:/opt/homebrew/bin:/opt/homebrew/sbin:/usr/local/bin:/Users/ecemkaraman/anaconda3/bin:/Users/ecemkaraman/anaconda3/condabin:/Library/Frameworks/Python.framework/Versions/3.11/bin:/usr/local/bin:/usr/bin:/bin:/usr/sbin:/sbin:/Library/Apple/usr/bin',\n",
       "        '__CFBundleIdentifier': 'com.apple.Terminal',\n",
       "        'CONDA_PREFIX': '/Users/ecemkaraman/anaconda3',\n",
       "        'PWD': '/Users/ecemkaraman',\n",
       "        'LANG': 'en_GB.UTF-8',\n",
       "        'EVENT_NOKQUEUE': '1',\n",
       "        'XPC_FLAGS': '0x0',\n",
       "        'XPC_SERVICE_NAME': '0',\n",
       "        '_CE_M': '',\n",
       "        'HOME': '/Users/ecemkaraman',\n",
       "        'SHLVL': '3',\n",
       "        'HOMEBREW_PREFIX': '/opt/homebrew',\n",
       "        'LOGNAME': 'ecemkaraman',\n",
       "        'CONDA_PYTHON_EXE': '/Users/ecemkaraman/anaconda3/bin/python',\n",
       "        'LC_CTYPE': 'UTF-8',\n",
       "        'CONDA_DEFAULT_ENV': 'base',\n",
       "        'INFOPATH': '/opt/homebrew/share/info:',\n",
       "        'HOMEBREW_CELLAR': '/opt/homebrew/Cellar',\n",
       "        '_': '/Users/ecemkaraman/anaconda3/bin/jupyter-notebook',\n",
       "        'PYDEVD_USE_FRAME_EVAL': 'NO',\n",
       "        'JPY_PARENT_PID': '31001',\n",
       "        'CLICOLOR': '1',\n",
       "        'FORCE_COLOR': '1',\n",
       "        'CLICOLOR_FORCE': '1',\n",
       "        'PAGER': 'cat',\n",
       "        'GIT_PAGER': 'cat',\n",
       "        'MPLBACKEND': 'module://matplotlib_inline.backend_inline'}"
      ]
     },
     "execution_count": 5,
     "metadata": {},
     "output_type": "execute_result"
    }
   ],
   "source": [
    "# Get all environment variables\n",
    "os.environ"
   ]
  },
  {
   "cell_type": "code",
   "execution_count": 6,
   "id": "914fa324",
   "metadata": {},
   "outputs": [
    {
     "data": {
      "text/plain": [
       "'/Users/ecemkaraman/.cargo/bin:/opt/homebrew/bin:/opt/homebrew/sbin:/usr/local/bin:/Users/ecemkaraman/anaconda3/bin:/Users/ecemkaraman/anaconda3/condabin:/Library/Frameworks/Python.framework/Versions/3.11/bin:/usr/local/bin:/usr/bin:/bin:/usr/sbin:/sbin:/Library/Apple/usr/bin'"
      ]
     },
     "execution_count": 6,
     "metadata": {},
     "output_type": "execute_result"
    }
   ],
   "source": [
    "# Access a specific environment variable\n",
    "os.environ.get('PATH')"
   ]
  },
  {
   "cell_type": "code",
   "execution_count": 7,
   "id": "c382b435",
   "metadata": {},
   "outputs": [
    {
     "name": "stdout",
     "output_type": "stream",
     "text": [
      "Test\n"
     ]
    }
   ],
   "source": [
    "# Set a new environment variable\n",
    "os.environ['NEW_VAR'] = 'Test'\n",
    "os.environ.get('NEW_VAR')\n",
    "print(os.getenv('NEW_VAR'))"
   ]
  },
  {
   "cell_type": "markdown",
   "id": "49095c6e",
   "metadata": {},
   "source": [
    "## **5. System Information**"
   ]
  },
  {
   "cell_type": "code",
   "execution_count": 8,
   "id": "ff7ca487",
   "metadata": {},
   "outputs": [
    {
     "data": {
      "text/plain": [
       "'posix'"
      ]
     },
     "execution_count": 8,
     "metadata": {},
     "output_type": "execute_result"
    }
   ],
   "source": [
    "# Get the OS name\n",
    "os.name"
   ]
  },
  {
   "cell_type": "code",
   "execution_count": 9,
   "id": "8aa52107",
   "metadata": {},
   "outputs": [
    {
     "name": "stdout",
     "output_type": "stream",
     "text": [
      "posix.uname_result(sysname='Darwin', nodename='MacBook-Air.local', release='23.5.0', version='Darwin Kernel Version 23.5.0: Wed May  1 20:19:05 PDT 2024; root:xnu-10063.121.3~5/RELEASE_ARM64_T8112', machine='arm64')\n"
     ]
    }
   ],
   "source": [
    "# Get system-specific details (Unix only)\n",
    "try:\n",
    "    print(os.uname())\n",
    "except AttributeError:\n",
    "    print('os.uname() is not available on this OS.')"
   ]
  },
  {
   "cell_type": "code",
   "execution_count": 10,
   "id": "a64e31ed",
   "metadata": {},
   "outputs": [
    {
     "data": {
      "text/plain": [
       "8"
      ]
     },
     "execution_count": 10,
     "metadata": {},
     "output_type": "execute_result"
    }
   ],
   "source": [
    "# Get CPU count\n",
    "os.cpu_count()"
   ]
  },
  {
   "cell_type": "markdown",
   "id": "6b00ec6e",
   "metadata": {},
   "source": [
    "## **6. Using `os.path`**"
   ]
  },
  {
   "cell_type": "code",
   "execution_count": 11,
   "id": "3dfd49fc",
   "metadata": {},
   "outputs": [
    {
     "data": {
      "text/plain": [
       "False"
      ]
     },
     "execution_count": 11,
     "metadata": {},
     "output_type": "execute_result"
    }
   ],
   "source": [
    "# Check if a path exists\n",
    "os.path.exists('example.txt')"
   ]
  },
  {
   "cell_type": "code",
   "execution_count": 12,
   "id": "e93f417c",
   "metadata": {},
   "outputs": [
    {
     "data": {
      "text/plain": [
       "'folder/file.txt'"
      ]
     },
     "execution_count": 12,
     "metadata": {},
     "output_type": "execute_result"
    }
   ],
   "source": [
    "# Join paths\n",
    "os.path.join('folder', 'file.txt')"
   ]
  },
  {
   "cell_type": "code",
   "execution_count": 13,
   "id": "ee001abc",
   "metadata": {},
   "outputs": [
    {
     "data": {
      "text/plain": [
       "('file.txt', '/folder')"
      ]
     },
     "execution_count": 13,
     "metadata": {},
     "output_type": "execute_result"
    }
   ],
   "source": [
    "# Get base name and directory name\n",
    "os.path.basename('/folder/file.txt'), os.path.dirname('/folder/file.txt')"
   ]
  },
  {
   "cell_type": "code",
   "execution_count": 14,
   "id": "f7ba0e13",
   "metadata": {},
   "outputs": [
    {
     "data": {
      "text/plain": [
       "('/folder', 'file.txt')"
      ]
     },
     "execution_count": 14,
     "metadata": {},
     "output_type": "execute_result"
    }
   ],
   "source": [
    "# Split path into directory and file\n",
    "os.path.split('/folder/file.txt')"
   ]
  },
  {
   "cell_type": "code",
   "execution_count": 15,
   "id": "c9053703",
   "metadata": {},
   "outputs": [
    {
     "data": {
      "text/plain": [
       "('file', '.txt')"
      ]
     },
     "execution_count": 15,
     "metadata": {},
     "output_type": "execute_result"
    }
   ],
   "source": [
    "# Get file extension\n",
    "os.path.splitext('file.txt')"
   ]
  },
  {
   "cell_type": "markdown",
   "id": "b0582cf0",
   "metadata": {},
   "source": [
    "## **7. Advanced: Symbolic Links and Permissions**"
   ]
  },
  {
   "cell_type": "code",
   "execution_count": 18,
   "id": "24e0c765",
   "metadata": {},
   "outputs": [
    {
     "data": {
      "text/plain": [
       "['original.txt',\n",
       " 'platform_module_practice_final.ipynb',\n",
       " 'subprocess_module_practice.ipynb',\n",
       " 'sys_module_practice.ipynb',\n",
       " 'link.txt',\n",
       " 'os_module_practice.ipynb',\n",
       " '.ipynb_checkpoints',\n",
       " 'shutil_module_practice.ipynb',\n",
       " 'pathlib_module_practice.ipynb']"
      ]
     },
     "execution_count": 18,
     "metadata": {},
     "output_type": "execute_result"
    }
   ],
   "source": [
    "# Create a symbolic link→ a pointer/shortcut to another file/directory allowing indirect access\n",
    "with open('original.txt', 'w') as file:\n",
    "    file.write('Original File')\n",
    "os.symlink('original.txt', 'link.txt') #link.txt is a symlink to original.txt\n",
    "os.listdir('.')"
   ]
  },
  {
   "cell_type": "code",
   "execution_count": 19,
   "id": "a3decc42",
   "metadata": {},
   "outputs": [],
   "source": [
    "# Remove the symbolic link and file\n",
    "os.remove('link.txt')\n",
    "os.remove('original.txt')"
   ]
  },
  {
   "cell_type": "code",
   "execution_count": null,
   "id": "40135286",
   "metadata": {},
   "outputs": [],
   "source": [
    "# Change file permissions (make read-only)\n",
    "with open('example.txt', 'w') as file:\n",
    "    file.write('Example File')\n",
    "import stat\n",
    "os.chmod('example.txt', stat.S_IREAD)\n",
    "os.remove('example.txt')"
   ]
  },
  {
   "cell_type": "markdown",
   "id": "22e16384",
   "metadata": {},
   "source": [
    "### **8.Process Management**\n",
    "- `os.system(command)`: Executes a shell command."
   ]
  },
  {
   "cell_type": "code",
   "execution_count": 16,
   "id": "538cb068",
   "metadata": {},
   "outputs": [
    {
     "name": "stdout",
     "output_type": "stream",
     "text": [
      "total 112\n",
      "-rw-r--r--@ 1 ecemkaraman  staff  16210 24 Dec 11:14 os_module_practice.ipynb\n",
      "-rw-r--r--@ 1 ecemkaraman  staff   5293 24 Dec 10:21 pathlib_module_practice.ipynb\n",
      "-rw-r--r--@ 1 ecemkaraman  staff   4766 24 Dec 10:20 platform_module_practice_final.ipynb\n",
      "-rw-r--r--@ 1 ecemkaraman  staff   5138 24 Dec 10:25 shutil_module_practice.ipynb\n",
      "-rw-r--r--@ 1 ecemkaraman  staff   6116 24 Dec 10:02 subprocess_module_practice.ipynb\n",
      "-rw-r--r--@ 1 ecemkaraman  staff   6741 24 Dec 10:00 sys_module_practice.ipynb\n"
     ]
    },
    {
     "data": {
      "text/plain": [
       "0"
      ]
     },
     "execution_count": 16,
     "metadata": {},
     "output_type": "execute_result"
    }
   ],
   "source": [
    "os.system(\"ls -l\")"
   ]
  },
  {
   "cell_type": "code",
   "execution_count": null,
   "id": "ccd5ed98",
   "metadata": {},
   "outputs": [],
   "source": []
  }
 ],
 "metadata": {
  "kernelspec": {
   "display_name": "Python 3 (ipykernel)",
   "language": "python",
   "name": "python3"
  },
  "language_info": {
   "codemirror_mode": {
    "name": "ipython",
    "version": 3
   },
   "file_extension": ".py",
   "mimetype": "text/x-python",
   "name": "python",
   "nbconvert_exporter": "python",
   "pygments_lexer": "ipython3",
   "version": "3.11.3"
  }
 },
 "nbformat": 4,
 "nbformat_minor": 5
}
