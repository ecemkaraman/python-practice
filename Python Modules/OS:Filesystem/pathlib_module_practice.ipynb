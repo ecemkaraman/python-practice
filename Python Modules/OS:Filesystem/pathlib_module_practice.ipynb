{
 "cells": [
  {
   "cell_type": "markdown",
   "id": "9cdbdbe9",
   "metadata": {},
   "source": [
    "# **Python `pathlib` Module Practice**\n",
    "This notebook provides an overview and practice examples for the `pathlib` module in Python, which is used for object-oriented filesystem paths and operations."
   ]
  },
  {
   "cell_type": "markdown",
   "id": "42b73a04",
   "metadata": {},
   "source": [
    "## **1. Basic Setup**\n",
    "The `pathlib` module is part of Python's standard library, so no additional installation is required."
   ]
  },
  {
   "cell_type": "code",
   "execution_count": null,
   "id": "fc4d8816",
   "metadata": {},
   "outputs": [],
   "source": [
    "from pathlib import Path"
   ]
  },
  {
   "cell_type": "markdown",
   "id": "ade7211b",
   "metadata": {},
   "source": [
    "## **2. Creating Paths**"
   ]
  },
  {
   "cell_type": "code",
   "execution_count": null,
   "id": "b5e7dbeb",
   "metadata": {},
   "outputs": [],
   "source": [
    "current_path = Path('.')\n",
    "print(f\"Current Path: {current_path.resolve()}\")\n",
    "\n",
    "new_path = Path('example_directory/example_file.txt')\n",
    "print(f\"New Path: {new_path}\")"
   ]
  },
  {
   "cell_type": "markdown",
   "id": "d8c0a41c",
   "metadata": {},
   "source": [
    "## **3. Checking Path Properties**"
   ]
  },
  {
   "cell_type": "code",
   "execution_count": null,
   "id": "5c0fc79c",
   "metadata": {},
   "outputs": [],
   "source": [
    "path = Path('.')\n",
    "print(f\"Exists: {path.exists()}\")\n",
    "print(f\"Is File: {path.is_file()}\")\n",
    "print(f\"Is Directory: {path.is_dir()}\")"
   ]
  },
  {
   "cell_type": "markdown",
   "id": "b83a6462",
   "metadata": {},
   "source": [
    "## **4. Creating Directories**"
   ]
  },
  {
   "cell_type": "code",
   "execution_count": null,
   "id": "08daaade",
   "metadata": {},
   "outputs": [],
   "source": [
    "new_dir = Path('new_directory')\n",
    "new_dir.mkdir(exist_ok=True)\n",
    "print(f\"Directory Created: {new_dir}\")"
   ]
  },
  {
   "cell_type": "markdown",
   "id": "62ae6dcf",
   "metadata": {},
   "source": [
    "## **5. Creating and Writing to Files**"
   ]
  },
  {
   "cell_type": "code",
   "execution_count": null,
   "id": "2661e188",
   "metadata": {},
   "outputs": [],
   "source": [
    "file_path = Path('example_file.txt')\n",
    "file_path.write_text('Hello, pathlib!')\n",
    "print(f\"File Created: {file_path}\")"
   ]
  },
  {
   "cell_type": "markdown",
   "id": "f7054385",
   "metadata": {},
   "source": [
    "## **6. Reading from Files**"
   ]
  },
  {
   "cell_type": "code",
   "execution_count": null,
   "id": "9923aa43",
   "metadata": {},
   "outputs": [],
   "source": [
    "file_content = file_path.read_text()\n",
    "print(f\"File Content: {file_content}\")"
   ]
  },
  {
   "cell_type": "markdown",
   "id": "da0bdb3a",
   "metadata": {},
   "source": [
    "## **7. Iterating Through Directories**"
   ]
  },
  {
   "cell_type": "code",
   "execution_count": null,
   "id": "624f6c13",
   "metadata": {},
   "outputs": [],
   "source": [
    "for item in Path('.').iterdir():\n",
    "    print(item)"
   ]
  },
  {
   "cell_type": "markdown",
   "id": "2ed2d1b4",
   "metadata": {},
   "source": [
    "## **8. Using Glob Patterns**"
   ]
  },
  {
   "cell_type": "code",
   "execution_count": null,
   "id": "cc53b516",
   "metadata": {},
   "outputs": [],
   "source": [
    "for txt_file in Path('.').glob('*.txt'):\n",
    "    print(f\"Found Text File: {txt_file}\")"
   ]
  },
  {
   "cell_type": "markdown",
   "id": "11d9b893",
   "metadata": {},
   "source": [
    "## **9. Renaming and Deleting Files**"
   ]
  },
  {
   "cell_type": "code",
   "execution_count": null,
   "id": "fdb210cb",
   "metadata": {},
   "outputs": [],
   "source": [
    "renamed_file = Path('renamed_example.txt')\n",
    "file_path.rename(renamed_file)\n",
    "print(f\"File Renamed to: {renamed_file}\")\n",
    "\n",
    "# Uncomment to remove the file\n",
    "# renamed_file.unlink()\n",
    "# print(f\"File Deleted: {renamed_file}\")"
   ]
  },
  {
   "cell_type": "markdown",
   "id": "3fe94d94",
   "metadata": {},
   "source": [
    "## **10. Combining Paths**"
   ]
  },
  {
   "cell_type": "code",
   "execution_count": null,
   "id": "9d1149ea",
   "metadata": {},
   "outputs": [],
   "source": [
    "base_path = Path('base_directory')\n",
    "full_path = base_path / 'sub_directory' / 'file.txt'\n",
    "print(f\"Combined Path: {full_path}\")"
   ]
  },
  {
   "cell_type": "markdown",
   "id": "b8e19c9e",
   "metadata": {},
   "source": [
    "## **11. Practical Example: Directory Cleanup**"
   ]
  },
  {
   "cell_type": "code",
   "execution_count": null,
   "id": "965c3705",
   "metadata": {},
   "outputs": [],
   "source": [
    "def cleanup_directory(directory):\n",
    "    path = Path(directory)\n",
    "    if not path.exists():\n",
    "        print(f\"Directory {directory} does not exist.\")\n",
    "        return\n",
    "\n",
    "    for file in path.glob('*.tmp'):\n",
    "        file.unlink()\n",
    "        print(f\"Deleted Temporary File: {file}\")\n",
    "\n",
    "# Example usage:\n",
    "# cleanup_directory('.')"
   ]
  }
 ],
 "metadata": {},
 "nbformat": 4,
 "nbformat_minor": 5
}
