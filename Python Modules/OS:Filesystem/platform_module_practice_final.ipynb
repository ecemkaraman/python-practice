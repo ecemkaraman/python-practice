{
 "cells": [
  {
   "cell_type": "markdown",
   "id": "d4570d7b",
   "metadata": {},
   "source": [
    "# **Python `platform` Module Practice**\n",
    "This notebook provides an overview and practice examples for the `platform` module in Python, which is used for retrieving information about the platform (operating system, hardware, and Python version) on which the program is running."
   ]
  },
  {
   "cell_type": "markdown",
   "id": "1c19439d",
   "metadata": {},
   "source": [
    "## **1. Basic Setup**\n",
    "The `platform` module is part of Python's standard library, so no additional installation is required."
   ]
  },
  {
   "cell_type": "code",
   "execution_count": null,
   "id": "a2a64ad4",
   "metadata": {},
   "outputs": [],
   "source": [
    "import platform"
   ]
  },
  {
   "cell_type": "markdown",
   "id": "26eb4fcf",
   "metadata": {},
   "source": [
    "## **2. Checking Python Version**"
   ]
  },
  {
   "cell_type": "code",
   "execution_count": null,
   "id": "1b8f61b5",
   "metadata": {},
   "outputs": [],
   "source": [
    "print(\"Python Version:\", platform.python_version())\n",
    "print(\"Python Implementation:\", platform.python_implementation())"
   ]
  },
  {
   "cell_type": "markdown",
   "id": "8f12c394",
   "metadata": {},
   "source": [
    "## **3. Retrieving System Information**"
   ]
  },
  {
   "cell_type": "code",
   "execution_count": null,
   "id": "04c57616",
   "metadata": {},
   "outputs": [],
   "source": [
    "print(\"System:\", platform.system())\n",
    "print(\"Node:\", platform.node())\n",
    "print(\"Release:\", platform.release())\n",
    "print(\"Version:\", platform.version())\n",
    "print(\"Machine:\", platform.machine())\n",
    "print(\"Processor:\", platform.processor())"
   ]
  },
  {
   "cell_type": "markdown",
   "id": "54d81da6",
   "metadata": {},
   "source": [
    "## **4. Checking Platform Details**"
   ]
  },
  {
   "cell_type": "code",
   "execution_count": null,
   "id": "6e115a41",
   "metadata": {},
   "outputs": [],
   "source": [
    "print(\"Platform:\", platform.platform())\n",
    "print(\"Architecture:\", platform.architecture())"
   ]
  },
  {
   "cell_type": "markdown",
   "id": "695aafd0",
   "metadata": {},
   "source": [
    "## **5. Working with Aliases**"
   ]
  },
  {
   "cell_type": "code",
   "execution_count": null,
   "id": "37008ece",
   "metadata": {},
   "outputs": [],
   "source": [
    "print(\"OS Aliases:\", platform.system_alias(platform.system(), platform.release(), platform.version()))"
   ]
  },
  {
   "cell_type": "markdown",
   "id": "442b1d45",
   "metadata": {},
   "source": [
    "## **6. Checking Specific Information for Unix-like Systems**"
   ]
  },
  {
   "cell_type": "code",
   "execution_count": null,
   "id": "54356616",
   "metadata": {},
   "outputs": [],
   "source": [
    "if platform.system() == \"Linux\" or platform.system() == \"Darwin\":\n",
    "    print(\"Linux Distribution:\", platform.linux_distribution())\n",
    "    print(\"Mac Version:\", platform.mac_ver())"
   ]
  },
  {
   "cell_type": "markdown",
   "id": "b45d471b",
   "metadata": {},
   "source": [
    "## **7. Using `platform.uname`**"
   ]
  },
  {
   "cell_type": "code",
   "execution_count": null,
   "id": "cac2a2e5",
   "metadata": {},
   "outputs": [],
   "source": [
    "info = platform.uname()\n",
    "print(\"System Info:\")\n",
    "print(f\"System: {info.system}\")\n",
    "print(f\"Node Name: {info.node}\")\n",
    "print(f\"Release: {info.release}\")\n",
    "print(f\"Version: {info.version}\")\n",
    "print(f\"Machine: {info.machine}\")\n",
    "print(f\"Processor: {info.processor}\")"
   ]
  },
  {
   "cell_type": "markdown",
   "id": "c3ab1416",
   "metadata": {},
   "source": [
    "## **8. Practical Example: System Compatibility Check**"
   ]
  },
  {
   "cell_type": "code",
   "execution_count": null,
   "id": "0268cde4",
   "metadata": {},
   "outputs": [],
   "source": [
    "def check_compatibility():\n",
    "    required_system = \"Windows\"\n",
    "    required_python_version = \"3.8\"\n",
    "\n",
    "    current_system = platform.system()\n",
    "    current_python_version = platform.python_version()\n",
    "\n",
    "    if current_system != required_system:\n",
    "        print(f\"Warning: This script is designed for {required_system}, but you are using {current_system}.\")\n",
    "\n",
    "    if current_python_version < required_python_version:\n",
    "        print(f\"Warning: Python {required_python_version} or newer is required, but you are using {current_python_version}.\")\n",
    "\n",
    "    print(\"System is compatible.\")\n",
    "\n",
    "check_compatibility()"
   ]
  }
 ],
 "metadata": {},
 "nbformat": 4,
 "nbformat_minor": 5
}
