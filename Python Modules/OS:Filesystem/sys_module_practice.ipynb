{
 "cells": [
  {
   "cell_type": "markdown",
   "id": "94fd3d0f",
   "metadata": {},
   "source": [
    "# **Python `sys` Module Practice**\n",
    "This notebook provides an overview and practice examples for the `sys` module in Python, including core functionalities for interacting with the Python runtime environment."
   ]
  },
  {
   "cell_type": "markdown",
   "id": "6d96d91a",
   "metadata": {},
   "source": [
    "## **1. Basic Setup**\n",
    "Let's start by importing the `sys` module."
   ]
  },
  {
   "cell_type": "code",
   "execution_count": null,
   "id": "31427199",
   "metadata": {},
   "outputs": [],
   "source": [
    "import sys"
   ]
  },
  {
   "cell_type": "markdown",
   "id": "26784dbf",
   "metadata": {},
   "source": [
    "## **2. System Information**"
   ]
  },
  {
   "cell_type": "code",
   "execution_count": null,
   "id": "adb7b4c8",
   "metadata": {},
   "outputs": [],
   "source": [
    "# Get the Python version\n",
    "sys.version"
   ]
  },
  {
   "cell_type": "code",
   "execution_count": null,
   "id": "f250e174",
   "metadata": {},
   "outputs": [],
   "source": [
    "# Get the Python executable path\n",
    "sys.executable"
   ]
  },
  {
   "cell_type": "code",
   "execution_count": null,
   "id": "7f529168",
   "metadata": {},
   "outputs": [],
   "source": [
    "# Get platform information\n",
    "sys.platform"
   ]
  },
  {
   "cell_type": "code",
   "execution_count": null,
   "id": "1e6bbddd",
   "metadata": {},
   "outputs": [],
   "source": [
    "# Get the maximum size of integers\n",
    "sys.maxsize"
   ]
  },
  {
   "cell_type": "markdown",
   "id": "f09a22e0",
   "metadata": {},
   "source": [
    "## **3. Command-Line Arguments**"
   ]
  },
  {
   "cell_type": "code",
   "execution_count": null,
   "id": "bdb29648",
   "metadata": {},
   "outputs": [],
   "source": [
    "# Command-line arguments passed to the script\n",
    "sys.argv"
   ]
  },
  {
   "cell_type": "code",
   "execution_count": null,
   "id": "78141637",
   "metadata": {},
   "outputs": [],
   "source": [
    "# Example: Run this cell with command-line arguments to see them\n",
    "for arg in sys.argv:\n",
    "    print(arg)"
   ]
  },
  {
   "cell_type": "markdown",
   "id": "f3c7e472",
   "metadata": {},
   "source": [
    "## **4. Exit Codes**"
   ]
  },
  {
   "cell_type": "code",
   "execution_count": null,
   "id": "34ed03bf",
   "metadata": {},
   "outputs": [],
   "source": [
    "# Exit a Python script with a specific exit code\n",
    "try:\n",
    "    sys.exit(1)  # Non-zero indicates an error\n",
    "except SystemExit as e:\n",
    "    print(f'Exited with code: {e.code}')"
   ]
  },
  {
   "cell_type": "markdown",
   "id": "50c94489",
   "metadata": {},
   "source": [
    "## **5. Standard Input, Output, and Error Streams**"
   ]
  },
  {
   "cell_type": "code",
   "execution_count": null,
   "id": "3c3404d0",
   "metadata": {},
   "outputs": [],
   "source": [
    "# Redirect standard output\n",
    "import io\n",
    "old_stdout = sys.stdout\n",
    "sys.stdout = io.StringIO()\n",
    "print('This goes to the new stdout!')\n",
    "output = sys.stdout.getvalue()\n",
    "sys.stdout = old_stdout\n",
    "print('Captured output:', output)"
   ]
  },
  {
   "cell_type": "code",
   "execution_count": null,
   "id": "8f8f1320",
   "metadata": {},
   "outputs": [],
   "source": [
    "# Redirect standard error\n",
    "old_stderr = sys.stderr\n",
    "sys.stderr = io.StringIO()\n",
    "print('This is an error message!', file=sys.stderr)\n",
    "error_output = sys.stderr.getvalue()\n",
    "sys.stderr = old_stderr\n",
    "print('Captured error:', error_output)"
   ]
  },
  {
   "cell_type": "markdown",
   "id": "67d8c8eb",
   "metadata": {},
   "source": [
    "## **6. Python Path Management**"
   ]
  },
  {
   "cell_type": "code",
   "execution_count": null,
   "id": "3a780f1a",
   "metadata": {},
   "outputs": [],
   "source": [
    "# Get the list of directories in the Python module search path\n",
    "sys.path"
   ]
  },
  {
   "cell_type": "code",
   "execution_count": null,
   "id": "f49a08d5",
   "metadata": {},
   "outputs": [],
   "source": [
    "# Add a new path to the Python module search path\n",
    "sys.path.append('/path/to/custom/modules')\n",
    "print(sys.path[-1])"
   ]
  },
  {
   "cell_type": "markdown",
   "id": "f54b285e",
   "metadata": {},
   "source": [
    "## **7. Exception Handling**"
   ]
  },
  {
   "cell_type": "code",
   "execution_count": null,
   "id": "a5c0df30",
   "metadata": {},
   "outputs": [],
   "source": [
    "# Get the type, value, and traceback of the last exception\n",
    "try:\n",
    "    1 / 0\n",
    "except ZeroDivisionError:\n",
    "    exc_type, exc_value, exc_traceback = sys.exc_info()\n",
    "    print('Exception type:', exc_type)\n",
    "    print('Exception value:', exc_value)"
   ]
  },
  {
   "cell_type": "markdown",
   "id": "143208e7",
   "metadata": {},
   "source": [
    "## **8. System Recursion Limit**"
   ]
  },
  {
   "cell_type": "code",
   "execution_count": null,
   "id": "c1f545d2",
   "metadata": {},
   "outputs": [],
   "source": [
    "# Get the current recursion limit\n",
    "sys.getrecursionlimit()"
   ]
  },
  {
   "cell_type": "code",
   "execution_count": null,
   "id": "c49b9e6c",
   "metadata": {},
   "outputs": [],
   "source": [
    "# Set a new recursion limit\n",
    "sys.setrecursionlimit(2000)\n",
    "print('New recursion limit:', sys.getrecursionlimit())"
   ]
  },
  {
   "cell_type": "markdown",
   "id": "bd38ad0e",
   "metadata": {},
   "source": [
    "## **9. Advanced: Reference Count and Garbage Collection**"
   ]
  },
  {
   "cell_type": "code",
   "execution_count": null,
   "id": "0512bb38",
   "metadata": {},
   "outputs": [],
   "source": [
    "# Get the reference count of an object\n",
    "x = []\n",
    "print('Reference count:', sys.getrefcount(x))"
   ]
  },
  {
   "cell_type": "code",
   "execution_count": null,
   "id": "2d883ee9",
   "metadata": {},
   "outputs": [],
   "source": [
    "# Manually invoke garbage collection\n",
    "import gc\n",
    "gc.collect()"
   ]
  },
  {
   "cell_type": "markdown",
   "id": "12d4d159",
   "metadata": {},
   "source": [
    "## **10. Practical Example: Command-Line Utility**\n",
    "Combine `sys.argv` and `sys.exit` to create a simple command-line utility."
   ]
  },
  {
   "cell_type": "code",
   "execution_count": null,
   "id": "f969a86c",
   "metadata": {},
   "outputs": [],
   "source": [
    "if len(sys.argv) > 1:\n",
    "    print(f'Argument passed: {sys.argv[1]}')\n",
    "else:\n",
    "    print('No arguments passed!')\n",
    "    sys.exit(1)"
   ]
  }
 ],
 "metadata": {},
 "nbformat": 4,
 "nbformat_minor": 5
}
