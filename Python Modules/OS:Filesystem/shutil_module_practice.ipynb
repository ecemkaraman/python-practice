{
 "cells": [
  {
   "cell_type": "markdown",
   "id": "6ac02982",
   "metadata": {},
   "source": [
    "# **Python `shutil` Module Practice**\n",
    "This notebook provides an overview and practice examples for the `shutil` module in Python, which is used for high-level file operations, such as copying and moving files, as well as directory management."
   ]
  },
  {
   "cell_type": "markdown",
   "id": "c27a51ce",
   "metadata": {},
   "source": [
    "## **1. Basic Setup**\n",
    "The `shutil` module is part of Python's standard library, so no additional installation is required."
   ]
  },
  {
   "cell_type": "code",
   "execution_count": null,
   "id": "33192ce0",
   "metadata": {},
   "outputs": [],
   "source": [
    "import shutil\n",
    "from pathlib import Path"
   ]
  },
  {
   "cell_type": "markdown",
   "id": "86733029",
   "metadata": {},
   "source": [
    "## **2. Copying Files**"
   ]
  },
  {
   "cell_type": "code",
   "execution_count": null,
   "id": "b9c41bad",
   "metadata": {},
   "outputs": [],
   "source": [
    "source_file = Path('example_file.txt')\n",
    "source_file.write_text('This is an example file.')\n",
    "\n",
    "shutil.copy(source_file, 'copied_file.txt')\n",
    "print(f\"File copied to: copied_file.txt\")"
   ]
  },
  {
   "cell_type": "markdown",
   "id": "15925f1e",
   "metadata": {},
   "source": [
    "## **3. Copying Files with Metadata**"
   ]
  },
  {
   "cell_type": "code",
   "execution_count": null,
   "id": "92fbe4f5",
   "metadata": {},
   "outputs": [],
   "source": [
    "shutil.copy2(source_file, 'copied_with_metadata.txt')\n",
    "print(f\"File copied with metadata to: copied_with_metadata.txt\")"
   ]
  },
  {
   "cell_type": "markdown",
   "id": "1c2d8bde",
   "metadata": {},
   "source": [
    "## **4. Moving Files**"
   ]
  },
  {
   "cell_type": "code",
   "execution_count": null,
   "id": "05a226ff",
   "metadata": {},
   "outputs": [],
   "source": [
    "shutil.move('copied_file.txt', 'moved_file.txt')\n",
    "print(f\"File moved to: moved_file.txt\")"
   ]
  },
  {
   "cell_type": "markdown",
   "id": "a7d43ea7",
   "metadata": {},
   "source": [
    "## **5. Deleting Files and Directories**"
   ]
  },
  {
   "cell_type": "code",
   "execution_count": null,
   "id": "e99b10a5",
   "metadata": {},
   "outputs": [],
   "source": [
    "directory = Path('example_directory')\n",
    "directory.mkdir(exist_ok=True)\n",
    "(subdirectory := directory / 'sub_dir').mkdir()\n",
    "(subdirectory / 'file.txt').write_text('Temp file content')\n",
    "\n",
    "# Remove the directory and its contents\n",
    "shutil.rmtree(directory)\n",
    "print(f\"Directory {directory} and its contents have been deleted.\")"
   ]
  },
  {
   "cell_type": "markdown",
   "id": "eb11e5f2",
   "metadata": {},
   "source": [
    "## **6. Archiving Files**"
   ]
  },
  {
   "cell_type": "code",
   "execution_count": null,
   "id": "89c1da93",
   "metadata": {},
   "outputs": [],
   "source": [
    "archive_dir = Path('archive_example')\n",
    "archive_dir.mkdir(exist_ok=True)\n",
    "(archive_dir / 'file1.txt').write_text('Content of file 1')\n",
    "(archive_dir / 'file2.txt').write_text('Content of file 2')\n",
    "\n",
    "shutil.make_archive('archive', 'zip', archive_dir)\n",
    "print(f\"Archive created: archive.zip\")"
   ]
  },
  {
   "cell_type": "markdown",
   "id": "3220ddc2",
   "metadata": {},
   "source": [
    "## **7. Extracting Archives**"
   ]
  },
  {
   "cell_type": "code",
   "execution_count": null,
   "id": "6243b793",
   "metadata": {},
   "outputs": [],
   "source": [
    "shutil.unpack_archive('archive.zip', 'extracted_archive')\n",
    "print(f\"Archive extracted to: extracted_archive\")"
   ]
  },
  {
   "cell_type": "markdown",
   "id": "da4ee97f",
   "metadata": {},
   "source": [
    "## **8. Disk Usage**"
   ]
  },
  {
   "cell_type": "code",
   "execution_count": null,
   "id": "40484672",
   "metadata": {},
   "outputs": [],
   "source": [
    "total, used, free = shutil.disk_usage('.')\n",
    "print(f\"Total: {total // (1024 ** 3)} GB\")\n",
    "print(f\"Used: {used // (1024 ** 3)} GB\")\n",
    "print(f\"Free: {free // (1024 ** 3)} GB\")"
   ]
  },
  {
   "cell_type": "markdown",
   "id": "c6d21de5",
   "metadata": {},
   "source": [
    "## **9. Practical Example: Directory Backup**"
   ]
  },
  {
   "cell_type": "code",
   "execution_count": null,
   "id": "d319b85d",
   "metadata": {},
   "outputs": [],
   "source": [
    "def backup_directory(source_dir, backup_dir):\n",
    "    source = Path(source_dir)\n",
    "    backup = Path(backup_dir)\n",
    "    if not source.exists():\n",
    "        print(f\"Source directory {source_dir} does not exist.\")\n",
    "        return\n",
    "\n",
    "    if backup.exists():\n",
    "        shutil.rmtree(backup)\n",
    "\n",
    "    shutil.copytree(source, backup)\n",
    "    print(f\"Backup of {source_dir} created at {backup_dir}.\")\n",
    "\n",
    "# Example usage:\n",
    "# backup_directory('source_example', 'backup_example')"
   ]
  }
 ],
 "metadata": {},
 "nbformat": 4,
 "nbformat_minor": 5
}
