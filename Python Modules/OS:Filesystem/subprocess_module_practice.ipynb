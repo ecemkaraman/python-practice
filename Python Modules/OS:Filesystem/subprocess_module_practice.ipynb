{
 "cells": [
  {
   "cell_type": "markdown",
   "id": "cf05c596",
   "metadata": {},
   "source": [
    "# **Python `subprocess` Module Practice**\n",
    "This notebook provides an overview and practice examples for the `subprocess` module in Python, which allows you to spawn new processes, connect to their input/output/error pipes, and obtain return codes."
   ]
  },
  {
   "cell_type": "markdown",
   "id": "c00183a8",
   "metadata": {},
   "source": [
    "## **1. Basic Setup**\n",
    "Let's start by importing the `subprocess` module."
   ]
  },
  {
   "cell_type": "code",
   "execution_count": null,
   "id": "4a697afe",
   "metadata": {},
   "outputs": [],
   "source": [
    "import subprocess"
   ]
  },
  {
   "cell_type": "markdown",
   "id": "05e0368d",
   "metadata": {},
   "source": [
    "## **2. Running a Simple Command**"
   ]
  },
  {
   "cell_type": "code",
   "execution_count": null,
   "id": "271f5237",
   "metadata": {},
   "outputs": [],
   "source": [
    "# Run a simple shell command\n",
    "result = subprocess.run(['echo', 'Hello, World!'], capture_output=True, text=True)\n",
    "print('Output:', result.stdout)"
   ]
  },
  {
   "cell_type": "markdown",
   "id": "60d7168d",
   "metadata": {},
   "source": [
    "## **3. Capturing Command Output**"
   ]
  },
  {
   "cell_type": "code",
   "execution_count": null,
   "id": "41f0d346",
   "metadata": {},
   "outputs": [],
   "source": [
    "# Capture the output of a command\n",
    "result = subprocess.run(['ls'], capture_output=True, text=True)\n",
    "print('Output:', result.stdout)"
   ]
  },
  {
   "cell_type": "code",
   "execution_count": null,
   "id": "ebbd6996",
   "metadata": {},
   "outputs": [],
   "source": [
    "# Capture error messages (if any)\n",
    "result = subprocess.run(['ls', 'non_existent_file'], capture_output=True, text=True)\n",
    "print('Error:', result.stderr)"
   ]
  },
  {
   "cell_type": "markdown",
   "id": "5abfe434",
   "metadata": {},
   "source": [
    "## **4. Checking Command Exit Codes**"
   ]
  },
  {
   "cell_type": "code",
   "execution_count": null,
   "id": "8241ecea",
   "metadata": {},
   "outputs": [],
   "source": [
    "# Check the return code\n",
    "result = subprocess.run(['ls', 'non_existent_file'], capture_output=True, text=True)\n",
    "print('Return Code:', result.returncode)"
   ]
  },
  {
   "cell_type": "markdown",
   "id": "f7f5bdba",
   "metadata": {},
   "source": [
    "## **5. Running Commands with Pipes**"
   ]
  },
  {
   "cell_type": "code",
   "execution_count": null,
   "id": "c7b68e62",
   "metadata": {},
   "outputs": [],
   "source": [
    "# Using pipes to pass data between commands\n",
    "result = subprocess.run('echo Hello | grep H', shell=True, capture_output=True, text=True)\n",
    "print('Output:', result.stdout)"
   ]
  },
  {
   "cell_type": "markdown",
   "id": "8ac9ca12",
   "metadata": {},
   "source": [
    "## **6. Running Commands in the Background**"
   ]
  },
  {
   "cell_type": "code",
   "execution_count": null,
   "id": "6845e34f",
   "metadata": {},
   "outputs": [],
   "source": [
    "# Run a command without waiting for it to finish\n",
    "process = subprocess.Popen(['sleep', '5'])\n",
    "print('Process started. PID:', process.pid)\n",
    "process.wait()\n",
    "print('Process finished.')"
   ]
  },
  {
   "cell_type": "markdown",
   "id": "5ba5219d",
   "metadata": {},
   "source": [
    "## **7. Communicating with a Process**"
   ]
  },
  {
   "cell_type": "code",
   "execution_count": null,
   "id": "30d7511d",
   "metadata": {},
   "outputs": [],
   "source": [
    "# Send input to a process and capture its output\n",
    "process = subprocess.Popen(['cat'], stdin=subprocess.PIPE, stdout=subprocess.PIPE, text=True)\n",
    "out, _ = process.communicate(input='Hello from Python!')\n",
    "print('Output:', out)"
   ]
  },
  {
   "cell_type": "markdown",
   "id": "7b7d5079",
   "metadata": {},
   "source": [
    "## **8. Handling Timeouts**"
   ]
  },
  {
   "cell_type": "code",
   "execution_count": null,
   "id": "907a1a52",
   "metadata": {},
   "outputs": [],
   "source": [
    "# Set a timeout for a command\n",
    "try:\n",
    "    subprocess.run(['sleep', '10'], timeout=3)\n",
    "except subprocess.TimeoutExpired:\n",
    "    print('The command timed out!')"
   ]
  },
  {
   "cell_type": "markdown",
   "id": "b32a6b47",
   "metadata": {},
   "source": [
    "## **9. Using `subprocess.PIPE`**"
   ]
  },
  {
   "cell_type": "code",
   "execution_count": null,
   "id": "65201b1b",
   "metadata": {},
   "outputs": [],
   "source": [
    "# Redirect stdout and stderr\n",
    "result = subprocess.run(['ls', 'non_existent_file'], stdout=subprocess.PIPE, stderr=subprocess.PIPE, text=True)\n",
    "print('Stdout:', result.stdout)\n",
    "print('Stderr:', result.stderr)"
   ]
  },
  {
   "cell_type": "markdown",
   "id": "1ff9af38",
   "metadata": {},
   "source": [
    "## **10. Advanced: Chaining Commands**"
   ]
  },
  {
   "cell_type": "code",
   "execution_count": null,
   "id": "d443effc",
   "metadata": {},
   "outputs": [],
   "source": [
    "# Chain commands and capture their output\n",
    "process1 = subprocess.Popen(['echo', 'Hello'], stdout=subprocess.PIPE)\n",
    "process2 = subprocess.Popen(['grep', 'H'], stdin=process1.stdout, stdout=subprocess.PIPE, text=True)\n",
    "process1.stdout.close()  # Allow process1 to receive a SIGPIPE if process2 exits\n",
    "output = process2.communicate()[0]\n",
    "print('Chained Output:', output)"
   ]
  },
  {
   "cell_type": "markdown",
   "id": "f4751dc7",
   "metadata": {},
   "source": [
    "## **11. Practical Example: Running a Python Script**"
   ]
  },
  {
   "cell_type": "code",
   "execution_count": null,
   "id": "246239f9",
   "metadata": {},
   "outputs": [],
   "source": [
    "# Run another Python script using subprocess\n",
    "result = subprocess.run(['python', '-c', 'print(\"Hello from subprocess\")'], capture_output=True, text=True)\n",
    "print('Output:', result.stdout)"
   ]
  }
 ],
 "metadata": {},
 "nbformat": 4,
 "nbformat_minor": 5
}
