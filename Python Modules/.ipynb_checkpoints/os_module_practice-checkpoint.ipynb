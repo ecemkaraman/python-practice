{
 "cells": [
  {
   "cell_type": "markdown",
   "id": "56c70f78",
   "metadata": {},
   "source": [
    "# **Python `os` Module Practice**\n",
    "This notebook provides an overview and practice examples for the `os` module in Python, including core functionalities, environment management, and file system operations."
   ]
  },
  {
   "cell_type": "markdown",
   "id": "e96d241f",
   "metadata": {},
   "source": [
    "## **1. Basic Setup**\n",
    "Let's start by importing the `os` module."
   ]
  },
  {
   "cell_type": "code",
   "execution_count": null,
   "id": "7f4dda8f",
   "metadata": {},
   "outputs": [],
   "source": [
    "import os"
   ]
  },
  {
   "cell_type": "markdown",
   "id": "5c3a82f6",
   "metadata": {},
   "source": [
    "## **2. Working with Directories**"
   ]
  },
  {
   "cell_type": "code",
   "execution_count": null,
   "id": "d3e4a452",
   "metadata": {},
   "outputs": [],
   "source": [
    "# Get current working directory\n",
    "os.getcwd()"
   ]
  },
  {
   "cell_type": "code",
   "execution_count": null,
   "id": "a3b7ebeb",
   "metadata": {},
   "outputs": [],
   "source": [
    "# Change current working directory\n",
    "os.chdir('..')  # Navigate up one directory level\n",
    "os.getcwd()"
   ]
  },
  {
   "cell_type": "code",
   "execution_count": null,
   "id": "fc727239",
   "metadata": {},
   "outputs": [],
   "source": [
    "# List files and directories in the current directory\n",
    "os.listdir('.')"
   ]
  },
  {
   "cell_type": "markdown",
   "id": "88f88ffe",
   "metadata": {},
   "source": [
    "### **Creating and Removing Directories**"
   ]
  },
  {
   "cell_type": "code",
   "execution_count": null,
   "id": "2e61a64a",
   "metadata": {},
   "outputs": [],
   "source": [
    "# Create a single directory\n",
    "os.mkdir('practice_folder')\n",
    "os.listdir('.')"
   ]
  },
  {
   "cell_type": "code",
   "execution_count": null,
   "id": "2196f091",
   "metadata": {},
   "outputs": [],
   "source": [
    "# Remove the created directory\n",
    "os.rmdir('practice_folder')\n",
    "os.listdir('.')"
   ]
  },
  {
   "cell_type": "code",
   "execution_count": null,
   "id": "d96b24af",
   "metadata": {},
   "outputs": [],
   "source": [
    "# Create nested directories\n",
    "os.makedirs('parent/child/grandchild')\n",
    "os.listdir('parent')"
   ]
  },
  {
   "cell_type": "code",
   "execution_count": null,
   "id": "ae4ce05a",
   "metadata": {},
   "outputs": [],
   "source": [
    "# Remove nested directories\n",
    "os.removedirs('parent/child/grandchild')"
   ]
  },
  {
   "cell_type": "markdown",
   "id": "c56d98e9",
   "metadata": {},
   "source": [
    "## **3. Working with Files**"
   ]
  },
  {
   "cell_type": "code",
   "execution_count": null,
   "id": "89203425",
   "metadata": {},
   "outputs": [],
   "source": [
    "# Create a new file\n",
    "with open('example.txt', 'w') as file:\n",
    "    file.write('Hello, World!')\n",
    "os.listdir('.')"
   ]
  },
  {
   "cell_type": "code",
   "execution_count": null,
   "id": "38cc8bd8",
   "metadata": {},
   "outputs": [],
   "source": [
    "# Rename the file\n",
    "os.rename('example.txt', 'renamed_example.txt')\n",
    "os.listdir('.')"
   ]
  },
  {
   "cell_type": "code",
   "execution_count": null,
   "id": "1d390f37",
   "metadata": {},
   "outputs": [],
   "source": [
    "# Remove the file\n",
    "os.remove('renamed_example.txt')\n",
    "os.listdir('.')"
   ]
  },
  {
   "cell_type": "markdown",
   "id": "c36e1730",
   "metadata": {},
   "source": [
    "## **4. Environment Variables**"
   ]
  },
  {
   "cell_type": "code",
   "execution_count": null,
   "id": "66230b49",
   "metadata": {},
   "outputs": [],
   "source": [
    "# Get all environment variables\n",
    "os.environ"
   ]
  },
  {
   "cell_type": "code",
   "execution_count": null,
   "id": "914fa324",
   "metadata": {},
   "outputs": [],
   "source": [
    "# Access a specific environment variable\n",
    "os.environ.get('PATH')"
   ]
  },
  {
   "cell_type": "code",
   "execution_count": null,
   "id": "c382b435",
   "metadata": {},
   "outputs": [],
   "source": [
    "# Set a new environment variable\n",
    "os.environ['NEW_VAR'] = 'Test'\n",
    "os.environ.get('NEW_VAR')"
   ]
  },
  {
   "cell_type": "markdown",
   "id": "49095c6e",
   "metadata": {},
   "source": [
    "## **5. System Information**"
   ]
  },
  {
   "cell_type": "code",
   "execution_count": null,
   "id": "ff7ca487",
   "metadata": {},
   "outputs": [],
   "source": [
    "# Get the OS name\n",
    "os.name"
   ]
  },
  {
   "cell_type": "code",
   "execution_count": null,
   "id": "8aa52107",
   "metadata": {},
   "outputs": [],
   "source": [
    "# Get system-specific details (Unix only)\n",
    "try:\n",
    "    print(os.uname())\n",
    "except AttributeError:\n",
    "    print('os.uname() is not available on this OS.')"
   ]
  },
  {
   "cell_type": "code",
   "execution_count": null,
   "id": "a64e31ed",
   "metadata": {},
   "outputs": [],
   "source": [
    "# Get CPU count\n",
    "os.cpu_count()"
   ]
  },
  {
   "cell_type": "markdown",
   "id": "6b00ec6e",
   "metadata": {},
   "source": [
    "## **6. Using `os.path`**"
   ]
  },
  {
   "cell_type": "code",
   "execution_count": null,
   "id": "3dfd49fc",
   "metadata": {},
   "outputs": [],
   "source": [
    "# Check if a path exists\n",
    "os.path.exists('example.txt')"
   ]
  },
  {
   "cell_type": "code",
   "execution_count": null,
   "id": "e93f417c",
   "metadata": {},
   "outputs": [],
   "source": [
    "# Join paths\n",
    "os.path.join('folder', 'file.txt')"
   ]
  },
  {
   "cell_type": "code",
   "execution_count": null,
   "id": "ee001abc",
   "metadata": {},
   "outputs": [],
   "source": [
    "# Get base name and directory name\n",
    "os.path.basename('/folder/file.txt'), os.path.dirname('/folder/file.txt')"
   ]
  },
  {
   "cell_type": "code",
   "execution_count": null,
   "id": "f7ba0e13",
   "metadata": {},
   "outputs": [],
   "source": [
    "# Split path into directory and file\n",
    "os.path.split('/folder/file.txt')"
   ]
  },
  {
   "cell_type": "code",
   "execution_count": null,
   "id": "c9053703",
   "metadata": {},
   "outputs": [],
   "source": [
    "# Get file extension\n",
    "os.path.splitext('file.txt')"
   ]
  },
  {
   "cell_type": "markdown",
   "id": "b0582cf0",
   "metadata": {},
   "source": [
    "## **7. Advanced: Symbolic Links and Permissions**"
   ]
  },
  {
   "cell_type": "code",
   "execution_count": null,
   "id": "24e0c765",
   "metadata": {},
   "outputs": [],
   "source": [
    "# Create a symbolic link\n",
    "with open('original.txt', 'w') as file:\n",
    "    file.write('Original File')\n",
    "os.symlink('original.txt', 'link.txt')\n",
    "os.listdir('.')"
   ]
  },
  {
   "cell_type": "code",
   "execution_count": null,
   "id": "a3decc42",
   "metadata": {},
   "outputs": [],
   "source": [
    "# Remove the symbolic link and file\n",
    "os.remove('link.txt')\n",
    "os.remove('original.txt')"
   ]
  },
  {
   "cell_type": "code",
   "execution_count": null,
   "id": "40135286",
   "metadata": {},
   "outputs": [],
   "source": [
    "# Change file permissions (make read-only)\n",
    "with open('example.txt', 'w') as file:\n",
    "    file.write('Example File')\n",
    "import stat\n",
    "os.chmod('example.txt', stat.S_IREAD)\n",
    "os.remove('example.txt')"
   ]
  }
 ],
 "metadata": {
  "kernelspec": {
   "display_name": "Python 3 (ipykernel)",
   "language": "python",
   "name": "python3"
  },
  "language_info": {
   "codemirror_mode": {
    "name": "ipython",
    "version": 3
   },
   "file_extension": ".py",
   "mimetype": "text/x-python",
   "name": "python",
   "nbconvert_exporter": "python",
   "pygments_lexer": "ipython3",
   "version": "3.11.3"
  }
 },
 "nbformat": 4,
 "nbformat_minor": 5
}
