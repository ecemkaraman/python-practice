{
 "cells": [
  {
   "cell_type": "markdown",
   "id": "9663f372",
   "metadata": {},
   "source": [
    "# **Python `threading` Module Practice**\n",
    "This notebook provides an overview and practice examples for the `threading` module in Python, which is used for concurrent programming and running threads in parallel."
   ]
  },
  {
   "cell_type": "markdown",
   "id": "f38ad6d1",
   "metadata": {},
   "source": [
    "## **1. Basic Setup**\n",
    "The `threading` module is part of Python's standard library, so no additional installation is required."
   ]
  },
  {
   "cell_type": "code",
   "execution_count": null,
   "id": "eadbec98",
   "metadata": {},
   "outputs": [],
   "source": [
    "import threading\n",
    "import time"
   ]
  },
  {
   "cell_type": "markdown",
   "id": "128c4bf5",
   "metadata": {},
   "source": [
    "## **2. Creating and Starting Threads**"
   ]
  },
  {
   "cell_type": "code",
   "execution_count": null,
   "id": "02ab794e",
   "metadata": {},
   "outputs": [],
   "source": [
    "def print_numbers():\n",
    "    for i in range(5):\n",
    "        print(f\"Number: {i}\")\n",
    "        time.sleep(1)\n",
    "\n",
    "# Create a thread\n",
    "thread = threading.Thread(target=print_numbers)\n",
    "\n",
    "# Start the thread\n",
    "thread.start()\n",
    "\n",
    "# Wait for the thread to finish\n",
    "thread.join()"
   ]
  },
  {
   "cell_type": "markdown",
   "id": "a854119d",
   "metadata": {},
   "source": [
    "## **3. Using a Thread Class**"
   ]
  },
  {
   "cell_type": "code",
   "execution_count": null,
   "id": "85390c6e",
   "metadata": {},
   "outputs": [],
   "source": [
    "class MyThread(threading.Thread):\n",
    "    def run(self):\n",
    "        for i in range(3):\n",
    "            print(f\"Thread {self.name}: {i}\")\n",
    "            time.sleep(1)\n",
    "\n",
    "# Create and start a custom thread\n",
    "thread = MyThread()\n",
    "thread.start()\n",
    "thread.join()"
   ]
  },
  {
   "cell_type": "markdown",
   "id": "e25ccb8a",
   "metadata": {},
   "source": [
    "## **4. Daemon Threads**"
   ]
  },
  {
   "cell_type": "code",
   "execution_count": null,
   "id": "1fddb8c0",
   "metadata": {},
   "outputs": [],
   "source": [
    "# Daemon threads run in the background and terminate when the main program exits\n",
    "def background_task():\n",
    "    while True:\n",
    "        print(\"Background task running...\")\n",
    "        time.sleep(2)\n",
    "\n",
    "thread = threading.Thread(target=background_task, daemon=True)\n",
    "thread.start()\n",
    "\n",
    "# Main thread sleeps for a while\n",
    "print(\"Main thread sleeping...\")\n",
    "time.sleep(5)\n",
    "print(\"Main thread exiting...\")"
   ]
  },
  {
   "cell_type": "markdown",
   "id": "b9054c40",
   "metadata": {},
   "source": [
    "## **5. Synchronizing Threads with Locks**"
   ]
  },
  {
   "cell_type": "code",
   "execution_count": null,
   "id": "c8a94de5",
   "metadata": {},
   "outputs": [],
   "source": [
    "lock = threading.Lock()\n",
    "\n",
    "counter = 0\n",
    "\n",
    "def increment():\n",
    "    global counter\n",
    "    with lock:\n",
    "        local_counter = counter\n",
    "        local_counter += 1\n",
    "        time.sleep(0.1)\n",
    "        counter = local_counter\n",
    "        print(f\"Counter: {counter}\")\n",
    "\n",
    "threads = [threading.Thread(target=increment) for _ in range(5)]\n",
    "for t in threads:\n",
    "    t.start()\n",
    "for t in threads:\n",
    "    t.join()"
   ]
  },
  {
   "cell_type": "markdown",
   "id": "badd1f02",
   "metadata": {},
   "source": [
    "## **6. Using a Condition**"
   ]
  },
  {
   "cell_type": "code",
   "execution_count": null,
   "id": "ba503542",
   "metadata": {},
   "outputs": [],
   "source": [
    "condition = threading.Condition()\n",
    "data_ready = False\n",
    "\n",
    "def producer():\n",
    "    global data_ready\n",
    "    with condition:\n",
    "        print(\"Producing data...\")\n",
    "        time.sleep(2)\n",
    "        data_ready = True\n",
    "        condition.notify()\n",
    "\n",
    "def consumer():\n",
    "    with condition:\n",
    "        print(\"Waiting for data...\")\n",
    "        condition.wait()\n",
    "        print(\"Data consumed!\")\n",
    "\n",
    "producer_thread = threading.Thread(target=producer)\n",
    "consumer_thread = threading.Thread(target=consumer)\n",
    "producer_thread.start()\n",
    "consumer_thread.start()\n",
    "producer_thread.join()\n",
    "consumer_thread.join()"
   ]
  },
  {
   "cell_type": "markdown",
   "id": "5fbd379d",
   "metadata": {},
   "source": [
    "## **7. Thread Pooling with `concurrent.futures`**"
   ]
  },
  {
   "cell_type": "code",
   "execution_count": null,
   "id": "97e77e4e",
   "metadata": {},
   "outputs": [],
   "source": [
    "from concurrent.futures import ThreadPoolExecutor\n",
    "\n",
    "def task(name):\n",
    "    print(f\"Task {name} starting...\")\n",
    "    time.sleep(2)\n",
    "    print(f\"Task {name} finished!\")\n",
    "\n",
    "with ThreadPoolExecutor(max_workers=3) as executor:\n",
    "    for i in range(5):\n",
    "        executor.submit(task, i)"
   ]
  },
  {
   "cell_type": "markdown",
   "id": "80be0f3d",
   "metadata": {},
   "source": [
    "## **8. Practical Example: Multi-threaded Download**"
   ]
  },
  {
   "cell_type": "code",
   "execution_count": null,
   "id": "4797f89f",
   "metadata": {},
   "outputs": [],
   "source": [
    "def download_file(file_id):\n",
    "    print(f\"Downloading file {file_id}...\")\n",
    "    time.sleep(2)\n",
    "    print(f\"File {file_id} downloaded\")\n",
    "\n",
    "threads = [threading.Thread(target=download_file, args=(i,)) for i in range(1, 6)]\n",
    "\n",
    "for thread in threads:\n",
    "    thread.start()\n",
    "\n",
    "for thread in threads:\n",
    "    thread.join()"
   ]
  },
  {
   "cell_type": "markdown",
   "id": "66fab732",
   "metadata": {},
   "source": [
    "## **9. Using `threading.Event`**"
   ]
  },
  {
   "cell_type": "code",
   "execution_count": null,
   "id": "a482e61a",
   "metadata": {},
   "outputs": [],
   "source": [
    "event = threading.Event()\n",
    "\n",
    "def worker():\n",
    "    print(\"Worker waiting for event...\")\n",
    "    event.wait()\n",
    "    print(\"Worker proceeding after event!\")\n",
    "\n",
    "thread = threading.Thread(target=worker)\n",
    "thread.start()\n",
    "\n",
    "print(\"Main thread sleeping...\")\n",
    "time.sleep(3)\n",
    "print(\"Main thread setting event.\")\n",
    "event.set()\n",
    "thread.join()"
   ]
  }
 ],
 "metadata": {
  "kernelspec": {
   "display_name": "Python 3 (ipykernel)",
   "language": "python",
   "name": "python3"
  },
  "language_info": {
   "codemirror_mode": {
    "name": "ipython",
    "version": 3
   },
   "file_extension": ".py",
   "mimetype": "text/x-python",
   "name": "python",
   "nbconvert_exporter": "python",
   "pygments_lexer": "ipython3",
   "version": "3.11.3"
  }
 },
 "nbformat": 4,
 "nbformat_minor": 5
}
