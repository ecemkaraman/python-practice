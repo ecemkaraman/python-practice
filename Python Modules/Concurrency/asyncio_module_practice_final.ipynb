{
 "cells": [
  {
   "cell_type": "markdown",
   "id": "084f6036",
   "metadata": {},
   "source": [
    "# **Python `asyncio` Module Practice**\n",
    "This notebook provides an overview and practice examples for the `asyncio` module in Python, which is used for writing asynchronous programs and managing asynchronous I/O operations."
   ]
  },
  {
   "cell_type": "markdown",
   "id": "2d5a4c50",
   "metadata": {},
   "source": [
    "## **1. Basic Setup**\n",
    "The `asyncio` module is part of Python's standard library, so no additional installation is required."
   ]
  },
  {
   "cell_type": "code",
   "execution_count": null,
   "id": "c886c012",
   "metadata": {},
   "outputs": [],
   "source": [
    "import asyncio"
   ]
  },
  {
   "cell_type": "markdown",
   "id": "b97f6517",
   "metadata": {},
   "source": [
    "## **2. Creating and Running Async Functions**"
   ]
  },
  {
   "cell_type": "code",
   "execution_count": null,
   "id": "59a647ed",
   "metadata": {},
   "outputs": [],
   "source": [
    "async def say_hello():\n",
    "    print(\"Hello, World!\")\n",
    "    await asyncio.sleep(1)\n",
    "    print(\"Goodbye, World!\")\n",
    "\n",
    "# Run the async function\n",
    "asyncio.run(say_hello())"
   ]
  },
  {
   "cell_type": "markdown",
   "id": "b18e3e6f",
   "metadata": {},
   "source": [
    "## **3. Running Multiple Coroutines**"
   ]
  },
  {
   "cell_type": "code",
   "execution_count": null,
   "id": "ca735688",
   "metadata": {},
   "outputs": [],
   "source": [
    "async def task1():\n",
    "    await asyncio.sleep(1)\n",
    "    print(\"Task 1 complete\")\n",
    "\n",
    "async def task2():\n",
    "    await asyncio.sleep(2)\n",
    "    print(\"Task 2 complete\")\n",
    "\n",
    "async def main():\n",
    "    await asyncio.gather(task1(), task2())\n",
    "\n",
    "# Run multiple coroutines\n",
    "asyncio.run(main())"
   ]
  },
  {
   "cell_type": "markdown",
   "id": "33458959",
   "metadata": {},
   "source": [
    "## **4. Using `asyncio.create_task`**"
   ]
  },
  {
   "cell_type": "code",
   "execution_count": null,
   "id": "41db55a2",
   "metadata": {},
   "outputs": [],
   "source": [
    "async def task(name, delay):\n",
    "    print(f\"Task {name} started\")\n",
    "    await asyncio.sleep(delay)\n",
    "    print(f\"Task {name} finished\")\n",
    "\n",
    "async def main():\n",
    "    t1 = asyncio.create_task(task(\"A\", 2))\n",
    "    t2 = asyncio.create_task(task(\"B\", 1))\n",
    "    await t1\n",
    "    await t2\n",
    "\n",
    "asyncio.run(main())"
   ]
  },
  {
   "cell_type": "markdown",
   "id": "d615c793",
   "metadata": {},
   "source": [
    "## **5. Using `asyncio.sleep`**"
   ]
  },
  {
   "cell_type": "code",
   "execution_count": null,
   "id": "4b044c56",
   "metadata": {},
   "outputs": [],
   "source": [
    "# Pause execution for a specified time\n",
    "async def delayed_message():\n",
    "    print(\"Message will appear after 2 seconds...\")\n",
    "    await asyncio.sleep(2)\n",
    "    print(\"Message appeared!\")\n",
    "\n",
    "asyncio.run(delayed_message())"
   ]
  },
  {
   "cell_type": "markdown",
   "id": "278c0119",
   "metadata": {},
   "source": [
    "## **6. Working with Queues**"
   ]
  },
  {
   "cell_type": "code",
   "execution_count": null,
   "id": "61fe4bd0",
   "metadata": {},
   "outputs": [],
   "source": [
    "async def producer(queue):\n",
    "    for i in range(5):\n",
    "        await asyncio.sleep(1)\n",
    "        await queue.put(f\"Item {i}\")\n",
    "        print(f\"Produced: Item {i}\")\n",
    "\n",
    "async def consumer(queue):\n",
    "    while True:\n",
    "        item = await queue.get()\n",
    "        if item is None:\n",
    "            break\n",
    "        print(f\"Consumed: {item}\")\n",
    "\n",
    "async def main():\n",
    "    queue = asyncio.Queue()\n",
    "    producer_task = asyncio.create_task(producer(queue))\n",
    "    consumer_task = asyncio.create_task(consumer(queue))\n",
    "    await producer_task\n",
    "    await queue.put(None)  # Indicate end of production\n",
    "    await consumer_task\n",
    "\n",
    "asyncio.run(main())"
   ]
  },
  {
   "cell_type": "markdown",
   "id": "ec2f49e4",
   "metadata": {},
   "source": [
    "## **7. Timeout Handling with `asyncio.wait_for`**"
   ]
  },
  {
   "cell_type": "code",
   "execution_count": null,
   "id": "a6da992d",
   "metadata": {},
   "outputs": [],
   "source": [
    "async def long_running_task():\n",
    "    await asyncio.sleep(5)\n",
    "    return \"Task Complete\"\n",
    "\n",
    "async def main():\n",
    "    try:\n",
    "        result = await asyncio.wait_for(long_running_task(), timeout=2)\n",
    "        print(result)\n",
    "    except asyncio.TimeoutError:\n",
    "        print(\"Task timed out!\")\n",
    "\n",
    "asyncio.run(main())"
   ]
  },
  {
   "cell_type": "markdown",
   "id": "5127f798",
   "metadata": {},
   "source": [
    "## **8. Using `asyncio.Lock`**"
   ]
  },
  {
   "cell_type": "code",
   "execution_count": null,
   "id": "06dd23f3",
   "metadata": {},
   "outputs": [],
   "source": [
    "lock = asyncio.Lock()\n",
    "\n",
    "async def task_with_lock(name):\n",
    "    async with lock:\n",
    "        print(f\"{name} has acquired the lock\")\n",
    "        await asyncio.sleep(2)\n",
    "        print(f\"{name} has released the lock\")\n",
    "\n",
    "async def main():\n",
    "    await asyncio.gather(task_with_lock(\"Task A\"), task_with_lock(\"Task B\"))\n",
    "\n",
    "asyncio.run(main())"
   ]
  },
  {
   "cell_type": "markdown",
   "id": "83cc9788",
   "metadata": {},
   "source": [
    "## **9. Working with Streams**"
   ]
  },
  {
   "cell_type": "code",
   "execution_count": null,
   "id": "1948b4d6",
   "metadata": {},
   "outputs": [],
   "source": [
    "async def handle_echo(reader, writer):\n",
    "    data = await reader.read(100)\n",
    "    message = data.decode()\n",
    "    print(f\"Received: {message}\")\n",
    "\n",
    "    writer.write(data)\n",
    "    await writer.drain()\n",
    "    writer.close()\n",
    "\n",
    "async def main():\n",
    "    server = await asyncio.start_server(handle_echo, '127.0.0.1', 8888)\n",
    "    async with server:\n",
    "        await server.serve_forever()\n",
    "\n",
    "# Uncomment to run the server\n",
    "# asyncio.run(main())"
   ]
  },
  {
   "cell_type": "markdown",
   "id": "8e0d0641",
   "metadata": {},
   "source": [
    "## **10. Practical Example: Downloading Data Concurrently**"
   ]
  },
  {
   "cell_type": "code",
   "execution_count": null,
   "id": "0ca053f4",
   "metadata": {},
   "outputs": [],
   "source": [
    "async def download_file(file_id):\n",
    "    print(f\"Downloading file {file_id}...\")\n",
    "    await asyncio.sleep(2)  # Simulate download delay\n",
    "    print(f\"File {file_id} downloaded\")\n",
    "\n",
    "async def main():\n",
    "    await asyncio.gather(*(download_file(i) for i in range(1, 6)))\n",
    "\n",
    "asyncio.run(main())"
   ]
  }
 ],
 "metadata": {},
 "nbformat": 4,
 "nbformat_minor": 5
}
