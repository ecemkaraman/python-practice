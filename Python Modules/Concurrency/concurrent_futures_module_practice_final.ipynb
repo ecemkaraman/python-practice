{
 "cells": [
  {
   "cell_type": "markdown",
   "id": "3dbeb6e9",
   "metadata": {},
   "source": [
    "# **Python `concurrent.futures` Module Practice**\n",
    "This notebook provides an overview and practice examples for the `concurrent.futures` module in Python, which is used for managing and executing asynchronous tasks using threads or processes."
   ]
  },
  {
   "cell_type": "markdown",
   "id": "dbaf6a8e",
   "metadata": {},
   "source": [
    "## **1. Basic Setup**\n",
    "The `concurrent.futures` module is part of Python's standard library, so no additional installation is required."
   ]
  },
  {
   "cell_type": "code",
   "execution_count": null,
   "id": "d54c4c05",
   "metadata": {},
   "outputs": [],
   "source": [
    "from concurrent.futures import ThreadPoolExecutor, ProcessPoolExecutor, as_completed, Future"
   ]
  },
  {
   "cell_type": "markdown",
   "id": "07300ec8",
   "metadata": {},
   "source": [
    "## **2. Using ThreadPoolExecutor**"
   ]
  },
  {
   "cell_type": "code",
   "execution_count": null,
   "id": "45f68770",
   "metadata": {},
   "outputs": [],
   "source": [
    "def thread_task(n):\n",
    "    print(f\"Thread task {n} starting\")\n",
    "    return n * n\n",
    "\n",
    "with ThreadPoolExecutor(max_workers=3) as executor:\n",
    "    futures = [executor.submit(thread_task, i) for i in range(5)]\n",
    "    for future in as_completed(futures):\n",
    "        print(f\"Result: {future.result()}\")"
   ]
  },
  {
   "cell_type": "markdown",
   "id": "ed021068",
   "metadata": {},
   "source": [
    "## **3. Using ProcessPoolExecutor**"
   ]
  },
  {
   "cell_type": "code",
   "execution_count": null,
   "id": "e121e84a",
   "metadata": {},
   "outputs": [],
   "source": [
    "def process_task(n):\n",
    "    print(f\"Process task {n} starting\")\n",
    "    return n * n\n",
    "\n",
    "with ProcessPoolExecutor(max_workers=3) as executor:\n",
    "    futures = [executor.submit(process_task, i) for i in range(5)]\n",
    "    for future in as_completed(futures):\n",
    "        print(f\"Result: {future.result()}\")"
   ]
  },
  {
   "cell_type": "markdown",
   "id": "454ef5ac",
   "metadata": {},
   "source": [
    "## **4. Submitting Tasks with `executor.submit`**"
   ]
  },
  {
   "cell_type": "code",
   "execution_count": null,
   "id": "af747fa9",
   "metadata": {},
   "outputs": [],
   "source": [
    "def simple_task(name):\n",
    "    print(f\"Task {name} starting\")\n",
    "    return f\"Task {name} finished\"\n",
    "\n",
    "with ThreadPoolExecutor() as executor:\n",
    "    future = executor.submit(simple_task, \"A\")\n",
    "    print(f\"Result: {future.result()}\")"
   ]
  },
  {
   "cell_type": "markdown",
   "id": "61cb7ac8",
   "metadata": {},
   "source": [
    "## **5. Mapping Tasks with `executor.map`**"
   ]
  },
  {
   "cell_type": "code",
   "execution_count": null,
   "id": "8eb20961",
   "metadata": {},
   "outputs": [],
   "source": [
    "def square(n):\n",
    "    return n * n\n",
    "\n",
    "with ThreadPoolExecutor() as executor:\n",
    "    results = executor.map(square, [1, 2, 3, 4, 5])\n",
    "    print(\"Results:\", list(results))"
   ]
  },
  {
   "cell_type": "markdown",
   "id": "8dce017b",
   "metadata": {},
   "source": [
    "## **6. Cancelling Futures**"
   ]
  },
  {
   "cell_type": "code",
   "execution_count": null,
   "id": "a146e889",
   "metadata": {},
   "outputs": [],
   "source": [
    "def long_task():\n",
    "    import time\n",
    "    time.sleep(5)\n",
    "    return \"Completed\"\n",
    "\n",
    "with ThreadPoolExecutor() as executor:\n",
    "    future = executor.submit(long_task)\n",
    "    future.cancel()\n",
    "    print(f\"Cancelled: {future.cancelled()}\")"
   ]
  },
  {
   "cell_type": "markdown",
   "id": "9681afbd",
   "metadata": {},
   "source": [
    "## **7. Handling Exceptions**"
   ]
  },
  {
   "cell_type": "code",
   "execution_count": null,
   "id": "a6aaa9a5",
   "metadata": {},
   "outputs": [],
   "source": [
    "def faulty_task():\n",
    "    raise ValueError(\"Something went wrong!\")\n",
    "\n",
    "with ThreadPoolExecutor() as executor:\n",
    "    future = executor.submit(faulty_task)\n",
    "    try:\n",
    "        future.result()\n",
    "    except ValueError as e:\n",
    "        print(f\"Caught exception: {e}\")"
   ]
  },
  {
   "cell_type": "markdown",
   "id": "7cc4c850",
   "metadata": {},
   "source": [
    "## **8. Practical Example: Parallel File Processing**"
   ]
  },
  {
   "cell_type": "code",
   "execution_count": null,
   "id": "38d16cfb",
   "metadata": {},
   "outputs": [],
   "source": [
    "def process_file(file_id):\n",
    "    print(f\"Processing file {file_id}\")\n",
    "    return f\"File {file_id} processed\"\n",
    "\n",
    "with ThreadPoolExecutor() as executor:\n",
    "    file_ids = [1, 2, 3, 4, 5]\n",
    "    futures = {executor.submit(process_file, file_id): file_id for file_id in file_ids}\n",
    "\n",
    "    for future in as_completed(futures):\n",
    "        file_id = futures[future]\n",
    "        try:\n",
    "            result = future.result()\n",
    "            print(f\"Result for file {file_id}: {result}\")\n",
    "        except Exception as e:\n",
    "            print(f\"Error processing file {file_id}: {e}\")"
   ]
  }
 ],
 "metadata": {},
 "nbformat": 4,
 "nbformat_minor": 5
}
