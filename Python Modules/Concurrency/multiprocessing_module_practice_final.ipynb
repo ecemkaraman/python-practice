{
 "cells": [
  {
   "cell_type": "markdown",
   "id": "6ecd6b71",
   "metadata": {},
   "source": [
    "# **Python `multiprocessing` Module Practice**\n",
    "This notebook provides an overview and practice examples for the `multiprocessing` module in Python, which is used for creating and managing processes for parallel execution."
   ]
  },
  {
   "cell_type": "markdown",
   "id": "a9d3bb9b",
   "metadata": {},
   "source": [
    "## **1. Basic Setup**\n",
    "The `multiprocessing` module is part of Python's standard library, so no additional installation is required."
   ]
  },
  {
   "cell_type": "code",
   "execution_count": null,
   "id": "f9de42dd",
   "metadata": {},
   "outputs": [],
   "source": [
    "import multiprocessing\n",
    "import time"
   ]
  },
  {
   "cell_type": "markdown",
   "id": "5f60e1f0",
   "metadata": {},
   "source": [
    "## **2. Creating and Starting Processes**"
   ]
  },
  {
   "cell_type": "code",
   "execution_count": null,
   "id": "bd02ebf0",
   "metadata": {},
   "outputs": [],
   "source": [
    "def worker_function():\n",
    "    print(\"Worker process started\")\n",
    "    time.sleep(2)\n",
    "    print(\"Worker process finished\")\n",
    "\n",
    "process = multiprocessing.Process(target=worker_function)\n",
    "process.start()\n",
    "process.join()"
   ]
  },
  {
   "cell_type": "markdown",
   "id": "5c20f56d",
   "metadata": {},
   "source": [
    "## **3. Using a Process Class**"
   ]
  },
  {
   "cell_type": "code",
   "execution_count": null,
   "id": "6ecb746d",
   "metadata": {},
   "outputs": [],
   "source": [
    "class MyProcess(multiprocessing.Process):\n",
    "    def run(self):\n",
    "        print(f\"Process {self.name} starting\")\n",
    "        time.sleep(1)\n",
    "        print(f\"Process {self.name} finished\")\n",
    "\n",
    "process = MyProcess()\n",
    "process.start()\n",
    "process.join()"
   ]
  },
  {
   "cell_type": "markdown",
   "id": "053e7af4",
   "metadata": {},
   "source": [
    "## **4. Sharing Data Between Processes**"
   ]
  },
  {
   "cell_type": "code",
   "execution_count": null,
   "id": "f901d102",
   "metadata": {},
   "outputs": [],
   "source": [
    "def worker(shared_list):\n",
    "    for i in range(5):\n",
    "        shared_list.append(i)\n",
    "        print(f\"Added {i} to list\")\n",
    "        time.sleep(1)\n",
    "\n",
    "if __name__ == '__main__':\n",
    "    manager = multiprocessing.Manager()\n",
    "    shared_list = manager.list()\n",
    "\n",
    "    process = multiprocessing.Process(target=worker, args=(shared_list,))\n",
    "    process.start()\n",
    "    process.join()\n",
    "\n",
    "    print(f\"Final list: {list(shared_list)}\")"
   ]
  },
  {
   "cell_type": "markdown",
   "id": "2d71be09",
   "metadata": {},
   "source": [
    "## **5. Using a Pool of Workers**"
   ]
  },
  {
   "cell_type": "code",
   "execution_count": null,
   "id": "fd5ad1df",
   "metadata": {},
   "outputs": [],
   "source": [
    "def square(n):\n",
    "    return n * n\n",
    "\n",
    "if __name__ == '__main__':\n",
    "    with multiprocessing.Pool(4) as pool:\n",
    "        numbers = [1, 2, 3, 4, 5]\n",
    "        results = pool.map(square, numbers)\n",
    "        print(f\"Squared results: {results}\")"
   ]
  },
  {
   "cell_type": "markdown",
   "id": "719c096b",
   "metadata": {},
   "source": [
    "## **6. Using Queues**"
   ]
  },
  {
   "cell_type": "code",
   "execution_count": null,
   "id": "70827a9a",
   "metadata": {},
   "outputs": [],
   "source": [
    "def producer(queue):\n",
    "    for i in range(5):\n",
    "        print(f\"Producing {i}\")\n",
    "        queue.put(i)\n",
    "        time.sleep(1)\n",
    "\n",
    "def consumer(queue):\n",
    "    while not queue.empty():\n",
    "        item = queue.get()\n",
    "        print(f\"Consumed {item}\")\n",
    "\n",
    "if __name__ == '__main__':\n",
    "    queue = multiprocessing.Queue()\n",
    "    producer_process = multiprocessing.Process(target=producer, args=(queue,))\n",
    "    producer_process.start()\n",
    "    producer_process.join()\n",
    "    consumer_process = multiprocessing.Process(target=consumer, args=(queue,))\n",
    "    consumer_process.start()\n",
    "    consumer_process.join()"
   ]
  },
  {
   "cell_type": "markdown",
   "id": "2a117dd7",
   "metadata": {},
   "source": [
    "## **7. Using Locks for Synchronization**"
   ]
  },
  {
   "cell_type": "code",
   "execution_count": null,
   "id": "a1d98d88",
   "metadata": {},
   "outputs": [],
   "source": [
    "def worker_with_lock(lock, shared_resource):\n",
    "    with lock:\n",
    "        for i in range(5):\n",
    "            shared_resource.value += 1\n",
    "            print(f\"Incremented to {shared_resource.value}\")\n",
    "            time.sleep(0.5)\n",
    "\n",
    "if __name__ == '__main__':\n",
    "    lock = multiprocessing.Lock()\n",
    "    shared_resource = multiprocessing.Value('i', 0)\n",
    "\n",
    "    processes = [multiprocessing.Process(target=worker_with_lock, args=(lock, shared_resource)) for _ in range(2)]\n",
    "    for p in processes:\n",
    "        p.start()\n",
    "    for p in processes:\n",
    "        p.join()"
   ]
  },
  {
   "cell_type": "markdown",
   "id": "7368b70b",
   "metadata": {},
   "source": [
    "## **8. Practical Example: Parallel File Processing**"
   ]
  },
  {
   "cell_type": "code",
   "execution_count": null,
   "id": "96832378",
   "metadata": {},
   "outputs": [],
   "source": [
    "def process_file(file_id):\n",
    "    print(f\"Processing file {file_id}...\")\n",
    "    time.sleep(2)\n",
    "    print(f\"File {file_id} processed\")\n",
    "\n",
    "if __name__ == '__main__':\n",
    "    file_ids = [1, 2, 3, 4, 5]\n",
    "    processes = [multiprocessing.Process(target=process_file, args=(file_id,)) for file_id in file_ids]\n",
    "\n",
    "    for process in processes:\n",
    "        process.start()\n",
    "\n",
    "    for process in processes:\n",
    "        process.join()"
   ]
  }
 ],
 "metadata": {},
 "nbformat": 4,
 "nbformat_minor": 5
}
