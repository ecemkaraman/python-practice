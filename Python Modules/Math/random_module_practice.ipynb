{
 "cells": [
  {
   "cell_type": "markdown",
   "id": "9bb881f5",
   "metadata": {},
   "source": [
    "# **Python `random` Module Practice**\n",
    "This notebook provides an overview and practice examples for the `random` module in Python, which is used for generating random numbers and making random selections."
   ]
  },
  {
   "cell_type": "markdown",
   "id": "60fe906a",
   "metadata": {},
   "source": [
    "## **1. Basic Setup**\n",
    "The `random` module is part of Python's standard library, so no additional installation is required."
   ]
  },
  {
   "cell_type": "code",
   "execution_count": null,
   "id": "165f3c75",
   "metadata": {},
   "outputs": [],
   "source": [
    "import random"
   ]
  },
  {
   "cell_type": "markdown",
   "id": "6a8160ab",
   "metadata": {},
   "source": [
    "## **2. Generating Random Numbers**"
   ]
  },
  {
   "cell_type": "code",
   "execution_count": null,
   "id": "826a3fd6",
   "metadata": {},
   "outputs": [],
   "source": [
    "print(f\"Random float between 0 and 1: {random.random()}\")\n",
    "print(f\"Random integer between 1 and 10: {random.randint(1, 10)}\")\n",
    "print(f\"Random float between 1.5 and 5.5: {random.uniform(1.5, 5.5)}\")"
   ]
  },
  {
   "cell_type": "markdown",
   "id": "a1fccbd0",
   "metadata": {},
   "source": [
    "## **3. Random Choices from Sequences**"
   ]
  },
  {
   "cell_type": "code",
   "execution_count": null,
   "id": "53cfdbcc",
   "metadata": {},
   "outputs": [],
   "source": [
    "items = ['apple', 'banana', 'cherry', 'date']\n",
    "print(f\"Random choice: {random.choice(items)}\")\n",
    "print(f\"Random sample of 2 items: {random.sample(items, 2)}\")\n",
    "random.shuffle(items)\n",
    "print(f\"Shuffled list: {items}\")"
   ]
  },
  {
   "cell_type": "markdown",
   "id": "981dc3c7",
   "metadata": {},
   "source": [
    "## **4. Using `random.seed`**"
   ]
  },
  {
   "cell_type": "code",
   "execution_count": null,
   "id": "41152962",
   "metadata": {},
   "outputs": [],
   "source": [
    "random.seed(42)\n",
    "print(f\"Random number with seed 42: {random.random()}\")\n",
    "random.seed(42)\n",
    "print(f\"Reproduced random number with seed 42: {random.random()}\")"
   ]
  },
  {
   "cell_type": "markdown",
   "id": "a919c3dc",
   "metadata": {},
   "source": [
    "## **5. Distributions**"
   ]
  },
  {
   "cell_type": "code",
   "execution_count": null,
   "id": "9150d698",
   "metadata": {},
   "outputs": [],
   "source": [
    "print(f\"Random number from normal distribution (mean=0, std=1): {random.gauss(0, 1)}\")\n",
    "print(f\"Random number from exponential distribution (lambda=1): {random.expovariate(1)}\")\n",
    "print(f\"Random number from uniform distribution (0, 1): {random.uniform(0, 1)}\")"
   ]
  },
  {
   "cell_type": "markdown",
   "id": "f7a5edb6",
   "metadata": {},
   "source": [
    "## **6. Practical Example: Simulating a Dice Roll**"
   ]
  },
  {
   "cell_type": "code",
   "execution_count": null,
   "id": "505e362a",
   "metadata": {},
   "outputs": [],
   "source": [
    "def roll_dice():\n",
    "    return random.randint(1, 6)\n",
    "\n",
    "print(f\"Rolling the dice: {roll_dice()}\")"
   ]
  },
  {
   "cell_type": "markdown",
   "id": "5c0749aa",
   "metadata": {},
   "source": [
    "## **7. Practical Example: Random Password Generator**"
   ]
  },
  {
   "cell_type": "code",
   "execution_count": null,
   "id": "91162cc9",
   "metadata": {},
   "outputs": [],
   "source": [
    "import string\n",
    "\n",
    "def generate_password(length=8):\n",
    "    characters = string.ascii_letters + string.digits + string.punctuation\n",
    "    return ''.join(random.choice(characters) for _ in range(length))\n",
    "\n",
    "print(f\"Generated password: {generate_password(12)}\")"
   ]
  },
  {
   "cell_type": "markdown",
   "id": "da9f5e84",
   "metadata": {},
   "source": [
    "## **8. Practical Example: Simulating a Coin Toss**"
   ]
  },
  {
   "cell_type": "code",
   "execution_count": null,
   "id": "b5c4e7d5",
   "metadata": {},
   "outputs": [],
   "source": [
    "def coin_toss():\n",
    "    return random.choice(['Heads', 'Tails'])\n",
    "\n",
    "print(f\"Coin toss result: {coin_toss()}\")"
   ]
  },
  {
   "cell_type": "markdown",
   "id": "6f2799d4",
   "metadata": {},
   "source": [
    "## **9. Practical Example: Monte Carlo Simulation**"
   ]
  },
  {
   "cell_type": "code",
   "execution_count": null,
   "id": "82419380",
   "metadata": {},
   "outputs": [],
   "source": [
    "def monte_carlo_pi(num_samples):\n",
    "    inside_circle = 0\n",
    "    for _ in range(num_samples):\n",
    "        x, y = random.random(), random.random()\n",
    "        if x**2 + y**2 <= 1:\n",
    "            inside_circle += 1\n",
    "    return (inside_circle / num_samples) * 4\n",
    "\n",
    "print(f\"Approximation of Pi using 10,000 samples: {monte_carlo_pi(10000)}\")"
   ]
  }
 ],
 "metadata": {},
 "nbformat": 4,
 "nbformat_minor": 5
}
