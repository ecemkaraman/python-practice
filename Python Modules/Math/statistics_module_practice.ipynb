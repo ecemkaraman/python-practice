{
 "cells": [
  {
   "cell_type": "markdown",
   "id": "7ac8c3d6",
   "metadata": {},
   "source": [
    "# **Python `statistics` Module Practice**\n",
    "This notebook provides an overview and practice examples for the `statistics` module in Python, which is used for performing statistical calculations on numerical data."
   ]
  },
  {
   "cell_type": "markdown",
   "id": "ca9a0091",
   "metadata": {},
   "source": [
    "## **1. Basic Setup**\n",
    "The `statistics` module is part of Python's standard library, so no additional installation is required."
   ]
  },
  {
   "cell_type": "code",
   "execution_count": null,
   "id": "08aad08e",
   "metadata": {},
   "outputs": [],
   "source": [
    "import statistics"
   ]
  },
  {
   "cell_type": "markdown",
   "id": "05cb7f98",
   "metadata": {},
   "source": [
    "## **2. Calculating Measures of Central Tendency**"
   ]
  },
  {
   "cell_type": "code",
   "execution_count": null,
   "id": "06499e30",
   "metadata": {},
   "outputs": [],
   "source": [
    "data = [1, 2, 3, 4, 5, 6, 7, 8, 9]\n",
    "print(f\"Mean: {statistics.mean(data)}\")\n",
    "print(f\"Median: {statistics.median(data)}\")\n",
    "print(f\"Mode: {statistics.mode([1, 1, 2, 3])}\")"
   ]
  },
  {
   "cell_type": "markdown",
   "id": "39aa10ef",
   "metadata": {},
   "source": [
    "## **3. Calculating Measures of Spread**"
   ]
  },
  {
   "cell_type": "code",
   "execution_count": null,
   "id": "e415f6a3",
   "metadata": {},
   "outputs": [],
   "source": [
    "print(f\"Variance: {statistics.variance(data)}\")\n",
    "print(f\"Standard Deviation: {statistics.stdev(data)}\")"
   ]
  },
  {
   "cell_type": "markdown",
   "id": "2598de0a",
   "metadata": {},
   "source": [
    "## **4. Calculating Median Low and High**"
   ]
  },
  {
   "cell_type": "code",
   "execution_count": null,
   "id": "c09bab3a",
   "metadata": {},
   "outputs": [],
   "source": [
    "print(f\"Median Low: {statistics.median_low(data)}\")\n",
    "print(f\"Median High: {statistics.median_high(data)}\")"
   ]
  },
  {
   "cell_type": "markdown",
   "id": "b1aff5ee",
   "metadata": {},
   "source": [
    "## **5. Calculating Harmonic Mean**"
   ]
  },
  {
   "cell_type": "code",
   "execution_count": null,
   "id": "8cb64064",
   "metadata": {},
   "outputs": [],
   "source": [
    "print(f\"Harmonic Mean: {statistics.harmonic_mean(data)}\")"
   ]
  },
  {
   "cell_type": "markdown",
   "id": "7f80f584",
   "metadata": {},
   "source": [
    "## **6. Grouped Frequency Data**"
   ]
  },
  {
   "cell_type": "code",
   "execution_count": null,
   "id": "26873a08",
   "metadata": {},
   "outputs": [],
   "source": [
    "data_with_frequency = [1, 2, 2, 3, 3, 3, 4, 4, 4, 4]\n",
    "print(f\"Mean of grouped data: {statistics.mean(data_with_frequency)}\")\n",
    "print(f\"Mode of grouped data: {statistics.mode(data_with_frequency)}\")"
   ]
  },
  {
   "cell_type": "markdown",
   "id": "2e6d2d7b",
   "metadata": {},
   "source": [
    "## **7. Practical Example: Grade Analysis**"
   ]
  },
  {
   "cell_type": "code",
   "execution_count": null,
   "id": "da7cba06",
   "metadata": {},
   "outputs": [],
   "source": [
    "grades = [88, 76, 92, 85, 69, 90]\n",
    "print(f\"Mean grade: {statistics.mean(grades)}\")\n",
    "print(f\"Median grade: {statistics.median(grades)}\")\n",
    "print(f\"Standard Deviation of grades: {statistics.stdev(grades)}\")"
   ]
  },
  {
   "cell_type": "markdown",
   "id": "ecd70c9e",
   "metadata": {},
   "source": [
    "## **8. Practical Example: Investment Analysis**"
   ]
  },
  {
   "cell_type": "code",
   "execution_count": null,
   "id": "f2667a1c",
   "metadata": {},
   "outputs": [],
   "source": [
    "returns = [0.05, 0.1, -0.02, 0.03, 0.07]\n",
    "print(f\"Mean return: {statistics.mean(returns)}\")\n",
    "print(f\"Standard Deviation of returns: {statistics.stdev(returns)}\")"
   ]
  },
  {
   "cell_type": "markdown",
   "id": "035f8b28",
   "metadata": {},
   "source": [
    "## **9. Practical Example: Fitness Tracker Data**"
   ]
  },
  {
   "cell_type": "code",
   "execution_count": null,
   "id": "96450c2c",
   "metadata": {},
   "outputs": [],
   "source": [
    "steps = [8000, 8500, 7800, 9100, 8900, 9200, 8700]\n",
    "print(f\"Mean steps: {statistics.mean(steps)}\")\n",
    "print(f\"Median steps: {statistics.median(steps)}\")\n",
    "print(f\"Variance in steps: {statistics.variance(steps)}\")"
   ]
  },
  {
   "cell_type": "markdown",
   "id": "808efc5f",
   "metadata": {},
   "source": [
    "## **10. Handling Edge Cases**"
   ]
  },
  {
   "cell_type": "code",
   "execution_count": null,
   "id": "e0df7d4a",
   "metadata": {},
   "outputs": [],
   "source": [
    "single_data_point = [5]\n",
    "print(f\"Mean of single data point: {statistics.mean(single_data_point)}\")\n",
    "print(f\"Median of single data point: {statistics.median(single_data_point)}\")"
   ]
  }
 ],
 "metadata": {},
 "nbformat": 4,
 "nbformat_minor": 5
}
