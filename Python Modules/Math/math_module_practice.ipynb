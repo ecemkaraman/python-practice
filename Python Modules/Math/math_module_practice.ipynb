{
 "cells": [
  {
   "cell_type": "markdown",
   "id": "651170e5",
   "metadata": {},
   "source": [
    "# **Python `math` Module Practice**\n",
    "This notebook provides an overview and practice examples for the `math` module in Python, which provides mathematical functions and constants."
   ]
  },
  {
   "cell_type": "markdown",
   "id": "b9868a65",
   "metadata": {},
   "source": [
    "## **1. Basic Setup**\n",
    "The `math` module is part of Python's standard library, so no additional installation is required."
   ]
  },
  {
   "cell_type": "code",
   "execution_count": null,
   "id": "0823262a",
   "metadata": {},
   "outputs": [],
   "source": [
    "import math"
   ]
  },
  {
   "cell_type": "markdown",
   "id": "1e190735",
   "metadata": {},
   "source": [
    "## **2. Mathematical Constants**"
   ]
  },
  {
   "cell_type": "code",
   "execution_count": null,
   "id": "107ec06c",
   "metadata": {},
   "outputs": [],
   "source": [
    "print(f\"Pi: {math.pi}\")\n",
    "print(f\"Euler's Number (e): {math.e}\")\n",
    "print(f\"Tau: {math.tau}\")\n",
    "print(f\"Infinity: {math.inf}\")\n",
    "print(f\"NaN: {math.nan}\")"
   ]
  },
  {
   "cell_type": "markdown",
   "id": "94d07712",
   "metadata": {},
   "source": [
    "## **3. Basic Arithmetic Functions**"
   ]
  },
  {
   "cell_type": "code",
   "execution_count": null,
   "id": "34c16b48",
   "metadata": {},
   "outputs": [],
   "source": [
    "print(f\"Floor of 2.9: {math.floor(2.9)}\")\n",
    "print(f\"Ceil of 2.1: {math.ceil(2.1)}\")\n",
    "print(f\"Absolute Value of -5: {math.fabs(-5)}\")\n",
    "print(f\"Factorial of 5: {math.factorial(5)}\")"
   ]
  },
  {
   "cell_type": "markdown",
   "id": "583a5a20",
   "metadata": {},
   "source": [
    "## **4. Power and Logarithmic Functions**"
   ]
  },
  {
   "cell_type": "code",
   "execution_count": null,
   "id": "b3f537e9",
   "metadata": {},
   "outputs": [],
   "source": [
    "print(f\"2 raised to the power 3: {math.pow(2, 3)}\")\n",
    "print(f\"Square root of 16: {math.sqrt(16)}\")\n",
    "print(f\"Natural log of e: {math.log(math.e)}\")\n",
    "print(f\"Log base 10 of 1000: {math.log10(1000)}\")\n",
    "print(f\"Log base 2 of 8: {math.log2(8)}\")"
   ]
  },
  {
   "cell_type": "markdown",
   "id": "0c964bf2",
   "metadata": {},
   "source": [
    "## **5. Trigonometric Functions**"
   ]
  },
  {
   "cell_type": "code",
   "execution_count": null,
   "id": "74e9c5bd",
   "metadata": {},
   "outputs": [],
   "source": [
    "angle = math.radians(45)\n",
    "print(f\"Sine of 45 degrees: {math.sin(angle)}\")\n",
    "print(f\"Cosine of 45 degrees: {math.cos(angle)}\")\n",
    "print(f\"Tangent of 45 degrees: {math.tan(angle)}\")\n",
    "print(f\"Inverse Sine of 0.707: {math.degrees(math.asin(0.707))}\")"
   ]
  },
  {
   "cell_type": "markdown",
   "id": "d2a820f0",
   "metadata": {},
   "source": [
    "## **6. Hyperbolic Functions**"
   ]
  },
  {
   "cell_type": "code",
   "execution_count": null,
   "id": "95546a04",
   "metadata": {},
   "outputs": [],
   "source": [
    "print(f\"Hyperbolic Sine of 1: {math.sinh(1)}\")\n",
    "print(f\"Hyperbolic Cosine of 1: {math.cosh(1)}\")\n",
    "print(f\"Hyperbolic Tangent of 1: {math.tanh(1)}\")"
   ]
  },
  {
   "cell_type": "markdown",
   "id": "1d4e49f4",
   "metadata": {},
   "source": [
    "## **7. Special Functions**"
   ]
  },
  {
   "cell_type": "code",
   "execution_count": null,
   "id": "28b688ab",
   "metadata": {},
   "outputs": [],
   "source": [
    "print(f\"Gamma of 5: {math.gamma(5)}\")\n",
    "print(f\"Natural Log of Gamma for 5: {math.lgamma(5)}\")"
   ]
  },
  {
   "cell_type": "markdown",
   "id": "11c4913f",
   "metadata": {},
   "source": [
    "## **8. Practical Example: Circle Calculations**"
   ]
  },
  {
   "cell_type": "code",
   "execution_count": null,
   "id": "e93a29b0",
   "metadata": {},
   "outputs": [],
   "source": [
    "def circle_area(radius):\n",
    "    return math.pi * math.pow(radius, 2)\n",
    "\n",
    "def circle_circumference(radius):\n",
    "    return 2 * math.pi * radius\n",
    "\n",
    "radius = 5\n",
    "print(f\"Area of a circle with radius {radius}: {circle_area(radius)}\")\n",
    "print(f\"Circumference of a circle with radius {radius}: {circle_circumference(radius)}\")"
   ]
  },
  {
   "cell_type": "markdown",
   "id": "2eafa52d",
   "metadata": {},
   "source": [
    "## **9. Practical Example: Right Triangle Solver**"
   ]
  },
  {
   "cell_type": "code",
   "execution_count": null,
   "id": "72fea332",
   "metadata": {},
   "outputs": [],
   "source": [
    "def hypotenuse(a, b):\n",
    "    return math.sqrt(math.pow(a, 2) + math.pow(b, 2))\n",
    "\n",
    "a, b = 3, 4\n",
    "print(f\"Hypotenuse of a right triangle with sides {a} and {b}: {hypotenuse(a, b)}\")"
   ]
  }
 ],
 "metadata": {},
 "nbformat": 4,
 "nbformat_minor": 5
}
