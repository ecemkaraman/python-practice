{
 "cells": [
  {
   "cell_type": "markdown",
   "id": "52bb374e",
   "metadata": {},
   "source": [
    "# **Python `decimal` Module Practice**\n",
    "This notebook provides an overview and practice examples for the `decimal` module in Python, which is used for performing precise decimal floating-point arithmetic."
   ]
  },
  {
   "cell_type": "markdown",
   "id": "6bd28ee8",
   "metadata": {},
   "source": [
    "## **1. Basic Setup**\n",
    "The `decimal` module is part of Python's standard library, so no additional installation is required."
   ]
  },
  {
   "cell_type": "code",
   "execution_count": null,
   "id": "f15e290f",
   "metadata": {},
   "outputs": [],
   "source": [
    "from decimal import Decimal, getcontext, Context"
   ]
  },
  {
   "cell_type": "markdown",
   "id": "9d26da67",
   "metadata": {},
   "source": [
    "## **2. Creating Decimal Numbers**"
   ]
  },
  {
   "cell_type": "code",
   "execution_count": null,
   "id": "a4a2c1b3",
   "metadata": {},
   "outputs": [],
   "source": [
    "a = Decimal('0.1')\n",
    "b = Decimal('0.2')\n",
    "print(f\"Decimal a: {a}\")\n",
    "print(f\"Decimal b: {b}\")\n",
    "print(f\"Sum of a and b: {a + b}\")"
   ]
  },
  {
   "cell_type": "markdown",
   "id": "2170f08f",
   "metadata": {},
   "source": [
    "## **3. Controlling Precision**"
   ]
  },
  {
   "cell_type": "code",
   "execution_count": null,
   "id": "809f2662",
   "metadata": {},
   "outputs": [],
   "source": [
    "getcontext().prec = 4\n",
    "x = Decimal('1.12345') / Decimal('3.1')\n",
    "print(f\"Result with precision 4: {x}\")\n",
    "\n",
    "getcontext().prec = 8\n",
    "y = Decimal('1.12345') / Decimal('3.1')\n",
    "print(f\"Result with precision 8: {y}\")"
   ]
  },
  {
   "cell_type": "markdown",
   "id": "db40f613",
   "metadata": {},
   "source": [
    "## **4. Rounding Options**"
   ]
  },
  {
   "cell_type": "code",
   "execution_count": null,
   "id": "a7a233c9",
   "metadata": {},
   "outputs": [],
   "source": [
    "from decimal import ROUND_HALF_UP, ROUND_DOWN\n",
    "\n",
    "num = Decimal('1.2345')\n",
    "rounded_up = num.quantize(Decimal('0.01'), rounding=ROUND_HALF_UP)\n",
    "rounded_down = num.quantize(Decimal('0.01'), rounding=ROUND_DOWN)\n",
    "print(f\"Rounded (HALF_UP): {rounded_up}\")\n",
    "print(f\"Rounded (DOWN): {rounded_down}\")"
   ]
  },
  {
   "cell_type": "markdown",
   "id": "5571ac34",
   "metadata": {},
   "source": [
    "## **5. Comparing Decimal Numbers**"
   ]
  },
  {
   "cell_type": "code",
   "execution_count": null,
   "id": "3c19788a",
   "metadata": {},
   "outputs": [],
   "source": [
    "d1 = Decimal('1.100')\n",
    "d2 = Decimal('1.1')\n",
    "print(f\"Are d1 and d2 equal? {d1 == d2}\")\n",
    "print(f\"Comparison (d1 < d2): {d1 < d2}\")"
   ]
  },
  {
   "cell_type": "markdown",
   "id": "ba5da59a",
   "metadata": {},
   "source": [
    "## **6. Contexts for Custom Precision**"
   ]
  },
  {
   "cell_type": "code",
   "execution_count": null,
   "id": "3b368a29",
   "metadata": {},
   "outputs": [],
   "source": [
    "custom_context = Context(prec=6)\n",
    "with custom_context:\n",
    "    result = Decimal('1.23456789') / Decimal('3.1')\n",
    "    print(f\"Result with custom context: {result}\")"
   ]
  },
  {
   "cell_type": "markdown",
   "id": "034d926d",
   "metadata": {},
   "source": [
    "## **7. Practical Example: Accurate Financial Calculations**"
   ]
  },
  {
   "cell_type": "code",
   "execution_count": null,
   "id": "5180975b",
   "metadata": {},
   "outputs": [],
   "source": [
    "price = Decimal('19.99')\n",
    "quantity = Decimal('3')\n",
    "subtotal = price * quantity\n",
    "print(f\"Subtotal: {subtotal}\")\n",
    "\n",
    "sales_tax_rate = Decimal('0.075')\n",
    "sales_tax = subtotal * sales_tax_rate\n",
    "print(f\"Sales Tax: {sales_tax.quantize(Decimal('0.01'))}\")\n",
    "\n",
    "total = subtotal + sales_tax.quantize(Decimal('0.01'))\n",
    "print(f\"Total: {total}\")"
   ]
  },
  {
   "cell_type": "markdown",
   "id": "4e389ded",
   "metadata": {},
   "source": [
    "## **8. Practical Example: Calculating Compound Interest**"
   ]
  },
  {
   "cell_type": "code",
   "execution_count": null,
   "id": "df78a973",
   "metadata": {},
   "outputs": [],
   "source": [
    "principal = Decimal('1000.00')\n",
    "rate = Decimal('0.05')\n",
    "num_years = 5\n",
    "\n",
    "amount = principal * ((Decimal('1') + rate) ** num_years)\n",
    "print(f\"Compound Interest Amount after {num_years} years: {amount.quantize(Decimal('0.01'))}\")"
   ]
  },
  {
   "cell_type": "markdown",
   "id": "e2928ce6",
   "metadata": {},
   "source": [
    "## **9. Handling Edge Cases**"
   ]
  },
  {
   "cell_type": "code",
   "execution_count": null,
   "id": "4a77b464",
   "metadata": {},
   "outputs": [],
   "source": [
    "infinity = Decimal('Infinity')\n",
    "nan = Decimal('NaN')\n",
    "print(f\"Is Infinity finite? {infinity.is_finite()}\")\n",
    "print(f\"Is NaN a number? {nan.is_nan()}\")"
   ]
  }
 ],
 "metadata": {},
 "nbformat": 4,
 "nbformat_minor": 5
}
