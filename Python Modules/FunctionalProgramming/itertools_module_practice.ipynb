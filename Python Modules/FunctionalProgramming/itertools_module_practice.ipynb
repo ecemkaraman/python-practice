{
 "cells": [
  {
   "cell_type": "markdown",
   "id": "393da43f",
   "metadata": {},
   "source": [
    "# **Python `itertools` Module Practice**\n",
    "This notebook provides an overview and practice examples for the `itertools` module in Python, which is used for efficient looping and combinatorial operations."
   ]
  },
  {
   "cell_type": "markdown",
   "id": "d23e3961",
   "metadata": {},
   "source": [
    "## **1. Basic Setup**\n",
    "The `itertools` module is part of Python's standard library, so no additional installation is required."
   ]
  },
  {
   "cell_type": "code",
   "execution_count": null,
   "id": "6f11f554",
   "metadata": {},
   "outputs": [],
   "source": [
    "import itertools"
   ]
  },
  {
   "cell_type": "markdown",
   "id": "5f0e706e",
   "metadata": {},
   "source": [
    "## **2. Using `itertools.count`**"
   ]
  },
  {
   "cell_type": "code",
   "execution_count": null,
   "id": "cf2aa188",
   "metadata": {},
   "outputs": [],
   "source": [
    "counter = itertools.count(start=10, step=2)\n",
    "print(next(counter))\n",
    "print(next(counter))\n",
    "print(next(counter))"
   ]
  },
  {
   "cell_type": "markdown",
   "id": "d9625395",
   "metadata": {},
   "source": [
    "## **3. Using `itertools.cycle`**"
   ]
  },
  {
   "cell_type": "code",
   "execution_count": null,
   "id": "fb74f8cb",
   "metadata": {},
   "outputs": [],
   "source": [
    "cycler = itertools.cycle(['A', 'B', 'C'])\n",
    "print(next(cycler))\n",
    "print(next(cycler))\n",
    "print(next(cycler))\n",
    "print(next(cycler))"
   ]
  },
  {
   "cell_type": "markdown",
   "id": "ce817170",
   "metadata": {},
   "source": [
    "## **4. Using `itertools.repeat`**"
   ]
  },
  {
   "cell_type": "code",
   "execution_count": null,
   "id": "5d6a24fb",
   "metadata": {},
   "outputs": [],
   "source": [
    "repeater = itertools.repeat('Python', times=3)\n",
    "for item in repeater:\n",
    "    print(item)"
   ]
  },
  {
   "cell_type": "markdown",
   "id": "d9633d54",
   "metadata": {},
   "source": [
    "## **5. Using `itertools.permutations`**"
   ]
  },
  {
   "cell_type": "code",
   "execution_count": null,
   "id": "f8ef3b8c",
   "metadata": {},
   "outputs": [],
   "source": [
    "data = [1, 2, 3]\n",
    "for perm in itertools.permutations(data):\n",
    "    print(perm)"
   ]
  },
  {
   "cell_type": "markdown",
   "id": "a521fd14",
   "metadata": {},
   "source": [
    "## **6. Using `itertools.combinations`**"
   ]
  },
  {
   "cell_type": "code",
   "execution_count": null,
   "id": "b10baeaf",
   "metadata": {},
   "outputs": [],
   "source": [
    "data = [1, 2, 3]\n",
    "for comb in itertools.combinations(data, 2):\n",
    "    print(comb)"
   ]
  },
  {
   "cell_type": "markdown",
   "id": "74f99694",
   "metadata": {},
   "source": [
    "## **7. Using `itertools.product`**"
   ]
  },
  {
   "cell_type": "code",
   "execution_count": null,
   "id": "093e9b65",
   "metadata": {},
   "outputs": [],
   "source": [
    "data = [0, 1]\n",
    "for prod in itertools.product(data, repeat=3):\n",
    "    print(prod)"
   ]
  },
  {
   "cell_type": "markdown",
   "id": "f0b6c240",
   "metadata": {},
   "source": [
    "## **8. Using `itertools.chain`**"
   ]
  },
  {
   "cell_type": "code",
   "execution_count": null,
   "id": "c662ec1f",
   "metadata": {},
   "outputs": [],
   "source": [
    "list1 = [1, 2, 3]\n",
    "list2 = ['A', 'B', 'C']\n",
    "for item in itertools.chain(list1, list2):\n",
    "    print(item)"
   ]
  },
  {
   "cell_type": "markdown",
   "id": "1cae5db0",
   "metadata": {},
   "source": [
    "## **9. Using `itertools.groupby`**"
   ]
  },
  {
   "cell_type": "code",
   "execution_count": null,
   "id": "ecf390af",
   "metadata": {},
   "outputs": [],
   "source": [
    "data = [1, 1, 2, 2, 3, 3, 4]\n",
    "for key, group in itertools.groupby(data):\n",
    "    print(f\"Key: {key}, Group: {list(group)}\")"
   ]
  },
  {
   "cell_type": "markdown",
   "id": "f20917ba",
   "metadata": {},
   "source": [
    "## **10. Using `itertools.islice`**"
   ]
  },
  {
   "cell_type": "code",
   "execution_count": null,
   "id": "8d0e45d1",
   "metadata": {},
   "outputs": [],
   "source": [
    "data = range(10)\n",
    "for item in itertools.islice(data, 2, 8, 2):\n",
    "    print(item)"
   ]
  },
  {
   "cell_type": "markdown",
   "id": "98ddcdfa",
   "metadata": {},
   "source": [
    "## **11. Practical Example: Generating All Possible Pins**"
   ]
  },
  {
   "cell_type": "code",
   "execution_count": null,
   "id": "8f9c3455",
   "metadata": {},
   "outputs": [],
   "source": [
    "digits = '0123456789'\n",
    "for pin in itertools.product(digits, repeat=4):\n",
    "    print(''.join(pin))"
   ]
  }
 ],
 "metadata": {},
 "nbformat": 4,
 "nbformat_minor": 5
}
