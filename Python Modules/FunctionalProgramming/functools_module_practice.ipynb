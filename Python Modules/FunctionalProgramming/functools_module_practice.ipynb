{
 "cells": [
  {
   "cell_type": "markdown",
   "id": "c591fb0c",
   "metadata": {},
   "source": [
    "# **Python `functools` Module Practice**\n",
    "This notebook provides an overview and practice examples for the `functools` module in Python, which is used for higher-order functions and operations on callable objects."
   ]
  },
  {
   "cell_type": "markdown",
   "id": "67c9b6d1",
   "metadata": {},
   "source": [
    "## **1. Basic Setup**\n",
    "The `functools` module is part of Python's standard library, so no additional installation is required."
   ]
  },
  {
   "cell_type": "code",
   "execution_count": null,
   "id": "927f6b8e",
   "metadata": {},
   "outputs": [],
   "source": [
    "import functools"
   ]
  },
  {
   "cell_type": "markdown",
   "id": "20919110",
   "metadata": {},
   "source": [
    "## **2. Using `functools.reduce`**"
   ]
  },
  {
   "cell_type": "code",
   "execution_count": null,
   "id": "766cd581",
   "metadata": {},
   "outputs": [],
   "source": [
    "from functools import reduce\n",
    "\n",
    "def multiply(x, y):\n",
    "    return x * y\n",
    "\n",
    "numbers = [1, 2, 3, 4]\n",
    "result = reduce(multiply, numbers)\n",
    "print(f\"Product of numbers: {result}\")"
   ]
  },
  {
   "cell_type": "markdown",
   "id": "81cb9166",
   "metadata": {},
   "source": [
    "## **3. Using `functools.partial`**"
   ]
  },
  {
   "cell_type": "code",
   "execution_count": null,
   "id": "f5c450dc",
   "metadata": {},
   "outputs": [],
   "source": [
    "from functools import partial\n",
    "\n",
    "def power(base, exponent):\n",
    "    return base ** exponent\n",
    "\n",
    "square = partial(power, exponent=2)\n",
    "cube = partial(power, exponent=3)\n",
    "\n",
    "print(f\"Square of 4: {square(4)}\")\n",
    "print(f\"Cube of 3: {cube(3)}\")"
   ]
  },
  {
   "cell_type": "markdown",
   "id": "ff0145ab",
   "metadata": {},
   "source": [
    "## **4. Using `functools.lru_cache`**"
   ]
  },
  {
   "cell_type": "code",
   "execution_count": null,
   "id": "d328dcfb",
   "metadata": {},
   "outputs": [],
   "source": [
    "from functools import lru_cache\n",
    "import time\n",
    "\n",
    "@lru_cache(maxsize=4)\n",
    "def slow_function(n):\n",
    "    time.sleep(2)\n",
    "    return n * n\n",
    "\n",
    "print(\"First call: \", slow_function(2))\n",
    "print(\"Cached call: \", slow_function(2))\n",
    "print(\"New call: \", slow_function(3))"
   ]
  },
  {
   "cell_type": "markdown",
   "id": "a4841a8e",
   "metadata": {},
   "source": [
    "## **5. Using `functools.singledispatch`**"
   ]
  },
  {
   "cell_type": "code",
   "execution_count": null,
   "id": "6468d4ef",
   "metadata": {},
   "outputs": [],
   "source": [
    "from functools import singledispatch\n",
    "\n",
    "@singledispatch\n",
    "def process(data):\n",
    "    print(f\"Processing {data} as a generic type\")\n",
    "\n",
    "@process.register\n",
    "def _(data: int):\n",
    "    print(f\"Processing {data} as an integer\")\n",
    "\n",
    "@process.register\n",
    "def _(data: str):\n",
    "    print(f\"Processing '{data}' as a string\")\n",
    "\n",
    "process(10)\n",
    "process(\"Hello\")\n",
    "process([1, 2, 3])"
   ]
  },
  {
   "cell_type": "markdown",
   "id": "e2446bd0",
   "metadata": {},
   "source": [
    "## **6. Using `functools.wraps`**"
   ]
  },
  {
   "cell_type": "code",
   "execution_count": null,
   "id": "0ef5eac3",
   "metadata": {},
   "outputs": [],
   "source": [
    "from functools import wraps\n",
    "\n",
    "def my_decorator(func):\n",
    "    @wraps(func)\n",
    "    def wrapper(*args, **kwargs):\n",
    "        print(\"Wrapper function\")\n",
    "        return func(*args, **kwargs)\n",
    "    return wrapper\n",
    "\n",
    "@my_decorator\n",
    "def my_function():\n",
    "    \"\"\"This is my function\"\"\"\n",
    "    print(\"My function executed\")\n",
    "\n",
    "my_function()\n",
    "print(f\"Function name: {my_function.__name__}\")\n",
    "print(f\"Function docstring: {my_function.__doc__}\")"
   ]
  },
  {
   "cell_type": "markdown",
   "id": "252602fb",
   "metadata": {},
   "source": [
    "## **7. Practical Example: Memoization with `lru_cache`**"
   ]
  },
  {
   "cell_type": "code",
   "execution_count": null,
   "id": "4044c4c7",
   "metadata": {},
   "outputs": [],
   "source": [
    "from functools import lru_cache\n",
    "\n",
    "@lru_cache(maxsize=128)\n",
    "def fibonacci(n):\n",
    "    if n <= 1:\n",
    "        return n\n",
    "    return fibonacci(n - 1) + fibonacci(n - 2)\n",
    "\n",
    "print(\"Fibonacci(10):\", fibonacci(10))\n",
    "print(\"Fibonacci(15):\", fibonacci(15))"
   ]
  }
 ],
 "metadata": {},
 "nbformat": 4,
 "nbformat_minor": 5
}
