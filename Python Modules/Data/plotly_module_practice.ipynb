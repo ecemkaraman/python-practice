{
 "cells": [
  {
   "cell_type": "markdown",
   "id": "852d56b6",
   "metadata": {},
   "source": [
    "# **Python `plotly` Module Practice**\n",
    "This notebook provides an overview and practice examples for the `plotly` module, a Python library for creating interactive and visually appealing plots and dashboards."
   ]
  },
  {
   "cell_type": "markdown",
   "id": "32b9328c",
   "metadata": {},
   "source": [
    "## **1. Installing Plotly**\n",
    "Ensure Plotly is installed using:\n",
    "```bash\n",
    "pip install plotly\n",
    "```\n",
    "\n",
    "Import the necessary modules:"
   ]
  },
  {
   "cell_type": "code",
   "execution_count": null,
   "id": "c2a41578",
   "metadata": {},
   "outputs": [],
   "source": [
    "import plotly.graph_objects as go\n",
    "from plotly.subplots import make_subplots"
   ]
  },
  {
   "cell_type": "markdown",
   "id": "e327ae08",
   "metadata": {},
   "source": [
    "## **2. Creating a Basic Line Plot**\n",
    "Plotly provides a simple way to create interactive line plots using `go.Figure`."
   ]
  },
  {
   "cell_type": "code",
   "execution_count": null,
   "id": "b593ad6f",
   "metadata": {},
   "outputs": [],
   "source": [
    "fig = go.Figure()\n",
    "fig.add_trace(go.Scatter(x=[1, 2, 3, 4], y=[10, 20, 15, 25], mode='lines', name='Line'))\n",
    "fig.update_layout(title='Basic Line Plot', xaxis_title='X Axis', yaxis_title='Y Axis')\n",
    "fig.show()"
   ]
  },
  {
   "cell_type": "markdown",
   "id": "f34815e7",
   "metadata": {},
   "source": [
    "## **3. Creating a Bar Chart**\n",
    "Create a bar chart using `go.Bar` for categorical comparisons."
   ]
  },
  {
   "cell_type": "code",
   "execution_count": null,
   "id": "db3ea6a5",
   "metadata": {},
   "outputs": [],
   "source": [
    "fig = go.Figure()\n",
    "fig.add_trace(go.Bar(x=['A', 'B', 'C'], y=[10, 15, 20], name='Category'))\n",
    "fig.update_layout(title='Bar Chart', xaxis_title='Categories', yaxis_title='Values')\n",
    "fig.show()"
   ]
  },
  {
   "cell_type": "markdown",
   "id": "9cedbace",
   "metadata": {},
   "source": [
    "## **4. Creating a Pie Chart**\n",
    "Visualize proportions using a pie chart with `go.Pie`."
   ]
  },
  {
   "cell_type": "code",
   "execution_count": null,
   "id": "764a229c",
   "metadata": {},
   "outputs": [],
   "source": [
    "fig = go.Figure()\n",
    "fig.add_trace(go.Pie(labels=['A', 'B', 'C'], values=[30, 50, 20]))\n",
    "fig.update_layout(title='Pie Chart')\n",
    "fig.show()"
   ]
  },
  {
   "cell_type": "markdown",
   "id": "fe27e637",
   "metadata": {},
   "source": [
    "## **5. Creating 3D Plots**\n",
    "Plotly allows creating 3D plots for visualizing data in three dimensions."
   ]
  },
  {
   "cell_type": "code",
   "execution_count": null,
   "id": "564d587a",
   "metadata": {},
   "outputs": [],
   "source": [
    "fig = go.Figure()\n",
    "fig.add_trace(go.Scatter3d(\n",
    "    x=[1, 2, 3], y=[4, 5, 6], z=[7, 8, 9],\n",
    "    mode='markers',\n",
    "    marker=dict(size=5, color=[10, 20, 30], colorscale='Viridis')\n",
    "))\n",
    "fig.update_layout(title='3D Scatter Plot')\n",
    "fig.show()"
   ]
  },
  {
   "cell_type": "markdown",
   "id": "3a7f962a",
   "metadata": {},
   "source": [
    "## **6. Subplots and Multiple Axes**\n",
    "Create complex layouts with multiple subplots and shared or independent axes."
   ]
  },
  {
   "cell_type": "code",
   "execution_count": null,
   "id": "a6912c03",
   "metadata": {},
   "outputs": [],
   "source": [
    "fig = make_subplots(rows=1, cols=2, subplot_titles=('Plot 1', 'Plot 2'))\n",
    "fig.add_trace(go.Scatter(x=[1, 2, 3], y=[4, 5, 6], mode='lines', name='Line 1'), row=1, col=1)\n",
    "fig.add_trace(go.Bar(x=['A', 'B', 'C'], y=[7, 8, 9], name='Bar 1'), row=1, col=2)\n",
    "fig.update_layout(title='Subplots Example')\n",
    "fig.show()"
   ]
  },
  {
   "cell_type": "markdown",
   "id": "a2d8ac53",
   "metadata": {},
   "source": [
    "## **7. Customizing Plots**\n",
    "Customize plot aesthetics like colors, titles, and markers."
   ]
  },
  {
   "cell_type": "code",
   "execution_count": null,
   "id": "1eb6d2d1",
   "metadata": {},
   "outputs": [],
   "source": [
    "fig = go.Figure()\n",
    "fig.add_trace(go.Scatter(x=[1, 2, 3], y=[10, 15, 20], mode='markers',\n",
    "                         marker=dict(size=10, color='red', symbol='circle')))\n",
    "fig.update_layout(title='Customized Plot', xaxis_title='X Axis', yaxis_title='Y Axis')\n",
    "fig.show()"
   ]
  },
  {
   "cell_type": "markdown",
   "id": "3c289242",
   "metadata": {},
   "source": [
    "## **8. Interactive Dashboards**\n",
    "Combine multiple plots into a single interactive dashboard."
   ]
  },
  {
   "cell_type": "code",
   "execution_count": null,
   "id": "1fdbe343",
   "metadata": {},
   "outputs": [],
   "source": [
    "fig = make_subplots(rows=2, cols=1, subplot_titles=('Line Plot', 'Bar Chart'))\n",
    "fig.add_trace(go.Scatter(x=[1, 2, 3], y=[10, 20, 15], mode='lines', name='Line'), row=1, col=1)\n",
    "fig.add_trace(go.Bar(x=['A', 'B', 'C'], y=[5, 10, 15], name='Bar'), row=2, col=1)\n",
    "fig.update_layout(title='Interactive Dashboard')\n",
    "fig.show()"
   ]
  },
  {
   "cell_type": "markdown",
   "id": "adeb7116",
   "metadata": {},
   "source": [
    "## **9. Exporting Plots**\n",
    "Save plots as images or HTML files for sharing or embedding."
   ]
  },
  {
   "cell_type": "code",
   "execution_count": null,
   "id": "a71294dd",
   "metadata": {},
   "outputs": [],
   "source": [
    "# Save plot to an HTML file\n",
    "fig = go.Figure()\n",
    "fig.add_trace(go.Scatter(x=[1, 2, 3], y=[10, 20, 30], mode='lines', name='Line'))\n",
    "fig.write_html('plotly_plot.html')\n",
    "print(\"Plot saved as HTML.\")"
   ]
  },
  {
   "cell_type": "markdown",
   "id": "b73e1709",
   "metadata": {},
   "source": [
    "## **10. Practical Example: Time Series Visualization**\n",
    "Create a time series plot to visualize trends over time."
   ]
  },
  {
   "cell_type": "code",
   "execution_count": null,
   "id": "d525f5bc",
   "metadata": {},
   "outputs": [],
   "source": [
    "import pandas as pd\n",
    "\n",
    "# Generate sample time series data\n",
    "date_range = pd.date_range(start='2023-01-01', periods=10, freq='D')\n",
    "values = [10, 15, 20, 25, 20, 15, 10, 12, 18, 25]\n",
    "time_series_data = pd.DataFrame({'Date': date_range, 'Value': values})\n",
    "\n",
    "fig = go.Figure()\n",
    "fig.add_trace(go.Scatter(x=time_series_data['Date'], y=time_series_data['Value'], mode='lines+markers', name='Value'))\n",
    "fig.update_layout(title='Time Series Plot', xaxis_title='Date', yaxis_title='Value')\n",
    "fig.show()"
   ]
  }
 ],
 "metadata": {},
 "nbformat": 4,
 "nbformat_minor": 5
}
