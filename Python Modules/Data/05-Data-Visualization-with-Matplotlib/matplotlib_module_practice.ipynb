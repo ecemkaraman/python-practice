{
 "cells": [
  {
   "cell_type": "markdown",
   "id": "30853168",
   "metadata": {},
   "source": [
    "# **Python `matplotlib` Module Practice**\n",
    "This notebook provides an overview and practice examples for the `matplotlib` module, a comprehensive library for creating static, animated, and interactive visualizations in Python."
   ]
  },
  {
   "cell_type": "markdown",
   "id": "e32bbfe0",
   "metadata": {},
   "source": [
    "## **1. Installing Matplotlib**\n",
    "Ensure Matplotlib is installed using:\n",
    "```bash\n",
    "pip install matplotlib\n",
    "```\n",
    "\n",
    "Import the necessary modules:"
   ]
  },
  {
   "cell_type": "code",
   "execution_count": null,
   "id": "3940e7b9",
   "metadata": {},
   "outputs": [],
   "source": [
    "import matplotlib.pyplot as plt\n",
    "import numpy as np"
   ]
  },
  {
   "cell_type": "markdown",
   "id": "0b61a70d",
   "metadata": {},
   "source": [
    "## **2. Creating a Simple Line Plot**\n",
    "Use `plt.plot` to create a basic line plot."
   ]
  },
  {
   "cell_type": "code",
   "execution_count": null,
   "id": "25efe842",
   "metadata": {},
   "outputs": [],
   "source": [
    "x = np.linspace(0, 10, 100)\n",
    "y = np.sin(x)\n",
    "\n",
    "plt.plot(x, y, label='Sine Wave')\n",
    "plt.title('Simple Line Plot')\n",
    "plt.xlabel('X Axis')\n",
    "plt.ylabel('Y Axis')\n",
    "plt.legend()\n",
    "plt.show()"
   ]
  },
  {
   "cell_type": "markdown",
   "id": "658bd1ee",
   "metadata": {},
   "source": [
    "## **3. Customizing Plots**\n",
    "Modify plot styles with line types, markers, and colors."
   ]
  },
  {
   "cell_type": "code",
   "execution_count": null,
   "id": "96aad901",
   "metadata": {},
   "outputs": [],
   "source": [
    "plt.plot(x, y, color='red', linestyle='--', marker='o', label='Customized Line')\n",
    "plt.title('Customized Line Plot')\n",
    "plt.xlabel('X Axis')\n",
    "plt.ylabel('Y Axis')\n",
    "plt.legend()\n",
    "plt.show()"
   ]
  },
  {
   "cell_type": "markdown",
   "id": "aeee837b",
   "metadata": {},
   "source": [
    "## **4. Subplots**\n",
    "Create multiple plots in a single figure using `plt.subplot` or `plt.subplots`."
   ]
  },
  {
   "cell_type": "code",
   "execution_count": null,
   "id": "e525f344",
   "metadata": {},
   "outputs": [],
   "source": [
    "fig, ax = plt.subplots(2, 1, figsize=(8, 6))\n",
    "ax[0].plot(x, np.sin(x), label='Sine')\n",
    "ax[0].set_title('Sine Wave')\n",
    "ax[0].legend()\n",
    "\n",
    "ax[1].plot(x, np.cos(x), color='green', label='Cosine')\n",
    "ax[1].set_title('Cosine Wave')\n",
    "ax[1].legend()\n",
    "\n",
    "plt.tight_layout()\n",
    "plt.show()"
   ]
  },
  {
   "cell_type": "markdown",
   "id": "325a56ef",
   "metadata": {},
   "source": [
    "## **5. Scatter Plot**\n",
    "Create a scatter plot using `plt.scatter`."
   ]
  },
  {
   "cell_type": "code",
   "execution_count": null,
   "id": "6eb5b659",
   "metadata": {},
   "outputs": [],
   "source": [
    "x = np.random.rand(50)\n",
    "y = np.random.rand(50)\n",
    "sizes = np.random.rand(50) * 100\n",
    "\n",
    "plt.scatter(x, y, s=sizes, c='blue', alpha=0.5, label='Points')\n",
    "plt.title('Scatter Plot')\n",
    "plt.xlabel('X Axis')\n",
    "plt.ylabel('Y Axis')\n",
    "plt.legend()\n",
    "plt.show()"
   ]
  },
  {
   "cell_type": "markdown",
   "id": "8dc665cb",
   "metadata": {},
   "source": [
    "## **6. Bar Chart**\n",
    "Create a bar chart using `plt.bar`. Add error bars for more detail."
   ]
  },
  {
   "cell_type": "code",
   "execution_count": null,
   "id": "fd7552d5",
   "metadata": {},
   "outputs": [],
   "source": [
    "categories = ['A', 'B', 'C', 'D']\n",
    "values = [5, 7, 3, 8]\n",
    "errors = [0.5, 0.7, 0.3, 0.8]\n",
    "\n",
    "plt.bar(categories, values, yerr=errors, color='purple', alpha=0.7, label='Bars')\n",
    "plt.title('Bar Chart')\n",
    "plt.xlabel('Categories')\n",
    "plt.ylabel('Values')\n",
    "plt.legend()\n",
    "plt.show()"
   ]
  },
  {
   "cell_type": "markdown",
   "id": "3236954f",
   "metadata": {},
   "source": [
    "## **7. Histogram**\n",
    "Visualize data distributions using `plt.hist`."
   ]
  },
  {
   "cell_type": "code",
   "execution_count": null,
   "id": "03b5e1de",
   "metadata": {},
   "outputs": [],
   "source": [
    "data = np.random.randn(1000)\n",
    "\n",
    "plt.hist(data, bins=30, color='orange', edgecolor='black', alpha=0.75)\n",
    "plt.title('Histogram')\n",
    "plt.xlabel('Value')\n",
    "plt.ylabel('Frequency')\n",
    "plt.show()"
   ]
  },
  {
   "cell_type": "markdown",
   "id": "39d4d53a",
   "metadata": {},
   "source": [
    "## **8. Pie Chart**\n",
    "Display proportions with `plt.pie`. Add a legend for clarity."
   ]
  },
  {
   "cell_type": "code",
   "execution_count": null,
   "id": "11af6074",
   "metadata": {},
   "outputs": [],
   "source": [
    "labels = ['A', 'B', 'C', 'D']\n",
    "sizes = [15, 30, 45, 10]\n",
    "\n",
    "plt.pie(sizes, labels=labels, autopct='%1.1f%%', startangle=90, colors=['red', 'blue', 'green', 'yellow'])\n",
    "plt.title('Pie Chart')\n",
    "plt.show()"
   ]
  },
  {
   "cell_type": "markdown",
   "id": "dc05debd",
   "metadata": {},
   "source": [
    "## **9. Saving Figures**\n",
    "Save plots as images using `plt.savefig`."
   ]
  },
  {
   "cell_type": "code",
   "execution_count": null,
   "id": "29422e3f",
   "metadata": {},
   "outputs": [],
   "source": [
    "plt.plot(x, y, label='Sine Wave')\n",
    "plt.title('Save Figure Example')\n",
    "plt.xlabel('X Axis')\n",
    "plt.ylabel('Y Axis')\n",
    "plt.legend()\n",
    "plt.savefig('sine_wave_plot.png')\n",
    "print('Figure saved as sine_wave_plot.png.')"
   ]
  },
  {
   "cell_type": "markdown",
   "id": "a000528e",
   "metadata": {},
   "source": [
    "## **10. Practical Example: Time Series Plot**\n",
    "Visualize trends over time using dates and values."
   ]
  },
  {
   "cell_type": "code",
   "execution_count": null,
   "id": "f7962c5a",
   "metadata": {},
   "outputs": [],
   "source": [
    "import pandas as pd\n",
    "\n",
    "# Generate sample data\n",
    "dates = pd.date_range(start='2023-01-01', periods=100)\n",
    "values = np.cumsum(np.random.randn(100))\n",
    "\n",
    "plt.plot(dates, values, label='Cumulative Sum')\n",
    "plt.title('Time Series Plot')\n",
    "plt.xlabel('Date')\n",
    "plt.ylabel('Value')\n",
    "plt.xticks(rotation=45)\n",
    "plt.legend()\n",
    "plt.tight_layout()\n",
    "plt.show()"
   ]
  }
 ],
 "metadata": {},
 "nbformat": 4,
 "nbformat_minor": 5
}
