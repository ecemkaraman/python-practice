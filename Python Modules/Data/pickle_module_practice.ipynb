{
 "cells": [
  {
   "cell_type": "markdown",
   "id": "68cd684d",
   "metadata": {},
   "source": [
    "# **Python `pickle` Module Practice**\n",
    "This notebook provides an overview and practice examples for the `pickle` module, a standard library for serializing and deserializing Python objects."
   ]
  },
  {
   "cell_type": "markdown",
   "id": "ec3f204c",
   "metadata": {},
   "source": [
    "## **1. Introduction to Pickle**\n",
    "The `pickle` module is used to serialize (convert to byte stream) and deserialize (convert back to Python object) Python objects.\n",
    "\n",
    "**Note:** Avoid using `pickle` with untrusted data, as it can execute arbitrary code."
   ]
  },
  {
   "cell_type": "markdown",
   "id": "ac5c144e",
   "metadata": {},
   "source": [
    "## **2. Importing the Pickle Module**"
   ]
  },
  {
   "cell_type": "code",
   "execution_count": null,
   "id": "6cb83a95",
   "metadata": {},
   "outputs": [],
   "source": [
    "import pickle"
   ]
  },
  {
   "cell_type": "markdown",
   "id": "e2719f29",
   "metadata": {},
   "source": [
    "## **3. Serializing (Pickling) Data**\n",
    "Use `pickle.dump` to serialize an object and save it to a file."
   ]
  },
  {
   "cell_type": "code",
   "execution_count": null,
   "id": "8c71131b",
   "metadata": {},
   "outputs": [],
   "source": [
    "# Create a Python object\n",
    "data = {'Name': 'Alice', 'Age': 25, 'City': 'New York'}\n",
    "\n",
    "# Serialize the object to a file\n",
    "with open('data.pkl', 'wb') as file:\n",
    "    pickle.dump(data, file)\n",
    "\n",
    "print(\"Data serialized and saved to 'data.pkl'.\")"
   ]
  },
  {
   "cell_type": "markdown",
   "id": "23321a5e",
   "metadata": {},
   "source": [
    "## **4. Deserializing (Unpickling) Data**\n",
    "Use `pickle.load` to deserialize data from a file."
   ]
  },
  {
   "cell_type": "code",
   "execution_count": null,
   "id": "3a219d2b",
   "metadata": {},
   "outputs": [],
   "source": [
    "# Deserialize the object from the file\n",
    "with open('data.pkl', 'rb') as file:\n",
    "    loaded_data = pickle.load(file)\n",
    "\n",
    "print(\"Deserialized data:\")\n",
    "print(loaded_data)"
   ]
  },
  {
   "cell_type": "markdown",
   "id": "358be6c8",
   "metadata": {},
   "source": [
    "## **5. Serializing to a Byte Stream**\n",
    "Use `pickle.dumps` to serialize an object into a byte stream instead of saving to a file."
   ]
  },
  {
   "cell_type": "code",
   "execution_count": null,
   "id": "eba418bf",
   "metadata": {},
   "outputs": [],
   "source": [
    "# Serialize the object to a byte stream\n",
    "byte_stream = pickle.dumps(data)\n",
    "print(f\"Serialized byte stream: {byte_stream}\")"
   ]
  },
  {
   "cell_type": "markdown",
   "id": "e82ff2bd",
   "metadata": {},
   "source": [
    "## **6. Deserializing from a Byte Stream**\n",
    "Use `pickle.loads` to deserialize an object from a byte stream."
   ]
  },
  {
   "cell_type": "code",
   "execution_count": null,
   "id": "708128e3",
   "metadata": {},
   "outputs": [],
   "source": [
    "# Deserialize the object from the byte stream\n",
    "deserialized_data = pickle.loads(byte_stream)\n",
    "print(\"Deserialized data:\")\n",
    "print(deserialized_data)"
   ]
  },
  {
   "cell_type": "markdown",
   "id": "d326dfd3",
   "metadata": {},
   "source": [
    "## **7. Pickling Custom Objects**\n",
    "You can serialize custom Python objects, such as instances of user-defined classes."
   ]
  },
  {
   "cell_type": "code",
   "execution_count": null,
   "id": "7b352e74",
   "metadata": {},
   "outputs": [],
   "source": [
    "# Define a custom class\n",
    "class Person:\n",
    "    def __init__(self, name, age):\n",
    "        self.name = name\n",
    "        self.age = age\n",
    "\n",
    "    def __repr__(self):\n",
    "        return f\"Person(name={self.name}, age={self.age})\"\n",
    "\n",
    "# Create an instance of the class\n",
    "person = Person('Bob', 30)\n",
    "\n",
    "# Serialize the object\n",
    "with open('person.pkl', 'wb') as file:\n",
    "    pickle.dump(person, file)\n",
    "\n",
    "# Deserialize the object\n",
    "with open('person.pkl', 'rb') as file:\n",
    "    loaded_person = pickle.load(file)\n",
    "\n",
    "print(\"Deserialized custom object:\")\n",
    "print(loaded_person)"
   ]
  },
  {
   "cell_type": "markdown",
   "id": "7de861ca",
   "metadata": {},
   "source": [
    "## **8. Pickling and Unpickling Large Data Structures**\n",
    "The `pickle` module supports serializing large data structures, such as nested dictionaries and lists."
   ]
  },
  {
   "cell_type": "code",
   "execution_count": null,
   "id": "347edb75",
   "metadata": {},
   "outputs": [],
   "source": [
    "# Create a large nested dictionary\n",
    "large_data = {'Category1': {'Item1': [1, 2, 3], 'Item2': [4, 5, 6]},\n",
    "              'Category2': {'Item3': [7, 8, 9], 'Item4': [10, 11, 12]}}\n",
    "\n",
    "# Serialize the large dictionary\n",
    "with open('large_data.pkl', 'wb') as file:\n",
    "    pickle.dump(large_data, file)\n",
    "\n",
    "# Deserialize the large dictionary\n",
    "with open('large_data.pkl', 'rb') as file:\n",
    "    loaded_large_data = pickle.load(file)\n",
    "\n",
    "print(\"Deserialized large data structure:\")\n",
    "print(loaded_large_data)"
   ]
  },
  {
   "cell_type": "markdown",
   "id": "cda694ed",
   "metadata": {},
   "source": [
    "## **9. Pickle Protocol Versions**\n",
    "Specify the protocol version for compatibility with older or newer Python versions."
   ]
  },
  {
   "cell_type": "code",
   "execution_count": null,
   "id": "1eb3349f",
   "metadata": {},
   "outputs": [],
   "source": [
    "# Serialize using a specific protocol version\n",
    "with open('data_protocol.pkl', 'wb') as file:\n",
    "    pickle.dump(data, file, protocol=pickle.HIGHEST_PROTOCOL)\n",
    "\n",
    "print(\"Data serialized using the highest protocol version.\")"
   ]
  },
  {
   "cell_type": "markdown",
   "id": "c0ee03e8",
   "metadata": {},
   "source": [
    "## **10. Practical Example: Saving and Loading Machine Learning Models**\n",
    "Use `pickle` to save and load trained machine learning models."
   ]
  },
  {
   "cell_type": "code",
   "execution_count": null,
   "id": "20ba5538",
   "metadata": {},
   "outputs": [],
   "source": [
    "from sklearn.ensemble import RandomForestClassifier\n",
    "\n",
    "# Train a simple model\n",
    "model = RandomForestClassifier()\n",
    "X = [[1, 2], [3, 4], [5, 6], [7, 8]]\n",
    "y = [0, 1, 0, 1]\n",
    "model.fit(X, y)\n",
    "\n",
    "# Serialize the model\n",
    "with open('model.pkl', 'wb') as file:\n",
    "    pickle.dump(model, file)\n",
    "\n",
    "# Deserialize the model\n",
    "with open('model.pkl', 'rb') as file:\n",
    "    loaded_model = pickle.load(file)\n",
    "\n",
    "# Test the deserialized model\n",
    "prediction = loaded_model.predict([[5, 6]])\n",
    "print(f\"Prediction from loaded model: {prediction}\")"
   ]
  }
 ],
 "metadata": {},
 "nbformat": 4,
 "nbformat_minor": 5
}
