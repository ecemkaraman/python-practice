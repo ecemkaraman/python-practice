{
 "cells": [
  {
   "cell_type": "markdown",
   "id": "ba675192",
   "metadata": {},
   "source": [
    "# **Python `numpy` Module Practice**\n",
    "This notebook provides an overview and practice examples for the `numpy` module, a fundamental library for numerical computing in Python."
   ]
  },
  {
   "cell_type": "markdown",
   "id": "3c6d586a",
   "metadata": {},
   "source": [
    "## **1. Installing NumPy**\n",
    "Ensure NumPy is installed using:\n",
    "```bash\n",
    "pip install numpy\n",
    "```\n",
    "\n",
    "Import the necessary module:"
   ]
  },
  {
   "cell_type": "code",
   "execution_count": null,
   "id": "78676b96",
   "metadata": {},
   "outputs": [],
   "source": [
    "import numpy as np"
   ]
  },
  {
   "cell_type": "markdown",
   "id": "740ed2eb",
   "metadata": {},
   "source": [
    "## **2. Creating Arrays**\n",
    "Create arrays using lists or specialized functions like `np.zeros`, `np.ones`, and `np.arange`."
   ]
  },
  {
   "cell_type": "code",
   "execution_count": null,
   "id": "4da1ff62",
   "metadata": {},
   "outputs": [],
   "source": [
    "# Create arrays\n",
    "array1 = np.array([1, 2, 3, 4, 5])\n",
    "array2 = np.zeros((2, 3))\n",
    "array3 = np.ones((3, 3))\n",
    "array4 = np.arange(0, 10, 2)\n",
    "\n",
    "print(f\"Array from list: {array1}\")\n",
    "print(f\"Zeros array:\\n{array2}\")\n",
    "print(f\"Ones array:\\n{array3}\")\n",
    "print(f\"Arange array: {array4}\")"
   ]
  },
  {
   "cell_type": "markdown",
   "id": "96a96b69",
   "metadata": {},
   "source": [
    "## **3. Array Indexing and Slicing**\n",
    "Access elements, slices, and modify them efficiently."
   ]
  },
  {
   "cell_type": "code",
   "execution_count": null,
   "id": "ae153d90",
   "metadata": {},
   "outputs": [],
   "source": [
    "# Indexing and slicing\n",
    "array = np.array([10, 20, 30, 40, 50])\n",
    "print(f\"Element at index 2: {array[2]}\")\n",
    "print(f\"Slice [1:4]: {array[1:4]}\")\n",
    "\n",
    "# Modify elements\n",
    "array[2:4] = 100\n",
    "print(f\"Modified array: {array}\")"
   ]
  },
  {
   "cell_type": "markdown",
   "id": "b00c4be5",
   "metadata": {},
   "source": [
    "## **4. Array Operations**\n",
    "Perform element-wise operations like addition, subtraction, and multiplication."
   ]
  },
  {
   "cell_type": "code",
   "execution_count": null,
   "id": "867b8c31",
   "metadata": {},
   "outputs": [],
   "source": [
    "# Element-wise operations\n",
    "array1 = np.array([1, 2, 3])\n",
    "array2 = np.array([4, 5, 6])\n",
    "print(f\"Addition: {array1 + array2}\")\n",
    "print(f\"Multiplication: {array1 * array2}\")\n",
    "print(f\"Exponentiation: {array1 ** 2}\")"
   ]
  },
  {
   "cell_type": "markdown",
   "id": "ab0ad285",
   "metadata": {},
   "source": [
    "## **5. Statistical Operations**\n",
    "Compute statistics like mean, median, sum, and standard deviation."
   ]
  },
  {
   "cell_type": "code",
   "execution_count": null,
   "id": "23f42bca",
   "metadata": {},
   "outputs": [],
   "source": [
    "# Statistical operations\n",
    "array = np.array([1, 2, 3, 4, 5])\n",
    "print(f\"Mean: {np.mean(array)}\")\n",
    "print(f\"Sum: {np.sum(array)}\")\n",
    "print(f\"Standard Deviation: {np.std(array)}\")"
   ]
  },
  {
   "cell_type": "markdown",
   "id": "7ea3394c",
   "metadata": {},
   "source": [
    "## **6. Reshaping and Transposing Arrays**\n",
    "Change the shape of arrays with `reshape` and `transpose`."
   ]
  },
  {
   "cell_type": "code",
   "execution_count": null,
   "id": "d3cd6fe6",
   "metadata": {},
   "outputs": [],
   "source": [
    "# Reshape and transpose\n",
    "array = np.arange(1, 10).reshape(3, 3)\n",
    "print(f\"Reshaped array:\\n{array}\")\n",
    "\n",
    "transposed = array.T\n",
    "print(f\"Transposed array:\\n{transposed}\")"
   ]
  },
  {
   "cell_type": "markdown",
   "id": "c2f52c3f",
   "metadata": {},
   "source": [
    "## **7. Broadcasting**\n",
    "Perform operations between arrays of different shapes using broadcasting."
   ]
  },
  {
   "cell_type": "code",
   "execution_count": null,
   "id": "92fa910a",
   "metadata": {},
   "outputs": [],
   "source": [
    "# Broadcasting example\n",
    "array = np.array([[1, 2, 3], [4, 5, 6]])\n",
    "scalar = 10\n",
    "print(f\"Array + scalar:\\n{array + scalar}\")"
   ]
  },
  {
   "cell_type": "markdown",
   "id": "11b60433",
   "metadata": {},
   "source": [
    "## **8. Logical Operations**\n",
    "Perform element-wise logical comparisons."
   ]
  },
  {
   "cell_type": "code",
   "execution_count": null,
   "id": "ebb5e3ac",
   "metadata": {},
   "outputs": [],
   "source": [
    "# Logical operations\n",
    "array = np.array([10, 20, 30, 40])\n",
    "print(f\"Greater than 25: {array > 25}\")\n",
    "print(f\"Equal to 20: {array == 20}\")"
   ]
  },
  {
   "cell_type": "markdown",
   "id": "7753956a",
   "metadata": {},
   "source": [
    "## **9. Random Number Generation**\n",
    "Generate random numbers with `np.random` for simulations and testing."
   ]
  },
  {
   "cell_type": "code",
   "execution_count": null,
   "id": "197cbcb8",
   "metadata": {},
   "outputs": [],
   "source": [
    "# Random number generation\n",
    "random_array = np.random.rand(3, 3)\n",
    "print(f\"Random array:\\n{random_array}\")\n",
    "\n",
    "random_integers = np.random.randint(1, 10, size=(2, 4))\n",
    "print(f\"Random integers:\\n{random_integers}\")"
   ]
  },
  {
   "cell_type": "markdown",
   "id": "1c356cf7",
   "metadata": {},
   "source": [
    "## **10. Practical Example: Matrix Multiplication**\n",
    "Perform matrix multiplication using `@` or `np.dot`."
   ]
  },
  {
   "cell_type": "code",
   "execution_count": null,
   "id": "86cbe272",
   "metadata": {},
   "outputs": [],
   "source": [
    "# Matrix multiplication\n",
    "matrix1 = np.array([[1, 2], [3, 4]])\n",
    "matrix2 = np.array([[5, 6], [7, 8]])\n",
    "\n",
    "result = matrix1 @ matrix2\n",
    "print(f\"Matrix multiplication result:\\n{result}\")"
   ]
  }
 ],
 "metadata": {},
 "nbformat": 4,
 "nbformat_minor": 5
}
