{
 "cells": [
  {
   "cell_type": "markdown",
   "id": "8c4d37af",
   "metadata": {},
   "source": [
    "# **Python `seaborn` Module Practice**\n",
    "This notebook provides an overview and practice examples for the `seaborn` module, a Python library for statistical data visualization built on top of Matplotlib."
   ]
  },
  {
   "cell_type": "markdown",
   "id": "95da6b1d",
   "metadata": {},
   "source": [
    "## **1. Installing Seaborn**\n",
    "Ensure Seaborn is installed using:\n",
    "```bash\n",
    "pip install seaborn\n",
    "```\n",
    "\n",
    "Import the necessary modules:"
   ]
  },
  {
   "cell_type": "code",
   "execution_count": null,
   "id": "51b9f985",
   "metadata": {},
   "outputs": [],
   "source": [
    "import seaborn as sns\n",
    "import matplotlib.pyplot as plt\n",
    "import pandas as pd\n",
    "import numpy as np"
   ]
  },
  {
   "cell_type": "markdown",
   "id": "d83d4297",
   "metadata": {},
   "source": [
    "## **2. Loading Example Datasets**\n",
    "Seaborn provides built-in example datasets like `tips` and `iris`."
   ]
  },
  {
   "cell_type": "code",
   "execution_count": null,
   "id": "07f1ecd8",
   "metadata": {},
   "outputs": [],
   "source": [
    "# Load the built-in 'tips' dataset\n",
    "tips = sns.load_dataset('tips')\n",
    "print(tips.head())"
   ]
  },
  {
   "cell_type": "markdown",
   "id": "51ba3901",
   "metadata": {},
   "source": [
    "## **3. Scatter Plot with `sns.scatterplot`**\n",
    "Create scatter plots to show relationships between two variables."
   ]
  },
  {
   "cell_type": "code",
   "execution_count": null,
   "id": "75d5cf90",
   "metadata": {},
   "outputs": [],
   "source": [
    "sns.scatterplot(data=tips, x='total_bill', y='tip', hue='time', style='sex', size='size')\n",
    "plt.title('Scatter Plot of Tips')\n",
    "plt.show()"
   ]
  },
  {
   "cell_type": "markdown",
   "id": "9c165e4b",
   "metadata": {},
   "source": [
    "## **4. Line Plot with `sns.lineplot`**\n",
    "Visualize trends over continuous data."
   ]
  },
  {
   "cell_type": "code",
   "execution_count": null,
   "id": "0f5eefb2",
   "metadata": {},
   "outputs": [],
   "source": [
    "# Generate example data\n",
    "x = np.linspace(0, 10, 100)\n",
    "y = np.sin(x)\n",
    "\n",
    "sns.lineplot(x=x, y=y)\n",
    "plt.title('Line Plot of Sine Wave')\n",
    "plt.show()"
   ]
  },
  {
   "cell_type": "markdown",
   "id": "5a93e8e7",
   "metadata": {},
   "source": [
    "## **5. Bar Plot with `sns.barplot`**\n",
    "Display categorical data comparisons with bars."
   ]
  },
  {
   "cell_type": "code",
   "execution_count": null,
   "id": "ddd74041",
   "metadata": {},
   "outputs": [],
   "source": [
    "sns.barplot(data=tips, x='day', y='total_bill', hue='sex', ci='sd')\n",
    "plt.title('Bar Plot of Total Bills by Day and Sex')\n",
    "plt.show()"
   ]
  },
  {
   "cell_type": "markdown",
   "id": "b2f848a0",
   "metadata": {},
   "source": [
    "## **6. Histogram with `sns.histplot`**\n",
    "Visualize the distribution of a single variable."
   ]
  },
  {
   "cell_type": "code",
   "execution_count": null,
   "id": "e39b6588",
   "metadata": {},
   "outputs": [],
   "source": [
    "sns.histplot(data=tips, x='total_bill', bins=20, kde=True)\n",
    "plt.title('Histogram of Total Bills')\n",
    "plt.show()"
   ]
  },
  {
   "cell_type": "markdown",
   "id": "4fa0228c",
   "metadata": {},
   "source": [
    "## **7. Box Plot with `sns.boxplot`**\n",
    "Show distributions and outliers in categories."
   ]
  },
  {
   "cell_type": "code",
   "execution_count": null,
   "id": "f16e8ccd",
   "metadata": {},
   "outputs": [],
   "source": [
    "sns.boxplot(data=tips, x='day', y='total_bill', hue='sex')\n",
    "plt.title('Box Plot of Total Bills by Day and Sex')\n",
    "plt.show()"
   ]
  },
  {
   "cell_type": "markdown",
   "id": "459b3f31",
   "metadata": {},
   "source": [
    "## **8. Heatmap with `sns.heatmap`**\n",
    "Visualize correlation matrices or tabular data."
   ]
  },
  {
   "cell_type": "code",
   "execution_count": null,
   "id": "4372ea86",
   "metadata": {},
   "outputs": [],
   "source": [
    "# Compute correlation matrix\n",
    "corr = tips.corr()\n",
    "\n",
    "sns.heatmap(corr, annot=True, fmt='.2f', cmap='coolwarm')\n",
    "plt.title('Heatmap of Correlations')\n",
    "plt.show()"
   ]
  },
  {
   "cell_type": "markdown",
   "id": "7d506af2",
   "metadata": {},
   "source": [
    "## **9. Pair Plot with `sns.pairplot`**\n",
    "Create scatter plots for all pairwise relationships in a dataset."
   ]
  },
  {
   "cell_type": "code",
   "execution_count": null,
   "id": "5f1cbd25",
   "metadata": {},
   "outputs": [],
   "source": [
    "sns.pairplot(data=tips, hue='sex', diag_kind='kde')\n",
    "plt.suptitle('Pair Plot of Tips Dataset', y=1.02)\n",
    "plt.show()"
   ]
  },
  {
   "cell_type": "markdown",
   "id": "a2047e38",
   "metadata": {},
   "source": [
    "## **10. Practical Example: Violin Plot**\n",
    "Show the distribution of data and its probability density."
   ]
  },
  {
   "cell_type": "code",
   "execution_count": null,
   "id": "685b3784",
   "metadata": {},
   "outputs": [],
   "source": [
    "sns.violinplot(data=tips, x='day', y='total_bill', hue='sex', split=True)\n",
    "plt.title('Violin Plot of Total Bills by Day and Sex')\n",
    "plt.show()"
   ]
  }
 ],
 "metadata": {},
 "nbformat": 4,
 "nbformat_minor": 5
}
