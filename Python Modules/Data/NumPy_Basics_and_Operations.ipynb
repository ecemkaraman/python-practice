{
 "cells": [
  {
   "cell_type": "markdown",
   "id": "4a179d30",
   "metadata": {},
   "source": [
    "### 1. Array Creation"
   ]
  },
  {
   "cell_type": "code",
   "execution_count": 1,
   "id": "0b440924",
   "metadata": {},
   "outputs": [
    {
     "ename": "SyntaxError",
     "evalue": "unterminated string literal (detected at line 11) (4021514391.py, line 11)",
     "output_type": "error",
     "traceback": [
      "\u001b[0;36m  Cell \u001b[0;32mIn[1], line 11\u001b[0;36m\u001b[0m\n\u001b[0;31m    print(\"Zeros:\u001b[0m\n\u001b[0m          ^\u001b[0m\n\u001b[0;31mSyntaxError\u001b[0m\u001b[0;31m:\u001b[0m unterminated string literal (detected at line 11)\n"
     ]
    }
   ],
   "source": [
    "\n",
    "import numpy as np\n",
    "\n",
    "# Array creation examples\n",
    "zeros = np.zeros((2, 3))  # 2x3 array of zeros\n",
    "ones = np.ones((3, 3))    # 3x3 array of ones\n",
    "identity = np.eye(3)      # 3x3 identity matrix\n",
    "arange = np.arange(0, 10, 2)  # Array of numbers from 0 to 9 with a step of 2\n",
    "linspace = np.linspace(0, 1, 5)  # 5 equally spaced numbers between 0 and 1\n",
    "random = np.random.rand(3, 3)  # 3x3 random array (uniform distribution)\n",
    "\n",
    "print(\"Zeros:\n",
    "\", zeros)\n",
    "print(\"Ones:\n",
    "\", ones)\n",
    "print(\"Identity Matrix:\n",
    "\", identity)\n",
    "print(\"Arange:\n",
    "\", arange)\n",
    "print(\"Linspace:\n",
    "\", linspace)\n",
    "print(\"Random:\n",
    "\", random)\n"
   ]
  },
  {
   "cell_type": "markdown",
   "id": "b83efbee",
   "metadata": {},
   "source": [
    "### 2. Array Attributes"
   ]
  },
  {
   "cell_type": "code",
   "execution_count": null,
   "id": "7c0ba5bf",
   "metadata": {},
   "outputs": [],
   "source": [
    "\n",
    "arr = np.array([[1, 2, 3], [4, 5, 6]])\n",
    "\n",
    "print(\"Dimensions:\", arr.ndim)          # Output: 2\n",
    "print(\"Shape:\", arr.shape)              # Output: (2, 3)\n",
    "print(\"Size:\", arr.size)                # Output: 6\n",
    "print(\"Data Type:\", arr.dtype)          # Output: int64 (or platform equivalent)\n",
    "print(\"Item Size:\", arr.itemsize)       # Output: 8 (bytes per element for int64)\n",
    "print(\"Total Bytes:\", arr.nbytes)       # Output: 48 (6 elements × 8 bytes)\n",
    "print(\"Transposed:\n",
    "\", arr.T)\n"
   ]
  },
  {
   "cell_type": "markdown",
   "id": "f8c5ccc5",
   "metadata": {},
   "source": [
    "### 3. Array Manipulation"
   ]
  },
  {
   "cell_type": "code",
   "execution_count": null,
   "id": "1955248e",
   "metadata": {},
   "outputs": [],
   "source": [
    "\n",
    "# Reshaping Arrays\n",
    "arr = np.array([1, 2, 3, 4, 5, 6])\n",
    "reshaped = arr.reshape(2, 3)\n",
    "print(\"Reshaped:\n",
    "\", reshaped)\n",
    "\n",
    "# Flattening Arrays\n",
    "flat = reshaped.flatten()\n",
    "print(\"Flattened:\n",
    "\", flat)\n",
    "\n",
    "# Concatenation\n",
    "a = np.array([1, 2])\n",
    "b = np.array([3, 4])\n",
    "concat = np.concatenate((a, b))\n",
    "print(\"Concatenated:\n",
    "\", concat)\n",
    "\n",
    "# Splitting Arrays\n",
    "split = np.split(arr, 3)\n",
    "print(\"Split:\n",
    "\", split)\n"
   ]
  },
  {
   "cell_type": "markdown",
   "id": "6aa0c657",
   "metadata": {},
   "source": [
    "### 4. Indexing and Slicing"
   ]
  },
  {
   "cell_type": "code",
   "execution_count": null,
   "id": "92bd42f4",
   "metadata": {},
   "outputs": [],
   "source": [
    "\n",
    "arr = np.array([1, 2, 3, 4, 5])\n",
    "\n",
    "# Basic Indexing\n",
    "print(\"First element:\", arr[0])\n",
    "\n",
    "# Slicing\n",
    "print(\"Sliced elements:\", arr[1:4])\n",
    "\n",
    "# Multidimensional Indexing\n",
    "mat = np.array([[1, 2], [3, 4], [5, 6]])\n",
    "print(\"Element at (1, 1):\", mat[1, 1])\n",
    "print(\"First column:\", mat[:, 0])\n",
    "\n",
    "# Boolean Indexing\n",
    "print(\"Elements greater than 3:\", arr[arr > 3])\n"
   ]
  },
  {
   "cell_type": "markdown",
   "id": "4939ba36",
   "metadata": {},
   "source": [
    "### 5. Mathematical Operations"
   ]
  },
  {
   "cell_type": "code",
   "execution_count": null,
   "id": "81f020d1",
   "metadata": {},
   "outputs": [],
   "source": [
    "\n",
    "a = np.array([1, 2, 3])\n",
    "b = np.array([4, 5, 6])\n",
    "\n",
    "# Element-wise addition\n",
    "print(\"Addition:\", np.add(a, b))\n",
    "\n",
    "# Element-wise multiplication\n",
    "print(\"Multiplication:\", np.multiply(a, b))\n",
    "\n",
    "# Exponential\n",
    "print(\"Exponential:\", np.exp(a))\n"
   ]
  },
  {
   "cell_type": "markdown",
   "id": "be7721c2",
   "metadata": {},
   "source": [
    "### 6. Statistical Functions"
   ]
  },
  {
   "cell_type": "code",
   "execution_count": null,
   "id": "637e7714",
   "metadata": {},
   "outputs": [],
   "source": [
    "\n",
    "arr = np.array([1, 2, 3, 4, 5])\n",
    "\n",
    "print(\"Mean:\", arr.mean())\n",
    "print(\"Standard Deviation:\", arr.std())\n",
    "print(\"Variance:\", arr.var())\n"
   ]
  },
  {
   "cell_type": "markdown",
   "id": "d54cd457",
   "metadata": {},
   "source": [
    "### 7. Linear Algebra Operations"
   ]
  },
  {
   "cell_type": "code",
   "execution_count": null,
   "id": "bab94ee7",
   "metadata": {},
   "outputs": [],
   "source": [
    "\n",
    "from numpy.linalg import inv, eig\n",
    "\n",
    "matrix = np.array([[1, 2], [3, 4]])\n",
    "print(\"Inverse:\n",
    "\", inv(matrix))\n",
    "eigenvalues, eigenvectors = eig(matrix)\n",
    "print(\"Eigenvalues:\n",
    "\", eigenvalues)\n",
    "print(\"Eigenvectors:\n",
    "\", eigenvectors)\n"
   ]
  },
  {
   "cell_type": "markdown",
   "id": "4add3698",
   "metadata": {},
   "source": [
    "### 8. Random Number Generation"
   ]
  },
  {
   "cell_type": "code",
   "execution_count": null,
   "id": "841beff1",
   "metadata": {},
   "outputs": [],
   "source": [
    "\n",
    "# Random integers\n",
    "random_integers = np.random.randint(1, 10, (2, 3))\n",
    "print(\"Random Integers:\n",
    "\", random_integers)\n",
    "\n",
    "# Random normal distribution\n",
    "random_normal = np.random.normal(0, 1, (2, 2))\n",
    "print(\"Random Normal Distribution:\n",
    "\", random_normal)\n"
   ]
  }
 ],
 "metadata": {
  "kernelspec": {
   "display_name": "Python 3 (ipykernel)",
   "language": "python",
   "name": "python3"
  },
  "language_info": {
   "codemirror_mode": {
    "name": "ipython",
    "version": 3
   },
   "file_extension": ".py",
   "mimetype": "text/x-python",
   "name": "python",
   "nbconvert_exporter": "python",
   "pygments_lexer": "ipython3",
   "version": "3.11.3"
  }
 },
 "nbformat": 4,
 "nbformat_minor": 5
}
