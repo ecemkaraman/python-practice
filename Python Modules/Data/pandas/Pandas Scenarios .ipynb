{
 "cells": [
  {
   "cell_type": "markdown",
   "id": "9ccb84e6",
   "metadata": {},
   "source": [
    "### **Scenario 1: Cleaning a Dataset**\n",
    "\n",
    "You have a CSV file with customer data that has missing values and incorrect entries. You need to clean it by filling missing values, removing duplicates, and ensuring all names are properly capitalized."
   ]
  },
  {
   "cell_type": "code",
   "execution_count": null,
   "id": "5f2ae14e",
   "metadata": {},
   "outputs": [],
   "source": [
    "# Load the dataset\n",
    "df = pd.read_csv('customers.csv')\n",
    "\n",
    "# Fill missing age with mean value\n",
    "df['Age'].fillna(df['Age'].mean(), inplace=True)\n",
    "\n",
    "# Drop duplicate rows\n",
    "df.drop_duplicates(inplace=True)\n",
    "\n",
    "# Capitalize all names\n",
    "df['Name'] = df['Name'].str.title()\n",
    "\n",
    "# Save the cleaned dataset\n",
    "df.to_csv('customers_cleaned.csv', index=False)"
   ]
  },
  {
   "cell_type": "markdown",
   "id": "a98a9977",
   "metadata": {},
   "source": [
    "### **Scenario 2: Data Preprocessing for Machine Learning**\n",
    "You have a dataset with categorical variables and missing values that need to be preprocessed for an ML model. You’ll need to:\n",
    "\n",
    "1. Fill missing values.\n",
    "2. One-hot encode categorical variables.\n",
    "3. Normalize the data."
   ]
  },
  {
   "cell_type": "code",
   "execution_count": null,
   "id": "f5f15177",
   "metadata": {},
   "outputs": [],
   "source": [
    "from sklearn.preprocessing import OneHotEncoder, StandardScaler\n",
    "\n",
    "# Fill missing values\n",
    "df['Age'].fillna(df['Age'].mean(), inplace=True)\n",
    "\n",
    "# One-hot encode categorical variables\n",
    "df = pd.get_dummies(df, columns=['Gender', 'City'])\n",
    "\n",
    "# Normalize numerical columns\n",
    "scaler = StandardScaler()\n",
    "df[['Age', 'Salary']] = scaler.fit_transform(df[['Age', 'Salary']])"
   ]
  }
 ],
 "metadata": {
  "kernelspec": {
   "display_name": "Python [conda env:base] *",
   "language": "python",
   "name": "conda-base-py"
  },
  "language_info": {
   "codemirror_mode": {
    "name": "ipython",
    "version": 3
   },
   "file_extension": ".py",
   "mimetype": "text/x-python",
   "name": "python",
   "nbconvert_exporter": "python",
   "pygments_lexer": "ipython3",
   "version": "3.12.7"
  }
 },
 "nbformat": 4,
 "nbformat_minor": 5
}
