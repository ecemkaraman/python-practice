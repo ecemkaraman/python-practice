{
 "cells": [
  {
   "cell_type": "markdown",
   "id": "d7726d18",
   "metadata": {},
   "source": [
    "# Pandas Cheat Sheet"
   ]
  },
  {
   "cell_type": "markdown",
   "id": "a3145a77",
   "metadata": {},
   "source": [
    "Current Progress: "
   ]
  },
  {
   "cell_type": "code",
   "execution_count": 2,
   "id": "0ee9b441",
   "metadata": {},
   "outputs": [],
   "source": [
    "import numpy as np\n",
    "import pandas as pd"
   ]
  },
  {
   "cell_type": "code",
   "execution_count": 3,
   "id": "8aa7dcd1",
   "metadata": {},
   "outputs": [],
   "source": [
    "import seaborn as sns\n",
    "import matplotlib.pyplot as plt"
   ]
  },
  {
   "cell_type": "code",
   "execution_count": 4,
   "id": "33048820",
   "metadata": {},
   "outputs": [],
   "source": [
    "SEED = 42"
   ]
  },
  {
   "cell_type": "markdown",
   "id": "a3ab569c",
   "metadata": {},
   "source": [
    "## Panda Series\n",
    "\n",
    "### Numeric Index"
   ]
  },
  {
   "cell_type": "code",
   "execution_count": 4,
   "id": "3fca2c66",
   "metadata": {},
   "outputs": [
    {
     "data": {
      "text/plain": [
       "0    1642\n",
       "1    1776\n",
       "2    1867\n",
       "3    1821\n",
       "4    1909\n",
       "dtype: int64"
      ]
     },
     "execution_count": 4,
     "metadata": {},
     "output_type": "execute_result"
    }
   ],
   "source": [
    "data = [1642, 1776, 1867, 1821, 1909]\n",
    "\n",
    "series_with_numeric_index = pd.Series(data)\n",
    "series_with_numeric_index"
   ]
  },
  {
   "cell_type": "markdown",
   "id": "83bc3a7d",
   "metadata": {},
   "source": [
    "|    | |\n",
    "| -- | -- |\n",
    "| 0 | 1642 |\n",
    "| 1 | 1776 |\n",
    "| 2 | 1867 |\n",
    "| 3 | 1821 |\n",
    "| 4 | 1909 |"
   ]
  },
  {
   "cell_type": "markdown",
   "id": "3fbdeafe",
   "metadata": {},
   "source": [
    "### Labelled Index"
   ]
  },
  {
   "cell_type": "code",
   "execution_count": 5,
   "id": "5fe37e8e",
   "metadata": {},
   "outputs": [
    {
     "data": {
      "text/plain": [
       "Aliqua               1642\n",
       "Ad ut Nulla          1776\n",
       "Nisi est Pastrami    1867\n",
       "Jowl Magna           1821\n",
       "Anim Bacon Doner     1909\n",
       "dtype: int64"
      ]
     },
     "execution_count": 5,
     "metadata": {},
     "output_type": "execute_result"
    }
   ],
   "source": [
    "index = ['Aliqua', 'Ad ut Nulla', 'Nisi est Pastrami', 'Jowl Magna', 'Anim Bacon Doner']\n",
    "\n",
    "series_with_labelled_index = pd.Series(data, index)\n",
    "series_with_labelled_index"
   ]
  },
  {
   "cell_type": "markdown",
   "id": "c52dd583",
   "metadata": {},
   "source": [
    "|    | |\n",
    "| -- | -- |\n",
    "| Aliqua           | 1642 |\n",
    "| Ad ut Nulla      | 1776 |\n",
    "| Nisi est Pastram | 1867 |\n",
    "| Jowl Magna       | 1821 |\n",
    "| Anim Bacon Doner | 1909 |"
   ]
  },
  {
   "cell_type": "markdown",
   "id": "d27f6175",
   "metadata": {},
   "source": [
    "If you create a series from a dict, the keys become the labels:"
   ]
  },
  {
   "cell_type": "code",
   "execution_count": 6,
   "id": "8fa67e97",
   "metadata": {},
   "outputs": [
    {
     "data": {
      "text/plain": [
       "Aliqua               1642\n",
       "Ad ut Nulla          1776\n",
       "Nisi est Pastrami    1867\n",
       "Jowl Magna           1821\n",
       "Anim Bacon Doner     1909\n",
       "dtype: int64"
      ]
     },
     "execution_count": 6,
     "metadata": {},
     "output_type": "execute_result"
    }
   ],
   "source": [
    "labelled_data = {\n",
    "    'Aliqua' : 1642,\n",
    "    'Ad ut Nulla' : 1776,\n",
    "    'Nisi est Pastrami' : 1867,\n",
    "    'Jowl Magna' : 1821,\n",
    "    'Anim Bacon Doner' : 1909\n",
    "}\n",
    "\n",
    "series_with_labelled_index2 = pd.Series(labelled_data)\n",
    "series_with_labelled_index2"
   ]
  },
  {
   "cell_type": "markdown",
   "id": "9ed55901",
   "metadata": {},
   "source": [
    "|    | |\n",
    "| -- | -- |\n",
    "| Aliqua           | 1642 |\n",
    "| Ad ut Nulla      | 1776 |\n",
    "| Nisi est Pastram | 1867 |\n",
    "| Jowl Magna       | 1821 |\n",
    "| Anim Bacon Doner | 1909 |"
   ]
  },
  {
   "cell_type": "markdown",
   "id": "6173422d",
   "metadata": {},
   "source": [
    "### Fill Missing Data"
   ]
  },
  {
   "cell_type": "code",
   "execution_count": 7,
   "id": "845883bc",
   "metadata": {},
   "outputs": [],
   "source": [
    "before = {\n",
    "    'Aliqua' : 1642,\n",
    "    'Ad ut Nulla' : 1776,\n",
    "    'Nisi est Pastrami' : 1867,\n",
    "    'Jowl Magna' : 1821,\n",
    "    'Anim Bacon Doner' : 1909\n",
    "}\n",
    "\n",
    "after = {\n",
    "    'Voluptate Boudin' : 1643,\n",
    "    'Ad ut Nulla' : 1777,\n",
    "    'Nisi est Pastrami' : 1868,\n",
    "    'Jowl Magna' : 1822,\n",
    "    'Anim Bacon Doner' : 1910\n",
    "}"
   ]
  },
  {
   "cell_type": "code",
   "execution_count": 8,
   "id": "0be34648",
   "metadata": {},
   "outputs": [
    {
     "name": "stdout",
     "output_type": "stream",
     "text": [
      "3643\n"
     ]
    }
   ],
   "source": [
    "before_series = pd.Series(before)\n",
    "after_series = pd.Series(after)\n",
    "\n",
    "all_jowl_magna = before_series['Jowl Magna'] + after_series['Jowl Magna']\n",
    "print(all_jowl_magna)\n",
    "# 3643"
   ]
  },
  {
   "cell_type": "code",
   "execution_count": 9,
   "id": "657a59e8",
   "metadata": {},
   "outputs": [
    {
     "data": {
      "text/plain": [
       "Ad ut Nulla          3553.0\n",
       "Aliqua                  NaN\n",
       "Anim Bacon Doner     3819.0\n",
       "Jowl Magna           3643.0\n",
       "Nisi est Pastrami    3735.0\n",
       "Voluptate Boudin        NaN\n",
       "dtype: float64"
      ]
     },
     "execution_count": 9,
     "metadata": {},
     "output_type": "execute_result"
    }
   ],
   "source": [
    "# no fill\n",
    "before_series + after_series\n",
    "# If it doesn't exist in both series, int+null = NaN"
   ]
  },
  {
   "cell_type": "markdown",
   "id": "38fcd621",
   "metadata": {},
   "source": [
    "|    | |\n",
    "| -- | -- |\n",
    "| Ad ut Nulla       | 3553.0 |\n",
    "| Aliqua               | NaN |\n",
    "| Anim Bacon Doner  | 3819.0 |\n",
    "| Jowl Magna        | 3643.0 |\n",
    "| Nisi est Pastrami | 3735.0 |\n",
    "| Voluptate Boudin     | NaN |"
   ]
  },
  {
   "cell_type": "code",
   "execution_count": 10,
   "id": "d712b41d",
   "metadata": {},
   "outputs": [
    {
     "data": {
      "text/plain": [
       "Ad ut Nulla          3553.0\n",
       "Aliqua               1642.0\n",
       "Anim Bacon Doner     3819.0\n",
       "Jowl Magna           3643.0\n",
       "Nisi est Pastrami    3735.0\n",
       "Voluptate Boudin     1643.0\n",
       "dtype: float64"
      ]
     },
     "execution_count": 10,
     "metadata": {},
     "output_type": "execute_result"
    }
   ],
   "source": [
    "# fill missing data with 0\n",
    "# aka show its original value from the related series\n",
    "before_series.add(after_series, fill_value=0)"
   ]
  },
  {
   "cell_type": "markdown",
   "id": "815d460e",
   "metadata": {},
   "source": [
    "|    |    |\n",
    "| -- | -- |\n",
    "| Ad ut Nulla       | 3553.0 |\n",
    "| Aliqua            | 1642.0 |\n",
    "| Anim Bacon Doner  | 3819.0 |\n",
    "| Jowl Magna        | 3643.0 |\n",
    "| Nisi est Pastrami | 3735.0 |\n",
    "| Voluptate Boudin  | 1643.0 |"
   ]
  },
  {
   "cell_type": "markdown",
   "id": "3bc01820",
   "metadata": {},
   "source": [
    "## Panda Dataframes\n",
    "You can build DF from a dictionary of Series, NumPy arrays, lists, or dictionaries.\n",
    "\n",
    "### Creating a Dataframe from a Numpy Array\n",
    "np.random.seed(SEED)\n",
    "- Initialize the random seed with a specific value->make the \"randomness\" predictable and reproducible\n",
    "- Using a seed guarantees that every time you run the code, the exact same random numbers will be generated ->easier debugging/consistency.\n",
    "- W/o a seed, NumPy will generate random numbers based on the system time or other unpredictable factors\n",
    "- Same seed = same random numbers"
   ]
  },
  {
   "cell_type": "code",
   "execution_count": 11,
   "id": "8b6e524c",
   "metadata": {},
   "outputs": [
    {
     "data": {
      "text/plain": [
       "array([[102,  51,  92],\n",
       "       [ 14,  71,  60],\n",
       "       [ 20, 102,  82],\n",
       "       [ 86,  74,  74]])"
      ]
     },
     "execution_count": 11,
     "metadata": {},
     "output_type": "execute_result"
    }
   ],
   "source": [
    "np.random.seed(SEED) # Ensures reproducibility of random numbers\n",
    "\n",
    "random_data_array = np.random.randint(0,103,(4,3)) \n",
    "#generates a 4x3 matrix of random integers btw 0 (inclusive) & 103 (exclusive)\n",
    "random_data_array\n",
    "\n",
    "# array([[102,  51,  92],\n",
    "#        [ 14,  71,  60],\n",
    "#        [ 20, 102,  82],\n",
    "#        [ 86,  74,  74]])"
   ]
  },
  {
   "cell_type": "code",
   "execution_count": 12,
   "id": "b05e1933",
   "metadata": {},
   "outputs": [
    {
     "data": {
      "text/html": [
       "<div>\n",
       "<style scoped>\n",
       "    .dataframe tbody tr th:only-of-type {\n",
       "        vertical-align: middle;\n",
       "    }\n",
       "\n",
       "    .dataframe tbody tr th {\n",
       "        vertical-align: top;\n",
       "    }\n",
       "\n",
       "    .dataframe thead th {\n",
       "        text-align: right;\n",
       "    }\n",
       "</style>\n",
       "<table border=\"1\" class=\"dataframe\">\n",
       "  <thead>\n",
       "    <tr style=\"text-align: right;\">\n",
       "      <th></th>\n",
       "      <th>0</th>\n",
       "      <th>1</th>\n",
       "      <th>2</th>\n",
       "    </tr>\n",
       "  </thead>\n",
       "  <tbody>\n",
       "    <tr>\n",
       "      <th>0</th>\n",
       "      <td>102</td>\n",
       "      <td>51</td>\n",
       "      <td>92</td>\n",
       "    </tr>\n",
       "    <tr>\n",
       "      <th>1</th>\n",
       "      <td>14</td>\n",
       "      <td>71</td>\n",
       "      <td>60</td>\n",
       "    </tr>\n",
       "    <tr>\n",
       "      <th>2</th>\n",
       "      <td>20</td>\n",
       "      <td>102</td>\n",
       "      <td>82</td>\n",
       "    </tr>\n",
       "    <tr>\n",
       "      <th>3</th>\n",
       "      <td>86</td>\n",
       "      <td>74</td>\n",
       "      <td>74</td>\n",
       "    </tr>\n",
       "  </tbody>\n",
       "</table>\n",
       "</div>"
      ],
      "text/plain": [
       "     0    1   2\n",
       "0  102   51  92\n",
       "1   14   71  60\n",
       "2   20  102  82\n",
       "3   86   74  74"
      ]
     },
     "execution_count": 12,
     "metadata": {},
     "output_type": "execute_result"
    }
   ],
   "source": [
    "dataframe = pd.DataFrame(random_data_array)\n",
    "dataframe"
   ]
  },
  {
   "cell_type": "markdown",
   "id": "d8fc25bc",
   "metadata": {},
   "source": [
    "|    |  0 |  1 |  2 |\n",
    "| -- | -- | -- | -- |\n",
    "| 0 | 102 | 51 | 92 |\n",
    "| 1 | 14 | 71 | 60 |\n",
    "| 2 | 20 | 102 | 82 |\n",
    "| 3 | 86 | 74 | 74 |"
   ]
  },
  {
   "cell_type": "code",
   "execution_count": 13,
   "id": "e61c8b14",
   "metadata": {},
   "outputs": [
    {
     "data": {
      "text/plain": [
       "RangeIndex(start=0, stop=3, step=1)"
      ]
     },
     "execution_count": 13,
     "metadata": {},
     "output_type": "execute_result"
    }
   ],
   "source": [
    "# get column labels\n",
    "dataframe.columns\n",
    "# RangeIndex(start=0, stop=3, step=1)"
   ]
  },
  {
   "cell_type": "code",
   "execution_count": 14,
   "id": "a00da472",
   "metadata": {},
   "outputs": [
    {
     "data": {
      "text/plain": [
       "RangeIndex(start=0, stop=4, step=1)"
      ]
     },
     "execution_count": 14,
     "metadata": {},
     "output_type": "execute_result"
    }
   ],
   "source": [
    "# get index labels\n",
    "dataframe.index\n",
    "# RangeIndex(start=0, stop=4, step=1)"
   ]
  },
  {
   "cell_type": "code",
   "execution_count": 15,
   "id": "31152305",
   "metadata": {},
   "outputs": [
    {
     "data": {
      "text/plain": [
       "0    int64\n",
       "1    int64\n",
       "2    int64\n",
       "dtype: object"
      ]
     },
     "execution_count": 15,
     "metadata": {},
     "output_type": "execute_result"
    }
   ],
   "source": [
    "# get data types\n",
    "dataframe.dtypes"
   ]
  },
  {
   "cell_type": "markdown",
   "id": "5e4099ed",
   "metadata": {},
   "source": [
    "|    |       |\n",
    "| -- |   --  |\n",
    "| 0 | int64 |\n",
    "| 1 | int64 |\n",
    "| 2 | int64 |\n",
    "_dtype: object_"
   ]
  },
  {
   "cell_type": "code",
   "execution_count": 16,
   "id": "acd75c47",
   "metadata": {},
   "outputs": [
    {
     "data": {
      "text/plain": [
       "4"
      ]
     },
     "execution_count": 16,
     "metadata": {},
     "output_type": "execute_result"
    }
   ],
   "source": [
    "# get number of rows\n",
    "len(dataframe)\n",
    "# 4"
   ]
  },
  {
   "cell_type": "code",
   "execution_count": 17,
   "id": "9433c0cb",
   "metadata": {},
   "outputs": [],
   "source": [
    "data_index = ['Ad ut Nulla', 'Nisi est Pastrami', 'Jowl Magna', 'Anim Bacon Doner']\n",
    "\n",
    "data_columns = ['Q1', 'Q2', 'Q3']"
   ]
  },
  {
   "cell_type": "code",
   "execution_count": 18,
   "id": "be0d15f9",
   "metadata": {},
   "outputs": [
    {
     "data": {
      "text/html": [
       "<div>\n",
       "<style scoped>\n",
       "    .dataframe tbody tr th:only-of-type {\n",
       "        vertical-align: middle;\n",
       "    }\n",
       "\n",
       "    .dataframe tbody tr th {\n",
       "        vertical-align: top;\n",
       "    }\n",
       "\n",
       "    .dataframe thead th {\n",
       "        text-align: right;\n",
       "    }\n",
       "</style>\n",
       "<table border=\"1\" class=\"dataframe\">\n",
       "  <thead>\n",
       "    <tr style=\"text-align: right;\">\n",
       "      <th></th>\n",
       "      <th>Q1</th>\n",
       "      <th>Q2</th>\n",
       "      <th>Q3</th>\n",
       "    </tr>\n",
       "  </thead>\n",
       "  <tbody>\n",
       "    <tr>\n",
       "      <th>Ad ut Nulla</th>\n",
       "      <td>102</td>\n",
       "      <td>51</td>\n",
       "      <td>92</td>\n",
       "    </tr>\n",
       "    <tr>\n",
       "      <th>Nisi est Pastrami</th>\n",
       "      <td>14</td>\n",
       "      <td>71</td>\n",
       "      <td>60</td>\n",
       "    </tr>\n",
       "    <tr>\n",
       "      <th>Jowl Magna</th>\n",
       "      <td>20</td>\n",
       "      <td>102</td>\n",
       "      <td>82</td>\n",
       "    </tr>\n",
       "    <tr>\n",
       "      <th>Anim Bacon Doner</th>\n",
       "      <td>86</td>\n",
       "      <td>74</td>\n",
       "      <td>74</td>\n",
       "    </tr>\n",
       "  </tbody>\n",
       "</table>\n",
       "</div>"
      ],
      "text/plain": [
       "                    Q1   Q2  Q3\n",
       "Ad ut Nulla        102   51  92\n",
       "Nisi est Pastrami   14   71  60\n",
       "Jowl Magna          20  102  82\n",
       "Anim Bacon Doner    86   74  74"
      ]
     },
     "execution_count": 18,
     "metadata": {},
     "output_type": "execute_result"
    }
   ],
   "source": [
    "dataframe_with_labels = pd.DataFrame(random_data_array, data_index, data_columns)\n",
    "dataframe_with_labels"
   ]
  },
  {
   "cell_type": "markdown",
   "id": "c2a8c6f2",
   "metadata": {},
   "source": [
    "|    |  Q1 |  Q2 |  Q3 |\n",
    "| -- | -- | -- | -- |\n",
    "| Ad ut Nulla | 102 | 51 | 92 |\n",
    "| Nisi est Pastrami | 14 | 71 | 60 |\n",
    "| Jowl Magna | 20 | 102 | 82 |\n",
    "| Anim Bacon Doner | 86 | 74 | 74 |"
   ]
  },
  {
   "cell_type": "code",
   "execution_count": 19,
   "id": "0eed1fee",
   "metadata": {},
   "outputs": [
    {
     "name": "stdout",
     "output_type": "stream",
     "text": [
      "<class 'pandas.core.frame.DataFrame'>\n",
      "Index: 4 entries, Ad ut Nulla to Anim Bacon Doner\n",
      "Data columns (total 3 columns):\n",
      " #   Column  Non-Null Count  Dtype\n",
      "---  ------  --------------  -----\n",
      " 0   Q1      4 non-null      int64\n",
      " 1   Q2      4 non-null      int64\n",
      " 2   Q3      4 non-null      int64\n",
      "dtypes: int64(3)\n",
      "memory usage: 128.0+ bytes\n"
     ]
    }
   ],
   "source": [
    "dataframe_with_labels.info()\n",
    "# <class 'pandas.core.frame.DataFrame'>\n",
    "# Index: 4 entries, Ad ut Nulla to Anim Bacon Doner\n",
    "# Data columns (total 3 columns):\n",
    "#  #   Column  Non-Null Count  Dtype\n",
    "# ---  ------  --------------  -----\n",
    "#  0   Q1      4 non-null      int64\n",
    "#  1   Q2      4 non-null      int64\n",
    "#  2   Q3      4 non-null      int64\n",
    "# dtypes: int64(3)\n",
    "# memory usage: 128.0+ bytes\n"
   ]
  },
  {
   "cell_type": "markdown",
   "id": "1747cbdf",
   "metadata": {},
   "source": [
    "### Creating a Dataframe from a CSV File"
   ]
  },
  {
   "cell_type": "code",
   "execution_count": 21,
   "id": "826b518f",
   "metadata": {},
   "outputs": [
    {
     "name": "stdout",
     "output_type": "stream",
     "text": [
      "<class 'pandas.core.frame.DataFrame'>\n",
      "RangeIndex: 6497 entries, 0 to 6496\n",
      "Data columns (total 13 columns):\n",
      " #   Column                Non-Null Count  Dtype  \n",
      "---  ------                --------------  -----  \n",
      " 0   type                  6497 non-null   object \n",
      " 1   fixed acidity         6479 non-null   float64\n",
      " 2   volatile acidity      6489 non-null   float64\n",
      " 3   citric acid           6494 non-null   float64\n",
      " 4   residual sugar        6495 non-null   float64\n",
      " 5   chlorides             6495 non-null   float64\n",
      " 6   free sulfur dioxide   6497 non-null   float64\n",
      " 7   total sulfur dioxide  6497 non-null   float64\n",
      " 8   density               6497 non-null   float64\n",
      " 9   pH                    6488 non-null   float64\n",
      " 10  sulphates             6493 non-null   float64\n",
      " 11  alcohol               6497 non-null   float64\n",
      " 12  quality               6497 non-null   int64  \n",
      "dtypes: float64(11), int64(1), object(1)\n",
      "memory usage: 660.0+ KB\n"
     ]
    }
   ],
   "source": [
    "wine_dataset = pd.read_csv('datasets/wine-quality.csv')\n",
    "wine_dataset.info()"
   ]
  },
  {
   "cell_type": "markdown",
   "id": "6c350d4a",
   "metadata": {},
   "source": [
    "```\n",
    "<class 'pandas.core.frame.DataFrame'>\n",
    "RangeIndex: 4898 entries, 0 to 4897\n",
    "Data columns (total 12 columns):\n",
    " #   Column                Non-Null Count  Dtype  \n",
    "---  ------                --------------  -----  \n",
    " 0   fixed acidity         4898 non-null   float64\n",
    " 1   volatile acidity      4898 non-null   float64\n",
    " 2   citric acid           4898 non-null   float64\n",
    " 3   residual sugar        4898 non-null   float64\n",
    " 4   chlorides             4898 non-null   float64\n",
    " 5   free sulfur dioxide   4898 non-null   float64\n",
    " 6   total sulfur dioxide  4898 non-null   float64\n",
    " 7   density               4898 non-null   float64\n",
    " 8   pH                    4898 non-null   float64\n",
    " 9   sulphates             4898 non-null   float64\n",
    " 10  alcohol               4898 non-null   float64\n",
    " 11  quality               4898 non-null   int64  \n",
    "dtypes: float64(11), int64(1)\n",
    "memory usage: 459.3 KB\n",
    "```"
   ]
  },
  {
   "cell_type": "markdown",
   "id": "c78831bc",
   "metadata": {},
   "source": [
    "### Creating a Dataframe from a Excel File"
   ]
  },
  {
   "cell_type": "code",
   "execution_count": 5,
   "id": "53dcfb8a",
   "metadata": {},
   "outputs": [
    {
     "name": "stdout",
     "output_type": "stream",
     "text": [
      "<class 'pandas.core.frame.DataFrame'>\n",
      "RangeIndex: 4898 entries, 0 to 4897\n",
      "Data columns (total 12 columns):\n",
      " #   Column                Non-Null Count  Dtype  \n",
      "---  ------                --------------  -----  \n",
      " 0   fixed acidity         4898 non-null   float64\n",
      " 1   volatile acidity      4898 non-null   float64\n",
      " 2   citric acid           4898 non-null   float64\n",
      " 3   residual sugar        4898 non-null   float64\n",
      " 4   chlorides             4898 non-null   float64\n",
      " 5   free sulfur dioxide   4898 non-null   float64\n",
      " 6   total sulfur dioxide  4898 non-null   float64\n",
      " 7   density               4898 non-null   float64\n",
      " 8   pH                    4898 non-null   float64\n",
      " 9   sulphates             4898 non-null   float64\n",
      " 10  alcohol               4898 non-null   float64\n",
      " 11  quality               4898 non-null   int64  \n",
      "dtypes: float64(11), int64(1)\n",
      "memory usage: 459.3 KB\n"
     ]
    }
   ],
   "source": [
    "wine_dataset = pd.read_excel('datasets/wine-quality.xlsx', sheet_name='Sheet1')\n",
    "\n",
    "# dependency:\n",
    "# ImportError: Missing optional dependency 'openpyxl'.  Use pip or conda to install openpyxl.\n",
    "\n",
    "wine_dataset_excel = pd.DataFrame.from_dict(wine_dataset)\n",
    "\n",
    "wine_dataset_excel.info()"
   ]
  },
  {
   "cell_type": "markdown",
   "id": "07e59e10",
   "metadata": {},
   "source": [
    "```\n",
    "<class 'pandas.core.frame.DataFrame'>\n",
    "RangeIndex: 4898 entries, 0 to 4897\n",
    "Data columns (total 12 columns):\n",
    " #   Column                Non-Null Count  Dtype  \n",
    "---  ------                --------------  -----  \n",
    " 0   fixed acidity         4898 non-null   float64\n",
    " 1   volatile acidity      4898 non-null   float64\n",
    " 2   citric acid           4898 non-null   float64\n",
    " 3   residual sugar        4898 non-null   float64\n",
    " 4   chlorides             4898 non-null   float64\n",
    " 5   free sulfur dioxide   4898 non-null   float64\n",
    " 6   total sulfur dioxide  4898 non-null   float64\n",
    " 7   density               4898 non-null   float64\n",
    " 8   pH                    4898 non-null   float64\n",
    " 9   sulphates             4898 non-null   float64\n",
    " 10  alcohol               4898 non-null   float64\n",
    " 11  quality               4898 non-null   int64  \n",
    "dtypes: float64(11), int64(1)\n",
    "memory usage: 459.3 KB\n",
    "```"
   ]
  },
  {
   "cell_type": "code",
   "execution_count": 6,
   "id": "125f5335",
   "metadata": {},
   "outputs": [
    {
     "data": {
      "text/html": [
       "<div>\n",
       "<style scoped>\n",
       "    .dataframe tbody tr th:only-of-type {\n",
       "        vertical-align: middle;\n",
       "    }\n",
       "\n",
       "    .dataframe tbody tr th {\n",
       "        vertical-align: top;\n",
       "    }\n",
       "\n",
       "    .dataframe thead th {\n",
       "        text-align: right;\n",
       "    }\n",
       "</style>\n",
       "<table border=\"1\" class=\"dataframe\">\n",
       "  <thead>\n",
       "    <tr style=\"text-align: right;\">\n",
       "      <th></th>\n",
       "      <th>fixed acidity</th>\n",
       "      <th>volatile acidity</th>\n",
       "      <th>citric acid</th>\n",
       "      <th>residual sugar</th>\n",
       "      <th>chlorides</th>\n",
       "      <th>free sulfur dioxide</th>\n",
       "      <th>total sulfur dioxide</th>\n",
       "      <th>density</th>\n",
       "      <th>pH</th>\n",
       "      <th>sulphates</th>\n",
       "      <th>alcohol</th>\n",
       "      <th>quality</th>\n",
       "    </tr>\n",
       "  </thead>\n",
       "  <tbody>\n",
       "    <tr>\n",
       "      <th>0</th>\n",
       "      <td>7.0</td>\n",
       "      <td>0.27</td>\n",
       "      <td>0.36</td>\n",
       "      <td>20.7</td>\n",
       "      <td>0.045</td>\n",
       "      <td>45.0</td>\n",
       "      <td>170.0</td>\n",
       "      <td>1.001</td>\n",
       "      <td>3.0</td>\n",
       "      <td>0.45</td>\n",
       "      <td>8.8</td>\n",
       "      <td>6</td>\n",
       "    </tr>\n",
       "    <tr>\n",
       "      <th>1</th>\n",
       "      <td>6.3</td>\n",
       "      <td>0.30</td>\n",
       "      <td>0.34</td>\n",
       "      <td>1.6</td>\n",
       "      <td>0.049</td>\n",
       "      <td>14.0</td>\n",
       "      <td>132.0</td>\n",
       "      <td>0.994</td>\n",
       "      <td>3.3</td>\n",
       "      <td>0.49</td>\n",
       "      <td>9.5</td>\n",
       "      <td>6</td>\n",
       "    </tr>\n",
       "  </tbody>\n",
       "</table>\n",
       "</div>"
      ],
      "text/plain": [
       "   fixed acidity  volatile acidity  citric acid  residual sugar  chlorides  \\\n",
       "0            7.0              0.27         0.36            20.7      0.045   \n",
       "1            6.3              0.30         0.34             1.6      0.049   \n",
       "\n",
       "   free sulfur dioxide  total sulfur dioxide  density   pH  sulphates  \\\n",
       "0                 45.0                 170.0    1.001  3.0       0.45   \n",
       "1                 14.0                 132.0    0.994  3.3       0.49   \n",
       "\n",
       "   alcohol  quality  \n",
       "0      8.8        6  \n",
       "1      9.5        6  "
      ]
     },
     "execution_count": 6,
     "metadata": {},
     "output_type": "execute_result"
    }
   ],
   "source": [
    "wine_dataset_excel.head(2)"
   ]
  },
  {
   "cell_type": "markdown",
   "id": "e8d480d2",
   "metadata": {},
   "source": [
    "|  | fixed acidity | volatile acidity | citric acid | residual sugar | chlorides | free sulfur dioxide | total sulfur dioxide | density | pH | sulphates | alcohol | quality |\n",
    "| -- | -- | -- | -- | -- | -- | -- | -- | -- | -- | -- | -- | -- |\n",
    "| 0 | 7.0 | 0.27 | 0.36 | 20.7 | 0.045 | 45.0 | 170.0 | 1.001 | 3.0 | 0.45 | 8.8 | 6 |\n",
    "| 1 | 6.3 | 0.30 | 0.34 | 1.6 | 0.049 | 14.0 | 132.0 | 0.994 | 3.3 | 0.49 | 9.5 | 6 |"
   ]
  },
  {
   "cell_type": "markdown",
   "id": "60cae3cb",
   "metadata": {},
   "source": [
    "### Describe Dataframe"
   ]
  },
  {
   "cell_type": "code",
   "execution_count": 7,
   "id": "ab671ab4",
   "metadata": {},
   "outputs": [
    {
     "data": {
      "text/html": [
       "<div>\n",
       "<style scoped>\n",
       "    .dataframe tbody tr th:only-of-type {\n",
       "        vertical-align: middle;\n",
       "    }\n",
       "\n",
       "    .dataframe tbody tr th {\n",
       "        vertical-align: top;\n",
       "    }\n",
       "\n",
       "    .dataframe thead th {\n",
       "        text-align: right;\n",
       "    }\n",
       "</style>\n",
       "<table border=\"1\" class=\"dataframe\">\n",
       "  <thead>\n",
       "    <tr style=\"text-align: right;\">\n",
       "      <th></th>\n",
       "      <th>fixed acidity</th>\n",
       "      <th>volatile acidity</th>\n",
       "      <th>citric acid</th>\n",
       "      <th>residual sugar</th>\n",
       "      <th>chlorides</th>\n",
       "      <th>free sulfur dioxide</th>\n",
       "      <th>total sulfur dioxide</th>\n",
       "      <th>density</th>\n",
       "      <th>pH</th>\n",
       "      <th>sulphates</th>\n",
       "      <th>alcohol</th>\n",
       "      <th>quality</th>\n",
       "    </tr>\n",
       "  </thead>\n",
       "  <tbody>\n",
       "    <tr>\n",
       "      <th>count</th>\n",
       "      <td>4898.000000</td>\n",
       "      <td>4898.000000</td>\n",
       "      <td>4898.000000</td>\n",
       "      <td>4898.000000</td>\n",
       "      <td>4898.000000</td>\n",
       "      <td>4898.000000</td>\n",
       "      <td>4898.000000</td>\n",
       "      <td>4898.000000</td>\n",
       "      <td>4898.000000</td>\n",
       "      <td>4898.000000</td>\n",
       "      <td>4898.000000</td>\n",
       "      <td>4898.000000</td>\n",
       "    </tr>\n",
       "    <tr>\n",
       "      <th>mean</th>\n",
       "      <td>6.854788</td>\n",
       "      <td>0.278241</td>\n",
       "      <td>0.334192</td>\n",
       "      <td>6.391415</td>\n",
       "      <td>0.045772</td>\n",
       "      <td>35.308085</td>\n",
       "      <td>138.360657</td>\n",
       "      <td>0.994027</td>\n",
       "      <td>3.188267</td>\n",
       "      <td>0.489847</td>\n",
       "      <td>10.514267</td>\n",
       "      <td>5.877909</td>\n",
       "    </tr>\n",
       "    <tr>\n",
       "      <th>std</th>\n",
       "      <td>0.843868</td>\n",
       "      <td>0.100795</td>\n",
       "      <td>0.121020</td>\n",
       "      <td>5.072058</td>\n",
       "      <td>0.021848</td>\n",
       "      <td>17.007137</td>\n",
       "      <td>42.498065</td>\n",
       "      <td>0.002991</td>\n",
       "      <td>0.151001</td>\n",
       "      <td>0.114126</td>\n",
       "      <td>1.230621</td>\n",
       "      <td>0.885639</td>\n",
       "    </tr>\n",
       "    <tr>\n",
       "      <th>min</th>\n",
       "      <td>3.800000</td>\n",
       "      <td>0.080000</td>\n",
       "      <td>0.000000</td>\n",
       "      <td>0.600000</td>\n",
       "      <td>0.009000</td>\n",
       "      <td>2.000000</td>\n",
       "      <td>9.000000</td>\n",
       "      <td>0.987110</td>\n",
       "      <td>2.720000</td>\n",
       "      <td>0.220000</td>\n",
       "      <td>8.000000</td>\n",
       "      <td>3.000000</td>\n",
       "    </tr>\n",
       "    <tr>\n",
       "      <th>25%</th>\n",
       "      <td>6.300000</td>\n",
       "      <td>0.210000</td>\n",
       "      <td>0.270000</td>\n",
       "      <td>1.700000</td>\n",
       "      <td>0.036000</td>\n",
       "      <td>23.000000</td>\n",
       "      <td>108.000000</td>\n",
       "      <td>0.991723</td>\n",
       "      <td>3.090000</td>\n",
       "      <td>0.410000</td>\n",
       "      <td>9.500000</td>\n",
       "      <td>5.000000</td>\n",
       "    </tr>\n",
       "    <tr>\n",
       "      <th>50%</th>\n",
       "      <td>6.800000</td>\n",
       "      <td>0.260000</td>\n",
       "      <td>0.320000</td>\n",
       "      <td>5.200000</td>\n",
       "      <td>0.043000</td>\n",
       "      <td>34.000000</td>\n",
       "      <td>134.000000</td>\n",
       "      <td>0.993740</td>\n",
       "      <td>3.180000</td>\n",
       "      <td>0.470000</td>\n",
       "      <td>10.400000</td>\n",
       "      <td>6.000000</td>\n",
       "    </tr>\n",
       "    <tr>\n",
       "      <th>75%</th>\n",
       "      <td>7.300000</td>\n",
       "      <td>0.320000</td>\n",
       "      <td>0.390000</td>\n",
       "      <td>9.900000</td>\n",
       "      <td>0.050000</td>\n",
       "      <td>46.000000</td>\n",
       "      <td>167.000000</td>\n",
       "      <td>0.996100</td>\n",
       "      <td>3.280000</td>\n",
       "      <td>0.550000</td>\n",
       "      <td>11.400000</td>\n",
       "      <td>6.000000</td>\n",
       "    </tr>\n",
       "    <tr>\n",
       "      <th>max</th>\n",
       "      <td>14.200000</td>\n",
       "      <td>1.100000</td>\n",
       "      <td>1.660000</td>\n",
       "      <td>65.800000</td>\n",
       "      <td>0.346000</td>\n",
       "      <td>289.000000</td>\n",
       "      <td>440.000000</td>\n",
       "      <td>1.038980</td>\n",
       "      <td>3.820000</td>\n",
       "      <td>1.080000</td>\n",
       "      <td>14.200000</td>\n",
       "      <td>9.000000</td>\n",
       "    </tr>\n",
       "  </tbody>\n",
       "</table>\n",
       "</div>"
      ],
      "text/plain": [
       "       fixed acidity  volatile acidity  citric acid  residual sugar  \\\n",
       "count    4898.000000       4898.000000  4898.000000     4898.000000   \n",
       "mean        6.854788          0.278241     0.334192        6.391415   \n",
       "std         0.843868          0.100795     0.121020        5.072058   \n",
       "min         3.800000          0.080000     0.000000        0.600000   \n",
       "25%         6.300000          0.210000     0.270000        1.700000   \n",
       "50%         6.800000          0.260000     0.320000        5.200000   \n",
       "75%         7.300000          0.320000     0.390000        9.900000   \n",
       "max        14.200000          1.100000     1.660000       65.800000   \n",
       "\n",
       "         chlorides  free sulfur dioxide  total sulfur dioxide      density  \\\n",
       "count  4898.000000          4898.000000           4898.000000  4898.000000   \n",
       "mean      0.045772            35.308085            138.360657     0.994027   \n",
       "std       0.021848            17.007137             42.498065     0.002991   \n",
       "min       0.009000             2.000000              9.000000     0.987110   \n",
       "25%       0.036000            23.000000            108.000000     0.991723   \n",
       "50%       0.043000            34.000000            134.000000     0.993740   \n",
       "75%       0.050000            46.000000            167.000000     0.996100   \n",
       "max       0.346000           289.000000            440.000000     1.038980   \n",
       "\n",
       "                pH    sulphates      alcohol      quality  \n",
       "count  4898.000000  4898.000000  4898.000000  4898.000000  \n",
       "mean      3.188267     0.489847    10.514267     5.877909  \n",
       "std       0.151001     0.114126     1.230621     0.885639  \n",
       "min       2.720000     0.220000     8.000000     3.000000  \n",
       "25%       3.090000     0.410000     9.500000     5.000000  \n",
       "50%       3.180000     0.470000    10.400000     6.000000  \n",
       "75%       3.280000     0.550000    11.400000     6.000000  \n",
       "max       3.820000     1.080000    14.200000     9.000000  "
      ]
     },
     "execution_count": 7,
     "metadata": {},
     "output_type": "execute_result"
    }
   ],
   "source": [
    "wine_dataset_excel.describe()"
   ]
  },
  {
   "cell_type": "markdown",
   "id": "14b4da87",
   "metadata": {},
   "source": [
    "|  | fixed acidity | volatile acidity | citric acid | residual sugar | chlorides | free sulfur dioxide | total sulfur dioxide | density | pH | sulphates | alcohol | quality |\n",
    "| -- | -- | -- | -- | -- | -- | -- | -- | -- | -- | -- | -- | -- |\n",
    "| count | 4898.000000 | 4898.000000 | 4898.000000 | 4898.000000 | 4898.000000 | 4898.000000 | 4898.000000 | 4898.000000 | 4898.000000 | 4898.000000 | 4898.000000 | 4898.000000 |\n",
    "| mean | 6.854788 | 0.278241 | 0.334192 | 6.391415 | 0.045772 | 35.308085 | 138.360657 | 0.994027 | 3.188267 | 0.489847 | 10.514267 | 5.877909 |\n",
    "| std | 0.843868 | 0.100795 | 0.121020 | 5.072058 | 0.021848 | 17.007137 | 42.498065 | 0.002991 | 0.151001 | 0.114126 | 1.230621 | 0.885639 |\n",
    "| min | 3.800000 | 0.080000 | 0.000000 | 0.600000 | 0.009000 | 2.000000 | 9.000000 | 0.987110 | 2.720000 | 0.220000 | 8.000000 | 3.000000 |\n",
    "| 25 | \t6.300000 | 0.210000 | 0.270000 | 1.700000 | 0.036000 | 23.000000 | 108.000000 | 0.991723 | 3.090000 | 0.410000 | 9.500000 | 5.000000 |\n",
    "| 50 | \t6.800000 | 0.260000 | 0.320000 | 5.200000 | 0.043000 | 34.000000 | 134.000000 | 0.993740 | 3.180000 | 0.470000 | 10.400000 | 6.000000 |\n",
    "| 75 | \t7.300000 | 0.320000 | 0.390000 | 9.900000 | 0.050000 | 46.000000 | 167.000000 | 0.996100 | 3.280000 | 0.550000 | 11.400000 | 6.000000 |\n",
    "| max | 14.200000 | 1.100000 | 1.660000 | 65.800000 | 0.346000 | 289.000000 | 440.000000 | 1.038980 | 3.820000 | 1.080000 | 14.200000 | 9.000000 |\n",
    "\n",
    "\n",
    "* `DataFrame.count`: Count number of non-NA/null observations.\n",
    "* `DataFrame.max`: Maximum of the values in the object.\n",
    "* `DataFrame.min`: Minimum of the values in the object.\n",
    "* `DataFrame.mean`: Mean of the values.\n",
    "* `DataFrame.std`: Standard deviation of the observations.\n",
    "* `DataFrame.25`: Lower percentile - __75%__ of the data is above this value.\n",
    "* `DataFrame.75`: Upper percentile - __25%__ of the data is above this value.\n",
    "* `DataFrame.50`: The 50 percentile is the same as the median.\n"
   ]
  },
  {
   "cell_type": "markdown",
   "id": "05d92a31",
   "metadata": {},
   "source": [
    "### Dataframe Correlation Matrix\n",
    "\n",
    "Compute pairwise correlation of columns, excluding NA/null values. Generate values between `-1` and `1` to represent the negative or positive correlation between two values:"
   ]
  },
  {
   "cell_type": "code",
   "execution_count": 8,
   "id": "1b8c60a1",
   "metadata": {},
   "outputs": [
    {
     "data": {
      "text/html": [
       "<div>\n",
       "<style scoped>\n",
       "    .dataframe tbody tr th:only-of-type {\n",
       "        vertical-align: middle;\n",
       "    }\n",
       "\n",
       "    .dataframe tbody tr th {\n",
       "        vertical-align: top;\n",
       "    }\n",
       "\n",
       "    .dataframe thead th {\n",
       "        text-align: right;\n",
       "    }\n",
       "</style>\n",
       "<table border=\"1\" class=\"dataframe\">\n",
       "  <thead>\n",
       "    <tr style=\"text-align: right;\">\n",
       "      <th></th>\n",
       "      <th>fixed acidity</th>\n",
       "      <th>volatile acidity</th>\n",
       "      <th>citric acid</th>\n",
       "      <th>residual sugar</th>\n",
       "      <th>chlorides</th>\n",
       "      <th>free sulfur dioxide</th>\n",
       "      <th>total sulfur dioxide</th>\n",
       "      <th>density</th>\n",
       "      <th>pH</th>\n",
       "      <th>sulphates</th>\n",
       "      <th>alcohol</th>\n",
       "      <th>quality</th>\n",
       "    </tr>\n",
       "  </thead>\n",
       "  <tbody>\n",
       "    <tr>\n",
       "      <th>fixed acidity</th>\n",
       "      <td>1.000000</td>\n",
       "      <td>-0.022697</td>\n",
       "      <td>0.289181</td>\n",
       "      <td>0.089021</td>\n",
       "      <td>0.023086</td>\n",
       "      <td>-0.049396</td>\n",
       "      <td>0.091070</td>\n",
       "      <td>0.265331</td>\n",
       "      <td>-0.425858</td>\n",
       "      <td>-0.017143</td>\n",
       "      <td>-0.120881</td>\n",
       "      <td>-0.113663</td>\n",
       "    </tr>\n",
       "    <tr>\n",
       "      <th>volatile acidity</th>\n",
       "      <td>-0.022697</td>\n",
       "      <td>1.000000</td>\n",
       "      <td>-0.149472</td>\n",
       "      <td>0.064286</td>\n",
       "      <td>0.070512</td>\n",
       "      <td>-0.097012</td>\n",
       "      <td>0.089261</td>\n",
       "      <td>0.027114</td>\n",
       "      <td>-0.031915</td>\n",
       "      <td>-0.035728</td>\n",
       "      <td>0.067718</td>\n",
       "      <td>-0.194723</td>\n",
       "    </tr>\n",
       "    <tr>\n",
       "      <th>citric acid</th>\n",
       "      <td>0.289181</td>\n",
       "      <td>-0.149472</td>\n",
       "      <td>1.000000</td>\n",
       "      <td>0.094212</td>\n",
       "      <td>0.114364</td>\n",
       "      <td>0.094077</td>\n",
       "      <td>0.121131</td>\n",
       "      <td>0.149503</td>\n",
       "      <td>-0.163748</td>\n",
       "      <td>0.062331</td>\n",
       "      <td>-0.075729</td>\n",
       "      <td>-0.009209</td>\n",
       "    </tr>\n",
       "    <tr>\n",
       "      <th>residual sugar</th>\n",
       "      <td>0.089021</td>\n",
       "      <td>0.064286</td>\n",
       "      <td>0.094212</td>\n",
       "      <td>1.000000</td>\n",
       "      <td>0.088685</td>\n",
       "      <td>0.299098</td>\n",
       "      <td>0.401439</td>\n",
       "      <td>0.838966</td>\n",
       "      <td>-0.194133</td>\n",
       "      <td>-0.026664</td>\n",
       "      <td>-0.450631</td>\n",
       "      <td>-0.097577</td>\n",
       "    </tr>\n",
       "    <tr>\n",
       "      <th>chlorides</th>\n",
       "      <td>0.023086</td>\n",
       "      <td>0.070512</td>\n",
       "      <td>0.114364</td>\n",
       "      <td>0.088685</td>\n",
       "      <td>1.000000</td>\n",
       "      <td>0.101392</td>\n",
       "      <td>0.198910</td>\n",
       "      <td>0.257211</td>\n",
       "      <td>-0.090439</td>\n",
       "      <td>0.016763</td>\n",
       "      <td>-0.360189</td>\n",
       "      <td>-0.209934</td>\n",
       "    </tr>\n",
       "    <tr>\n",
       "      <th>free sulfur dioxide</th>\n",
       "      <td>-0.049396</td>\n",
       "      <td>-0.097012</td>\n",
       "      <td>0.094077</td>\n",
       "      <td>0.299098</td>\n",
       "      <td>0.101392</td>\n",
       "      <td>1.000000</td>\n",
       "      <td>0.615501</td>\n",
       "      <td>0.294210</td>\n",
       "      <td>-0.000618</td>\n",
       "      <td>0.059217</td>\n",
       "      <td>-0.250104</td>\n",
       "      <td>0.008158</td>\n",
       "    </tr>\n",
       "    <tr>\n",
       "      <th>total sulfur dioxide</th>\n",
       "      <td>0.091070</td>\n",
       "      <td>0.089261</td>\n",
       "      <td>0.121131</td>\n",
       "      <td>0.401439</td>\n",
       "      <td>0.198910</td>\n",
       "      <td>0.615501</td>\n",
       "      <td>1.000000</td>\n",
       "      <td>0.529881</td>\n",
       "      <td>0.002321</td>\n",
       "      <td>0.134562</td>\n",
       "      <td>-0.448892</td>\n",
       "      <td>-0.174737</td>\n",
       "    </tr>\n",
       "    <tr>\n",
       "      <th>density</th>\n",
       "      <td>0.265331</td>\n",
       "      <td>0.027114</td>\n",
       "      <td>0.149503</td>\n",
       "      <td>0.838966</td>\n",
       "      <td>0.257211</td>\n",
       "      <td>0.294210</td>\n",
       "      <td>0.529881</td>\n",
       "      <td>1.000000</td>\n",
       "      <td>-0.093591</td>\n",
       "      <td>0.074493</td>\n",
       "      <td>-0.780138</td>\n",
       "      <td>-0.307123</td>\n",
       "    </tr>\n",
       "    <tr>\n",
       "      <th>pH</th>\n",
       "      <td>-0.425858</td>\n",
       "      <td>-0.031915</td>\n",
       "      <td>-0.163748</td>\n",
       "      <td>-0.194133</td>\n",
       "      <td>-0.090439</td>\n",
       "      <td>-0.000618</td>\n",
       "      <td>0.002321</td>\n",
       "      <td>-0.093591</td>\n",
       "      <td>1.000000</td>\n",
       "      <td>0.155951</td>\n",
       "      <td>0.121432</td>\n",
       "      <td>0.099427</td>\n",
       "    </tr>\n",
       "    <tr>\n",
       "      <th>sulphates</th>\n",
       "      <td>-0.017143</td>\n",
       "      <td>-0.035728</td>\n",
       "      <td>0.062331</td>\n",
       "      <td>-0.026664</td>\n",
       "      <td>0.016763</td>\n",
       "      <td>0.059217</td>\n",
       "      <td>0.134562</td>\n",
       "      <td>0.074493</td>\n",
       "      <td>0.155951</td>\n",
       "      <td>1.000000</td>\n",
       "      <td>-0.017433</td>\n",
       "      <td>0.053678</td>\n",
       "    </tr>\n",
       "    <tr>\n",
       "      <th>alcohol</th>\n",
       "      <td>-0.120881</td>\n",
       "      <td>0.067718</td>\n",
       "      <td>-0.075729</td>\n",
       "      <td>-0.450631</td>\n",
       "      <td>-0.360189</td>\n",
       "      <td>-0.250104</td>\n",
       "      <td>-0.448892</td>\n",
       "      <td>-0.780138</td>\n",
       "      <td>0.121432</td>\n",
       "      <td>-0.017433</td>\n",
       "      <td>1.000000</td>\n",
       "      <td>0.435575</td>\n",
       "    </tr>\n",
       "    <tr>\n",
       "      <th>quality</th>\n",
       "      <td>-0.113663</td>\n",
       "      <td>-0.194723</td>\n",
       "      <td>-0.009209</td>\n",
       "      <td>-0.097577</td>\n",
       "      <td>-0.209934</td>\n",
       "      <td>0.008158</td>\n",
       "      <td>-0.174737</td>\n",
       "      <td>-0.307123</td>\n",
       "      <td>0.099427</td>\n",
       "      <td>0.053678</td>\n",
       "      <td>0.435575</td>\n",
       "      <td>1.000000</td>\n",
       "    </tr>\n",
       "  </tbody>\n",
       "</table>\n",
       "</div>"
      ],
      "text/plain": [
       "                      fixed acidity  volatile acidity  citric acid  \\\n",
       "fixed acidity              1.000000         -0.022697     0.289181   \n",
       "volatile acidity          -0.022697          1.000000    -0.149472   \n",
       "citric acid                0.289181         -0.149472     1.000000   \n",
       "residual sugar             0.089021          0.064286     0.094212   \n",
       "chlorides                  0.023086          0.070512     0.114364   \n",
       "free sulfur dioxide       -0.049396         -0.097012     0.094077   \n",
       "total sulfur dioxide       0.091070          0.089261     0.121131   \n",
       "density                    0.265331          0.027114     0.149503   \n",
       "pH                        -0.425858         -0.031915    -0.163748   \n",
       "sulphates                 -0.017143         -0.035728     0.062331   \n",
       "alcohol                   -0.120881          0.067718    -0.075729   \n",
       "quality                   -0.113663         -0.194723    -0.009209   \n",
       "\n",
       "                      residual sugar  chlorides  free sulfur dioxide  \\\n",
       "fixed acidity               0.089021   0.023086            -0.049396   \n",
       "volatile acidity            0.064286   0.070512            -0.097012   \n",
       "citric acid                 0.094212   0.114364             0.094077   \n",
       "residual sugar              1.000000   0.088685             0.299098   \n",
       "chlorides                   0.088685   1.000000             0.101392   \n",
       "free sulfur dioxide         0.299098   0.101392             1.000000   \n",
       "total sulfur dioxide        0.401439   0.198910             0.615501   \n",
       "density                     0.838966   0.257211             0.294210   \n",
       "pH                         -0.194133  -0.090439            -0.000618   \n",
       "sulphates                  -0.026664   0.016763             0.059217   \n",
       "alcohol                    -0.450631  -0.360189            -0.250104   \n",
       "quality                    -0.097577  -0.209934             0.008158   \n",
       "\n",
       "                      total sulfur dioxide   density        pH  sulphates  \\\n",
       "fixed acidity                     0.091070  0.265331 -0.425858  -0.017143   \n",
       "volatile acidity                  0.089261  0.027114 -0.031915  -0.035728   \n",
       "citric acid                       0.121131  0.149503 -0.163748   0.062331   \n",
       "residual sugar                    0.401439  0.838966 -0.194133  -0.026664   \n",
       "chlorides                         0.198910  0.257211 -0.090439   0.016763   \n",
       "free sulfur dioxide               0.615501  0.294210 -0.000618   0.059217   \n",
       "total sulfur dioxide              1.000000  0.529881  0.002321   0.134562   \n",
       "density                           0.529881  1.000000 -0.093591   0.074493   \n",
       "pH                                0.002321 -0.093591  1.000000   0.155951   \n",
       "sulphates                         0.134562  0.074493  0.155951   1.000000   \n",
       "alcohol                          -0.448892 -0.780138  0.121432  -0.017433   \n",
       "quality                          -0.174737 -0.307123  0.099427   0.053678   \n",
       "\n",
       "                       alcohol   quality  \n",
       "fixed acidity        -0.120881 -0.113663  \n",
       "volatile acidity      0.067718 -0.194723  \n",
       "citric acid          -0.075729 -0.009209  \n",
       "residual sugar       -0.450631 -0.097577  \n",
       "chlorides            -0.360189 -0.209934  \n",
       "free sulfur dioxide  -0.250104  0.008158  \n",
       "total sulfur dioxide -0.448892 -0.174737  \n",
       "density              -0.780138 -0.307123  \n",
       "pH                    0.121432  0.099427  \n",
       "sulphates            -0.017433  0.053678  \n",
       "alcohol               1.000000  0.435575  \n",
       "quality               0.435575  1.000000  "
      ]
     },
     "execution_count": 8,
     "metadata": {},
     "output_type": "execute_result"
    }
   ],
   "source": [
    "wine_dataset_excel.corr()"
   ]
  },
  {
   "cell_type": "markdown",
   "id": "88b1039e",
   "metadata": {},
   "source": [
    "|               | fixed acidity | volatile acidity | citric acid | residual sugar | chlorides | free sulfur dioxide | total sulfur dioxide | density | pH | sulphates | alcohol | quality |\n",
    "| -- |\t-- | -- | -- | -- | -- | -- | -- | -- | -- | -- | -- | -- |\n",
    "| fixed acidity |\t1.000000 | -0.022697 | 0.289181 | 0.089021 | 0.023086 | -0.049396 | 0.091070 | 0.265331 | -0.425858 | -0.017143 | -0.120881 | -0.113663 |\n",
    "| volatile acidity | -0.022697 | 1.000000 | -0.149472 | 0.064286 | 0.070512 | -0.097012 | 0.089261 | 0.027114 | -0.031915 | -0.035728 | 0.067718 | -0.194723 |\n",
    "| citric acid | 0.289181 | -0.149472 | 1.000000 | 0.094212 | 0.114364 | 0.094077 | 0.121131 | 0.149503 | -0.163748 | 0.062331 | -0.075729 | -0.009209 |\n",
    "| residual sugar | 0.089021 | 0.064286 | 0.094212 | 1.000000 | 0.088685 | 0.299098 | 0.401439 | 0.838966 | -0.194133 | -0.026664 | -0.450631 | -0.097577 |\n",
    "| chlorides | 0.023086 | 0.070512 | 0.114364 | 0.088685 | 1.000000 | 0.101392 | 0.198910 | 0.257211 | -0.090439 | 0.016763 | -0.360189 | -0.209934 |\n",
    "| free sulfur dioxide | -0.049396 | -0.097012 | 0.094077 | 0.299098 | 0.101392 | 1.000000 | 0.615501 | 0.294210 | -0.000618 | 0.059217 | -0.250104 | 0.008158 |\n",
    "| total sulfur dioxide | 0.091070 | 0.089261 | 0.121131 | 0.401439 | 0.198910 | 0.615501 | 1.000000 | 0.529881 | 0.002321 | 0.134562 | -0.448892 | -0.174737 |\n",
    "| density | 0.265331 | 0.027114 | 0.149503 | 0.838966 | 0.257211 | 0.294210 | 0.529881 | 1.000000 | -0.093591 | 0.074493 | -0.780138 | -0.307123 |\n",
    "| pH | -0.425858 | -0.031915 | -0.163748 | -0.194133 | -0.090439 | -0.000618 | 0.002321 | -0.093591 | 1.000000 | 0.155951 | 0.121432 | 0.099427 |\n",
    "| sulphates | -0.017143 | -0.035728 | 0.062331 | -0.026664 | 0.016763 | 0.059217 | 0.134562 | 0.074493 | 0.155951 | 1.000000 | -0.017433 | 0.053678 |\n",
    "| alcohol | -0.120881 | 0.067718 | -0.075729 | -0.450631 | -0.360189 | -0.250104 | -0.448892 | -0.780138 | 0.121432 | -0.017433 | 1.000000 | 0.435575 |\n",
    "| quality | -0.113663 | -0.194723 | -0.009209 | -0.097577 | -0.209934 | 0.008158 | -0.174737 | -0.307123 | 0.099427 | 0.053678 | 0.435575 | 1.000000 |"
   ]
  },
  {
   "cell_type": "markdown",
   "id": "69e52308",
   "metadata": {},
   "source": [
    "## Dataframes Columns\n",
    "\n",
    "### Value Counts for Categorical Values\n",
    "Count the number of entries in a categorical column for each categroy:"
   ]
  },
  {
   "cell_type": "code",
   "execution_count": 9,
   "id": "09a391a2",
   "metadata": {},
   "outputs": [
    {
     "data": {
      "text/plain": [
       "6    2198\n",
       "5    1457\n",
       "7     880\n",
       "8     175\n",
       "4     163\n",
       "3      20\n",
       "9       5\n",
       "Name: quality, dtype: int64"
      ]
     },
     "execution_count": 9,
     "metadata": {},
     "output_type": "execute_result"
    }
   ],
   "source": [
    "wine_dataset_excel['quality'].value_counts()\n",
    "# there are 5 wines with quality 9 but 2198 with quality 6"
   ]
  },
  {
   "cell_type": "markdown",
   "id": "cb1f82d6",
   "metadata": {},
   "source": [
    "|    |    |\n",
    "| -- | -- |\n",
    "| 6 | 2198 |\n",
    "| 5 | 1457 |\n",
    "| 7 | 880 |\n",
    "| 8 | 175 |\n",
    "| 4 | 163 |\n",
    "| 3 | 20 |\n",
    "| 9 | 5 |\n",
    "_Name: quality, dtype: int64_"
   ]
  },
  {
   "cell_type": "code",
   "execution_count": 10,
   "id": "385cba05",
   "metadata": {},
   "outputs": [
    {
     "data": {
      "text/plain": [
       "<Axes: >"
      ]
     },
     "execution_count": 10,
     "metadata": {},
     "output_type": "execute_result"
    },
    {
     "data": {
      "image/png": "[encoded data removed]",
      "text/plain": [
       "<Figure size 640x480 with 1 Axes>"
      ]
     },
     "metadata": {},
     "output_type": "display_data"
    }
   ],
   "source": [
    "wine_dataset_excel['quality'].value_counts().plot.bar()"
   ]
  },
  {
   "cell_type": "markdown",
   "id": "873ccc07",
   "metadata": {},
   "source": [
    "![Wine Quality Distribution](assets/Wine_Quality_Distribution_01.png)"
   ]
  },
  {
   "cell_type": "markdown",
   "id": "d5f55581",
   "metadata": {},
   "source": [
    "### Unique Entries in a Column"
   ]
  },
  {
   "cell_type": "code",
   "execution_count": 11,
   "id": "30f2212a",
   "metadata": {},
   "outputs": [
    {
     "name": "stdout",
     "output_type": "stream",
     "text": [
      "[6 5 7 8 4 3 9]\n",
      "7\n"
     ]
    }
   ],
   "source": [
    "print(wine_dataset_excel['quality'].unique())\n",
    "# array([6, 5, 7, 8, 4, 3, 9])\n",
    "# we don't have any wines with quality 1,2 or 10\n",
    "print(wine_dataset_excel['quality'].nunique())\n",
    "# 7\n",
    "# in total there are 7 classes"
   ]
  },
  {
   "cell_type": "markdown",
   "id": "57b14c35",
   "metadata": {},
   "source": [
    "### Selecting Columns"
   ]
  },
  {
   "cell_type": "code",
   "execution_count": 12,
   "id": "fc77a7fd",
   "metadata": {},
   "outputs": [
    {
     "data": {
      "text/plain": [
       "0       3.00\n",
       "1       3.30\n",
       "2       3.26\n",
       "3       3.19\n",
       "4       3.19\n",
       "        ... \n",
       "4893    3.27\n",
       "4894    3.15\n",
       "4895    2.99\n",
       "4896    3.34\n",
       "4897    3.26\n",
       "Name: pH, Length: 4898, dtype: float64"
      ]
     },
     "execution_count": 12,
     "metadata": {},
     "output_type": "execute_result"
    }
   ],
   "source": [
    "# Select a column to return a PandaSeries\n",
    "type(wine_dataset_excel['pH'])\n",
    "wine_dataset_excel['pH']"
   ]
  },
  {
   "cell_type": "markdown",
   "id": "2d2f10be",
   "metadata": {},
   "source": [
    "|    |    |\n",
    "| -- | -- |\n",
    "| 0 |    3.00 |\n",
    "| 1 |    3.30 |\n",
    "| 2 |    3.26 |\n",
    "| 3 |    3.19 |\n",
    "| 4 |    3.19 |\n",
    "|        ...  |\n",
    "| 4893 | 3.27 |\n",
    "| 4894 | 3.15 |\n",
    "| 4895 | 2.99 |\n",
    "| 4896 | 3.34 |\n",
    "| 4897 | 3.26 |\n",
    "\n",
    "Name: pH, Length: 4898, dtype: float64"
   ]
  },
  {
   "cell_type": "code",
   "execution_count": null,
   "id": "ce4195e2",
   "metadata": {},
   "outputs": [],
   "source": [
    "# select only wines with a pH of 2.72\n",
    "wine_dataset_excel[wine_dataset_excel['pH'] == 2.72]"
   ]
  },
  {
   "cell_type": "markdown",
   "id": "9967572f",
   "metadata": {},
   "source": [
    "|  | fixed acidity | volatile acidity | citric acid | residual sugar | chlorides | free sulfur dioxide | total sulfur dioxide | density | pH | sulphates | alcohol | quality |\n",
    "| -- | -- | -- | -- | -- | -- | -- | -- | -- | -- | -- | -- | -- |\n",
    "| 1900 | 10.0 | 0.23 | 0.27 | 14.1 | 0.033 | 45.0 | 166.0 | 0.9988 | 2.72 | 0.43 | 9.7 | 6 |"
   ]
  },
  {
   "cell_type": "code",
   "execution_count": 13,
   "id": "7d3816b4",
   "metadata": {},
   "outputs": [
    {
     "data": {
      "text/html": [
       "<div>\n",
       "<style scoped>\n",
       "    .dataframe tbody tr th:only-of-type {\n",
       "        vertical-align: middle;\n",
       "    }\n",
       "\n",
       "    .dataframe tbody tr th {\n",
       "        vertical-align: top;\n",
       "    }\n",
       "\n",
       "    .dataframe thead th {\n",
       "        text-align: right;\n",
       "    }\n",
       "</style>\n",
       "<table border=\"1\" class=\"dataframe\">\n",
       "  <thead>\n",
       "    <tr style=\"text-align: right;\">\n",
       "      <th></th>\n",
       "      <th>pH</th>\n",
       "      <th>alcohol</th>\n",
       "    </tr>\n",
       "  </thead>\n",
       "  <tbody>\n",
       "    <tr>\n",
       "      <th>0</th>\n",
       "      <td>3.00</td>\n",
       "      <td>8.8</td>\n",
       "    </tr>\n",
       "    <tr>\n",
       "      <th>1</th>\n",
       "      <td>3.30</td>\n",
       "      <td>9.5</td>\n",
       "    </tr>\n",
       "    <tr>\n",
       "      <th>2</th>\n",
       "      <td>3.26</td>\n",
       "      <td>10.1</td>\n",
       "    </tr>\n",
       "    <tr>\n",
       "      <th>3</th>\n",
       "      <td>3.19</td>\n",
       "      <td>9.9</td>\n",
       "    </tr>\n",
       "    <tr>\n",
       "      <th>4</th>\n",
       "      <td>3.19</td>\n",
       "      <td>9.9</td>\n",
       "    </tr>\n",
       "    <tr>\n",
       "      <th>...</th>\n",
       "      <td>...</td>\n",
       "      <td>...</td>\n",
       "    </tr>\n",
       "    <tr>\n",
       "      <th>4893</th>\n",
       "      <td>3.27</td>\n",
       "      <td>11.2</td>\n",
       "    </tr>\n",
       "    <tr>\n",
       "      <th>4894</th>\n",
       "      <td>3.15</td>\n",
       "      <td>9.6</td>\n",
       "    </tr>\n",
       "    <tr>\n",
       "      <th>4895</th>\n",
       "      <td>2.99</td>\n",
       "      <td>9.4</td>\n",
       "    </tr>\n",
       "    <tr>\n",
       "      <th>4896</th>\n",
       "      <td>3.34</td>\n",
       "      <td>12.8</td>\n",
       "    </tr>\n",
       "    <tr>\n",
       "      <th>4897</th>\n",
       "      <td>3.26</td>\n",
       "      <td>11.8</td>\n",
       "    </tr>\n",
       "  </tbody>\n",
       "</table>\n",
       "<p>4898 rows × 2 columns</p>\n",
       "</div>"
      ],
      "text/plain": [
       "        pH  alcohol\n",
       "0     3.00      8.8\n",
       "1     3.30      9.5\n",
       "2     3.26     10.1\n",
       "3     3.19      9.9\n",
       "4     3.19      9.9\n",
       "...    ...      ...\n",
       "4893  3.27     11.2\n",
       "4894  3.15      9.6\n",
       "4895  2.99      9.4\n",
       "4896  3.34     12.8\n",
       "4897  3.26     11.8\n",
       "\n",
       "[4898 rows x 2 columns]"
      ]
     },
     "execution_count": 13,
     "metadata": {},
     "output_type": "execute_result"
    }
   ],
   "source": [
    "# select multiple columns\n",
    "columns = ['pH', 'alcohol']\n",
    "type(wine_dataset_excel[columns])\n",
    "wine_dataset_excel[columns]"
   ]
  },
  {
   "cell_type": "markdown",
   "id": "040271fa",
   "metadata": {},
   "source": [
    "|    |  pH  |  alcohol  |\n",
    "| -- | -- | -- |\n",
    "| 0 | 3.00 | 8.8 |\n",
    "| 1 | 3.30 | 9.5 |\n",
    "| 2 | 3.26 | 10.1 |\n",
    "| 3 | 3.19 | 9.9 |\n",
    "| 4 | 3.19 | 9.9 |\n",
    "| ... |\n",
    "| 4893 | 3.27 | 11.2 |\n",
    "| 4894 | 3.15 | 9.6 |\n",
    "| 4895 | 2.99 | 9.4 |\n",
    "| 4896 | 3.34 | 12.8 |\n",
    "| 4897 | 3.26 | 11.8 |\n",
    "\n",
    "4898 rows × 2 columns\n",
    "Name: pH, Length: 4898, dtype: float64"
   ]
  },
  {
   "cell_type": "code",
   "execution_count": null,
   "id": "4736d09d",
   "metadata": {},
   "outputs": [],
   "source": [
    "plot = wine_dataset_excel[columns].plot.scatter(\n",
    "    figsize=(12,8),\n",
    "    x='pH',\n",
    "    y='alcohol')"
   ]
  },
  {
   "cell_type": "markdown",
   "id": "abe9f094",
   "metadata": {},
   "source": [
    "![Scatter Plot multiple columns](assets/Pandas_Scatter_Plot_Multiple_Columns_01.png)"
   ]
  },
  {
   "cell_type": "markdown",
   "id": "9944e1a0",
   "metadata": {},
   "source": [
    "### Renaming Categorical Values"
   ]
  },
  {
   "cell_type": "code",
   "execution_count": 14,
   "id": "0a6531a8",
   "metadata": {},
   "outputs": [
    {
     "data": {
      "text/plain": [
       "0       E\n",
       "1       E\n",
       "2       E\n",
       "3       E\n",
       "4       E\n",
       "       ..\n",
       "4893    E\n",
       "4894    F\n",
       "4895    E\n",
       "4896    D\n",
       "4897    E\n",
       "Name: quality, Length: 4898, dtype: object"
      ]
     },
     "execution_count": 14,
     "metadata": {},
     "output_type": "execute_result"
    }
   ],
   "source": [
    "wine_dataset_excel['quality'] = wine_dataset_excel['quality'].replace(\n",
    "    [10,9,8,7,6,5,4,3,2,1],\n",
    "    ['A','B','C','D','E','F','G','H','I','J']\n",
    ")\n",
    "\n",
    "wine_dataset_excel['quality']"
   ]
  },
  {
   "cell_type": "markdown",
   "id": "1f465ca5",
   "metadata": {},
   "source": [
    "|    |    |\n",
    "| -- | -- |\n",
    "| 0 | E |\n",
    "| 1 | E |\n",
    "| 2 | E |\n",
    "| 3 | E |\n",
    "| 4 | E |\n",
    "| ... |\n",
    "| 4893 | E |\n",
    "| 4894 | F |\n",
    "| 4895 | E |\n",
    "| 4896 | D |\n",
    "| 4897 | E |\n",
    "_Name: quality, Length: 4898, dtype: object_"
   ]
  },
  {
   "cell_type": "markdown",
   "id": "d9b28398",
   "metadata": {},
   "source": [
    "### Value Mapping"
   ]
  },
  {
   "cell_type": "code",
   "execution_count": null,
   "id": "d59c3820",
   "metadata": {},
   "outputs": [],
   "source": [
    "feature_map = {\n",
    "    'A':10,\n",
    "    'B': 9,\n",
    "    'C': 8,\n",
    "    'D': 7,\n",
    "    'E': 6,\n",
    "    'F': 5,\n",
    "    'G': 4,\n",
    "    'H': 3,\n",
    "    'I': 2,\n",
    "    'J': 1\n",
    "}\n",
    "\n",
    "wine_dataset_excel['quality'].map(feature_map)\n",
    "wine_dataset_excel['quality']"
   ]
  },
  {
   "cell_type": "markdown",
   "id": "d668b621",
   "metadata": {},
   "source": [
    "|    |    |\n",
    "| -- | -- |\n",
    "| 0 | E |\n",
    "| 1 | E |\n",
    "| 2 | E |\n",
    "| 3 | E |\n",
    "| 4 | E |\n",
    "| ... |\n",
    "| 4893 | E |\n",
    "| 4894 | F |\n",
    "| 4895 | E |\n",
    "| 4896 | D |\n",
    "| 4897 | E |\n",
    "_Name: quality, Length: 4898, dtype: object_"
   ]
  },
  {
   "cell_type": "markdown",
   "id": "b07329b7",
   "metadata": {},
   "source": [
    "### Sorting by Columns"
   ]
  },
  {
   "cell_type": "code",
   "execution_count": null,
   "id": "abbec469",
   "metadata": {},
   "outputs": [],
   "source": [
    "wine_dataset_excel.sort_values(by='quality', ascending=False, na_position='last')"
   ]
  },
  {
   "cell_type": "markdown",
   "id": "5ffe5c10",
   "metadata": {},
   "source": [
    "| index | fixed acidity | volatile acidity | citric acid | residual sugar | chlorides | free sulfur dioxide | total sulfur dioxide | density | pH | sulphates | alcohol | quality |\n",
    "| -- | -- | -- | -- | -- | -- | -- | -- | -- | -- | -- | -- | -- |\n",
    "| 827 | 7.4 | 0.24 | 0.36 | 2.00 | 0.031 | 27.0 | 139.0 | 0.99055 | 3.28 | 0.48 | 12.5 | 9 |\n",
    "| 1605 | 7.1 | 0.26 | 0.49 | 2.20 | 0.032 | 31.0 | 113.0 | 0.99030 | 3.37 | 0.42 | 12.9 | 9 |\n",
    "| 876 | 6.9 | 0.36 | 0.34 | 4.20 | 0.018 | 57.0 | 119.0 | 0.98980 | 3.28 | 0.36 | 12.7 | 9 |\n",
    "| 774 | 9.1 | 0.27 | 0.45 | 10.60 | 0.035 | 28.0 | 124.0 | 0.99700 | 3.20 | 0.46 | 10.4 | 9 |\n",
    "| 820 | 6.6 | 0.36 | 0.29 | 1.60 | 0.021 | 24.0 | 85.0 | 0.98965 | 3.41 | 0.61 | 12.4 | 9 |\n",
    "| ... |\n",
    "| 1484 | 7.5 | 0.32 | 0.24 | 4.60 | 0.053 | 8.0 | 134.0 | 0.99580 | 3.14 | 0.50 | 9.1 | 3 |\n",
    "| 2373 | 7.6 | 0.48 | 0.37 | 1.20 | 0.034 | 5.0 | 57.0 | 0.99256 | 3.05 | 0.54 | 10.4 | 3 |\n",
    "| 251 | 8.5 | 0.26 | 0.21 | 16.20 | 0.074 | 41.0 | 197.0 | 0.99800 | 3.02 | 0.50 | 9.8 | 3 |\n",
    "| 1688 | 6.7 | 0.25 | 0.26 | 1.55 | 0.041 | 118.5 | 216.0 | 0.99490 | 3.55 | 0.63 | 9.4 | 3 |\n",
    "| 253 | 5.8 | 0.24 | 0.44 | 3.50 | 0.029 | 5.0 | 109.0 | 0.99130 | 3.53 | 0.43 | 11.7 | 3 |"
   ]
  },
  {
   "cell_type": "code",
   "execution_count": null,
   "id": "6df1d05e",
   "metadata": {},
   "outputs": [],
   "source": [
    "wine_dataset_excel.sort_values(by=['alcohol', 'residual sugar'], ascending=False, na_position='first')"
   ]
  },
  {
   "cell_type": "markdown",
   "id": "e8778908",
   "metadata": {},
   "source": [
    "| index | fixed acidity | volatile acidity | citric acid | residual sugar | chlorides | free sulfur dioxide | total sulfur dioxide | density | pH | sulphates | alcohol | quality |\n",
    "| -- | -- | -- | -- | -- | -- | -- | -- | -- | -- | -- | -- | -- |\n",
    "| 3918 | 6.4 | 0.350 | 0.28 | 1.60 | 0.037 | 31.0 | 113.0 | 0.98779 | 3.12 | 0.40 | 14.20 | 7 |\n",
    "| 4503 | 5.8 | 0.610 | 0.01 | 8.40 | 0.041 | 31.0 | 104.0 | 0.99090 | 3.26 | 0.72 | 14.05 | 7 |\n",
    "| 3150 | 5.8 | 0.390 | 0.47 | 7.50 | 0.027 | 12.0 | 88.0 | 0.99070 | 3.38 | 0.45 | 14.00 | 6 |\n",
    "| 1099 | 5.8 | 0.290 | 0.21 | 2.60 | 0.025 | 12.0 | 120.0 | 0.98940 | 3.39 | 0.79 | 14.00 | 7 |\n",
    "| 3904 | 5.0 | 0.455 | 0.18 | 1.90 | 0.036 | 33.0 | 106.0 | 0.98746 | 3.21 | 0.83 | 14.00 | 7 |\n",
    "| ... |\n",
    "| 4020 | 6.4 | 0.370 | 0.12 | 5.90 | 0.056 | 6.0 | 91.0 | 0.99536 | 3.06 | 0.46 | 8.40 | 4 |\n",
    "| 3835 | 6.2 | 0.310 | 0.23 | 3.30 | 0.052 | 34.0 | 113.0 | 0.99429 | 3.16 | 0.48 | 8.40 | 5 |\n",
    "| 3839 | 6.2 | 0.310 | 0.23 | 3.30 | 0.052 | 34.0 | 113.0 | 0.99429 | 3.16 | 0.48 | 8.40 | 5 |\n",
    "| 3265 | 4.2 | 0.215 | 0.23 | 5.10 | 0.041 | 64.0 | 157.0 | 0.99688 | 3.42 | 0.44 | 8.00 | 3 |\n",
    "| 2625 | 4.5 | 0.190 | 0.21 | 0.95 | 0.033 | 89.0 | 159.0 | 0.99332 | 3.34 | 0.42 | 8.00 | 5 |"
   ]
  },
  {
   "cell_type": "markdown",
   "id": "c55ebf48",
   "metadata": {},
   "source": [
    "### Find Min/Max Value in Column"
   ]
  },
  {
   "cell_type": "code",
   "execution_count": null,
   "id": "4dc9d38f",
   "metadata": {},
   "outputs": [],
   "source": [
    "# return max value in column\n",
    "wine_dataset_excel['total sulfur dioxide'].max()\n",
    "# 440.0"
   ]
  },
  {
   "cell_type": "code",
   "execution_count": null,
   "id": "572c1189",
   "metadata": {},
   "outputs": [],
   "source": [
    "# return max value location in column\n",
    "max_value_location = wine_dataset_excel['total sulfur dioxide'].idxmax()\n",
    "print(max_value_location)\n",
    "# 4745\n",
    "wine_dataset_excel.iloc[max_value_location]"
   ]
  },
  {
   "cell_type": "markdown",
   "id": "44b991d3",
   "metadata": {},
   "source": [
    "|    |    |\n",
    "| -- | -- |\n",
    "| fixed acidity | 6.10000 |\n",
    "| volatile acidity | 0.26000 |\n",
    "| citric acid | 0.25000 |\n",
    "| residual sugar | 2.90000 |\n",
    "| chlorides | 0.04700 |\n",
    "| free sulfur dioxide | 289.00000 |\n",
    "| total sulfur dioxide | 440.00000 |\n",
    "| density | 0.99314 |\n",
    "| pH | 3.44000 |\n",
    "| sulphates | 0.64000 |\n",
    "| alcohol | 10.50000 |\n",
    "| quality | 3.00000 |\n",
    "_Name: 4745, dtype: float64_"
   ]
  },
  {
   "cell_type": "code",
   "execution_count": null,
   "id": "39262787",
   "metadata": {},
   "outputs": [],
   "source": [
    "# return min value location in column\n",
    "min_value_location = wine_dataset_excel['total sulfur dioxide'].idxmin()\n",
    "print(min_value_location)\n",
    "# 3710\n",
    "wine_dataset_excel.iloc[min_value_location]"
   ]
  },
  {
   "cell_type": "markdown",
   "id": "f25b98af",
   "metadata": {},
   "source": [
    "|    |    |\n",
    "| -- | -- |\n",
    "| fixed acidity | 4.70000 |\n",
    "| volatile acidity | 0.67000 |\n",
    "| citric acid | 0.09000 |\n",
    "| residual sugar | 1.00000 |\n",
    "| chlorides | 0.02000 |\n",
    "| free sulfur dioxide | 5.00000 |\n",
    "| total sulfur dioxide | 9.00000 |\n",
    "| density | 0.98722 |\n",
    "| pH | 3.30000 |\n",
    "| sulphates | 0.34000 |\n",
    "| alcohol | 13.60000 |\n",
    "| quality | 5.00000 |\n",
    "_Name: 3710, dtype: float64_"
   ]
  },
  {
   "cell_type": "markdown",
   "id": "044ff06a",
   "metadata": {},
   "source": [
    "### Adding Columns"
   ]
  },
  {
   "cell_type": "code",
   "execution_count": null,
   "id": "69d32c41",
   "metadata": {},
   "outputs": [],
   "source": [
    "wine_dataset_excel['total acidity'] = wine_dataset_excel['fixed acidity'] + wine_dataset_excel['volatile acidity']\n",
    "wine_dataset_excel"
   ]
  },
  {
   "cell_type": "markdown",
   "id": "a2a2cc1d",
   "metadata": {},
   "source": [
    "|    |  fixed acidity  |  volatile acidity  | citric acid | residual sugar | chlorides | free sulfur dioxide | total sulfur dioxide | density | pH | sulphates | alcohol | quality | total acidity |\n",
    "| -- | --              | --                 | --          | --             | --        | --                  | --                   | --      | -- | --        | --      | --      | --            |\n",
    "| 0 | 7.0 | 0.27 | 0.36 | 20.7 | 0.045 | 45.0 | 170.0 | 1.00100 | 3.00 | 0.45 | 8.8 | 6 | 7.27 |\n",
    "| 1 | 6.3 | 0.30 | 0.34 | 1.6 | 0.049 | 14.0 | 132.0 | 0.99400 | 3.30 | 0.49 | 9.5 | 6 | 6.60 |\n",
    "| 2 | 8.1 | 0.28 | 0.40 | 6.9 | 0.050 | 30.0 | 97.0 | 0.99510 | 3.26 | 0.44 | 10.1 | 6 | 8.38 |\n",
    "| 3 | 7.2 | 0.23 | 0.32 | 8.5 | 0.058 | 47.0 | 186.0 | 0.99560 | 3.19 | 0.40 | 9.9 | 6 | 7.43 |\n",
    "| 4 | 7.2 | 0.23 | 0.32 | 8.5 | 0.058 | 47.0 | 186.0 | 0.99560 | 3.19 | 0.40 | 9.9 | 6 | 7.43 |\n",
    "| ... |\n",
    "| 4893 | 6.2 | 0.21 | 0.29 | 1.6 | 0.039 | 24.0 | 92.0 | 0.99114 | 3.27 | 0.50 | 11.2 | 6 | 6.41 |\n",
    "| 4894 | 6.6 | 0.32 | 0.36 | 8.0 | 0.047 | 57.0 | 168.0 | 0.99490 | 3.15 | 0.46 | 9.6 | 5 | 6.92 |\n",
    "| 4895 | 6.5 | 0.24 | 0.19 | 1.2 | 0.041 | 30.0 | 111.0 | 0.99254 | 2.99 | 0.46 | 9.4 | 6 | 6.74 |\n",
    "| 4896 | 5.5 | 0.29 | 0.30 | 1.1 | 0.022 | 20.0 | 110.0 | 0.98869 | 3.34 | 0.38 | 12.8 | 7 | 5.79 |\n",
    "| 4897 | 6.0 | 0.21 | 0.38 | 0.8 | 0.020 | 22.0 | 98.0 | 0.98941 | 3.26 | 0.32 | 11.8 | 6 | 6.21 |"
   ]
  },
  {
   "cell_type": "markdown",
   "id": "7c0b97ae",
   "metadata": {},
   "source": [
    "### Removing Columns"
   ]
  },
  {
   "cell_type": "code",
   "execution_count": null,
   "id": "08a03971",
   "metadata": {},
   "outputs": [],
   "source": [
    "wine_dataset_excel_dropped = wine_dataset_excel.drop(['total acidity'], axis=1)\n",
    "wine_dataset_excel_dropped"
   ]
  },
  {
   "cell_type": "markdown",
   "id": "f0b9b0cb",
   "metadata": {},
   "source": [
    "|    |  fixed acidity  |  volatile acidity  | citric acid | residual sugar | chlorides | free sulfur dioxide | total sulfur dioxide | density | pH | sulphates | alcohol | quality |\n",
    "| -- | --              | --                 | --          | --             | --        | --                  | --                   | --      | -- | --        | --      | --      |\n",
    "| 0 | 7.0 | 0.27 | 0.36 | 20.7 | 0.045 | 45.0 | 170.0 | 1.00100 | 3.00 | 0.45 | 8.8 | 6 |\n",
    "| 1 | 6.3 | 0.30 | 0.34 | 1.6 | 0.049 | 14.0 | 132.0 | 0.99400 | 3.30 | 0.49 | 9.5 | 6 |\n",
    "| 2 | 8.1 | 0.28 | 0.40 | 6.9 | 0.050 | 30.0 | 97.0 | 0.99510 | 3.26 | 0.44 | 10.1 | 6 |\n",
    "| 3 | 7.2 | 0.23 | 0.32 | 8.5 | 0.058 | 47.0 | 186.0 | 0.99560 | 3.19 | 0.40 | 9.9 | 6 |\n",
    "| 4 | 7.2 | 0.23 | 0.32 | 8.5 | 0.058 | 47.0 | 186.0 | 0.99560 | 3.19 | 0.40 | 9.9 | 6 |\n",
    "| ... |\n",
    "| 4893 | 6.2 | 0.21 | 0.29 | 1.6 | 0.039 | 24.0 | 92.0 | 0.99114 | 3.27 | 0.50 | 11.2 | 6 |\n",
    "| 4894 | 6.6 | 0.32 | 0.36 | 8.0 | 0.047 | 57.0 | 168.0 | 0.99490 | 3.15 | 0.46 | 9.6 | 5 |\n",
    "| 4895 | 6.5 | 0.24 | 0.19 | 1.2 | 0.041 | 30.0 | 111.0 | 0.99254 | 2.99 | 0.46 | 9.4 | 6 |\n",
    "| 4896 | 5.5 | 0.29 | 0.30 | 1.1 | 0.022 | 20.0 | 110.0 | 0.98869 | 3.34 | 0.38 | 12.8 | 7 |\n",
    "| 4897 | 6.0 | 0.21 | 0.38 | 0.8 | 0.020 | 22.0 | 98.0 | 0.98941 | 3.26 | 0.32 | 11.8 | 6 |"
   ]
  },
  {
   "cell_type": "markdown",
   "id": "a3d008a9",
   "metadata": {},
   "source": [
    "## Dataframes Rows\n",
    "\n",
    "### Setting an Index Column"
   ]
  },
  {
   "cell_type": "code",
   "execution_count": null,
   "id": "ef7d1f61",
   "metadata": {},
   "outputs": [],
   "source": [
    "# adding an index column\n",
    "wine_dataset_excel_dropped['index'] = range(1, len(wine_dataset_excel_dropped) + 1)\n",
    "wine_dataset_excel_dropped.head(2)"
   ]
  },
  {
   "cell_type": "markdown",
   "id": "93798965",
   "metadata": {},
   "source": [
    "|    |  fixed acidity  |  volatile acidity  | citric acid | residual sugar | chlorides | free sulfur dioxide | total sulfur dioxide | density | pH | sulphates | alcohol | quality | index |\n",
    "| -- | --              | --                 | --          | --             | --        | --                  | --                   | --      | -- | --        | --      | --      | --            |\n",
    "| 0 | 7.0 | 0.27 | 0.36 | 20.7 | 0.045 | 45.0 | 170.0 | 1.00100 | 3.00 | 0.45 | 8.8 | 6 | 1 |\n",
    "| 1 | 6.3 | 0.30 | 0.34 | 1.6 | 0.049 | 14.0 | 132.0 | 0.99400 | 3.30 | 0.49 | 9.5 | 6 | 2 |"
   ]
  },
  {
   "cell_type": "code",
   "execution_count": null,
   "id": "68a1d391",
   "metadata": {},
   "outputs": [],
   "source": [
    "wine_dataset_excel_indexed = wine_dataset_excel_dropped.set_index('index')\n",
    "wine_dataset_excel_indexed.head(2)"
   ]
  },
  {
   "cell_type": "markdown",
   "id": "ae93fae0",
   "metadata": {},
   "source": [
    "| index |  fixed acidity  |  volatile acidity  | citric acid | residual sugar | chlorides | free sulfur dioxide | total sulfur dioxide | density | pH | sulphates | alcohol | quality |\n",
    "| -- | -- | -- | -- | -- | -- | -- | -- | --  | -- | -- | -- | -- |\n",
    "| 1 | 7.0 | 0.27 | 0.36 | 20.7 | 0.045 | 45.0 | 170.0 | 1.00100 | 3.00 | 0.45 | 8.8 | 6 |\n",
    "| 2 | 6.3 | 0.30 | 0.34 | 1.6 | 0.049 | 14.0 | 132.0 | 0.99400 | 3.30 | 0.49 | 9.5 | 6 |"
   ]
  },
  {
   "cell_type": "code",
   "execution_count": null,
   "id": "e0cf916d",
   "metadata": {},
   "outputs": [],
   "source": [
    "# resetting the index turns index into a regular column again\n",
    "wine_dataset_excel_indexed.reset_index()"
   ]
  },
  {
   "cell_type": "markdown",
   "id": "72e6f199",
   "metadata": {},
   "source": [
    "### Selecting Rows"
   ]
  },
  {
   "cell_type": "code",
   "execution_count": null,
   "id": "1af53832",
   "metadata": {},
   "outputs": [],
   "source": [
    "# select first rows by integer location\n",
    "wine_dataset_excel_indexed.iloc[0]"
   ]
  },
  {
   "cell_type": "markdown",
   "id": "f9ec71ec",
   "metadata": {},
   "source": [
    "|    |    |\n",
    "| -- | -- |\n",
    "| fixed acidity | 7.000 |\n",
    "| volatile acidity | 0.270 |\n",
    "| citric acid | 0.360 |\n",
    "| residual sugar | 20.700 |\n",
    "| chlorides | 0.045 |\n",
    "| free sulfur dioxide | 45.000 |\n",
    "| total sulfur dioxide | 170.000 |\n",
    "| density | 1.001 |\n",
    "| pH | 3.000 |\n",
    "| sulphates | 0.450 |\n",
    "| alcohol | 8.800 |\n",
    "| quality | 6.000 |"
   ]
  },
  {
   "cell_type": "code",
   "execution_count": null,
   "id": "3c8a9039",
   "metadata": {},
   "outputs": [],
   "source": [
    "# select first row by labelled index\n",
    "wine_dataset_excel_indexed.loc[1]"
   ]
  },
  {
   "cell_type": "markdown",
   "id": "0edc519a",
   "metadata": {},
   "source": [
    "|    |    |\n",
    "| -- | -- |\n",
    "| fixed acidity | 7.000 |\n",
    "| volatile acidity | 0.270 |\n",
    "| citric acid | 0.360 |\n",
    "| residual sugar | 20.700 |\n",
    "| chlorides | 0.045 |\n",
    "| free sulfur dioxide | 45.000 |\n",
    "| total sulfur dioxide | 170.000 |\n",
    "| density | 1.001 |\n",
    "| pH | 3.000 |\n",
    "| sulphates | 0.450 |\n",
    "| alcohol | 8.800 |\n",
    "| quality | 6.000 |"
   ]
  },
  {
   "cell_type": "code",
   "execution_count": null,
   "id": "4755e012",
   "metadata": {},
   "outputs": [],
   "source": [
    "# select multiple rows by iloc\n",
    "wine_dataset_excel_indexed.iloc[:3]"
   ]
  },
  {
   "cell_type": "markdown",
   "id": "88826b7a",
   "metadata": {},
   "source": [
    "| index |  fixed acidity  |  volatile acidity  | citric acid | residual sugar | chlorides | free sulfur dioxide | total sulfur dioxide | density | pH | sulphates | alcohol | quality |\n",
    "| -- | -- | -- | -- | -- | -- | -- | -- | --  | -- | -- | -- | -- |\n",
    "| 1 | 7.0 | 0.27 | 0.36 | 20.7 | 0.045 | 45.0 | 170.0 | 1.0010 | 3.00 | 0.45 | 8.8 | 6 |\n",
    "| 2 | 6.3 | 0.30 | 0.34 | 1.6 | 0.049 | 14.0 | 132.0 | 0.9940 | 3.30 | 0.49 | 9.5 | 6 |\n",
    "| 3 | 8.1 | 0.28 | 0.40 | 6.9 | 0.050 | 30.0 | 97.0 | 0.9951 | 3.26 | 0.44 | 10.1 | 6 |"
   ]
  },
  {
   "cell_type": "code",
   "execution_count": null,
   "id": "c010b65b",
   "metadata": {},
   "outputs": [],
   "source": [
    "# select multiple rows by loc\n",
    "wine_dataset_excel_indexed.loc[[111,222,333]]"
   ]
  },
  {
   "cell_type": "markdown",
   "id": "d2f9eb8c",
   "metadata": {},
   "source": [
    "| index |  fixed acidity  |  volatile acidity  | citric acid | residual sugar | chlorides | free sulfur dioxide | total sulfur dioxide | density | pH | sulphates | alcohol | quality |\n",
    "| -- | -- | -- | -- | -- | -- | -- | -- | --  | -- | -- | -- | -- |\n",
    "| 111 | 6.5 | 0.170 | 0.54 | 8.5 | 0.082 | 64.0 | 163.0 | 0.9959 | 2.89 | 0.39 | 8.8 | 6 |\n",
    "| 222 | 7.2 | 0.685 | 0.21 | 9.5 | 0.070 | 33.0 | 172.0 | 0.9971 | 3.00 | 0.55 | 9.1 | 6 |\n",
    "| 333 | 6.3 | 0.230 | 0.30 | 1.8 | 0.033 | 16.0 | 91.0 | 0.9906 | 3.28 | 0.40 | 11.8 | 6 |"
   ]
  },
  {
   "cell_type": "markdown",
   "id": "54955d68",
   "metadata": {},
   "source": [
    "### Removing Rows"
   ]
  },
  {
   "cell_type": "code",
   "execution_count": null,
   "id": "79acf840",
   "metadata": {},
   "outputs": [],
   "source": [
    "wine_dataset_excel_indexed.drop(1, axis=0)"
   ]
  },
  {
   "cell_type": "markdown",
   "id": "910e7422",
   "metadata": {},
   "source": [
    "| index |  fixed acidity  |  volatile acidity  | citric acid | residual sugar | chlorides | free sulfur dioxide | total sulfur dioxide | density | pH | sulphates | alcohol | quality |\n",
    "| -- | -- | -- | -- | -- | -- | -- | -- | --  | -- | -- | -- | -- |\n",
    "| 2 | 6.3 | 0.30 | 0.34 | 1.6 | 0.049 | 14.0 | 132.0 | 0.9940 | 3.30 | 0.49 | 9.5 | 6 |\n",
    "| 3 | 8.1 | 0.28 | 0.40 | 6.9 | 0.050 | 30.0 | 97.0 | 0.9951 | 3.26 | 0.44 | 10.1 | 6 |\n",
    "| ... |"
   ]
  },
  {
   "cell_type": "markdown",
   "id": "aeb6e030",
   "metadata": {},
   "source": [
    "### Inserting Rows"
   ]
  },
  {
   "cell_type": "code",
   "execution_count": null,
   "id": "e92bb249",
   "metadata": {},
   "outputs": [],
   "source": [
    "# copy a row\n",
    "row_copy = wine_dataset_excel_indexed.iloc[0]"
   ]
  },
  {
   "cell_type": "code",
   "execution_count": null,
   "id": "19980b2c",
   "metadata": {},
   "outputs": [],
   "source": [
    "wine_dataset_excel_indexed.append(row_copy)\n",
    "# FutureWarning: The frame.append method is deprecated and will be removed\n",
    "# from pandas in a future version. Use pandas.concat instead."
   ]
  },
  {
   "cell_type": "markdown",
   "id": "9de8d75f",
   "metadata": {},
   "source": [
    "| index |  fixed acidity  |  volatile acidity  | citric acid | residual sugar | chlorides | free sulfur dioxide | total sulfur dioxide | density | pH | sulphates | alcohol | quality |\n",
    "| -- | -- | -- | -- | -- | -- | -- | -- | --  | -- | -- | -- | -- |\n",
    "| 1 | 7.0 | 0.27 | 0.36 | 20.7 | 0.045 | 45.0 | 170.0 | 1.00100 | 3.00 | 0.45 | 8.8 | 6.0 |\n",
    "| 2 | 6.3 | 0.30 | 0.34 | 1.6 | 0.049 | 14.0 | 132.0 | 0.99400 | 3.30 | 0.49 | 9.5 | 6.0 |\n",
    "| ... |\n",
    "| 4898 | 6.0 | 0.21 | 0.38 | 0.8 | 0.020 | 22.0 | 98.0 | 0.98941 | 3.26 | 0.32 | 11.8 | 6.0 |\n",
    "| 1 | 7.0 | 0.27 | 0.36 | 20.7 | 0.045 | 45.0 | 170.0 | 1.00100 | 3.00 | 0.45 | 8.8 | 6.0 |"
   ]
  },
  {
   "cell_type": "code",
   "execution_count": null,
   "id": "df3adde5",
   "metadata": {},
   "outputs": [],
   "source": [
    "pd.concat([wine_dataset_excel_indexed, row_copy.to_frame().T], ignore_index=False)"
   ]
  },
  {
   "cell_type": "markdown",
   "id": "1c096a26",
   "metadata": {},
   "source": [
    "| index |  fixed acidity  |  volatile acidity  | citric acid | residual sugar | chlorides | free sulfur dioxide | total sulfur dioxide | density | pH | sulphates | alcohol | quality |\n",
    "| -- | -- | -- | -- | -- | -- | -- | -- | --  | -- | -- | -- | -- |\n",
    "| 1 | 7.0 | 0.27 | 0.36 | 20.7 | 0.045 | 45.0 | 170.0 | 1.00100 | 3.00 | 0.45 | 8.8 | 6.0 |\n",
    "| 2 | 6.3 | 0.30 | 0.34 | 1.6 | 0.049 | 14.0 | 132.0 | 0.99400 | 3.30 | 0.49 | 9.5 | 6.0 |\n",
    "| ... |\n",
    "| 4898 | 6.0 | 0.21 | 0.38 | 0.8 | 0.020 | 22.0 | 98.0 | 0.98941 | 3.26 | 0.32 | 11.8 | 6.0 |\n",
    "| 1 | 7.0 | 0.27 | 0.36 | 20.7 | 0.045 | 45.0 | 170.0 | 1.00100 | 3.00 | 0.45 | 8.8 | 6.0 |"
   ]
  },
  {
   "cell_type": "markdown",
   "id": "b6448b14",
   "metadata": {},
   "source": [
    "### Removing Duplicated Rows"
   ]
  },
  {
   "cell_type": "code",
   "execution_count": null,
   "id": "87c74b99",
   "metadata": {},
   "outputs": [],
   "source": [
    "# test for duplicated rows\n",
    "wine_dataset_excel.duplicated()"
   ]
  },
  {
   "cell_type": "markdown",
   "id": "b9d050ed",
   "metadata": {},
   "source": [
    "The 4th row contains a duplicated entry:\n",
    "\n",
    "|    |    |\n",
    "| -- | -- |\n",
    "| 0 | False |\n",
    "| 1 | False |\n",
    "| 2 | False |\n",
    "| 3 | False |\n",
    "| 4 | True |\n",
    "| ...  |\n",
    "| 4893 | False |\n",
    "| 4894 | False |\n",
    "| 4895 | False |\n",
    "| 4896 | False |\n",
    "| 4897 | False |\n",
    "_Length: 4898, dtype: bool_"
   ]
  },
  {
   "cell_type": "code",
   "execution_count": null,
   "id": "b44e0d02",
   "metadata": {},
   "outputs": [],
   "source": [
    "# remove duplicates\n",
    "wine_dataset_excel_deduped = wine_dataset_excel.drop_duplicates()\n",
    "wine_dataset_excel_deduped.shape\n",
    "# (3961, 12)\n",
    "# We are down from 4898 to 3961 dropping 937 rows!"
   ]
  },
  {
   "cell_type": "markdown",
   "id": "0c9c6ca8",
   "metadata": {},
   "source": [
    "### Selecting n-largest / n-smallest"
   ]
  },
  {
   "cell_type": "code",
   "execution_count": null,
   "id": "ff734663",
   "metadata": {},
   "outputs": [],
   "source": [
    "top_10_wines = wine_dataset_excel.nlargest(10, 'quality')\n",
    "top_10_wines"
   ]
  },
  {
   "cell_type": "markdown",
   "id": "10d490e1",
   "metadata": {},
   "source": [
    "| index | fixed acidity | volatile acidity | citric acid | residual sugar | chlorides | free sulfur dioxide | total sulfur dioxide | density | pH | sulphates | alcohol | quality |\n",
    "| -- | -- | -- | -- | -- | -- | -- | -- | -- | -- | -- | -- | -- |\n",
    "| 774 | 9.1 | 0.27 | 0.45 | 10.6 | 0.035 | 28.0 | 124.0 | 0.99700 | 3.20 | 0.46 | 10.4 | 9 |\n",
    "| 820 | 6.6 | 0.36 | 0.29 | 1.6 | 0.021 | 24.0 | 85.0 | 0.98965 | 3.41 | 0.61 | 12.4 | 9 |\n",
    "| 827 | 7.4 | 0.24 | 0.36 | 2.0 | 0.031 | 27.0 | 139.0 | 0.99055 | 3.28 | 0.48 | 12.5 | 9 |\n",
    "| 876 | 6.9 | 0.36 | 0.34 | 4.2 | 0.018 | 57.0 | 119.0 | 0.98980 | 3.28 | 0.36 | 12.7 | 9 |\n",
    "| 1605 | 7.1 | 0.26 | 0.49 | 2.2 | 0.032 | 31.0 | 113.0 | 0.99030 | 3.37 | 0.42 | 12.9 | 9 |\n",
    "| 17 | 6.2 | 0.66 | 0.48 | 1.2 | 0.029 | 29.0 | 75.0 | 0.98920 | 3.33 | 0.39 | 12.8 | 8 |\n",
    "| 20 | 6.2 | 0.66 | 0.48 | 1.2 | 0.029 | 29.0 | 75.0 | 0.98920 | 3.33 | 0.39 | 12.8 | 8 |\n",
    "| 22 | 6.8 | 0.26 | 0.42 | 1.7 | 0.049 | 41.0 | 122.0 | 0.99300 | 3.47 | 0.48 | 10.5 | 8 |\n",
    "| 68 | 6.7 | 0.23 | 0.31 | 2.1 | 0.046 | 30.0 | 96.0 | 0.99260 | 3.33 | 0.64 | 10.7 | 8 |\n",
    "| 74 | 6.7 | 0.23 | 0.31 | 2.1 | 0.046 | 30.0 | 96.0 | 0.99260 | 3.33 | 0.64 | 10.7 | 8 |"
   ]
  },
  {
   "cell_type": "code",
   "execution_count": null,
   "id": "9fe6ddb5",
   "metadata": {},
   "outputs": [],
   "source": [
    "worst_10_wines = wine_dataset_excel.nsmallest(10, 'quality')\n",
    "worst_10_wines"
   ]
  },
  {
   "cell_type": "markdown",
   "id": "765ec8ae",
   "metadata": {},
   "source": [
    "### Selecting Random Sample"
   ]
  },
  {
   "cell_type": "code",
   "execution_count": null,
   "id": "89234f62",
   "metadata": {},
   "outputs": [],
   "source": [
    "# sample a fixed number - 2\n",
    "two_random_wines = wine_dataset_excel.sample(n=2)\n",
    "two_random_wines"
   ]
  },
  {
   "cell_type": "markdown",
   "id": "546636b2",
   "metadata": {},
   "source": [
    "| index | fixed acidity | volatile acidity | citric acid | residual sugar | chlorides | free sulfur dioxide | total sulfur dioxide | density | pH | sulphates | alcohol | quality |\n",
    "| -- | -- | -- | -- | -- | -- | -- | -- | -- | -- | -- | -- | -- |\n",
    "| 3579 | 7.4 | 0.25 | 0.28 | 7.25 | 0.028 | 14.0 | 78.0 | 0.99238 | 2.94 | 0.37 | 11.5 | 7 |\n",
    "| 2069 | 7.1 | 0.33 | 0.25 | 1.60 | 0.030 | 25.0 | 126.0 | 0.99010 | 3.22 | 0.34 | 12.1 | 7 |"
   ]
  },
  {
   "cell_type": "code",
   "execution_count": null,
   "id": "53d26a42",
   "metadata": {},
   "outputs": [],
   "source": [
    "# sample a percentage - 0.1%\n",
    "random_wines_01_percent = wine_dataset_excel.sample(frac=0.001)\n",
    "random_wines_01_percent"
   ]
  },
  {
   "cell_type": "markdown",
   "id": "702ddc70",
   "metadata": {},
   "source": [
    "| index | fixed acidity | volatile acidity | citric acid | residual sugar | chlorides | free sulfur dioxide | total sulfur dioxide | density | pH | sulphates | alcohol | quality |\n",
    "| -- | -- | -- | -- | -- | -- | -- | -- | -- | -- | -- | -- | -- |\n",
    "| 36 | 6.5 | 0.39 | 0.23 | 5.4 | 0.051 | 25.0 | 149.0 | 0.99340 | 3.24 | 0.35 | 10.0 | 5 |\n",
    "| 271 | 5.2 | 0.60 | 0.07 | 7.0 | 0.044 | 33.0 | 147.0 | 0.99440 | 3.33 | 0.58 | 9.7 | 5 |\n",
    "| 3555 | 5.8 | 0.14 | 0.15 | 6.1 | 0.042 | 27.0 | 123.0 | 0.99362 | 3.06 | 0.60 | 9.9 | 6 |\n",
    "| 1315 | 8.1 | 0.20 | 0.36 | 9.7 | 0.044 | 63.0 | 162.0 | 0.99700 | 3.10 | 0.46 | 10.0 | 6 |\n",
    "| 222 | 6.2 | 0.25 | 0.25 | 1.4 | 0.030 | 35.0 | 105.0 | 0.99120 | 3.30 | 0.44 | 11.1 | 7 |"
   ]
  },
  {
   "cell_type": "code",
   "execution_count": null,
   "id": "fab76188",
   "metadata": {},
   "outputs": [],
   "source": [
    "random_wines_01_percent.plot.bar(figsize=(12,8), rot=0)"
   ]
  },
  {
   "cell_type": "markdown",
   "id": "4a237e98",
   "metadata": {},
   "source": [
    "![Plot Random Sample](assets/Plot_Random_sample_01.png)"
   ]
  },
  {
   "cell_type": "markdown",
   "id": "b8dd727b",
   "metadata": {},
   "source": [
    "### Shuffle Dataset"
   ]
  },
  {
   "cell_type": "code",
   "execution_count": null,
   "id": "435b59b8",
   "metadata": {},
   "outputs": [],
   "source": [
    "# Use the randomizer in sample() to shuffle the entire dataset\n",
    "random_wines_shuffle = wine_dataset_excel.sample(frac=1)\n",
    "random_wines_shuffle"
   ]
  },
  {
   "cell_type": "markdown",
   "id": "2611053f",
   "metadata": {},
   "source": [
    "| | fixed acidity | volatile acidity | citric acid | residual sugar | chlorides | free sulfur dioxide | total sulfur dioxide | density | pH | sulphates | alcohol | quality | really sour | total acidity |\n",
    "| -- | -- | -- | -- | -- | -- | -- | -- | -- | -- | -- | -- | -- | -- | -- |\n",
    "| 2203 | 7.8 | 0.240 | 0.38 | 2.1 | 0.058 | 14.0 | 167.0 | 0.99400 | 3.21 | 0.55 | 9.9 | 5 | False | 8.040 |\n",
    "| 4294 | 7.4 | 0.220 | 0.28 | 9.0 | 0.046 | 22.0 | 121.0 | 0.99468 | 3.10 | 0.55 | 10.8 | 5 | False | 7.620 |\n",
    "| 1363 | 6.9 | 0.320 | 0.16 | 1.4 | 0.051 | 15.0 | 96.0 | 0.99400 | 3.22 | 0.38 | 9.5 | 4 | False | 7.220 |\n",
    "| 3310 | 6.3 | 0.300 | 0.29 | 2.1 | 0.048 | 33.0 | 142.0 | 0.98956 | 3.22 | 0.46 | 12.9 | 7 | False | 6.600 |\n",
    "| 97 | 8.6 | 0.265 | 0.36 | 1.2 | 0.034 | 15.0 | 80.0 | 0.99130 | 2.95 | 0.36 | 11.4 | 7 | True | 8.865 |\n",
    "| ... |\n",
    "| 2294 | 7.0 | 0.320 | 0.31 | 6.4 | 0.031 | 38.0 | 115.0 | 0.99235 | 3.38 | 0.58 | 12.2 | 7 | False | 7.320 |\n",
    "| 405 | 6.8 | 0.270 | 0.12 | 1.3 | 0.040 | 87.0 | 168.0 | 0.99200 | 3.18 | 0.41 | 10.0 | 5 | False | 7.070 |\n",
    "| 719 | 7.4 | 0.290 | 0.50 | 1.8 | 0.042 | 35.0 | 127.0 | 0.99370 | 3.45 | 0.50 | 10.2 | 7 | False | 7.690 |\n",
    "| 2785 | 6.4 | 0.240 | 0.25 | 20.2 | 0.083 | 35.0 | 157.0 | 0.99976 | 3.17 | 0.50 | 9.1 | 5 | False | 6.640 |\n",
    "| 1666 | 7.8 | 0.445 | 0.56 | 1.0 | 0.040 | 8.0 | 84.0 | 0.99380 | 3.25 | 0.43 | 10.8 | 5 | False | 8.245 |"
   ]
  },
  {
   "cell_type": "markdown",
   "id": "d86b827a",
   "metadata": {},
   "source": [
    "## Conditional Filtering"
   ]
  },
  {
   "cell_type": "code",
   "execution_count": null,
   "id": "25c2eeb5",
   "metadata": {},
   "outputs": [],
   "source": [
    "# mark all wines with a pH below 3 as sour\n",
    "wine_dataset_excel_indexed['really sour'] = wine_dataset_excel_indexed['pH'] < 3.\n",
    "wine_dataset_excel_indexed.head(5)"
   ]
  },
  {
   "cell_type": "markdown",
   "id": "789efdea",
   "metadata": {},
   "source": [
    "| index | fixed acidity | volatile acidity | citric acid | residual sugar | chlorides | free sulfur dioxide | total sulfur dioxide | density | pH | sulphates | alcohol | quality | really sour |\n",
    "| -- | -- | -- | -- | -- | -- | -- | -- | -- | -- | -- | -- | -- | -- |\n",
    "| 1 | 7.0 | 0.27 | 0.36 | 20.7 | 0.045 | 45.0 | 170.0 | 1.0010 | 3.00 | 0.45 | 8.8 | 6 | False |\n",
    "| 2 | 6.3 | 0.30 | 0.34 | 1.6 | 0.049 | 14.0 | 132.0 | 0.9940 | 3.30 | 0.49 | 9.5 | 6 | False |\n",
    "| 3 | 8.1 | 0.28 | 0.40 | 6.9 | 0.050 | 30.0 | 97.0 | 0.9951 | 3.26 | 0.44 | 10.1 | 6 | False |\n",
    "| 4 | 7.2 | 0.23 | 0.32 | 8.5 | 0.058 | 47.0 | 186.0 | 0.9956 | 3.19 | 0.40 | 9.9 | 6 | False |\n",
    "| 5 | 7.2 | 0.23 | 0.32 | 8.5 | 0.058 | 47.0 | 186.0 | 0.9956 | 3.19 | 0.40 | 9.9 | 6 | False |"
   ]
  },
  {
   "cell_type": "markdown",
   "id": "ffa42451",
   "metadata": {},
   "source": [
    "### Filter by Value"
   ]
  },
  {
   "cell_type": "code",
   "execution_count": null,
   "id": "2c602583",
   "metadata": {},
   "outputs": [],
   "source": [
    "# select only rows with a pH value below 3\n",
    "sour_wines = wine_dataset_excel_indexed[wine_dataset_excel_indexed['pH'] < 3.]\n",
    "print(sour_wines.shape)\n",
    "# there are 437 sour wines - (437, 13)\n",
    "sour_wines.head(5)"
   ]
  },
  {
   "cell_type": "markdown",
   "id": "6e3b55df",
   "metadata": {},
   "source": [
    "| index | fixed acidity | volatile acidity | citric acid | residual sugar | chlorides | free sulfur dioxide | total sulfur dioxide | density | pH | sulphates | alcohol | quality | really sour |\n",
    "| -- | -- | -- | -- | -- | -- | -- | -- | -- | -- | -- | -- | -- | -- |\n",
    "| 11 | 8.1 | 0.270 | 0.41 | 1.45 | 0.033 | 11.0 | 63.0 | 0.9908 | 2.99 | 0.56 | 12.0 | 5 | True |\n",
    "| 15 | 8.3 | 0.420 | 0.62 | 19.25 | 0.040 | 41.0 | 172.0 | 1.0002 | 2.98 | 0.67 | 9.7 | 5 | True |\n",
    "| 74 | 8.6 | 0.230 | 0.46 | 1.00 | 0.054 | 9.0 | 72.0 | 0.9941 | 2.95 | 0.49 | 9.1 | 6 | True |\n",
    "| 79 | 7.4 | 0.180 | 0.30 | 8.80 | 0.064 | 26.0 | 103.0 | 0.9961 | 2.94 | 0.56 | 9.3 | 5 | True |\n",
    "| 98 | 8.6 | 0.265 | 0.36 | 1.20 | 0.034 | 15.0 | 80.0 | 0.9913 | 2.95 | 0.36 | 11.4 | 7 | True |"
   ]
  },
  {
   "cell_type": "code",
   "execution_count": null,
   "id": "3f0e806b",
   "metadata": {},
   "outputs": [],
   "source": [
    "# select only rows that are marked as not sour\n",
    "not_so_sour_wines = wine_dataset_excel_indexed[wine_dataset_excel_indexed['really sour'] == False]\n",
    "print(not_so_sour_wines.shape)\n",
    "# there are 4461 not so sour wines - (4461, 13)\n",
    "not_so_sour_wines.head(5)"
   ]
  },
  {
   "cell_type": "markdown",
   "id": "fdf84013",
   "metadata": {},
   "source": [
    "| index | fixed acidity | volatile acidity | citric acid | residual sugar | chlorides | free sulfur dioxide | total sulfur dioxide | density | pH | sulphates | alcohol | quality | really sour |\n",
    "| -- | -- | -- | -- | -- | -- | -- | -- | -- | -- | -- | -- | -- | -- |\n",
    "| 1 | 7.0 | 0.27 | 0.36 | 20.7 | 0.045 | 45.0 | 170.0 | 1.0010 | 3.00 | 0.45 | 8.8 | 6 | False |\n",
    "| 2 | 6.3 | 0.30 | 0.34 | 1.6 | 0.049 | 14.0 | 132.0 | 0.9940 | 3.30 | 0.49 | 9.5 | 6 | False |\n",
    "| 3 | 8.1 | 0.28 | 0.40 | 6.9 | 0.050 | 30.0 | 97.0 | 0.9951 | 3.26 | 0.44 | 10.1 | 6 | False |\n",
    "| 4 | 7.2 | 0.23 | 0.32 | 8.5 | 0.058 | 47.0 | 186.0 | 0.9956 | 3.19 | 0.40 | 9.9 | 6 | False |\n",
    "| 5 | 7.2 | 0.23 | 0.32 | 8.5 | 0.058 | 47.0 | 186.0 | 0.9956 | 3.19 | 0.40 | 9.9 | 6 | False |"
   ]
  },
  {
   "cell_type": "markdown",
   "id": "42cb5c7d",
   "metadata": {},
   "source": [
    "### Filter by Multiple Values"
   ]
  },
  {
   "cell_type": "code",
   "execution_count": null,
   "id": "2a31ffde",
   "metadata": {},
   "outputs": [],
   "source": [
    "# select only rows that are marked as not sour AND have a high sugar level\n",
    "sweet_wines = wine_dataset_excel_indexed[\n",
    "    (\n",
    "        wine_dataset_excel_indexed['really sour'] == False\n",
    "    ) & (\n",
    "        wine_dataset_excel_indexed['residual sugar'] > 20\n",
    "    )\n",
    "]\n",
    "print(sweet_wines.shape)\n",
    "# there are 15 sweet wines - (15, 13)\n",
    "sweet_wines.head(5)"
   ]
  },
  {
   "cell_type": "markdown",
   "id": "7e5b6339",
   "metadata": {},
   "source": [
    "| index | fixed acidity | volatile acidity | citric acid | residual sugar | chlorides | free sulfur dioxide | total sulfur dioxide | density | pH | sulphates | alcohol | quality | really sour |\n",
    "| -- | -- | -- | -- | -- | -- | -- | -- | -- | -- | -- | -- | -- | -- |\n",
    "| 1 | 7.0 | 0.27 | 0.36 | 20.7 | 0.045 | 45.0 | 170.0 | 1.0010 | 3.00 | 0.45 | 8.8 | 6 | False |\n",
    "| 8 | 7.0 | 0.27 | 0.36 | 20.7 | 0.045 | 45.0 | 170.0 | 1.0010 | 3.00 | 0.45 | 8.8 | 6 | False |\n",
    "| 445 | 6.9 | 0.24 | 0.36 | 20.8 | 0.031 | 40.0 | 139.0 | 0.9975 | 3.20 | 0.33 | 11.0 | 6 | False |\n",
    "| 1654 | 7.9 | 0.33 | 0.28 | 31.6 | 0.053 | 35.0 | 176.0 | 1.0103 | 3.15 | 0.38 | 8.8 | 6 | False |\n",
    "| 1664 | 7.9 | 0.33 | 0.28 | 31.6 | 0.053 | 35.0 | 176.0 | 1.0103 | 3.15 | 0.38 | 8.8 | 6 | False |"
   ]
  },
  {
   "cell_type": "code",
   "execution_count": null,
   "id": "e1abf960",
   "metadata": {},
   "outputs": [],
   "source": [
    "# select only rows that have extreme total SO2 values OR sugar levels\n",
    "selected_wines = wine_dataset_excel_indexed[\n",
    "    (\n",
    "        wine_dataset_excel_indexed['total sulfur dioxide'] > 250.\n",
    "    ) | (\n",
    "        wine_dataset_excel_indexed['residual sugar'] > 30.\n",
    "    )\n",
    "]\n",
    "print(selected_wines.shape)\n",
    "# (27, 13)\n",
    "selected_wines.head(5)"
   ]
  },
  {
   "cell_type": "markdown",
   "id": "16b8831c",
   "metadata": {},
   "source": [
    "| index | fixed acidity | volatile acidity | citric acid | residual sugar | chlorides | free sulfur dioxide | total sulfur dioxide | density | pH | sulphates | alcohol | quality | really sour |\n",
    "| -- | -- | -- | -- | -- | -- | -- | -- | -- | -- | -- | -- | -- | -- |\n",
    "| 112 | 7.2 | 0.27 | 0.46 | 18.75 | 0.052 | 45.0 | 255.0 | 1.0000 | 3.04 | 0.52 | 8.9 | 5 | False |\n",
    "| 228 | 7.1 | 0.25 | 0.32 | 10.30 | 0.041 | 66.0 | 272.0 | 0.9969 | 3.17 | 0.52 | 9.1 | 6 | False |\n",
    "| 326 | 7.5 | 0.27 | 0.31 | 5.80 | 0.057 | 131.0 | 313.0 | 0.9946 | 3.18 | 0.59 | 10.5 | 5 | False |\n",
    "| 388 | 6.3 | 0.39 | 0.35 | 5.90 | 0.040 | 82.5 | 260.0 | 0.9941 | 3.12 | 0.66 | 10.1 | 5 | False |\n",
    "| 404 | 7.1 | 0.27 | 0.31 | 18.20 | 0.046 | 55.0 | 252.0 | 1.0000 | 3.07 | 0.56 | 8.7 | 5 | False |"
   ]
  },
  {
   "cell_type": "markdown",
   "id": "5147e3ae",
   "metadata": {},
   "source": [
    "### Comparing Columns with Crosstab"
   ]
  },
  {
   "cell_type": "code",
   "execution_count": null,
   "id": "bf2fb67a",
   "metadata": {},
   "outputs": [],
   "source": [
    "wine_dataset_excel['really sour'] = wine_dataset_excel['pH'] < 3.\n",
    "\n",
    "# how many wines that are 'really sour' are in each quality class\n",
    "pd.crosstab(wine_dataset_excel['quality'], wine_dataset_excel['really sour'])"
   ]
  },
  {
   "cell_type": "markdown",
   "id": "7e60cd0b",
   "metadata": {},
   "source": [
    "__really sour__\n",
    "\n",
    "| quality | False | True |\n",
    "| -- | -- | -- |\n",
    "| 3 | 16 | 4 |\n",
    "| 4 | 149 | 14 |\n",
    "| 5 | 1321 | 136 |\n",
    "| 6 | 2003 | 195 |\n",
    "| 7 | 808 | 72 |\n",
    "| 8 | 159 | 16 |\n",
    "| 9 | 5 | 0 |"
   ]
  },
  {
   "cell_type": "code",
   "execution_count": null,
   "id": "4f01b241",
   "metadata": {},
   "outputs": [],
   "source": [
    "pd.crosstab(wine_dataset_excel['quality'], wine_dataset_excel['really sour']).plot.bar()"
   ]
  },
  {
   "cell_type": "markdown",
   "id": "e698e11e",
   "metadata": {},
   "source": [
    "![Pandas Crosstab](assets/Pandas_Crosstab_01.png)"
   ]
  },
  {
   "cell_type": "markdown",
   "id": "be7f71dd",
   "metadata": {},
   "source": [
    "### Filter with isin()"
   ]
  },
  {
   "cell_type": "code",
   "execution_count": null,
   "id": "70930c26",
   "metadata": {},
   "outputs": [],
   "source": [
    "# select wines with a density of 1.0010 OR 0.9956 inside the dataset\n",
    "options = [1.0010, 0.9956]\n",
    "\n",
    "selected_wines_with_selected_density = wine_dataset_excel_indexed[\n",
    "    wine_dataset_excel_indexed['density'].isin(options)\n",
    "]\n",
    "print(selected_wines_with_selected_density.shape)\n",
    "# (46, 13)\n",
    "selected_wines_with_selected_density.head(5)"
   ]
  },
  {
   "cell_type": "markdown",
   "id": "061f688a",
   "metadata": {},
   "source": [
    "| index | fixed acidity | volatile acidity | citric acid | residual sugar | chlorides | free sulfur dioxide | total sulfur dioxide | density | pH | sulphates | alcohol | quality | really sour |\n",
    "| -- | -- | -- | -- | -- | -- | -- | -- | -- | -- | -- | -- | -- | -- |\n",
    "| 1 \t| 7.0 \t| 0.27 \t| 0.36 \t| 20.7 \t| 0.045 \t| 45.0 \t| 170.0 \t| 1.0010 \t| 3.00 \t| 0.45 \t| 8.8 \t| 6 | False |\n",
    "| 4 \t| 7.2 \t| 0.23 \t| 0.32 \t| 8.5 \t| 0.058 \t| 47.0 \t| 186.0 \t| 0.9956 \t| 3.19 \t| 0.40 \t| 9.9 \t| 6 | False |\n",
    "| 5 \t| 7.2 \t| 0.23 \t| 0.32 \t| 8.5 \t| 0.058 \t| 47.0 \t| 186.0 \t| 0.9956 \t| 3.19 \t| 0.40 \t| 9.9 \t| 6 | False |\n",
    "| 8 \t| 7.0 \t| 0.27 \t| 0.36 \t| 20.7 \t| 0.045 \t| 45.0 \t| 170.0 \t| 1.0010 \t| 3.00 \t| 0.45 \t| 8.8 \t| 6 | False |\n",
    "| 71 \t| 6.2 \t| 0.27 \t| 0.43 \t| 7.8 \t| 0.056 \t| 48.0 \t| 244.0 \t| 0.9956 \t| 3.10 \t| 0.51 \t| 9.0 \t| 6 | False |"
   ]
  },
  {
   "cell_type": "code",
   "execution_count": null,
   "id": "4e3797cd",
   "metadata": {},
   "outputs": [],
   "source": [
    "# select wines that DO NOT have a density of 1.0010 OR 0.9956 inside the dataset\n",
    "options = [1.0010, 0.9956]\n",
    "\n",
    "selected_wines_with_selected_density = wine_dataset_excel_indexed[\n",
    "    ~wine_dataset_excel_indexed['density'].isin(options)\n",
    "]\n",
    "print(selected_wines_with_selected_density.shape)\n",
    "# (4852, 13)\n",
    "selected_wines_with_selected_density.head(5)"
   ]
  },
  {
   "cell_type": "markdown",
   "id": "b589a31b",
   "metadata": {},
   "source": [
    "| index | fixed acidity | volatile acidity | citric acid | residual sugar | chlorides | free sulfur dioxide | total sulfur dioxide | density | pH | sulphates | alcohol | quality | really sour |\n",
    "| -- | -- | -- | -- | -- | -- | -- | -- | -- | -- | -- | -- | -- | -- |\n",
    "| 2 | 6.3 | 0.30 | 0.34 | 1.6 | 0.049 | 14.0 | 132.0 | 0.9940 | 3.30 | 0.49 | 9.5 | 6 | False |\n",
    "| 3 | 8.1 | 0.28 | 0.40 | 6.9 | 0.050 | 30.0 | 97.0 | 0.9951 | 3.26 | 0.44 | 10.1 | 6 | False |\n",
    "| 6 | 8.1 | 0.28 | 0.40 | 6.9 | 0.050 | 30.0 | 97.0 | 0.9951 | 3.26 | 0.44 | 10.1 | 6 | False |\n",
    "| 7 | 6.2 | 0.32 | 0.16 | 7.0 | 0.045 | 30.0 | 136.0 | 0.9949 | 3.18 | 0.47 | 9.6 | 6 | False |\n",
    "| 9 | 6.3 | 0.30 | 0.34 | 1.6 | 0.049 | 14.0 | 132.0 | 0.9940 | 3.30 | 0.49 | 9.5 | 6 | False |"
   ]
  },
  {
   "cell_type": "markdown",
   "id": "a4416704",
   "metadata": {},
   "source": [
    "### Filter with between()"
   ]
  },
  {
   "cell_type": "code",
   "execution_count": null,
   "id": "81b70ab1",
   "metadata": {},
   "outputs": [],
   "source": [
    "# select wines that have a density inbetween 0.9949 OR 0.9951 inside the dataset\n",
    "selected_wines_with_selected_density = wine_dataset_excel_indexed[\n",
    "    wine_dataset_excel_indexed['density'].between(0.9949, 0.9951, inclusive='both')\n",
    "]\n",
    "print(selected_wines_with_selected_density.shape)\n",
    "# (105, 13)\n",
    "selected_wines_with_selected_density.head(5)"
   ]
  },
  {
   "cell_type": "markdown",
   "id": "ce9d2a19",
   "metadata": {},
   "source": [
    "| index | fixed acidity | volatile acidity | citric acid | residual sugar | chlorides | free sulfur dioxide | total sulfur dioxide | density | pH | sulphates | alcohol | quality | really sour |\n",
    "| -- | -- | -- | -- | -- | -- | -- | -- | -- | -- | -- | -- | -- | -- |\n",
    "| 3 | 8.1 | 0.28 | 0.40 | 6.9 | 0.050 | 30.0 | 97.0 | 0.9951 | 3.26 | 0.44 | 10.1 | 6 | False |\n",
    "| 6 | 8.1 | 0.28 | 0.40 | 6.9 | 0.050 | 30.0 | 97.0 | 0.9951 | 3.26 | 0.44 | 10.1 | 6 | False |\n",
    "| 7 | 6.2 | 0.32 | 0.16 | 7.0 | 0.045 | 30.0 | 136.0 | 0.9949 | 3.18 | 0.47 | 9.6 | 6 | False |\n",
    "| 25 | 6.6 | 0.27 | 0.41 | 1.3 | 0.052 | 16.0 | 142.0 | 0.9951 | 3.42 | 0.47 | 10.0 | 6 | False |\n",
    "| 50 | 6.9 | 0.19 | 0.35 | 5.0 | 0.067 | 32.0 | 150.0 | 0.9950 | 3.36 | 0.48 | 9.8 | 5 | False |"
   ]
  },
  {
   "cell_type": "markdown",
   "id": "b5ec6558",
   "metadata": {},
   "source": [
    "### Apply\n",
    "\n",
    "#### Apply a Custom Method to a Single Column (Pandas Series)"
   ]
  },
  {
   "cell_type": "code",
   "execution_count": null,
   "id": "a2866320",
   "metadata": {},
   "outputs": [],
   "source": [
    "# custom function to round up a number\n",
    "def round_it_up(num):\n",
    "    return np.around(num, decimals=3)"
   ]
  },
  {
   "cell_type": "code",
   "execution_count": null,
   "id": "5312223a",
   "metadata": {},
   "outputs": [],
   "source": [
    "wine_dataset_excel_indexed['density'].apply(round_it_up)"
   ]
  },
  {
   "cell_type": "markdown",
   "id": "e21d16c0",
   "metadata": {},
   "source": [
    "| index |  |\n",
    "| -- | -- |\n",
    "| 1 |    1.001 |\n",
    "| 2 |    0.994 |\n",
    "| 3 |    0.995 |\n",
    "| 4 |    0.996 |\n",
    "| 5 |    0.996 |\n",
    "|        ...   |\n",
    "| 4894 | 0.991 |\n",
    "| 4895 | 0.995 |\n",
    "| 4896 | 0.993 |\n",
    "| 4897 | 0.989 |\n",
    "| 4898 | 0.989 |\n",
    "Name: density, Length: 4898, dtype: float64"
   ]
  },
  {
   "cell_type": "code",
   "execution_count": null,
   "id": "b8570dac",
   "metadata": {},
   "outputs": [],
   "source": [
    "# replace values by symbols ↑ → ↓ ←\n",
    "wine_dataset_excel_indexed['density'].mean()\n",
    "# 0.9940273764801959"
   ]
  },
  {
   "cell_type": "code",
   "execution_count": null,
   "id": "395d2d31",
   "metadata": {},
   "outputs": [],
   "source": [
    "def rel_average(density):\n",
    "    if density > 0.9940273764801959:\n",
    "        return '↑'\n",
    "    else:\n",
    "        return '↓'\n"
   ]
  },
  {
   "cell_type": "code",
   "execution_count": null,
   "id": "4777b2a0",
   "metadata": {},
   "outputs": [],
   "source": [
    "wine_dataset_excel_indexed['density average'] = wine_dataset_excel_indexed['density'].apply(rel_average) \n",
    "wine_dataset_excel_indexed"
   ]
  },
  {
   "cell_type": "markdown",
   "id": "c6b46d16",
   "metadata": {},
   "source": [
    "| index | fixed acidity | volatile acidity | citric acid | residual sugar | chlorides | free sulfur dioxide | total sulfur dioxide | density | pH | sulphates | alcohol | quality | density average|\n",
    "| -- | -- | -- | -- | -- | -- | -- | -- | -- | -- | -- | -- | -- | --| \t\n",
    "| 1 | 7.0 | 0.27 | 0.36 | 20.7 | 0.045 | 45.0 | 170.0 | 1.00100 | 3.00 | 0.45 | 8.8 | 6 | ↑ |\n",
    "| 2 | 6.3 | 0.30 | 0.34 | 1.6 | 0.049 | 14.0 | 132.0 | 0.99400 | 3.30 | 0.49 | 9.5 | 6 | ↓ |\n",
    "| 3 | 8.1 | 0.28 | 0.40 | 6.9 | 0.050 | 30.0 | 97.0 | 0.99510 | 3.26 | 0.44 | 10.1 | 6 | ↑ |\n",
    "| 4 | 7.2 | 0.23 | 0.32 | 8.5 | 0.058 | 47.0 | 186.0 | 0.99560 | 3.19 | 0.40 | 9.9 | 6 | ↑ |\n",
    "| 5 | 7.2 | 0.23 | 0.32 | 8.5 | 0.058 | 47.0 | 186.0 | 0.99560 | 3.19 | 0.40 | 9.9 | 6 | ↑ |\n",
    "| ... |\n",
    "| 4894 | 6.2 | 0.21 | 0.29 | 1.6 | 0.039 | 24.0 | 92.0 | 0.99114 | 3.27 | 0.50 | 11.2 | 6 | ↓ |\n",
    "| 4895 | 6.6 | 0.32 | 0.36 | 8.0 | 0.047 | 57.0 | 168.0 | 0.99490 | 3.15 | 0.46 | 9.6 | 5 | ↑ |\n",
    "| 4896 | 6.5 | 0.24 | 0.19 | 1.2 | 0.041 | 30.0 | 111.0 | 0.99254 | 2.99 | 0.46 | 9.4 | 6 | ↓ |\n",
    "| 4897 | 5.5 | 0.29 | 0.30 | 1.1 | 0.022 | 20.0 | 110.0 | 0.98869 | 3.34 | 0.38 | 12.8 | 7 | ↓ |\n",
    "| 4898 | 6.0 | 0.21 | 0.38 | 0.8 | 0.020 | 22.0 | 98.0 | 0.98941 | 3.26 | 0.32 | 11.8 | 6 | ↓ |"
   ]
  },
  {
   "cell_type": "markdown",
   "id": "e877d305",
   "metadata": {},
   "source": [
    "#### Apply a Custom Method to Multiple Columns (Pandas Series)\n",
    "##### Lambda Expression"
   ]
  },
  {
   "cell_type": "code",
   "execution_count": null,
   "id": "02906533",
   "metadata": {},
   "outputs": [],
   "source": [
    "# using a lambda expression\n",
    "## function\n",
    "def times_two(num):\n",
    "    return num*2\n",
    "\n",
    "# lambda\n",
    "lambda num: num*2"
   ]
  },
  {
   "cell_type": "code",
   "execution_count": null,
   "id": "5aeb065e",
   "metadata": {},
   "outputs": [],
   "source": [
    "wine_dataset_excel_indexed['quality'].apply(times_two)"
   ]
  },
  {
   "cell_type": "markdown",
   "id": "baaa3489",
   "metadata": {},
   "source": [
    "| index |  |\n",
    "| -- | -- |\n",
    "| 1 | 12 |\n",
    "| 2 | 12 |\n",
    "| 3 | 12 |\n",
    "| 4 | 12 |\n",
    "| 5 | 12 |\n",
    "| ... |\n",
    "| 4894 | 12 |\n",
    "| 4895 | 10 |\n",
    "| 4896 | 12 |\n",
    "| 4897 | 14 |\n",
    "| 4898 | 12 |"
   ]
  },
  {
   "cell_type": "code",
   "execution_count": null,
   "id": "9d026fa3",
   "metadata": {},
   "outputs": [],
   "source": [
    "wine_dataset_excel_indexed['quality'].apply(lambda num: num*2)"
   ]
  },
  {
   "cell_type": "markdown",
   "id": "5bd97d5c",
   "metadata": {},
   "source": [
    "| index |  |\n",
    "| -- | -- |\n",
    "| 1 | 12 |\n",
    "| 2 | 12 |\n",
    "| 3 | 12 |\n",
    "| 4 | 12 |\n",
    "| 5 | 12 |\n",
    "| ... |\n",
    "| 4894 | 12 |\n",
    "| 4895 | 10 |\n",
    "| 4896 | 12 |\n",
    "| 4897 | 14 |\n",
    "| 4898 | 12 |"
   ]
  },
  {
   "cell_type": "code",
   "execution_count": null,
   "id": "9d6036c4",
   "metadata": {},
   "outputs": [],
   "source": [
    "def sweetness(fixed_acidity, volantile_acidity, citric_acid, residual_sugar):\n",
    "    if (fixed_acidity+volantile_acidity+citric_acid)/residual_sugar > 0.38:\n",
    "        return \"sweet\"\n",
    "    else:\n",
    "        return \"dry\""
   ]
  },
  {
   "cell_type": "code",
   "execution_count": null,
   "id": "2364062b",
   "metadata": {},
   "outputs": [],
   "source": [
    "wine_dataset_excel_indexed['sweetness'] = wine_dataset_excel_indexed[[\n",
    "    'fixed acidity',\n",
    "    'volatile acidity',\n",
    "    'citric acid',\n",
    "    'residual sugar'\n",
    "]].apply(\n",
    "    lambda wine_dataset_excel_indexed: sweetness(\n",
    "        wine_dataset_excel_indexed['fixed acidity'],\n",
    "        wine_dataset_excel_indexed['volatile acidity'],\n",
    "        wine_dataset_excel_indexed['citric acid'],\n",
    "        wine_dataset_excel_indexed['residual sugar']\n",
    "    ), axis=1\n",
    ")\n",
    "\n",
    "wine_dataset_excel_indexed"
   ]
  },
  {
   "cell_type": "markdown",
   "id": "095a2550",
   "metadata": {},
   "source": [
    "| index | fixed acidity | volatile acidity | citric acid | residual sugar | chlorides | free sulfur dioxide | total sulfur dioxide | density | pH | sulphates | alcohol | quality | density average | sweetness |\n",
    "| -- | -- | -- | -- | -- | -- | -- | -- | -- | -- | -- | -- | -- | -- | -- |\n",
    "| 1 | 7.0 | 0.27 | 0.36 | 20.7 | 0.045 | 45.0 | 170.0 | 1.00100 | 3.00 | 0.45 | 8.8 | 6 | ↑ | dry |\n",
    "| 2 | 6.3 | 0.30 | 0.34 | 1.6 | 0.049 | 14.0 | 132.0 | 0.99400 | 3.30 | 0.49 | 9.5 | 6 | ↓ | sweet |\n",
    "| 3 | 8.1 | 0.28 | 0.40 | 6.9 | 0.050 | 30.0 | 97.0 | 0.99510 | 3.26 | 0.44 | 10.1 | 6 | ↑ | sweet |\n",
    "| 4 | 7.2 | 0.23 | 0.32 | 8.5 | 0.058 | 47.0 | 186.0 | 0.99560 | 3.19 | 0.40 | 9.9 | 6 | ↑ | sweet |\n",
    "| 5 | 7.2 | 0.23 | 0.32 | 8.5 | 0.058 | 47.0 | 186.0 | 0.99560 | 3.19 | 0.40 | 9.9 | 6 | ↑ | sweet |\n",
    "| ... |\n",
    "| 4894 | 6.2 | 0.21 | 0.29 | 1.6 | 0.039 | 24.0 | 92.0 | 0.99114 | 3.27 | 0.50 | 11.2 | 6 | ↓ | sweet |\n",
    "| 4895 | 6.6 | 0.32 | 0.36 | 8.0 | 0.047 | 57.0 | 168.0 | 0.99490 | 3.15 | 0.46 | 9.6 | 5 | ↑ | sweet |\n",
    "| 4896 | 6.5 | 0.24 | 0.19 | 1.2 | 0.041 | 30.0 | 111.0 | 0.99254 | 2.99 | 0.46 | 9.4 | 6 | ↓ | sweet |\n",
    "| 4897 | 5.5 | 0.29 | 0.30 | 1.1 | 0.022 | 20.0 | 110.0 | 0.98869 | 3.34 | 0.38 | 12.8 | 7 | ↓ | sweet |\n",
    "| 4898 | 6.0 | 0.21 | 0.38 | 0.8 | 0.020 | 22.0 | 98.0 | 0.98941 | 3.26 | 0.32 | 11.8 | 6 | ↓ | sweet |"
   ]
  },
  {
   "cell_type": "markdown",
   "id": "f5480286",
   "metadata": {},
   "source": [
    "##### Numpy Vectorize\n",
    "\n",
    "Using Numpy Vectorize to [speed things up](https://stackoverflow.com/questions/52673285/performance-of-pandas-apply-vs-np-vectorize-to-create-new-column-from-existing-c):"
   ]
  },
  {
   "cell_type": "code",
   "execution_count": null,
   "id": "5c095433",
   "metadata": {},
   "outputs": [],
   "source": [
    "wine_dataset_excel_indexed['sweetness'] = np.vectorize(sweetness)(\n",
    "        wine_dataset_excel_indexed['fixed acidity'],\n",
    "        wine_dataset_excel_indexed['volatile acidity'],\n",
    "        wine_dataset_excel_indexed['citric acid'],\n",
    "        wine_dataset_excel_indexed['residual sugar']\n",
    ")\n",
    "\n",
    "wine_dataset_excel_indexed.head(5)"
   ]
  },
  {
   "cell_type": "markdown",
   "id": "b963076b",
   "metadata": {},
   "source": [
    "| index | fixed acidity | volatile acidity | citric acid | residual sugar | chlorides | free sulfur dioxide | total sulfur dioxide | density | pH | sulphates | alcohol | quality | density average | sweetness |\n",
    "| -- | -- | -- | -- | -- | -- | -- | -- | -- | -- | -- | -- | -- | -- | -- |\n",
    "| 1 | 7.0 | 0.27 | 0.36 | 20.7 | 0.045 | 45.0 | 170.0 | 1.00100 | 3.00 | 0.45 | 8.8 | 6 | ↑ | dry |\n",
    "| 2 | 6.3 | 0.30 | 0.34 | 1.6 | 0.049 | 14.0 | 132.0 | 0.99400 | 3.30 | 0.49 | 9.5 | 6 | ↓ | sweet |\n",
    "| 3 | 8.1 | 0.28 | 0.40 | 6.9 | 0.050 | 30.0 | 97.0 | 0.99510 | 3.26 | 0.44 | 10.1 | 6 | ↑ | sweet |\n",
    "| 4 | 7.2 | 0.23 | 0.32 | 8.5 | 0.058 | 47.0 | 186.0 | 0.99560 | 3.19 | 0.40 | 9.9 | 6 | ↑ | sweet |\n",
    "| 5 | 7.2 | 0.23 | 0.32 | 8.5 | 0.058 | 47.0 | 186.0 | 0.99560 | 3.19 | 0.40 | 9.9 | 6 | ↑ | sweet |"
   ]
  },
  {
   "cell_type": "markdown",
   "id": "be9426ed",
   "metadata": {},
   "source": [
    "## Detect Missing Data"
   ]
  },
  {
   "cell_type": "code",
   "execution_count": null,
   "id": "e6b3debc",
   "metadata": {},
   "outputs": [],
   "source": [
    "print(pd.NA is pd.NA)\n",
    "print(np.nan is np.nan)\n",
    "# True\n",
    "# True"
   ]
  },
  {
   "cell_type": "code",
   "execution_count": null,
   "id": "e09bd0f3",
   "metadata": {},
   "outputs": [],
   "source": [
    "df_missing = pd.read_csv('datasets/wine-quality-missing.csv')\n",
    "df_missing"
   ]
  },
  {
   "cell_type": "markdown",
   "id": "348f38bc",
   "metadata": {},
   "source": [
    "| | fixed acidity | volatile acidity | citric acid | residual sugar | chlorides | free sulfur dioxide | total sulfur dioxide | density | pH | sulphates | alcohol | quality |\n",
    "| -- | -- | -- | -- | -- | -- | -- | -- | -- | -- | -- | -- | -- |\n",
    "| 0 | 7.0 | 0.27 | 0.36 | 20.7 | 0.045 | 45.0 | 170.0 | 1.00100 | 3.00 | 0.45 | 8.8 | 6.0 |\n",
    "| 1 | 6.3 | 0.30 | 0.34 | 1.6 | 0.049 | 14.0 | 132.0 | 0.99400 | 3.30 | 0.49 | 9.5 | 6.0 |\n",
    "| 2 | 8.1 | NaN | 0.40 | 6.9 | 0.050 | 30.0 | 97.0 | 0.99510 | 3.26 | 0.44 | 10.1 | 6.0 |\n",
    "| 3 | 7.2 | 0.23 | 0.32 | 8.5 | 0.058 | 47.0 | 186.0 | 0.99560 | 3.19 | 0.40 | 9.9 | 6.0 |\n",
    "| 4 | 7.2 | 0.23 | 0.32 | 8.5 | 0.058 | 47.0 | 186.0 | 0.99560 | 3.19 | 0.40 | 9.9 | 6.0 |\n",
    "| ... |\n",
    "| 4894 | 6.6 | 0.32 | 0.36 | 8.0 | 0.047 | 57.0 | 168.0 | 0.99490 | 3.15 | 0.46 | 9.6 | 5.0 |\n",
    "| 4895 | 6.5 | 0.24 | 0.19 | 1.2 | 0.041 | 30.0 | 111.0 | 0.99254 | 2.99 | 0.46 | 9.4 | 6.0 |\n",
    "| 4896 | 5.5 | 0.29 | 0.30 | 1.1 | 0.022 | 20.0 | 110.0 | 0.98869 | 3.34 | 0.38 | 12.8 | 7.0 |\n",
    "| 4897 | 6.0 | 0.21 | 0.38 | 0.8 | 0.020 | 22.0 | 98.0 | 0.98941 | 3.26 | 0.32 | 11.8 | 6.0 |\n",
    "| 4898 | NaN | NaN | NaN | NaN | NaN | NaN | NaN | NaN | NaN | NaN | NaN | NaN |"
   ]
  },
  {
   "cell_type": "code",
   "execution_count": null,
   "id": "28a652ac",
   "metadata": {},
   "outputs": [],
   "source": [
    "df_missing.isna()"
   ]
  },
  {
   "cell_type": "markdown",
   "id": "15f6d51e",
   "metadata": {},
   "source": [
    "| | fixed acidity | volatile acidity | citric acid | residual sugar | chlorides | free sulfur dioxide | total sulfur dioxide | density | pH | sulphates | alcohol | quality |\n",
    "| -- | -- | -- | -- | -- | -- | -- | -- | -- | -- | -- | -- | -- |\n",
    "| 0 | False | False | False | False | False | False | False | False | False | False | False | False |\n",
    "| 1 | False | False | False | False | False | False | False | False | False | False | False | False |\n",
    "| 2 | False | True | False | False | False | False | False | False | False | False | False | False |\n",
    "| 3 | False | False | False | False | False | False | False | False | False | False | False | False |\n",
    "| 4 | False | False | False | False | False | False | False | False | False | False | False | False |\n",
    "| ... |\n",
    "| 4894 | False | False | False | False | False | False | False | False | False | False | False | False |\n",
    "| 4895 | False | False | False | False | False | False | False | False | False | False | False | False |\n",
    "| 4896 | False | False | False | False | False | False | False | False | False | False | False | False |\n",
    "| 4897 | False | False | False | False | False | False | False | False | False | False | False | False |\n",
    "| 4898 | True | True | True | True | True | True | True | True | True | True | True | True |"
   ]
  },
  {
   "cell_type": "code",
   "execution_count": null,
   "id": "36e76ef2",
   "metadata": {},
   "outputs": [],
   "source": [
    "df_missing.notna()"
   ]
  },
  {
   "cell_type": "markdown",
   "id": "c2febe4e",
   "metadata": {},
   "source": [
    "| | fixed acidity | volatile acidity | citric acid | residual sugar | chlorides | free sulfur dioxide | total sulfur dioxide | density | pH | sulphates | alcohol | quality |\n",
    "| -- | -- | -- | -- | -- | -- | -- | -- | -- | -- | -- | -- | -- |\n",
    "| 0 | True | True | True | True | True | True | True | True | True | True | True | True |\n",
    "| 1 | True | True | True | True | True | True | True | True | True | True | True | True |\n",
    "| 2 | True | False | True | True | True | True | True | True | True | True | True | True |\n",
    "| 3 | True | True | True | True | True | True | True | True | True | True | True | True |\n",
    "| 4 | True | True | True | True | True | True | True | True | True | True | True | True |\n",
    "| ... |\n",
    "| 4894 | True | True | True | True | True | True | True | True | True | True | True | True |\n",
    "| 4895 | True | True | True | True | True | True | True | True | True | True | True | True |\n",
    "| 4896 | True | True | True | True | True | True | True | True | True | True | True | True |\n",
    "| 4897 | True | True | True | True | True | True | True | True | True | True | True | True |\n",
    "| 4898 | False | False | False | False | False | False | False | False | False | False | False | False |"
   ]
  },
  {
   "cell_type": "code",
   "execution_count": null,
   "id": "c35b57e7",
   "metadata": {},
   "outputs": [],
   "source": [
    "# only show wines that do not have a quality score\n",
    "df[df_missing['quality'].isna()]"
   ]
  },
  {
   "cell_type": "markdown",
   "id": "4d9a6857",
   "metadata": {},
   "source": [
    "| | fixed acidity | volatile acidity | citric acid | residual sugar | chlorides | free sulfur dioxide | total sulfur dioxide | density | pH | sulphates | alcohol | quality |\n",
    "| -- | -- | -- | -- | -- | -- | -- | -- | -- | -- | -- | -- | -- |\n",
    "| 134 | 6.8 | 0.270 | 0.22 | 8.1 | 0.034 | 55.0 | 203.0 | 0.99610 | 3.19 | 0.52 | 8.9 | NaN |\n",
    "| 145 | 6.3 | 0.255 | 0.37 | 1.1 | 0.040 | 37.0 | 114.0 | 0.99050 | 3.00 | 0.39 | 10.9 | NaN |\n",
    "| 193 | 6.6 | 0.150 | 0.34 | 5.1 | 0.055 | 34.0 | 125.0 | 0.99420 | 3.36 | 0.42 | 9.6 | NaN |\n",
    "| 296 | 8.3 | 0.390 | 0.70 | 10.6 | 0.045 | 33.0 | 169.0 | 0.99760 | 3.09 | 0.57 | 9.4 | NaN |\n",
    "| 932 | 6.5 | 0.260 | 0.28 | 12.5 | 0.046 | 80.0 | 225.0 | 0.99685 | 3.18 | 0.41 | 10.0 | NaN |\n",
    "| 4898 | NaN | NaN | NaN | NaN | NaN | NaN | NaN | NaN | NaN | NaN | NaN | NaN |"
   ]
  },
  {
   "cell_type": "code",
   "execution_count": null,
   "id": "7215a43c",
   "metadata": {},
   "outputs": [],
   "source": [
    "# search for multiple null values\n",
    "df[(df_missing['free sulfur dioxide'].isna()) & (df_missing['total sulfur dioxide'].isna())]"
   ]
  },
  {
   "cell_type": "markdown",
   "id": "f5f9d462",
   "metadata": {},
   "source": [
    "| | fixed acidity | volatile acidity | citric acid | residual sugar | chlorides | free sulfur dioxide | total sulfur dioxide | density | pH | sulphates | alcohol | quality |\n",
    "| -- | -- | -- | -- | -- | -- | -- | -- | -- | -- | -- | -- | -- |\n",
    "| 36 | 6.5 | NaN | NaN | NaN | NaN | NaN | NaN | NaN | 3.24 | 0.35 | 10.0 | 5.0 |\n",
    "| 4898 | NaN | NaN | NaN | NaN | NaN | NaN | NaN | NaN | NaN | NaN | NaN | NaN |"
   ]
  },
  {
   "cell_type": "markdown",
   "id": "01b9d245",
   "metadata": {},
   "source": [
    "### Drop Missing Data"
   ]
  },
  {
   "cell_type": "code",
   "execution_count": null,
   "id": "178d374c",
   "metadata": {},
   "outputs": [],
   "source": [
    "# drop all rows that have less than 7 non-null values\n",
    "df_missing.dropna(axis='rows', thresh=7)\n",
    "# drop only rows that miss ALL data points\n",
    "df_missing.dropna(how='all')\n",
    "# only drop rows that have missing values in specified volumns\n",
    "df_missing.dropna(subset=['pH', 'alcohol'])"
   ]
  },
  {
   "cell_type": "markdown",
   "id": "cf25d0f5",
   "metadata": {},
   "source": [
    "### Fill Missing Data"
   ]
  },
  {
   "cell_type": "code",
   "execution_count": null,
   "id": "830760e8",
   "metadata": {},
   "outputs": [],
   "source": [
    "# fill all missing values with `0`\n",
    "df_missing.fillna(value=0)\n",
    "# fill all missing values with `0` in a specified row\n",
    "df_missing['pH'] = df_missing['pH'].fillna(value=0)\n",
    "# use different fills per column\n",
    "values = {\n",
    "    \"fixed acidity\": 0,\n",
    "    \"volatile acidity\": 0,\n",
    "    \"citric acid\": 0,\n",
    "    \"residual sugar\": 0,\n",
    "    \"chlorides\": 0,\n",
    "    \"free sulfur dioxide\": 0,\n",
    "    \"total sulfur dioxide\": 0,\n",
    "    \"density\": 0,\n",
    "    \"pH\": 0,\n",
    "    \"sulphates\": 0,\n",
    "    \"alcohol\": 0,\n",
    "    \"quality\": 'Not Evaluated',\n",
    "}\n",
    "df_missing.fillna(value=values)\n",
    "# only drop rows that have missing values in specified volumns\n",
    "df_missing.dropna(subset=['pH', 'alcohol'])"
   ]
  },
  {
   "cell_type": "code",
   "execution_count": null,
   "id": "1dba65d4",
   "metadata": {},
   "outputs": [],
   "source": [
    "# fill missing data with average values\n",
    "df_missing['chlorides'] = df_missing['chlorides'].fillna(df_missing['chlorides'].mean())"
   ]
  },
  {
   "cell_type": "markdown",
   "id": "c95b869d",
   "metadata": {},
   "source": [
    "## GroupBy"
   ]
  },
  {
   "cell_type": "code",
   "execution_count": null,
   "id": "3ac406f5",
   "metadata": {},
   "outputs": [],
   "source": [
    "# group all wines with the same quality\n",
    "# and display the mean values\n",
    "wine_dataset.groupby('quality').mean()"
   ]
  },
  {
   "cell_type": "markdown",
   "id": "0fcb12fc",
   "metadata": {},
   "source": [
    "| quality | fixed acidity | volatile acidity | citric acid | residual sugar | chlorides | free sulfur dioxide | total sulfur dioxide | density | pH | sulphates | alcohol |\n",
    "| -- | -- | -- | -- | -- | -- | -- | -- | -- | -- | -- | -- |\n",
    "| 3 | 7.600000 | 0.333250 | 0.336000 | 6.392500 | 0.054300 | 53.325000 | 170.600000 | 0.994884 | 3.187500 | 0.474500 | 10.345000 |\n",
    "| 4 | 7.129448 | 0.381227 | 0.304233 | 4.628221 | 0.050098 | 23.358896 | 125.279141 | 0.994277 | 3.182883 | 0.476135 | 10.152454 |\n",
    "| 5 | 6.933974 | 0.302011 | 0.337653 | 7.334969 | 0.051546 | 36.432052 | 150.904598 | 0.995263 | 3.168833 | 0.482203 | 9.808840 |\n",
    "| 6 | 6.837671 | 0.260564 | 0.338025 | 6.441606 | 0.045217 | 35.650591 | 137.047316 | 0.993961 | 3.188599 | 0.491106 | 10.575372 |\n",
    "| 7 | 6.734716 | 0.262767 | 0.325625 | 5.186477 | 0.038191 | 34.125568 | 125.114773 | 0.992452 | 3.213898 | 0.503102 | 11.367936 |\n",
    "| 8 | 6.657143 | 0.277400 | 0.326514 | 5.671429 | 0.038314 | 36.720000 | 126.165714 | 0.992236 | 3.218686 | 0.486229 | 11.636000 |\n",
    "| 9 | 7.420000 | 0.298000 | 0.386000 | 4.120000 | 0.027400 | 33.400000 | 116.000000 | 0.991460 | 3.308000 | 0.466000 | 12.180000 |"
   ]
  },
  {
   "cell_type": "code",
   "execution_count": null,
   "id": "117e96d1",
   "metadata": {},
   "outputs": [],
   "source": [
    "# only return the mean values of one colums as a pd series\n",
    "wine_dataset.groupby('quality').mean()['total sulfur dioxide']"
   ]
  },
  {
   "cell_type": "markdown",
   "id": "1a3f909e",
   "metadata": {},
   "source": [
    "| quality |  |\n",
    "| -- | -- |\n",
    "| 3 | 170.600000 |\n",
    "| 4 | 125.279141 |\n",
    "| 5 | 150.904598 |\n",
    "| 6 | 137.047316 |\n",
    "| 7 | 125.114773 |\n",
    "| 8 | 126.165714 |\n",
    "| 9 | 116.000000 |\n",
    "_Name: total sulfur dioxide, dtype: float64_"
   ]
  },
  {
   "cell_type": "markdown",
   "id": "53a60958",
   "metadata": {},
   "source": [
    "### GroupBy Multi-Index"
   ]
  },
  {
   "cell_type": "code",
   "execution_count": null,
   "id": "6f285829",
   "metadata": {},
   "outputs": [],
   "source": [
    "# group by multiple features\n",
    "quality_tsd = wine_dataset.groupby(['quality','total sulfur dioxide']).mean()\n",
    "quality_tsd"
   ]
  },
  {
   "cell_type": "markdown",
   "id": "38fc4850",
   "metadata": {},
   "source": [
    "| quality | total sulfur dioxide | fixed acidity | volatile acidity | citric acid | residual sugar | chlorides | free sulfur dioxide | density | pH | sulphates | alcohol |\n",
    "| -- | -- | -- | -- | -- | -- | -- | -- | -- | -- | -- | -- |\n",
    "| 3 | 19.0 | 6.9 | 0.39 | 0.40 | 4.60 | 0.022 | 5.0 | 0.99150 | 3.31 | 0.37 | 12.6 |\n",
    "|   | 33.0 | 10.3 | 0.17 | 0.47 | 1.40 | 0.037 | 5.0 | 0.99390 | 2.89 | 0.28 | 9.6 |\n",
    "|   | 57.0 | 7.6 | 0.48 | 0.37 | 1.20 | 0.034 | 5.0 | 0.99256 | 3.05 | 0.54 | 10.4 |\n",
    "|   | 66.0 | 7.1 | 0.32 | 0.32 | 11.00 | 0.038 | 16.0 | 0.99370 | 3.24 | 0.40 | 11.5 |\n",
    "|   | 96.0 | 8.3 | 0.33 | 0.42 | 1.15 | 0.033 | 18.0 | 0.99110 | 3.20 | 0.32 | 12.4 |\n",
    "| ... |\n",
    "| 9 | 85.0 | 6.6 | 0.36 | 0.29 | 1.60 | 0.021 | 24.0 | 0.98965 | 3.41 | 0.61 | 12.4 |\n",
    "|   | 113.0 | 7.1 | 0.26 | 0.49 | 2.20 | 0.032 | 31.0 | 0.99030 | 3.37 | 0.42 | 12.9 |\n",
    "|   | 119.0 | 6.9 | 0.36 | 0.34 | 4.20 | 0.018 | 57.0 | 0.98980 | 3.28 | 0.36 | 12.7 |\n",
    "|   | 124.0 | 9.1 | 0.27 | 0.45 | 10.60 | 0.035 | 28.0 | 0.99700 | 3.20 | 0.46 | 10.4 |\n",
    "|   | 139.0 | 7.4 | 0.24 | 0.36 | 2.00 | 0.031 | 27.0 | 0.99055 | 3.28 | 0.48 | 12.5 |"
   ]
  },
  {
   "cell_type": "code",
   "execution_count": null,
   "id": "dab4a07b",
   "metadata": {},
   "outputs": [],
   "source": [
    "quality_tsd.swaplevel()"
   ]
  },
  {
   "cell_type": "markdown",
   "id": "851b406c",
   "metadata": {},
   "source": [
    "| total sulfur dioxide | quality | fixed acidity | volatile acidity | citric acid | residual sugar | chlorides | free sulfur dioxide | density | pH | sulphates | alcohol |\n",
    "| -- | -- | -- | -- | -- | -- | -- | -- | -- | -- | -- | -- |\n",
    "| 19.0 | 3 | 6.9 | 0.39 | 0.40 | 4.60 | 0.022 | 5.0 | 0.99150 | 3.31 | 0.37 | 12.6 |\n",
    "| 33.0 | 3 | 10.3 | 0.17 | 0.47 | 1.40 | 0.037 | 5.0 | 0.99390 | 2.89 | 0.28 | 9.6 |\n",
    "| 57.0 | 3 | 7.6 | 0.48 | 0.37 | 1.20 | 0.034 | 5.0 | 0.99256 | 3.05 | 0.54 | 10.4 |\n",
    "| 66.0 | 3 | 7.1 | 0.32 | 0.32 | 11.00 | 0.038 | 16.0 | 0.99370 | 3.24 | 0.40 | 11.5 |\n",
    "| 96.0 | 3 | 8.3 | 0.33 | 0.42 | 1.15 | 0.033 | 18.0 | 0.99110 | 3.20 | 0.32 | 12.4 |\n",
    "| ... |\n",
    "| 85.0 | 9 | 6.6 | 0.36 | 0.29 | 1.60 | 0.021 | 24.0 | 0.98965 | 3.41 | 0.61 | 12.4 |\n",
    "| 113.0 | 9 | 7.1 | 0.26 | 0.49 | 2.20 | 0.032 | 31.0 | 0.99030 | 3.37 | 0.42 | 12.9 |\n",
    "| 119.0 | 9 | 6.9 | 0.36 | 0.34 | 4.20 | 0.018 | 57.0 | 0.98980 | 3.28 | 0.36 | 12.7 |\n",
    "| 124.0 | 9 | 9.1 | 0.27 | 0.45 | 10.60 | 0.035 | 28.0 | 0.99700 | 3.20 | 0.46 | 10.4 |\n",
    "| 139.0 | 9 | 7.4 | 0.24 | 0.36 | 2.00 | 0.031 | 27.0 | 0.99055 | 3.28 | 0.48 | 12.5 |"
   ]
  },
  {
   "cell_type": "code",
   "execution_count": null,
   "id": "9d971aea",
   "metadata": {},
   "outputs": [],
   "source": [
    "quality_tsd.swaplevel().sort_index(level='total sulfur dioxide', ascending=False)"
   ]
  },
  {
   "cell_type": "markdown",
   "id": "0ae49dfb",
   "metadata": {},
   "source": [
    "| total sulfur dioxide | quality | fixed acidity | volatile acidity | citric acid | residual sugar | chlorides | free sulfur dioxide | density | pH | sulphates | alcohol |\n",
    "| -- | -- | -- | -- | -- | -- | -- | -- | -- | -- | -- | -- |\n",
    "| 440.0 | 3 | 6.1 | 0.26 | 0.25 | 2.90 | 0.047 | 289.0 | 0.99314 | 3.44 | 0.64 | 10.5 |\n",
    "| 366.5 | 3 | 8.6 | 0.55 | 0.35 | 15.55 | 0.057 | 35.5 | 1.00010 | 3.04 | 0.63 | 11.0 |\n",
    "| 344.0 | 5 | 9.1 | 0.33 | 0.38 | 1.70 | 0.062 | 50.5 | 0.99580 | 3.10 | 0.70 | 9.5 |\n",
    "| 313.0 | 5 | 7.5 | 0.27 | 0.31 | 5.80 | 0.057 | 131.0 | 0.99460 | 3.18 | 0.59 | 10.5 |\n",
    "| 307.5 | 3 | 7.1 | 0.49 | 0.22 | 2.00 | 0.047 | 146.5 | 0.99240 | 3.24 | 0.37 | 11.0 |\n",
    "| ... |\n",
    "| 21.0 | 5 | 5.9 | 0.19 | 0.37 | 0.80 | 0.027 | 3.0 | 0.98970 | 3.09 | 0.31 | 10.8 |\n",
    "| 19.0 | 3 | 6.9 | 0.39 | 0.40 | 4.60 | 0.022 | 5.0 | 0.99150 | 3.31 | 0.37 | 12.6 |\n",
    "| 18.0 | 6 | 9.7 | 0.24 | 0.49 | 4.90 | 0.032 | 3.0 | 0.99368 | 2.85 | 0.54 | 10.0 |\n",
    "| 10.0 | 4 | 4.8 | 0.65 | 0.12 | 1.10 | 0.013 | 4.0 | 0.99246 | 3.32 | 0.36 | 13.5 |\n",
    "| 9.0 | 5 | 4.7 | 0.67 | 0.09 | 1.00 | 0.020 | 5.0 | 0.98722 | 3.30 | 0.34 | 13.6 |"
   ]
  },
  {
   "cell_type": "code",
   "execution_count": null,
   "id": "29387182",
   "metadata": {},
   "outputs": [],
   "source": [
    "wine_dataset.groupby(['quality','total sulfur dioxide']).describe().transpose()"
   ]
  },
  {
   "cell_type": "code",
   "execution_count": null,
   "id": "f523709a",
   "metadata": {},
   "outputs": [],
   "source": [
    "# show hierarchical indices [quality, total sulfur dioxide]\n",
    "quality_tsd.index.levels\n",
    "# FrozenList([[3, 4, 5, 6, 7, 8, 9], [9.0, 10.0, 18.0, 19.0, 21.0, 24.0, 25.0, 26.0, 28.0, 29.0, 30.0, 31.0, 33.0, 34.0, 37.0, 40.0, 41.0, 44.0, 45.0, 46.0, 47.0, 48.0, 49.0, 50.0, 51.0, 53.0, 54.0, 55.0, 56.0, 57.0, 58.0, 59.0, 60.0, 61.0, 62.0, 63.0, 64.0, 65.0, 66.0, 67.0, 68.0, 69.0, 70.0, 71.0, 72.0, 73.0, 74.0, 75.0, 76.0, 77.0, 78.0, 79.0, 80.0, 81.0, 82.0, 83.0, 84.0, 85.0, 86.0, 87.0, 88.0, 89.0, 90.0, 91.0, 92.0, 93.0, 94.0, 95.0, 96.0, 97.0, 98.0, 99.0, 100.0, 101.0, 102.0, 103.0, 104.0, 105.0, 106.0, 107.0, 108.0, 109.0, 110.0, 111.0, 112.0, 113.0, 114.0, 115.0, 115.5, 116.0, 117.0, 118.0, 119.0, 120.0, 121.0, 122.0, 123.0, 124.0, 125.0, 126.0, ...]])"
   ]
  },
  {
   "cell_type": "code",
   "execution_count": null,
   "id": "a841bd1b",
   "metadata": {},
   "outputs": [],
   "source": [
    "# only show where quality is 9\n",
    "quality_tsd.loc[9]"
   ]
  },
  {
   "cell_type": "markdown",
   "id": "1d394b84",
   "metadata": {},
   "source": [
    "| total sulfur dioxide | fixed acidity | volatile acidity | citric acid | residual sugar | chlorides | free sulfur dioxide | density | pH | sulphates | alcohol |\n",
    "| -- | -- | -- | -- | -- | -- | -- | -- | -- | -- | -- |\n",
    "| 85.0 | 6.6 | 0.36 | 0.29 | 1.6 | 0.021 | 24.0 | 0.98965 | 3.41 | 0.61 | 12.4 |\n",
    "| 113.0 | 7.1 | 0.26 | 0.49 | 2.2 | 0.032 | 31.0 | 0.99030 | 3.37 | 0.42 | 12.9 |\n",
    "| 119.0 | 6.9 | 0.36 | 0.34 | 4.2 | 0.018 | 57.0 | 0.98980 | 3.28 | 0.36 | 12.7 |\n",
    "| 124.0 | 9.1 | 0.27 | 0.45 | 10.6 | 0.035 | 28.0 | 0.99700 | 3.20 | 0.46 | 10.4 |\n",
    "| 139.0 | 7.4 | 0.24 | 0.36 | 2.0 | 0.031 | 27.0 | 0.99055 | 3.28 | 0.48 | 12.5 |"
   ]
  },
  {
   "cell_type": "code",
   "execution_count": null,
   "id": "692dfed5",
   "metadata": {},
   "outputs": [],
   "source": [
    "# only show where quality is 3 or 4\n",
    "quality_tsd.loc[[3, 4]]"
   ]
  },
  {
   "cell_type": "markdown",
   "id": "41ea1901",
   "metadata": {},
   "source": [
    "| quality | total sulfur dioxide | fixed acidity | volatile acidity | citric acid | residual sugar | chlorides | free sulfur dioxide | density | pH | sulphates | alcohol |\n",
    "| -- | -- | -- | -- | -- | -- | -- | -- | -- | -- | -- | -- |\n",
    "| 3 | 19.0 | 6.9 | 0.390 | 0.40 | 4.60 | 0.022 | 5.0 | 0.99150 | 3.31 | 0.37 | 12.6 |\n",
    "|   | 33.0 | 10.3 | 0.170 | 0.47 | 1.40 | 0.037 | 5.0 | 0.99390 | 2.89 | 0.28 | 9.6 |\n",
    "|   | 57.0 | 7.6 | 0.480 | 0.37 | 1.20 | 0.034 | 5.0 | 0.99256 | 3.05 | 0.54 | 10.4 |\n",
    "|   | 66.0 | 7.1 | 0.320 | 0.32 | 11.00 | 0.038 | 16.0 | 0.99370 | 3.24 | 0.40 | 11.5 |\n",
    "|   | 96.0 | 8.3 | 0.330 | 0.42 | 1.15 | 0.033 | 18.0 | 0.99110 | 3.20 | 0.32 | 12.4 |\n",
    "| ... |\n",
    "| 4 | 225.0 | 9.8 | 0.250 | 0.74 | 10.00 | 0.056 | 36.0 | 0.99770 | 3.06 | 0.43 | 10.0 |\n",
    "|   | 233.0 | 8.0 | 0.660 | 0.72 | 17.55 | 0.042 | 62.0 | 0.99990 | 2.92 | 0.68 | 9.4 |\n",
    "|   | 234.5 | 6.8 | 0.290 | 0.16 | 1.40 | 0.038 | 122.5 | 0.99220 | 3.15 | 0.47 | 10.0 |\n",
    "|   | 245.0 | 6.3 | 0.600 | 0.44 | 11.00 | 0.050 | 50.0 | 0.99720 | 3.19 | 0.57 | 9.3 |\n",
    "|   | 272.0 | 6.2 | 0.255 | 0.24 | 1.70 | 0.039 | 138.5 | 0.99452 | 3.53 | 0.53 | 9.6 |"
   ]
  },
  {
   "cell_type": "code",
   "execution_count": null,
   "id": "f460e115",
   "metadata": {},
   "outputs": [],
   "source": [
    "quality_tsd.index"
   ]
  },
  {
   "cell_type": "markdown",
   "id": "d6aa4819",
   "metadata": {},
   "source": [
    "```\n",
    "MultiIndex([(3,  19.0),\n",
    "            (3,  33.0),\n",
    "            (3,  57.0),\n",
    "            (3,  66.0),\n",
    "            (3,  96.0),\n",
    "            (3, 109.0),\n",
    "            (3, 111.0),\n",
    "            (3, 123.0),\n",
    "            (3, 134.0),\n",
    "            (3, 157.0),\n",
    "            ...\n",
    "            (8, 179.0),\n",
    "            (8, 180.0),\n",
    "            (8, 186.0),\n",
    "            (8, 188.0),\n",
    "            (8, 212.5),\n",
    "            (9,  85.0),\n",
    "            (9, 113.0),\n",
    "            (9, 119.0),\n",
    "            (9, 124.0),\n",
    "            (9, 139.0)],\n",
    "           names=['quality', 'total sulfur dioxide'], length=777)\n",
    "```"
   ]
  },
  {
   "cell_type": "code",
   "execution_count": null,
   "id": "c11b4f6c",
   "metadata": {},
   "outputs": [],
   "source": [
    "# only show averages for wines of aquality of 3 and tsd average is 111.0\n",
    "quality_tsd.loc[(3, 111.)]\n"
   ]
  },
  {
   "cell_type": "markdown",
   "id": "55f328d7",
   "metadata": {},
   "source": [
    "|  |  |\n",
    "| -- | -- |\n",
    "| fixed acidity | 6.2000 |\n",
    "| volatile acidity | 0.2300 |\n",
    "| citric acid | 0.3500 |\n",
    "| residual sugar | 0.7000 |\n",
    "| chlorides | 0.0510 |\n",
    "| free sulfur dioxide | 24.0000 |\n",
    "| density | 0.9916 |\n",
    "| pH | 3.3700 |\n",
    "| sulphates | 0.4300 |\n",
    "| alcohol | 11.0000 |\n",
    "_Name: (3, 111.0), dtype: float64_"
   ]
  },
  {
   "cell_type": "markdown",
   "id": "4df1a9b1",
   "metadata": {},
   "source": [
    "### Multi-Index Cross-Section"
   ]
  },
  {
   "cell_type": "code",
   "execution_count": null,
   "id": "fe081c25",
   "metadata": {},
   "outputs": [],
   "source": [
    "# cross-section - get all wines with quality 9\n",
    "quality_tsd.xs(key=9, level='quality')"
   ]
  },
  {
   "cell_type": "markdown",
   "id": "3c73f7e9",
   "metadata": {},
   "source": [
    "| total sulfur dioxide | fixed acidity | volatile acidity | citric acid | residual sugar | chlorides | free sulfur dioxide | density | pH | sulphates | alcohol |\n",
    "| -- | -- | -- | -- | -- | -- | -- | -- | -- | -- | -- |\n",
    "| 85.0 | 6.6 | 0.36 | 0.29 | 1.6 | 0.021 | 24.0 | 0.98965 | 3.41 | 0.61 | 12.4 |\n",
    "| 113.0 | 7.1 | 0.26 | 0.49 | 2.2 | 0.032 | 31.0 | 0.99030 | 3.37 | 0.42 | 12.9 |\n",
    "| 119.0 | 6.9 | 0.36 | 0.34 | 4.2 | 0.018 | 57.0 | 0.98980 | 3.28 | 0.36 | 12.7 |\n",
    "| 124.0 | 9.1 | 0.27 | 0.45 | 10.6 | 0.035 | 28.0 | 0.99700 | 3.20 | 0.46 | 10.4 |\n",
    "| 139.0 | 7.4 | 0.24 | 0.36 | 2.0 | 0.031 | 27.0 | 0.99055 | 3.28 | 0.48 | 12.5 |"
   ]
  },
  {
   "cell_type": "code",
   "execution_count": null,
   "id": "2637e476",
   "metadata": {},
   "outputs": [],
   "source": [
    "# cross-section - get all wines with tsd = 124\n",
    "quality_tsd.xs(key=124., level='total sulfur dioxide')"
   ]
  },
  {
   "cell_type": "markdown",
   "id": "1d6c10a3",
   "metadata": {},
   "source": [
    "| quality | fixed acidity | volatile acidity | citric acid | residual sugar | chlorides | free sulfur dioxide | density | pH | sulphates | alcohol |\n",
    "| -- | -- | -- | -- | -- | -- | -- | -- | -- | -- | -- |\n",
    "| 4 | 8.450000 | 0.330000 | 0.550000 | 3.700000 | 0.043500 | 12.500000 | 0.993890 | 3.045000 | 0.440000 | 10.550000 |\n",
    "| 5 | 6.661538 | 0.274615 | 0.309231 | 9.638462 | 0.044769 | 23.538462 | 0.995772 | 3.161538 | 0.496923 | 10.015385 |\n",
    "| 6 | 6.826087 | 0.284783 | 0.327826 | 5.917391 | 0.043826 | 28.565217 | 0.993708 | 3.163478 | 0.446522 | 10.534783 |\n",
    "| 7 | 6.616667 | 0.285000 | 0.295833 | 5.333333 | 0.037500 | 36.750000 | 0.991735 | 3.165833 | 0.517500 | 11.841667 |\n",
    "| 8 | 6.900000 | 0.290000 | 0.365000 | 4.800000 | 0.036000 | 34.500000 | 0.991015 | 3.135000 | 0.375000 | 12.300000 |\n",
    "| 9 | 9.100000 | 0.270000 | 0.450000 | 10.600000 | 0.035000 | 28.000000 | 0.997000 | 3.200000 | 0.460000 | 10.400000 |"
   ]
  },
  {
   "cell_type": "code",
   "execution_count": null,
   "id": "7d84c365",
   "metadata": {},
   "outputs": [],
   "source": [
    "# pre-select only wines with a pH value between 3.0-3.1\n",
    "# and then group by quality and tsd\n",
    "wine_dataset[wine_dataset['pH'].isin([3.0, 3.1])].groupby(['quality','total sulfur dioxide']).mean()"
   ]
  },
  {
   "cell_type": "markdown",
   "id": "0ffb702e",
   "metadata": {},
   "source": [
    "| quality | total sulfur dioxide | fixed acidity | volatile acidity | citric acid | residual sugar | chlorides | free sulfur dioxide | density | pH | sulphates | alcohol |\n",
    "| -- | -- | -- | -- | -- | -- | -- | -- | -- | -- | -- | -- |\n",
    "| 4 | 95.0 | 6.000000 | 0.590000 | 0.000000 | 0.80 | 0.037 | 30.000000 | 0.990320 | 3.100000 | 0.40 | 10.900000 |\n",
    "|  | 102.0 | 7.033333 | 0.393333 | 0.223333 | 5.00 | 0.037 | 12.666667 | 0.993013 | 3.033333 | 0.76 | 11.466667 |\n",
    "|  | 106.0 | 8.500000 | 0.200000 | 0.400000 | 1.10 | 0.046 | 31.000000 | 0.991940 | 3.000000 | 0.35 | 10.500000 |\n",
    "|  | 107.0 | 9.200000 | 0.160000 | 0.490000 | 2.00 | 0.044 | 18.000000 | 0.995140 | 3.100000 | 0.53 | 10.200000 |\n",
    "|  | 111.0 | 6.500000 | 0.290000 | 0.250000 | 2.50 | 0.142 | 8.000000 | 0.992700 | 3.000000 | 0.44 | 9.900000 |\n",
    "| ... |\n",
    "| 7 | 171.0 | 6.800000 | 0.180000 | 0.300000 | 12.80 | 0.062 | 19.000000 | 0.998080 | 3.000000 | 0.52 | 9.000000 |\n",
    "|  | 174.0 | 8.100000 | 0.300000 | 0.490000 | 8.10 | 0.037 | 26.000000 | 0.994300 | 3.100000 | 0.30 | 11.200000 |\n",
    "|  | 189.0 | 6.900000 | 0.360000 | 0.280000 | 13.55 | 0.048 | 51.000000 | 0.997820 | 3.000000 | 0.60 | 9.500000 |\n",
    "|  | 193.0 | 7.600000 | 0.190000 | 0.320000 | 18.75 | 0.047 | 32.000000 | 1.000140 | 3.100000 | 0.50 | 9.300000 |\n",
    "| 8 | 125.0 | 6.900000 | 0.360000 | 0.350000 | 8.60 | 0.038 | 37.000000 | 0.991600 | 3.000000 | 0.32 | 12.400000 |"
   ]
  },
  {
   "cell_type": "markdown",
   "id": "3c788901",
   "metadata": {},
   "source": [
    "## Aggregation"
   ]
  },
  {
   "cell_type": "code",
   "execution_count": null,
   "id": "d48f4b91",
   "metadata": {},
   "outputs": [],
   "source": [
    "# return std deviation minimum/maximum values\n",
    "wine_dataset.agg(['std', 'min', 'max'], axis='rows')"
   ]
  },
  {
   "cell_type": "markdown",
   "id": "8022e6bd",
   "metadata": {},
   "source": [
    "|     | fixed acidity | volatile acidity | citric acid | residual sugar | chlorides | free sulfur dioxide | total sulfur dioxide | density | pH | sulphates | alcohol | quality |\n",
    "| --  | --       | --       | --      | --       | --       | --        | --        | --       | --       | --       | --       | --       |\n",
    "| std | 0.843868 | 0.100795 | 0.12102 | 5.072058 | 0.021848 | 17.007137 | 42.498065 | 0.002991 | 0.151001 | 0.114126 | 1.230621 | 0.885639 |\n",
    "| min | 3.800000 | 0.080000 | 0.00000 | 0.600000 | 0.009000 | 2.000000 | 9.000000 | 0.987110 | 2.720000 | 0.220000 | 8.000000 | 3.000000 |\n",
    "| max | 14.200000 | 1.100000 | 1.66000 | 65.800000 | 0.346000 | 289.000000 | 440.000000 | 1.038980 | 3.820000 | 1.080000 | 14.200000 | 9.000000 |"
   ]
  },
  {
   "cell_type": "code",
   "execution_count": null,
   "id": "892ad0eb",
   "metadata": {},
   "outputs": [],
   "source": [
    "# return std deviation, mean and minimum/maximum values for selected columns\n",
    "wine_dataset.agg({'fixed acidity' : ['std', 'min'], 'citric acid' : ['std', 'mean']}, axis='rows')"
   ]
  },
  {
   "cell_type": "markdown",
   "id": "1efc6efd",
   "metadata": {},
   "source": [
    "|  | fixed acidity | citric acid |\n",
    "| -- | -- | -- |\n",
    "| std | 0.843868 | 0.121020 |\n",
    "| min | 3.800000 | NaN |\n",
    "| mean | NaN | 0.334192 |"
   ]
  },
  {
   "cell_type": "markdown",
   "id": "226f0e24",
   "metadata": {},
   "source": [
    "## Combining Dataframes\n",
    "\n",
    "### Concatenation\n",
    "\n",
    "#### By Rows"
   ]
  },
  {
   "cell_type": "code",
   "execution_count": null,
   "id": "dc740aac",
   "metadata": {},
   "outputs": [],
   "source": [
    "data_one = { 'A': ['A0', 'A1', 'A2', 'A3', 'A4'], 'B': ['B0', 'B1', 'B2', 'B3', 'B4']}\n",
    "data_two = { 'C': ['C0', 'C1', 'C2', 'C3', 'C4'], 'D': ['D0', 'D1', 'D2', 'D3', 'D4']}"
   ]
  },
  {
   "cell_type": "code",
   "execution_count": null,
   "id": "9dcbf66d",
   "metadata": {},
   "outputs": [],
   "source": [
    "one_df = pd.DataFrame(data_one)\n",
    "two_df = pd.DataFrame(data_two)"
   ]
  },
  {
   "cell_type": "code",
   "execution_count": null,
   "id": "27567b00",
   "metadata": {},
   "outputs": [],
   "source": [
    "pd.concat([one_df, two_df], axis=1)"
   ]
  },
  {
   "cell_type": "markdown",
   "id": "79dda622",
   "metadata": {},
   "source": [
    "|  | A | B | C | D |\n",
    "| -- | -- | -- | -- | -- |\n",
    "| 0 | A0 | B0 | C0 | D0 |\n",
    "| 1 | A1 | B1 | C1 | D1 |\n",
    "| 2 | A2 | B2 | C2 | D2 |\n",
    "| 3 | A3 | B3 | C3 | D3 |\n",
    "| 4 | A4 | B4 | C4 | D4 |"
   ]
  },
  {
   "cell_type": "markdown",
   "id": "10aa6107",
   "metadata": {},
   "source": [
    "#### By Columns"
   ]
  },
  {
   "cell_type": "code",
   "execution_count": null,
   "id": "3dc7fb70",
   "metadata": {},
   "outputs": [],
   "source": [
    "data_three = { 'A': ['A0', 'A1', 'A2', 'A3', 'A4'], 'B': ['B0', 'B1', 'B2', 'B3', 'B4']}\n",
    "data_four = { 'A': ['A5', 'A6', 'A7', 'A8', 'A9'], 'B': ['B5', 'B6', 'B7', 'B8', 'B9']}"
   ]
  },
  {
   "cell_type": "code",
   "execution_count": null,
   "id": "a6c6490c",
   "metadata": {},
   "outputs": [],
   "source": [
    "three_df = pd.DataFrame(data_three)\n",
    "four_df = pd.DataFrame(data_four)"
   ]
  },
  {
   "cell_type": "code",
   "execution_count": null,
   "id": "312eb607",
   "metadata": {},
   "outputs": [],
   "source": [
    "pd.concat([three_df, four_df], axis=0, ignore_index=True)"
   ]
  },
  {
   "cell_type": "markdown",
   "id": "205aa378",
   "metadata": {},
   "source": [
    "|  | A | B |\n",
    "| -- | -- | -- |\n",
    "| 0 | A0 | B0 |\n",
    "| 1 | A1 | B1 |\n",
    "| 2 | A2 | B2 |\n",
    "| 3 | A3 | B3 |\n",
    "| 4 | A4 | B4 |\n",
    "| 5 | A5 | B5 |\n",
    "| 6 | A6 | B6 |\n",
    "| 7 | A7 | B7 |\n",
    "| 8 | A8 | B8 |\n",
    "| 9 | A9 | B9 |"
   ]
  },
  {
   "cell_type": "markdown",
   "id": "be1bc7f6",
   "metadata": {},
   "source": [
    "### Merge\n",
    "\n",
    "#### Inner Join"
   ]
  },
  {
   "cell_type": "code",
   "execution_count": null,
   "id": "c91bd6b5",
   "metadata": {},
   "outputs": [],
   "source": [
    "registration_data = {\n",
    "    'reg_id': ['1', '2', '3', '4'],\n",
    "    'name': ['Manfred', 'Kurt', 'Vasili', 'Cassandra']\n",
    "}\n",
    "\n",
    "login_data = {\n",
    "    'log_id': ['1', '2', '3', '4'],\n",
    "    'name': ['Chantal', 'Manfred', 'Cassandra', 'Andrew']\n",
    "}"
   ]
  },
  {
   "cell_type": "code",
   "execution_count": null,
   "id": "bf749c45",
   "metadata": {},
   "outputs": [],
   "source": [
    "reg_df = pd.DataFrame(registration_data)\n",
    "log_df = pd.DataFrame(login_data)"
   ]
  },
  {
   "cell_type": "code",
   "execution_count": null,
   "id": "ee27a342",
   "metadata": {},
   "outputs": [],
   "source": [
    "# only select names that are present in both tables and merge\n",
    "pd.merge(reg_df, log_df, how='inner', on='name')"
   ]
  },
  {
   "cell_type": "markdown",
   "id": "8340aea7",
   "metadata": {},
   "source": [
    "|  | reg_id | name | log_id |\n",
    "| -- | -- | -- | -- |\n",
    "| 0 | 1 | Manfred | 2 |\n",
    "| 1 | 4 | Cassandra | 3 |"
   ]
  },
  {
   "cell_type": "markdown",
   "id": "9e13a522",
   "metadata": {},
   "source": [
    "#### Outer Join"
   ]
  },
  {
   "cell_type": "code",
   "execution_count": null,
   "id": "f40ec070",
   "metadata": {},
   "outputs": [],
   "source": [
    "# merge all\n",
    "pd.merge(reg_df, log_df, how='outer', on='name')"
   ]
  },
  {
   "cell_type": "markdown",
   "id": "f599dddc",
   "metadata": {},
   "source": [
    "|  | reg_id | name | log_id |\n",
    "| -- | -- | -- | -- |\n",
    "| 0 | 1 | Manfred | 2 |\n",
    "| 1 | 2 | Kurt | NaN |\n",
    "| 2 | 3 | Vasili | NaN |\n",
    "| 3 | 4 | Cassandra | 3 |\n",
    "| 4 | NaN | Chantal | 1 |\n",
    "| 5 | NaN | Andrew | 4 |"
   ]
  },
  {
   "cell_type": "markdown",
   "id": "8239bdee",
   "metadata": {},
   "source": [
    "#### Left Join"
   ]
  },
  {
   "cell_type": "code",
   "execution_count": null,
   "id": "f81ffcfa",
   "metadata": {},
   "outputs": [],
   "source": [
    "# merge left\n",
    "pd.merge(reg_df, log_df, how='left', on='name')"
   ]
  },
  {
   "cell_type": "markdown",
   "id": "2bde4c59",
   "metadata": {},
   "source": [
    "|  | reg_id | name | log_id |\n",
    "| -- | -- | -- | -- |\n",
    "| 0 | 1 | Manfred | 2 |\n",
    "| 1 | 2 | Kurt | NaN |\n",
    "| 2 | 3 | Vasili | NaN |\n",
    "| 3 | 4 | Cassandra | 3 |"
   ]
  },
  {
   "cell_type": "code",
   "execution_count": null,
   "id": "b764a8f4",
   "metadata": {},
   "outputs": [],
   "source": [
    "# merge left / swapped df input\n",
    "pd.merge(log_df, reg_df, how='left', on='name')"
   ]
  },
  {
   "cell_type": "markdown",
   "id": "5d7f37f1",
   "metadata": {},
   "source": [
    "|  | log_id | name | reg_id |\n",
    "| -- | -- | -- | -- |\n",
    "| 0 | 1 | Chantal | NaN |\n",
    "| 1 | 2 | Manfred | 1 |\n",
    "| 2 | 3 | Cassandra | 4 |\n",
    "| 3 | 4 | Andrew | NaN |"
   ]
  },
  {
   "cell_type": "markdown",
   "id": "aef7add1",
   "metadata": {},
   "source": [
    "#### Right Join"
   ]
  },
  {
   "cell_type": "code",
   "execution_count": null,
   "id": "479ccf42",
   "metadata": {},
   "outputs": [],
   "source": [
    "# merge right\n",
    "pd.merge(reg_df, log_df, how='right', on='name')"
   ]
  },
  {
   "cell_type": "markdown",
   "id": "f83c5d95",
   "metadata": {},
   "source": [
    "|  | reg_id | name | log_id |\n",
    "| -- | -- | -- | -- |\n",
    "| 0 | NaN | Chantal | 1 |\n",
    "| 1 | 1 | Manfred | 2 |\n",
    "| 2 | 4 | Cassandra | 3 |\n",
    "| 3 | NaN | Andrew | 4 |"
   ]
  },
  {
   "cell_type": "code",
   "execution_count": null,
   "id": "9d7b48ae",
   "metadata": {},
   "outputs": [],
   "source": [
    "# merge right / swapped df input\n",
    "pd.merge(log_df, reg_df, how='right', on='name')"
   ]
  },
  {
   "cell_type": "markdown",
   "id": "2dd24e17",
   "metadata": {},
   "source": [
    "|  | log_id | name | reg_id |\n",
    "| -- | -- | -- | -- |\n",
    "| 0 | 2 | Manfred | 1 |\n",
    "| 1 | NaN | Kurt | 2 |\n",
    "| 2 | NaN | Vasili | 3 |\n",
    "| 3 | 3 | Cassandra | 4 |"
   ]
  },
  {
   "cell_type": "markdown",
   "id": "60019cd5",
   "metadata": {},
   "source": [
    "#### Join by left_on / right_on"
   ]
  },
  {
   "cell_type": "code",
   "execution_count": null,
   "id": "d4e04dca",
   "metadata": {},
   "outputs": [],
   "source": [
    "registration_data = {\n",
    "    'reg_id': ['1', '2', '3', '4'],\n",
    "    'name': ['Manfred', 'Kurt', 'Vasili', 'Cassandra']\n",
    "}\n",
    "\n",
    "login_data = {\n",
    "    'log_id': ['1', '2', '3', '4'],\n",
    "    'user': ['Chantal', 'Manfred', 'Cassandra', 'Andrew']\n",
    "}"
   ]
  },
  {
   "cell_type": "code",
   "execution_count": null,
   "id": "6e6a3c04",
   "metadata": {},
   "outputs": [],
   "source": [
    "reg_df = pd.DataFrame(registration_data)\n",
    "log_df = pd.DataFrame(login_data)"
   ]
  },
  {
   "cell_type": "code",
   "execution_count": null,
   "id": "fc8cc503",
   "metadata": {},
   "outputs": [],
   "source": [
    "# merge on different columns\n",
    "pd.merge(reg_df, log_df, how='inner', left_on='name', right_on='user').set_index('user')"
   ]
  },
  {
   "cell_type": "markdown",
   "id": "ea20217e",
   "metadata": {},
   "source": [
    "| user | reg_id | log_id |\n",
    "| -- | -- | -- |\n",
    "| Manfred | 1 | 2 |\n",
    "| Cassandra | 4 | 3 |"
   ]
  },
  {
   "cell_type": "markdown",
   "id": "92a0e688",
   "metadata": {},
   "source": [
    "#### Join Suffixes"
   ]
  },
  {
   "cell_type": "code",
   "execution_count": null,
   "id": "1e83809e",
   "metadata": {},
   "outputs": [],
   "source": [
    "registration_data = {\n",
    "    'id': ['1', '2', '3', '4'],\n",
    "    'name': ['Manfred', 'Kurt', 'Vasili', 'Cassandra']\n",
    "}\n",
    "\n",
    "login_data = {\n",
    "    'id': ['1', '2', '3', '4'],\n",
    "    'name': ['Chantal', 'Manfred', 'Cassandra', 'Andrew']\n",
    "}"
   ]
  },
  {
   "cell_type": "code",
   "execution_count": null,
   "id": "73c999d7",
   "metadata": {},
   "outputs": [],
   "source": [
    "reg_df = pd.DataFrame(registration_data)\n",
    "log_df = pd.DataFrame(login_data)"
   ]
  },
  {
   "cell_type": "code",
   "execution_count": null,
   "id": "5ac7dd26",
   "metadata": {},
   "outputs": [],
   "source": [
    "pd.merge(reg_df, log_df , how='inner', on='name', suffixes=('_reg', '_log'))"
   ]
  },
  {
   "cell_type": "markdown",
   "id": "80d25fde",
   "metadata": {},
   "source": [
    "|    | id_reg | name | id_log |\n",
    "| -- | -- | -- | -- |\n",
    "| 0 | 1 | Manfred | 2 |\n",
    "| 1 | 4 | Cassandra | 3 |"
   ]
  },
  {
   "cell_type": "markdown",
   "id": "7d68f465",
   "metadata": {},
   "source": [
    "## String Method"
   ]
  },
  {
   "cell_type": "code",
   "execution_count": null,
   "id": "ea3d62fb",
   "metadata": {},
   "outputs": [],
   "source": [
    "email = 'jl-picard@starfleet.com'\n",
    "email.split('@')[0]\n",
    "# 'jl-picard'"
   ]
  },
  {
   "cell_type": "markdown",
   "id": "75da3a68",
   "metadata": {},
   "source": [
    "### Pandas Str()"
   ]
  },
  {
   "cell_type": "code",
   "execution_count": null,
   "id": "6423ed82",
   "metadata": {},
   "outputs": [],
   "source": [
    "names = pd.Series(['Data', 'Geordie', 'Deanna', 'Worf', 'Riker', 'Beverly', '7'])\n",
    "names.str.isdigit()"
   ]
  },
  {
   "cell_type": "markdown",
   "id": "e996a9f8",
   "metadata": {},
   "source": [
    "|    |    |\n",
    "| -- | -- |\n",
    "| 0 | False |\n",
    "| 1 | False |\n",
    "| 2 | False |\n",
    "| 3 | False |\n",
    "| 4 | False |\n",
    "| 5 | False |\n",
    "| 6 |  True |\n",
    "_dtype: bool_"
   ]
  },
  {
   "cell_type": "code",
   "execution_count": null,
   "id": "e27c3272",
   "metadata": {},
   "outputs": [],
   "source": [
    "messy_api_response = [\n",
    "    'Burgdoggen, Tri-tip, leberkas, aute',\n",
    "    'T-bone, sint, dolor, consequat',\n",
    "    'Mollit, magna, proident, kielbasa'\n",
    "]"
   ]
  },
  {
   "cell_type": "code",
   "execution_count": null,
   "id": "5d5da26d",
   "metadata": {},
   "outputs": [],
   "source": [
    "pd.Series(messy_api_response).str.split(',').str[0]"
   ]
  },
  {
   "cell_type": "markdown",
   "id": "e994f5a9",
   "metadata": {},
   "source": [
    "|    |    |\n",
    "| -- | -- |\n",
    "| 0 | Burgdoggen |\n",
    "| 1 | T-bone |\n",
    "| 2 | Mollit |\n",
    "_dtype: object_"
   ]
  },
  {
   "cell_type": "code",
   "execution_count": null,
   "id": "5a47fc75",
   "metadata": {},
   "outputs": [],
   "source": [
    "pd.Series(messy_api_response).str.split(',', expand=True)"
   ]
  },
  {
   "cell_type": "markdown",
   "id": "d0be26a6",
   "metadata": {},
   "source": [
    "|    | 0  | 1  | 2  | 3  |\n",
    "| -- | -- | -- | -- | -- |\n",
    "| 0 | Burgdoggen | Tri-tip | leberkas | aute |\n",
    "| 1 | T-bone | sint | dolor | consequat |\n",
    "| 2 | Mollit | magna | proident | kielbasa |"
   ]
  },
  {
   "cell_type": "code",
   "execution_count": null,
   "id": "ab6c873c",
   "metadata": {},
   "outputs": [],
   "source": [
    "messy_api_response_2 = [\n",
    "    'burgdoggen %',\n",
    "    't-bone%',\n",
    "    '   mollit   %'\n",
    "]\n",
    "\n",
    "pd.Series(messy_api_response_2).str.replace('%', '').str.strip()"
   ]
  },
  {
   "cell_type": "markdown",
   "id": "4cd5d558",
   "metadata": {},
   "source": [
    "|    |    |\n",
    "| -- | -- |\n",
    "| 0 | burgdoggen |\n",
    "| 1 | t-bone |\n",
    "| 2 | mollit |\n",
    "_dtype: object_"
   ]
  },
  {
   "cell_type": "code",
   "execution_count": null,
   "id": "020dbe1e",
   "metadata": {},
   "outputs": [],
   "source": [
    "# alternatively use apply()\n",
    "def cleanup_strings(name):\n",
    "    name = name.replace('%', '')\n",
    "    name = name.strip()\n",
    "    name = name.capitalize()\n",
    "    return name\n",
    "\n",
    "pd.Series(messy_api_response_2).apply(cleanup_strings)"
   ]
  },
  {
   "cell_type": "markdown",
   "id": "f6cc070e",
   "metadata": {},
   "source": [
    "|    |    |\n",
    "| -- | -- |\n",
    "| 0 | Burgdoggen |\n",
    "| 1 | T-bone |\n",
    "| 2 | Mollit |\n",
    "_dtype: object_"
   ]
  },
  {
   "cell_type": "markdown",
   "id": "c98907d1",
   "metadata": {},
   "source": [
    "## Date-Time Method\n",
    "\n",
    "### Date-Time Object"
   ]
  },
  {
   "cell_type": "code",
   "execution_count": null,
   "id": "9698d497",
   "metadata": {},
   "outputs": [],
   "source": [
    "# example datetiem object\n",
    "from datetime import datetime\n",
    "\n",
    "year = 2023\n",
    "month = 10\n",
    "day = 5\n",
    "hour = 4\n",
    "minute = 44\n",
    "seconds = 7\n",
    "\n",
    "date = datetime(year, month, day, hour, minute, seconds)\n",
    "date\n",
    "# datetime.datetime(2023, 10, 5, 4, 44, 7)"
   ]
  },
  {
   "cell_type": "code",
   "execution_count": null,
   "id": "a5e7a94f",
   "metadata": {},
   "outputs": [],
   "source": [
    "# working with US datetime object\n",
    "date_series = pd.Series([\n",
    "    'Aug 27, 1989',\n",
    "    '2021-04-01',\n",
    "    '2020-10-25 02:00 +0800',\n",
    "    '19th of Mar 2003'\n",
    "])\n",
    "\n",
    "# generate datetime objects\n",
    "date_series = pd.to_datetime(date_series)\n",
    "date_series"
   ]
  },
  {
   "cell_type": "markdown",
   "id": "181622f6",
   "metadata": {},
   "source": [
    "|    |    |\n",
    "| -- | -- |\n",
    "| 0 | 1989-08-27 00:00:00 |\n",
    "| 1 | 2021-04-01 00:00:00 |\n",
    "| 2 | 2020-10-25 02:00:00+08:00 |\n",
    "| 3 | 2003-03-19 00:00:00 |\n",
    "_dtype: datetime64[ns]_"
   ]
  },
  {
   "cell_type": "code",
   "execution_count": null,
   "id": "4b4e5a61",
   "metadata": {},
   "outputs": [],
   "source": [
    "date_series[1].month\n",
    "# 4"
   ]
  },
  {
   "cell_type": "code",
   "execution_count": null,
   "id": "9bf6e17e",
   "metadata": {},
   "outputs": [],
   "source": [
    "# working with European datetime object\n",
    "date_series_european = pd.Series(['31-03-2005', '01-04-2005', '28-04-2005'])\n",
    "date_series_european = pd.to_datetime(date_series_european, dayfirst=True)\n",
    "date_series_european"
   ]
  },
  {
   "cell_type": "markdown",
   "id": "3315bbd3",
   "metadata": {},
   "source": [
    "|    |    |\n",
    "| -- | -- |\n",
    "| 0 | 2005-03-31 |\n",
    "| 1 | 2005-04-01 |\n",
    "| 2 | 2005-04-28 |\n",
    "_dtype: datetime64[ns]_"
   ]
  },
  {
   "cell_type": "code",
   "execution_count": null,
   "id": "8d1a3a6d",
   "metadata": {},
   "outputs": [],
   "source": [
    "# formating timestrings\n",
    "time_string = '06--Dec--2012'\n",
    "\n",
    "pd.to_datetime(time_string, format='%d--%b--%Y')\n",
    "# Timestamp('2012-12-06 00:00:00')"
   ]
  },
  {
   "cell_type": "code",
   "execution_count": null,
   "id": "70a3cf96",
   "metadata": {},
   "outputs": [],
   "source": [
    "# import from csv dataset\n",
    "sales = pd.read_csv('datasets/RetailSales_BeerWineLiquor.csv')\n",
    "sales"
   ]
  },
  {
   "cell_type": "markdown",
   "id": "177cf53c",
   "metadata": {},
   "source": [
    "|  | DATE | MRTSSM4453USN |\n",
    "| -- | -- | -- |\n",
    "| 0 | 1992-01-01 | 1509 |\n",
    "| 1 | 1992-02-01 | 1541 |\n",
    "| 2 | 1992-03-01 | 1597 |\n",
    "| 3 | 1992-04-01 | 1675 |\n",
    "| 4 | 1992-05-01 | 1822 |\n",
    "| ... |\n",
    "| 335 | 2019-12-01 | 6630 |\n",
    "| 336 | 2020-01-01 | 4388 |\n",
    "| 337 | 2020-02-01 | 4533 |\n",
    "| 338 | 2020-03-01 | 5562 |\n",
    "| 339 | 2020-04-01 | 5207 |\n",
    "_340 rows × 2 columns_"
   ]
  },
  {
   "cell_type": "code",
   "execution_count": null,
   "id": "9b45fa2e",
   "metadata": {},
   "outputs": [],
   "source": [
    "sales['DATE'] = pd.to_datetime(sales['DATE'])\n",
    "print(sales['DATE'][0].year)\n",
    "# 1992\n",
    "sales['DATE']"
   ]
  },
  {
   "cell_type": "markdown",
   "id": "7d615af7",
   "metadata": {},
   "source": [
    "|  | DATE |\n",
    "| -- | -- |\n",
    "| 0 | 1992-01-01 |\n",
    "| 1 | 1992-02-01 |\n",
    "| 2 | 1992-03-01 |\n",
    "| 3 | 1992-04-01 |\n",
    "| 4 | 1992-05-01 |\n",
    "| ... |\n",
    "| 335 | 2019-12-01 |\n",
    "| 336 | 2020-01-01 |\n",
    "| 337 | 2020-02-01 |\n",
    "| 338 | 2020-03-01 |\n",
    "| 339 | 2020-04-01 |\n",
    "_Name: DATE, Length: 340, dtype: datetime64[ns]_"
   ]
  },
  {
   "cell_type": "code",
   "execution_count": null,
   "id": "59e420b4",
   "metadata": {},
   "outputs": [],
   "source": [
    "# import from csv dataset + automatically parse datetime object\n",
    "sales_autoparse = pd.read_csv('datasets/RetailSales_BeerWineLiquor.csv', parse_dates=[0])\n",
    "sales_autoparse['DATE'].dt.year"
   ]
  },
  {
   "cell_type": "markdown",
   "id": "4349ebcf",
   "metadata": {},
   "source": [
    "|    |    |\n",
    "| -- | -- |\n",
    "| 0 | 1992 |\n",
    "| 1 | 1992 |\n",
    "| 2 | 1992 |\n",
    "| 3 | 1992 |\n",
    "| 4 | 1992 |\n",
    "| ... |\n",
    "| 335 | 2019 |\n",
    "| 336 | 2020 |\n",
    "| 337 | 2020 |\n",
    "| 338 | 2020 |\n",
    "| 339 | 2020 |\n",
    "_Name: DATE, Length: 340, dtype: int64_"
   ]
  },
  {
   "cell_type": "code",
   "execution_count": null,
   "id": "a05eb273",
   "metadata": {},
   "outputs": [],
   "source": [
    "# working with time indices\n",
    "sales_time_index = sales_autoparse.set_index('DATE')\n",
    "\n",
    "# group data by years and calculate the mean value\n",
    "sales_time_index.resample('A').mean()"
   ]
  },
  {
   "cell_type": "markdown",
   "id": "11893432",
   "metadata": {},
   "source": [
    "| DATE | MRTSSM4453USN |\n",
    "| -- | -- |\n",
    "| 1992-12-31 | 1807.250000 |\n",
    "| 1993-12-31 | 1794.833333 |\n",
    "| 1994-12-31 | 1841.750000 |\n",
    "| 1995-12-31 | 1833.916667 |\n",
    "| 1996-12-31 | 1929.750000 |\n",
    "| 1997-12-31 | 2006.750000 |\n",
    "| 1998-12-31 | 2115.166667 |\n",
    "| 1999-12-31 | 2206.333333 |\n",
    "| 2000-12-31 | 2375.583333 |\n",
    "| 2001-12-31 | 2468.416667 |\n",
    "| 2002-12-31 | 2491.166667 |\n",
    "| 2003-12-31 | 2539.083333 |\n",
    "| 2004-12-31 | 2682.416667 |\n",
    "| 2005-12-31 | 2797.250000 |\n",
    "| 2006-12-31 | 3001.333333 |\n",
    "| 2007-12-31 | 3177.333333 |\n",
    "| 2008-12-31 | 3292.000000 |\n",
    "| 2009-12-31 | 3353.750000 |\n",
    "| 2010-12-31 | 3450.083333 |\n",
    "| 2011-12-31 | 3532.666667 |\n",
    "| 2012-12-31 | 3697.083333 |\n",
    "| 2013-12-31 | 3839.666667 |\n",
    "| 2014-12-31 | 4023.833333 |\n",
    "| 2015-12-31 | 4212.500000 |\n",
    "| 2016-12-31 | 4434.416667 |\n",
    "| 2017-12-31 | 4602.666667 |\n",
    "| 2018-12-31 | 4830.666667 |\n",
    "| 2019-12-31 | 4972.750000 |\n",
    "| 2020-12-31 | 4922.500000 |"
   ]
  },
  {
   "cell_type": "markdown",
   "id": "77546784",
   "metadata": {},
   "source": [
    "## Panda I/O\n",
    "\n",
    "### CSV"
   ]
  },
  {
   "cell_type": "code",
   "execution_count": null,
   "id": "3a3b7735",
   "metadata": {},
   "outputs": [],
   "source": [
    "# read_csv\n",
    "df_csv = pd.read_csv('datasets/RetailSales_BeerWineLiquor.csv', index_col=0)\n",
    "df_csv"
   ]
  },
  {
   "cell_type": "markdown",
   "id": "099fc265",
   "metadata": {},
   "source": [
    "| DATE | MRTSSM4453USN |\n",
    "| -- | -- |\n",
    "| 1992-01-01 | 1509 |\n",
    "| 1992-02-01 | 1541 |\n",
    "| 1992-03-01 | 1597 |\n",
    "| 1992-04-01 | 1675 |\n",
    "| 1992-05-01 | 1822 |\n",
    "| ... |\n",
    "| 2019-12-01 | 6630 |\n",
    "| 2020-01-01 | 4388 |\n",
    "| 2020-02-01 | 4533 |\n",
    "| 2020-03-01 | 5562 |\n",
    "| 2020-04-01 | 5207 |\n",
    "_340 rows × 1 columns_"
   ]
  },
  {
   "cell_type": "code",
   "execution_count": null,
   "id": "e737a47f",
   "metadata": {},
   "outputs": [],
   "source": [
    "# write to_csv\n",
    "df_csv.to_csv('datasets/csv-test.csv')"
   ]
  },
  {
   "cell_type": "markdown",
   "id": "93d88e1b",
   "metadata": {},
   "source": [
    "### Excel\n",
    "\n",
    "> dependency `pip install openpyxl`"
   ]
  },
  {
   "cell_type": "code",
   "execution_count": null,
   "id": "6e2f4f7e",
   "metadata": {},
   "outputs": [],
   "source": [
    "workbook = pd.ExcelFile('datasets/wine-quality.xlsx')\n",
    "workbook.sheet_names\n",
    "# ['Sheet1']"
   ]
  },
  {
   "cell_type": "code",
   "execution_count": null,
   "id": "92a8d469",
   "metadata": {},
   "outputs": [],
   "source": [
    "# read_excel\n",
    "df_excel = pd.read_excel('datasets/wine-quality.xlsx', sheet_name='Sheet1')"
   ]
  },
  {
   "cell_type": "code",
   "execution_count": null,
   "id": "bbf9a2ae",
   "metadata": {},
   "outputs": [],
   "source": [
    "# get all worksheets\n",
    "df_excel_dictionary = pd.read_excel('datasets/wine-quality.xlsx', sheet_name=None)\n",
    "# show all sheet keys\n",
    "print(df_excel_dictionary.keys())\n",
    "# dict_keys(['Sheet1'])\n",
    "\n",
    "# select sheet by key\n",
    "df_excel_dictionary['Sheet1']"
   ]
  },
  {
   "cell_type": "code",
   "execution_count": null,
   "id": "cbd9f211",
   "metadata": {},
   "outputs": [],
   "source": [
    "# write to excel\n",
    "df_excel.to_excel('datasets/test.xlsx', index=False)"
   ]
  },
  {
   "cell_type": "markdown",
   "id": "431a4170",
   "metadata": {},
   "source": [
    "### HTML\n",
    "\n",
    "> dependency: `pip install lxml`"
   ]
  },
  {
   "cell_type": "code",
   "execution_count": null,
   "id": "c761eb65",
   "metadata": {},
   "outputs": [],
   "source": [
    "url = 'https://en.wikipedia.org/wiki/Star_Trek:_Deep_Space_Nine'"
   ]
  },
  {
   "cell_type": "code",
   "execution_count": null,
   "id": "0d0b53eb",
   "metadata": {},
   "outputs": [],
   "source": [
    "# read in an HTML table\n",
    "tables = pd.read_html(url)\n",
    "ds9_actors = tables[1]\n",
    "ds9_actors"
   ]
  },
  {
   "cell_type": "markdown",
   "id": "f55bed2e",
   "metadata": {},
   "source": [
    "|  | Actor | Character | Position | Appearances | Character's species | Rank |\n",
    "| -- | -- | -- | -- | -- | -- | -- |\n",
    "| 0 | Avery Brooks | Benjamin Sisko | Commanding Officer | Seasons 1–7 | Human | Commander (Seasons 1–3)Captain (Seasons 3–7) |\n",
    "| 1 | Avery Brooks | Benjamin Sisko is the Starfleet officer placed... | Benjamin Sisko is the Starfleet officer placed... | Benjamin Sisko is the Starfleet officer placed... | Benjamin Sisko is the Starfleet officer placed... | Benjamin Sisko is the Starfleet officer placed... |\n",
    "| 2 | René Auberjonois | Odo | Chief of Security | Seasons 1–7 | Changeling | Constable (unofficial) |\n",
    "| 3 | René Auberjonois | Constable Odo is the station's chief of securi... | Constable Odo is the station's chief of securi... | Constable Odo is the station's chief of securi... | Constable Odo is the station's chief of securi... | Constable Odo is the station's chief of securi... |\n",
    "| 4 | Alexander Siddig | Julian Bashir | Chief Medical Officer | Seasons 1–7 | Human | Lieutenant, junior grade (Seasons 1–3) Lieuten... |\n",
    "| 5 | Alexander Siddig | Julian Bashir is the station's chief medical o... | Julian Bashir is the station's chief medical o... | Julian Bashir is the station's chief medical o... | Julian Bashir is the station's chief medical o... | Julian Bashir is the station's chief medical o... |\n",
    "| 6 | Terry Farrell | Jadzia Dax | Chief Science Officer | Seasons 1–6 | Trill | Lieutenant (Seasons 1–3)Lieutenant commander (... |\n",
    "| 7 | Terry Farrell | Jadzia Dax is the station's science officer. A... | Jadzia Dax is the station's science officer. A... | Jadzia Dax is the station's science officer. A... | Jadzia Dax is the station's science officer. A... | Jadzia Dax is the station's science officer. A... |\n",
    "| 8 | Cirroc Lofton | Jake Sisko | Student (Seasons 1–5)Journalist (Seasons 5–7) | Seasons 1–7 | Human | Civilian |\n",
    "| 9 | Cirroc Lofton | Jake is Benjamin Sisko's son. He at first rese... | Jake is Benjamin Sisko's son. He at first rese... | Jake is Benjamin Sisko's son. He at first rese... | Jake is Benjamin Sisko's son. He at first rese... | Jake is Benjamin Sisko's son. He at first rese... |\n",
    "| 10 | Colm Meaney | Miles O'Brien | Chief Operations Officer | Seasons 1–7 | Human | Senior chief petty officer |\n",
    "| 11 | Colm Meaney | Miles O'Brien is the Chief of Operations, resp... | Miles O'Brien is the Chief of Operations, resp... | Miles O'Brien is the Chief of Operations, resp... | Miles O'Brien is the Chief of Operations, resp... | Miles O'Brien is the Chief of Operations, resp...| \n",
    "| 12 | Armin Shimerman | Quark | Bar owner | Seasons 1–7 | Ferengi | Civilian |\n",
    "| 13 | Armin Shimerman | Quark is the proprietor of a bar on Deep Space... | Quark is the proprietor of a bar on Deep Space... | Quark is the proprietor of a bar on Deep Space... | Quark is the proprietor of a bar on Deep Space... | Quark is the proprietor of a bar on Deep Space... |\n",
    "| 14 | Nana Visitor | Kira Nerys | First Officer | Seasons 1–7 | Bajoran | Major (Seasons 1–6)Colonel (Season 7)Commander... |\n",
    "| 15 | Nana Visitor | Kira Nerys is the Bajoran military's liaison t... | Kira Nerys is the Bajoran military's liaison t... | Kira Nerys is the Bajoran military's liaison t... | Kira Nerys is the Bajoran military's liaison t... | Kira Nerys is the Bajoran military's liaison t... |\n",
    "| 16 | Michael Dorn | Worf | Strategic Operations OfficerFirst Officer, USS... | Seasons 4–7 | Klingon | Lieutenant commander |\n",
    "| 17 | Michael Dorn | The fourth season saw the addition of Dorn to ... | The fourth season saw the addition of Dorn to ... | The fourth season saw the addition of Dorn to ... | The fourth season saw the addition of Dorn to ... | The fourth season saw the addition of Dorn to ... |\n",
    "| 18 | Nicole de Boer | Ezri Dax | Counselor | Season 7 | Trill | Ensign (Season 7)Lieutenant, junior grade (Sea... |\n",
    "| 19 | Nicole de Boer | After the abrupt departure of Terry Farrell, E... | After the abrupt departure of Terry Farrell, E... | After the abrupt departure of Terry Farrell, E... | After the abrupt departure of Terry Farrell, E... | After the abrupt departure of Terry Farrell, E... |"
   ]
  },
  {
   "cell_type": "code",
   "execution_count": null,
   "id": "9f5c24f2",
   "metadata": {},
   "outputs": [],
   "source": [
    "# write dataframe to HTML\n",
    "ds9_actors.to_html('datasets/test.html', index=False)"
   ]
  },
  {
   "cell_type": "markdown",
   "id": "4dbb5ccd",
   "metadata": {},
   "source": [
    "### SQL\n",
    "\n",
    "#### Create an In-Memory SQL Database\n",
    "\n",
    "> Requierement: `pip install sqlalchemy`"
   ]
  },
  {
   "cell_type": "code",
   "execution_count": null,
   "id": "bd75f8ea",
   "metadata": {},
   "outputs": [],
   "source": [
    "from sqlalchemy import create_engine"
   ]
  },
  {
   "cell_type": "code",
   "execution_count": null,
   "id": "c400ee21",
   "metadata": {},
   "outputs": [],
   "source": [
    "temp_db = create_engine('sqlite:///:memory:')"
   ]
  },
  {
   "cell_type": "code",
   "execution_count": null,
   "id": "199a4ad6",
   "metadata": {},
   "outputs": [],
   "source": [
    "np.random.seed(SEED)\n",
    "random_df = pd.DataFrame(\n",
    "    data=np.random.randint(\n",
    "        low=0,\n",
    "        high=100,\n",
    "        size=(4,4)\n",
    "    ), columns=['a','b','c','d']\n",
    ")\n",
    "\n",
    "random_df"
   ]
  },
  {
   "cell_type": "markdown",
   "id": "68487c47",
   "metadata": {},
   "source": [
    "|  | a | b | c | d |\n",
    "| -- | -- | -- | -- | -- |\n",
    "| 0 | 51 | 92 | 14 | 71 |\n",
    "| 1 | 60 | 20 | 82 | 86 |\n",
    "| 2 | 74 | 74 | 87 | 99 |\n",
    "| 3 | 23 | 2 | 21 | 52 |"
   ]
  },
  {
   "cell_type": "code",
   "execution_count": null,
   "id": "9d2a822e",
   "metadata": {},
   "outputs": [],
   "source": [
    "random_df.to_sql(name='random_table', con=temp_db, if_exists='fail')"
   ]
  },
  {
   "cell_type": "markdown",
   "id": "1446ec5f",
   "metadata": {},
   "source": [
    "#### Read SQL Data"
   ]
  },
  {
   "cell_type": "code",
   "execution_count": null,
   "id": "5c57711d",
   "metadata": {},
   "outputs": [],
   "source": [
    "sql_df = pd.read_sql(sql='random_table', con=temp_db)\n",
    "sql_df"
   ]
  },
  {
   "cell_type": "markdown",
   "id": "4f058312",
   "metadata": {},
   "source": [
    "|  | index | a | b | c | d |\n",
    "| -- | -- | -- | -- | -- | -- |\n",
    "| 0 | 0 | 51 | 92 | 14 | 71 |\n",
    "| 1 | 1 | 60 | 20 | 82 | 86 |\n",
    "| 2 | 2 | 74 | 74 | 87 | 99 |\n",
    "| 3 | 3 | 23 | 2 | 21 | 52 |"
   ]
  },
  {
   "cell_type": "code",
   "execution_count": null,
   "id": "0633c714",
   "metadata": {},
   "outputs": [],
   "source": [
    "random_df.to_sql(name='random_table', con=temp_db, if_exists='replace', index=False)\n",
    "sql_df = pd.read_sql(sql='random_table', con=temp_db)\n",
    "sql_df"
   ]
  },
  {
   "cell_type": "markdown",
   "id": "45bcd86c",
   "metadata": {},
   "source": [
    "|  | a | b | c | d |\n",
    "| -- | -- | -- | -- | -- |\n",
    "| 0 | 51 | 92 | 14 | 71 |\n",
    "| 1 | 60 | 20 | 82 | 86 |\n",
    "| 2 | 74 | 74 | 87 | 99 |\n",
    "| 3 | 23 | 2 | 21 | 52 |"
   ]
  },
  {
   "cell_type": "markdown",
   "id": "3ae6c9b0",
   "metadata": {},
   "source": [
    "#### SQL Queries"
   ]
  },
  {
   "cell_type": "code",
   "execution_count": null,
   "id": "d0618f08",
   "metadata": {},
   "outputs": [],
   "source": [
    "sql_df = pd.read_sql(sql='SELECT a,d FROM random_table', con=temp_db)\n",
    "sql_df"
   ]
  },
  {
   "cell_type": "markdown",
   "id": "1dc2b064",
   "metadata": {},
   "source": [
    "|  | a | d |\n",
    "| -- | -- | -- |\n",
    "| 0 | 14 | 71 |\n",
    "| 1 | 82 | 86 |\n",
    "| 2 | 87 | 99 |\n",
    "| 3 | 21 | 52 |"
   ]
  },
  {
   "cell_type": "markdown",
   "id": "defd9686",
   "metadata": {},
   "source": [
    "## Visualizations Overview\n",
    "\n",
    "Pandas Dataframes and Dataseries with Matplotlib and Seaborn"
   ]
  },
  {
   "cell_type": "code",
   "execution_count": null,
   "id": "0a72f48f",
   "metadata": {},
   "outputs": [],
   "source": [
    "from numpy.random import randn, randint, uniform, sample"
   ]
  },
  {
   "cell_type": "code",
   "execution_count": null,
   "id": "5368575f",
   "metadata": {},
   "outputs": [],
   "source": [
    "date_values_df = pd.DataFrame(\n",
    "    randn(1000),\n",
    "    index = pd.date_range(\n",
    "        '2019-10-15',\n",
    "        periods=1000\n",
    "    ),\n",
    "    columns=['value']\n",
    ")\n",
    "\n",
    "timeseries = pd.Series(\n",
    "    randn(1000),\n",
    "    index = pd.date_range(\n",
    "        '2019-10-15',\n",
    "        periods=1000\n",
    "    )\n",
    ")"
   ]
  },
  {
   "cell_type": "markdown",
   "id": "11470da9",
   "metadata": {},
   "source": [
    "### Line Plot"
   ]
  },
  {
   "cell_type": "code",
   "execution_count": null,
   "id": "44e9f358",
   "metadata": {},
   "outputs": [],
   "source": [
    "date_values_df['value'] = date_values_df['value'].cumsum()\n",
    "date_values_df.plot(title='Dataframe Cummulative Sum', figsize=(12,8))"
   ]
  },
  {
   "cell_type": "markdown",
   "id": "a12571bd",
   "metadata": {},
   "source": [
    "![Pandas Visualizations](assets/Python_Pandas_Visualizationst_01.webp)"
   ]
  },
  {
   "cell_type": "code",
   "execution_count": null,
   "id": "cc5ecca9",
   "metadata": {},
   "outputs": [],
   "source": [
    "timeseries = timeseries.cumsum()\n",
    "timeseries.plot(title='Timseries Cummulative Sum', figsize=(12,8))"
   ]
  },
  {
   "cell_type": "markdown",
   "id": "6d3a3010",
   "metadata": {},
   "source": [
    "![Pandas Visualizations](assets/Python_Pandas_Visualizationst_02.webp)"
   ]
  },
  {
   "cell_type": "markdown",
   "id": "794980c0",
   "metadata": {},
   "source": [
    "#### Subplots"
   ]
  },
  {
   "cell_type": "code",
   "execution_count": null,
   "id": "ca5050e8",
   "metadata": {},
   "outputs": [],
   "source": [
    "# complete dataset\n",
    "iris_ds = sns.load_dataset('iris')\n",
    "iris_ds.plot(\n",
    "    title='Iris Dataset',\n",
    "    figsize=(10,5),\n",
    "    legend=True,\n",
    "    logy=True\n",
    ")"
   ]
  },
  {
   "cell_type": "markdown",
   "id": "344f1fb0",
   "metadata": {},
   "source": [
    "![Pandas Visualizations](assets/Python_Pandas_Visualizationst_03.webp)"
   ]
  },
  {
   "cell_type": "code",
   "execution_count": null,
   "id": "036c5eaf",
   "metadata": {},
   "outputs": [],
   "source": [
    "iris_ds.plot(\n",
    "    title='Iris Dataset',\n",
    "    subplots=True,\n",
    "    figsize=(10,5),\n",
    "    legend=True,\n",
    "    sharex=True,\n",
    "    logy=False\n",
    ")"
   ]
  },
  {
   "cell_type": "markdown",
   "id": "7864dc5f",
   "metadata": {},
   "source": [
    "![Pandas Visualizations](assets/Python_Pandas_Visualizationst_23.webp)"
   ]
  },
  {
   "cell_type": "code",
   "execution_count": null,
   "id": "0e4e460e",
   "metadata": {},
   "outputs": [],
   "source": [
    "iris_ds.plot(\n",
    "    title='Iris Dataset',\n",
    "    subplots=True,\n",
    "    figsize=(10,5),\n",
    "    legend=True,\n",
    "    sharex=False,\n",
    "    layout=(2,2)\n",
    ")\n",
    "\n",
    "plt.tight_layout()"
   ]
  },
  {
   "cell_type": "markdown",
   "id": "c13b029c",
   "metadata": {},
   "source": [
    "![Pandas Visualizations](assets/Python_Pandas_Visualizationst_24.webp)"
   ]
  },
  {
   "cell_type": "code",
   "execution_count": null,
   "id": "f7df4044",
   "metadata": {},
   "outputs": [],
   "source": [
    "iris_dropped_width = iris_ds.drop(labels=['sepal_width', 'petal_width'], axis=1)\n",
    "iris_dropped_width.head()"
   ]
  },
  {
   "cell_type": "code",
   "execution_count": null,
   "id": "546e67c9",
   "metadata": {},
   "outputs": [],
   "source": [
    "iris_dropped_legth = iris_ds[['sepal_width', 'petal_width']]\n",
    "iris_dropped_legth.head()"
   ]
  },
  {
   "cell_type": "code",
   "execution_count": null,
   "id": "e002c1d7",
   "metadata": {},
   "outputs": [],
   "source": [
    "# twin axes plot\n",
    "ax = iris_dropped_width.plot(legend=True)\n",
    "ax.legend(loc='upper left')\n",
    "iris_dropped_legth.plot(\n",
    "    title='Iris Dataset',\n",
    "    figsize=(10,5),\n",
    "    secondary_y = True,\n",
    "    ax = ax\n",
    ")"
   ]
  },
  {
   "cell_type": "markdown",
   "id": "8d2110e5",
   "metadata": {},
   "source": [
    "![Pandas Visualizations](assets/Python_Pandas_Visualizationst_04.webp)"
   ]
  },
  {
   "cell_type": "markdown",
   "id": "a52c1188",
   "metadata": {},
   "source": [
    "### Bar Plot"
   ]
  },
  {
   "cell_type": "code",
   "execution_count": null,
   "id": "ec2ad89d",
   "metadata": {},
   "outputs": [],
   "source": [
    "iris_dropped_species = iris_ds.drop(['species'], axis=1)\n",
    "iris_dropped_species.iloc[0].plot.bar(\n",
    "    figsize=(10,5),\n",
    "    title='Iris Dataset'\n",
    ")"
   ]
  },
  {
   "cell_type": "markdown",
   "id": "f65aa447",
   "metadata": {},
   "source": [
    "![Pandas Visualizations](assets/Python_Pandas_Visualizationst_05.webp)"
   ]
  },
  {
   "cell_type": "markdown",
   "id": "ab4ff606",
   "metadata": {},
   "source": [
    "### Histogram"
   ]
  },
  {
   "cell_type": "code",
   "execution_count": null,
   "id": "14827b35",
   "metadata": {},
   "outputs": [],
   "source": [
    "titanic_ds = sns.load_dataset('titanic')\n",
    "titanic_ds.head()"
   ]
  },
  {
   "cell_type": "markdown",
   "id": "84160c2d",
   "metadata": {},
   "source": [
    "|  | survived | pclass | sex | age | sibsp | parch | fare | embarked | class | who | adult_male | deck | embark_town | alive | alone |\n",
    "| -- | -- | -- | -- | -- | -- | -- | -- | -- | -- | -- | -- | -- | -- | -- | -- |\n",
    "| 0 | 0 | 3 | male | 22.0 | 1 | 0 | 7.2500 | S | Third | man | True | NaN | Southampton | no | False |\n",
    "| 1 | 1 | 1 | female | 38.0 | 1 | 0 | 71.2833 | C | First | woman | False | C | Cherbourg | yes | False |\n",
    "| 2 | 1 | 3 | female | 26.0 | 0 | 0 | 7.9250 | S | Third | woman | False | NaN | Southampton | yes | True |\n",
    "| 3 | 1 | 1 | female | 35.0 | 1 | 0 | 53.1000 | S | First | woman | False | C | Southampton | yes | False |\n",
    "| 4 | 0 | 3 | male | 35.0 | 0 | 0 | 8.0500 | S | Third | man | True | NaN | Southampton | no | True |"
   ]
  },
  {
   "cell_type": "code",
   "execution_count": null,
   "id": "f40f09b4",
   "metadata": {},
   "outputs": [],
   "source": [
    "ax = titanic_ds['pclass'].plot.hist(\n",
    "    figsize=(10,5),\n",
    "    title='Titanic - Passenger by Class Histogram'\n",
    ")"
   ]
  },
  {
   "cell_type": "markdown",
   "id": "9f0f9f65",
   "metadata": {},
   "source": [
    "![Pandas Visualizations](assets/Python_Pandas_Visualizationst_06.webp)"
   ]
  },
  {
   "cell_type": "code",
   "execution_count": null,
   "id": "058ea7af",
   "metadata": {},
   "outputs": [],
   "source": [
    "iris_ds.plot.hist(\n",
    "    title=\"Iris Dataset - Petal Width Distribution by Species\",\n",
    "    figsize=(10,5),\n",
    "    bins=20,\n",
    "    column=[\"petal_width\"],\n",
    "    by=\"species\"\n",
    ")\n",
    "plt.tight_layout()"
   ]
  },
  {
   "cell_type": "markdown",
   "id": "cc34e107",
   "metadata": {},
   "source": [
    "![Pandas Visualizations](assets/Python_Pandas_Visualizationst_09.webp)"
   ]
  },
  {
   "cell_type": "code",
   "execution_count": null,
   "id": "eb30e14d",
   "metadata": {},
   "outputs": [],
   "source": [
    "iris_ds.plot.hist(\n",
    "    title=\"Iris Dataset - Histogram\",\n",
    "    figsize=(10,5),\n",
    "    bins=20,\n",
    "    orientation='horizontal'\n",
    ")"
   ]
  },
  {
   "cell_type": "markdown",
   "id": "3c8a4031",
   "metadata": {},
   "source": [
    "![Pandas Visualizations](assets/Python_Pandas_Visualizationst_11.webp)"
   ]
  },
  {
   "cell_type": "code",
   "execution_count": null,
   "id": "b6a7f857",
   "metadata": {},
   "outputs": [],
   "source": [
    "iris_ds.plot.hist(\n",
    "    title=\"Iris Dataset - Stacked Histogram\",\n",
    "    figsize=(10,5),\n",
    "    bins=50,\n",
    "    stacked=True\n",
    ")"
   ]
  },
  {
   "cell_type": "markdown",
   "id": "02eb3b0d",
   "metadata": {},
   "source": [
    "![Pandas Visualizations](assets/Python_Pandas_Visualizationst_10.webp)"
   ]
  },
  {
   "cell_type": "code",
   "execution_count": null,
   "id": "37dc87a5",
   "metadata": {},
   "outputs": [],
   "source": [
    "iris_ds.hist(\n",
    "    figsize=(12,8),\n",
    "    bins=20,\n",
    "    by=\"species\",\n",
    "    legend=True\n",
    ")"
   ]
  },
  {
   "cell_type": "markdown",
   "id": "3f11351b",
   "metadata": {},
   "source": [
    "![Pandas Visualizations](assets/Python_Pandas_Visualizationst_12.webp)"
   ]
  },
  {
   "cell_type": "code",
   "execution_count": null,
   "id": "9d3d1361",
   "metadata": {},
   "outputs": [],
   "source": [
    "iris_ds.hist(\n",
    "    figsize=(12,8),\n",
    "    bins=20,\n",
    "    color='mediumseagreen'\n",
    ")"
   ]
  },
  {
   "cell_type": "markdown",
   "id": "0653a390",
   "metadata": {},
   "source": [
    "![Pandas Visualizations](assets/Python_Pandas_Visualizationst_13.webp)"
   ]
  },
  {
   "cell_type": "markdown",
   "id": "d7da03e7",
   "metadata": {},
   "source": [
    "### Stacked Bar Plot"
   ]
  },
  {
   "cell_type": "code",
   "execution_count": null,
   "id": "ff3f7aa2",
   "metadata": {},
   "outputs": [],
   "source": [
    "rand_df = pd.DataFrame(randn(10,4), columns=['a', 'b', 'c', 'd'])\n",
    "rand_df.head()"
   ]
  },
  {
   "cell_type": "markdown",
   "id": "77814c32",
   "metadata": {},
   "source": [
    "|    |  a |  b |  c |  d |\n",
    "| -- | -- | -- | -- | -- |\n",
    "| 0 | \t-0.085012 | \t1.394898 |\t1.790166 |\t0.167911 |\n",
    "| 1 | \t1.536115 | \t-1.053770 |\t0.000237 |\t-1.468094 |\n",
    "| 2 | \t-1.479892 | \t-0.480497 |\t-0.685922 |\t-1.975383 |\n",
    "| 3 | \t-1.217567 | \t-1.199857 |\t0.930655 |\t0.478314 |\n",
    "| 4 | \t0.119575 | \t-0.480929 |\t-0.202524 |\t0.728837 |"
   ]
  },
  {
   "cell_type": "code",
   "execution_count": null,
   "id": "dec2ca51",
   "metadata": {},
   "outputs": [],
   "source": [
    "# compare distribution of a-d per row\n",
    "rand_df.plot.bar(\n",
    "    stacked=True,\n",
    "    figsize=(10,5)\n",
    ")"
   ]
  },
  {
   "cell_type": "markdown",
   "id": "f5becc59",
   "metadata": {},
   "source": [
    "![Pandas Visualizations](assets/Python_Pandas_Visualizationst_07.webp)"
   ]
  },
  {
   "cell_type": "code",
   "execution_count": null,
   "id": "40f4b138",
   "metadata": {},
   "outputs": [],
   "source": [
    "rand_df.plot.barh(\n",
    "    stacked=True,\n",
    "    figsize=(10,5)\n",
    ")"
   ]
  },
  {
   "cell_type": "markdown",
   "id": "f32089d7",
   "metadata": {},
   "source": [
    "![Pandas Visualizations](assets/Python_Pandas_Visualizationst_08.webp)"
   ]
  },
  {
   "cell_type": "markdown",
   "id": "2c40d8b7",
   "metadata": {},
   "source": [
    "### Box Plot"
   ]
  },
  {
   "cell_type": "code",
   "execution_count": null,
   "id": "064e79d1",
   "metadata": {},
   "outputs": [],
   "source": [
    "iris_ds.plot.box(\n",
    "    figsize=(12,5),\n",
    "    by='species',\n",
    "    vert=True\n",
    ")"
   ]
  },
  {
   "cell_type": "markdown",
   "id": "186d07f4",
   "metadata": {},
   "source": [
    "![Pandas Visualizations](assets/Python_Pandas_Visualizationst_14.webp)"
   ]
  },
  {
   "cell_type": "code",
   "execution_count": null,
   "id": "28c5beee",
   "metadata": {},
   "outputs": [],
   "source": [
    "iris_ds.describe()"
   ]
  },
  {
   "cell_type": "markdown",
   "id": "4bd8bc21",
   "metadata": {},
   "source": [
    "| | sepal_length | sepal_width | petal_length | petal_width |\n",
    "| -- | -- | -- | -- | -- |\n",
    "| count |150.000000 | 150.000000 | 150.000000 | 150.000000 |\n",
    "| mean |5.843333 | 3.057333 | 3.758000 | 1.199333 |\n",
    "| std |0.828066 | 0.435866 | 1.765298 | 0.762238 |\n",
    "| min |4.300000 | 2.000000 | 1.000000 | 0.100000 |\n",
    "| 25% |5.100000 | 2.800000 | 1.600000 | 0.300000 |\n",
    "| 50% |5.800000 | 3.000000 | 4.350000 | 1.300000 |\n",
    "| 75% |6.400000 | 3.300000 | 5.100000 | 1.800000 |\n",
    "| max |7.900000 | 4.400000 | 6.900000 | 2.500000 |"
   ]
  },
  {
   "cell_type": "markdown",
   "id": "7a3936bd",
   "metadata": {},
   "source": [
    "### Area Plot"
   ]
  },
  {
   "cell_type": "code",
   "execution_count": null,
   "id": "5be38785",
   "metadata": {},
   "outputs": [],
   "source": [
    "iris_ds.plot.area(\n",
    "    figsize=(12,5),\n",
    "    stacked=True\n",
    ")"
   ]
  },
  {
   "cell_type": "markdown",
   "id": "f423cd17",
   "metadata": {},
   "source": [
    "![Pandas Visualizations](assets/Python_Pandas_Visualizationst_15.webp)"
   ]
  },
  {
   "cell_type": "markdown",
   "id": "1f85b960",
   "metadata": {},
   "source": [
    "### Scatter Plot"
   ]
  },
  {
   "cell_type": "code",
   "execution_count": null,
   "id": "6ca96504",
   "metadata": {},
   "outputs": [],
   "source": [
    "iris_ds.plot.scatter(\n",
    "    figsize=(12,5),\n",
    "    x='sepal_width',\n",
    "    y='sepal_length',\n",
    "    c='petal_width',\n",
    "    colormap='winter',\n",
    "    title='Iris Dataset - Sepal Width vs Sepal Length'\n",
    ")"
   ]
  },
  {
   "cell_type": "markdown",
   "id": "c4377b2f",
   "metadata": {},
   "source": [
    "![Pandas Visualizations](assets/Python_Pandas_Visualizationst_16.webp)"
   ]
  },
  {
   "cell_type": "code",
   "execution_count": null,
   "id": "ecaaa2a0",
   "metadata": {},
   "outputs": [],
   "source": [
    "ax = iris_ds.plot.scatter(\n",
    "    figsize=(12,5),\n",
    "    x='sepal_width',\n",
    "    y='petal_width',\n",
    "    label='width',\n",
    "    c='dodgerblue'\n",
    ")\n",
    "\n",
    "iris_ds.plot.scatter(\n",
    "    figsize=(12,5),\n",
    "    x='sepal_length',\n",
    "    y='petal_length',\n",
    "    label='length',\n",
    "    c='fuchsia',\n",
    "    ax=ax\n",
    ")"
   ]
  },
  {
   "cell_type": "markdown",
   "id": "a8433bc4",
   "metadata": {},
   "source": [
    "![Pandas Visualizations](assets/Python_Pandas_Visualizationst_17.webp)"
   ]
  },
  {
   "cell_type": "code",
   "execution_count": null,
   "id": "2e285d1e",
   "metadata": {},
   "outputs": [],
   "source": [
    "ax = iris_ds.plot.scatter(\n",
    "    figsize=(12,5),\n",
    "    x='sepal_length',\n",
    "    y='petal_length',\n",
    "    label='length',\n",
    "    c='fuchsia'\n",
    ")\n",
    "\n",
    "iris_ds.plot.scatter(\n",
    "    figsize=(12,5),\n",
    "    x='sepal_width',\n",
    "    y='petal_width',\n",
    "    label='width',\n",
    "    c='dodgerblue',\n",
    "    ax=ax\n",
    ")"
   ]
  },
  {
   "cell_type": "markdown",
   "id": "ad8e0749",
   "metadata": {},
   "source": [
    "![Pandas Visualizations](assets/Python_Pandas_Visualizationst_18.webp)"
   ]
  },
  {
   "cell_type": "markdown",
   "id": "bef0b1e2",
   "metadata": {},
   "source": [
    "### Hex Plot"
   ]
  },
  {
   "cell_type": "code",
   "execution_count": null,
   "id": "8558308e",
   "metadata": {},
   "outputs": [],
   "source": [
    "iris_ds.plot.hexbin(\n",
    "    figsize=(10,5),\n",
    "    x = 'petal_length',\n",
    "    y = 'sepal_length',\n",
    "    gridsize=10,\n",
    "    C='sepal_width',\n",
    "    cmap=\"plasma\",\n",
    "    title='Sepal & Petal Length vs Sepal Width'\n",
    ")"
   ]
  },
  {
   "cell_type": "markdown",
   "id": "b781c3fe",
   "metadata": {},
   "source": [
    "![Pandas Visualizations](assets/Python_Pandas_Visualizationst_19.webp)"
   ]
  },
  {
   "cell_type": "markdown",
   "id": "f136f525",
   "metadata": {},
   "source": [
    "### Pie Plot"
   ]
  },
  {
   "cell_type": "code",
   "execution_count": null,
   "id": "a94b184c",
   "metadata": {},
   "outputs": [],
   "source": [
    "iris_dropped_species = iris_ds.drop(['species'], axis=1)\n",
    "colors = plt.get_cmap('cool')(np.linspace(0.8, 0.1, 4))"
   ]
  },
  {
   "cell_type": "code",
   "execution_count": null,
   "id": "ec1d869f",
   "metadata": {},
   "outputs": [],
   "source": [
    "iris_dropped_species.iloc[0].plot.pie(\n",
    "    figsize=(8,8),\n",
    "    colors=colors,\n",
    "    startangle=20,\n",
    "    autopct='%.2f',\n",
    "    title='Iris Dataset',\n",
    "    shadow=True\n",
    ")"
   ]
  },
  {
   "cell_type": "markdown",
   "id": "96d7a469",
   "metadata": {},
   "source": [
    "![Pandas Visualizations](assets/Python_Pandas_Visualizationst_20.webp)"
   ]
  },
  {
   "cell_type": "markdown",
   "id": "0db5daf0",
   "metadata": {},
   "source": [
    "#### Subplots"
   ]
  },
  {
   "cell_type": "code",
   "execution_count": null,
   "id": "ea01cc75",
   "metadata": {},
   "outputs": [],
   "source": [
    "colors2 = plt.get_cmap('magma')(np.linspace(0.9, 0.1, 4))\n",
    "\n",
    "sample_df = iris_dropped_species.head(3).T\n",
    "sample_df"
   ]
  },
  {
   "cell_type": "markdown",
   "id": "81fd372a",
   "metadata": {},
   "source": [
    "|\t\t\t | 0 | 1 | 2 |\n",
    "|\t--\t | -- | -- | -- |\n",
    "| sepal_length | 5.1 | 4.9 | 4.7 | \n",
    "| sepal_width | 3.5 | 3.0 | 3.2 | \n",
    "| petal_length | 1.4 | 1.4 | 1.3 | \n",
    "| petal_width | 0.2 | 0.2 | 0.2 | "
   ]
  },
  {
   "cell_type": "code",
   "execution_count": null,
   "id": "d14884a4",
   "metadata": {},
   "outputs": [],
   "source": [
    "sample_df.plot.pie(\n",
    "    subplots=True,\n",
    "    colors=colors2,\n",
    "    figsize=(25,25),\n",
    "    fontsize=16\n",
    ")"
   ]
  },
  {
   "cell_type": "markdown",
   "id": "a8786d11",
   "metadata": {},
   "source": [
    "![Pandas Visualizations](assets/Python_Pandas_Visualizationst_21.webp)"
   ]
  },
  {
   "cell_type": "markdown",
   "id": "2d31b365",
   "metadata": {},
   "source": [
    "### Scatter Matrix"
   ]
  },
  {
   "cell_type": "code",
   "execution_count": null,
   "id": "ca3eb8e8",
   "metadata": {},
   "outputs": [],
   "source": [
    "from pandas.plotting import scatter_matrix"
   ]
  },
  {
   "cell_type": "code",
   "execution_count": null,
   "id": "edb143e0",
   "metadata": {},
   "outputs": [],
   "source": [
    "scatter_matrix(\n",
    "    iris_dropped_species,\n",
    "    figsize=(8,8),\n",
    "    diagonal='kde',\n",
    "    color='dodgerblue'\n",
    ")"
   ]
  },
  {
   "cell_type": "markdown",
   "id": "760870bc",
   "metadata": {},
   "source": [
    "![Pandas Visualizations](assets/Python_Pandas_Visualizationst_22.webp)"
   ]
  }
 ],
 "metadata": {
  "jupytext": {
   "formats": "ipynb,md"
  },
  "kernelspec": {
   "display_name": "Python 3 (ipykernel)",
   "language": "python",
   "name": "python3"
  },
  "language_info": {
   "codemirror_mode": {
    "name": "ipython",
    "version": 3
   },
   "file_extension": ".py",
   "mimetype": "text/x-python",
   "name": "python",
   "nbconvert_exporter": "python",
   "pygments_lexer": "ipython3",
   "version": "3.11.3"
  }
 },
 "nbformat": 4,
 "nbformat_minor": 5
}
