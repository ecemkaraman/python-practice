{
 "cells": [
  {
   "cell_type": "markdown",
   "id": "4646d640",
   "metadata": {},
   "source": [
    "# Mastering the NumPy Library\n",
    "This notebook covers detailed topics related to the NumPy library in Python, following a structured outline for practical use cases and applications."
   ]
  },
  {
   "cell_type": "markdown",
   "id": "a5f1cea7",
   "metadata": {},
   "source": [
    "## 1. Basics and Fundamentals\n",
    "Learn about NumPy's core data structures and basic operations."
   ]
  },
  {
   "cell_type": "code",
   "execution_count": null,
   "id": "7733cea5",
   "metadata": {},
   "outputs": [],
   "source": [
    "# Importing NumPy\n",
    "import numpy as np\n",
    "\n",
    "# Creating arrays\n",
    "array1 = np.array([1, 2, 3])\n",
    "array2 = np.array([[1, 2], [3, 4]])\n",
    "\n",
    "# Inspecting arrays\n",
    "print(\"Array 1 shape:\", array1.shape)\n",
    "print(\"Array 2 dimensions:\", array2.ndim)\n",
    "print(\"Array 2 size:\", array2.size)"
   ]
  },
  {
   "cell_type": "markdown",
   "id": "5e0c4eca",
   "metadata": {},
   "source": [
    "## 2. Array Creation\n",
    "Efficiently create arrays using various NumPy functions."
   ]
  },
  {
   "cell_type": "code",
   "execution_count": null,
   "id": "e2d3d0bf",
   "metadata": {},
   "outputs": [],
   "source": [
    "# Creating arrays with specific values\n",
    "zeros = np.zeros((2, 3))  # 2x3 array of zeros\n",
    "ones = np.ones((3, 2))    # 3x2 array of ones\n",
    "identity = np.eye(3)      # 3x3 identity matrix\n",
    "print(zeros, ones, identity, sep='\\n')\n",
    "\n",
    "# Creating arrays with sequences\n",
    "arange = np.arange(0, 10, 2)  # Step of 2\n",
    "linspace = np.linspace(0, 1, 5)  # 5 evenly spaced values between 0 and 1\n",
    "print(arange, linspace, sep='\\n')"
   ]
  },
  {
   "cell_type": "markdown",
   "id": "d5cd831f",
   "metadata": {},
   "source": [
    "## 3. Indexing and Slicing\n",
    "Access and manipulate subsets of data efficiently."
   ]
  },
  {
   "cell_type": "code",
   "execution_count": null,
   "id": "916477c7",
   "metadata": {},
   "outputs": [],
   "source": [
    "# Indexing\n",
    "array = np.array([[1, 2, 3], [4, 5, 6], [7, 8, 9]])\n",
    "print(array[0, 1])  # Access specific element\n",
    "\n",
    "# Slicing\n",
    "print(array[:2, 1:])  # First two rows, last two columns\n",
    "\n",
    "# Boolean indexing\n",
    "bool_array = array > 5\n",
    "print(array[bool_array])  # Filter values greater than 5"
   ]
  },
  {
   "cell_type": "markdown",
   "id": "d143508a",
   "metadata": {},
   "source": [
    "## 4. Array Operations\n",
    "Perform element-wise and matrix operations."
   ]
  },
  {
   "cell_type": "code",
   "execution_count": null,
   "id": "f5987574",
   "metadata": {},
   "outputs": [],
   "source": [
    "# Arithmetic operations\n",
    "a = np.array([1, 2, 3])\n",
    "b = np.array([4, 5, 6])\n",
    "print(\"Addition:\", a + b)\n",
    "print(\"Multiplication:\", a * b)\n",
    "\n",
    "# Matrix multiplication\n",
    "matrix1 = np.array([[1, 2], [3, 4]])\n",
    "matrix2 = np.array([[5, 6], [7, 8]])\n",
    "print(\"Matrix product:\", np.dot(matrix1, matrix2))"
   ]
  },
  {
   "cell_type": "markdown",
   "id": "8905dfda",
   "metadata": {},
   "source": [
    "## 5. Broadcasting\n",
    "Apply operations on arrays of different shapes using broadcasting rules."
   ]
  },
  {
   "cell_type": "code",
   "execution_count": null,
   "id": "b39569e0",
   "metadata": {},
   "outputs": [],
   "source": [
    "# Broadcasting example\n",
    "x = np.array([[1], [2], [3]])\n",
    "y = np.array([10, 20, 30])\n",
    "print(x + y)  # Broadcasting adds each row of x to y"
   ]
  },
  {
   "cell_type": "markdown",
   "id": "e153282a",
   "metadata": {},
   "source": [
    "## 6. Statistical Operations\n",
    "Compute descriptive statistics efficiently."
   ]
  },
  {
   "cell_type": "code",
   "execution_count": null,
   "id": "0df604e2",
   "metadata": {},
   "outputs": [],
   "source": [
    "# Basic statistics\n",
    "data = np.array([[1, 2, 3], [4, 5, 6]])\n",
    "print(\"Mean:\", np.mean(data))\n",
    "print(\"Median:\", np.median(data))\n",
    "print(\"Standard Deviation:\", np.std(data))\n",
    "\n",
    "# Axis-based operations\n",
    "print(\"Column sums:\", np.sum(data, axis=0))\n",
    "print(\"Row maximums:\", np.max(data, axis=1))"
   ]
  },
  {
   "cell_type": "markdown",
   "id": "cd51b89e",
   "metadata": {},
   "source": [
    "## 7. Reshaping and Flattening\n",
    "Transform arrays into different shapes and dimensions."
   ]
  },
  {
   "cell_type": "code",
   "execution_count": null,
   "id": "9fbabdee",
   "metadata": {},
   "outputs": [],
   "source": [
    "# Reshaping\n",
    "array = np.arange(12).reshape(3, 4)\n",
    "print(\"Reshaped array:\\n\", array)\n",
    "\n",
    "# Flattening\n",
    "flat = array.ravel()  # Creates a flattened view\n",
    "print(\"Flattened array:\", flat)"
   ]
  },
  {
   "cell_type": "markdown",
   "id": "b2976389",
   "metadata": {},
   "source": [
    "## 8. Random Number Generation\n",
    "Generate random data for simulations and experiments."
   ]
  },
  {
   "cell_type": "code",
   "execution_count": null,
   "id": "9e178243",
   "metadata": {},
   "outputs": [],
   "source": [
    "# Random samples\n",
    "random_array = np.random.rand(3, 3)  # Uniformly distributed values\n",
    "normal_array = np.random.randn(3, 3)  # Normally distributed values\n",
    "print(\"Random array:\\n\", random_array)\n",
    "print(\"Normal array:\\n\", normal_array)\n",
    "\n",
    "# Random integers\n",
    "rand_integers = np.random.randint(0, 10, size=(2, 3))\n",
    "print(\"Random integers:\\n\", rand_integers)"
   ]
  },
  {
   "cell_type": "markdown",
   "id": "8f9491be",
   "metadata": {},
   "source": [
    "## 9. Advanced Topics\n",
    "Master advanced NumPy concepts like linear algebra, memory efficiency, and advanced indexing."
   ]
  },
  {
   "cell_type": "code",
   "execution_count": null,
   "id": "f92bf3bb",
   "metadata": {},
   "outputs": [],
   "source": [
    "# Linear Algebra\n",
    "from numpy.linalg import inv, eig\n",
    "\n",
    "matrix = np.array([[1, 2], [3, 4]])\n",
    "print(\"Inverse of matrix:\\n\", inv(matrix))\n",
    "print(\"Eigenvalues and eigenvectors:\", eig(matrix))\n",
    "\n",
    "# Memory efficiency\n",
    "large_array = np.zeros((1000, 1000))\n",
    "print(\"Memory size (bytes):\", large_array.nbytes)"
   ]
  },
  {
   "cell_type": "code",
   "execution_count": null,
   "id": "56de8a83",
   "metadata": {},
   "outputs": [],
   "source": [
    "# Advanced Indexing\n",
    "array = np.array([10, 20, 30, 40, 50])\n",
    "indices = [1, 3]\n",
    "print(\"Selected elements:\", array[indices])"
   ]
  }
 ],
 "metadata": {
  "kernelspec": {
   "display_name": "Python 3 (ipykernel)",
   "language": "python",
   "name": "python3"
  },
  "language_info": {
   "codemirror_mode": {
    "name": "ipython",
    "version": 3
   },
   "file_extension": ".py",
   "mimetype": "text/x-python",
   "name": "python",
   "nbconvert_exporter": "python",
   "pygments_lexer": "ipython3",
   "version": "3.11.3"
  }
 },
 "nbformat": 4,
 "nbformat_minor": 5
}
