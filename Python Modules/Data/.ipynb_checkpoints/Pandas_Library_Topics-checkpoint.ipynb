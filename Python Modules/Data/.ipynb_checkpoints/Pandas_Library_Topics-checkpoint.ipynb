{
 "cells": [
  {
   "cell_type": "markdown",
   "id": "bbd0eb5a",
   "metadata": {},
   "source": [
    "# Mastering the Pandas Library\n",
    "This notebook covers detailed topics related to the Pandas library in Python, following a structured outline for practical use cases and applications."
   ]
  },
  {
   "cell_type": "markdown",
   "id": "1387a7f2",
   "metadata": {},
   "source": [
    "## 1. Basics and Fundamentals\n",
    "Learn about Pandas' core data structures and basic operations."
   ]
  },
  {
   "cell_type": "code",
   "execution_count": null,
   "id": "1d36b13e",
   "metadata": {},
   "outputs": [],
   "source": [
    "# Importing pandas\n",
    "import pandas as pd\n",
    "\n",
    "# Creating a Series\n",
    "series = pd.Series([10, 20, 30], name='Sample Series')\n",
    "print(series)\n",
    "\n",
    "# Creating a DataFrame\n",
    "data = {'Name': ['Alice', 'Bob', 'Charlie'], 'Age': [25, 30, 35]}\n",
    "df = pd.DataFrame(data)\n",
    "print(df)\n",
    "\n",
    "# Inspecting a DataFrame\n",
    "print(df.head())  # First 5 rows\n",
    "print(df.info())  # Overview\n",
    "print(df.describe())  # Summary statistics"
   ]
  },
  {
   "cell_type": "markdown",
   "id": "32f79e51",
   "metadata": {},
   "source": [
    "## 2. Data Input and Output (I/O)\n",
    "Read and write data from various file formats."
   ]
  },
  {
   "cell_type": "code",
   "execution_count": null,
   "id": "271f5212",
   "metadata": {},
   "outputs": [],
   "source": [
    "# Reading and writing CSV files\n",
    "df.to_csv('example.csv', index=False)\n",
    "csv_data = pd.read_csv('example.csv')\n",
    "print(csv_data)\n",
    "\n",
    "# Reading and writing JSON files\n",
    "df.to_json('example.json', orient='records')\n",
    "json_data = pd.read_json('example.json')\n",
    "print(json_data)"
   ]
  },
  {
   "cell_type": "markdown",
   "id": "9ee9e3f7",
   "metadata": {},
   "source": [
    "## 3. Indexing and Selection\n",
    "Access and manipulate subsets of data efficiently."
   ]
  },
  {
   "cell_type": "code",
   "execution_count": null,
   "id": "51641e48",
   "metadata": {},
   "outputs": [],
   "source": [
    "# Indexing with .iloc and .loc\n",
    "print(df.iloc[0])  # Row by index\n",
    "print(df.loc[0, 'Name'])  # Specific cell\n",
    "\n",
    "# Boolean indexing\n",
    "adults = df[df['Age'] > 28]\n",
    "print(adults)\n",
    "\n",
    "# Setting and resetting an index\n",
    "df.set_index('Name', inplace=True)\n",
    "print(df)\n",
    "df.reset_index(inplace=True)\n",
    "print(df)"
   ]
  },
  {
   "cell_type": "markdown",
   "id": "6a9a314a",
   "metadata": {},
   "source": [
    "## 4. Data Cleaning and Preprocessing\n",
    "Clean and preprocess raw data for analysis."
   ]
  },
  {
   "cell_type": "code",
   "execution_count": null,
   "id": "4ba77b07",
   "metadata": {},
   "outputs": [],
   "source": [
    "# Handling missing values\n",
    "df_with_na = pd.DataFrame({'A': [1, None, 3], 'B': [4, 5, None]})\n",
    "print(df_with_na.isna())  # Check missing values\n",
    "df_with_na.fillna(0, inplace=True)  # Fill missing values\n",
    "print(df_with_na)\n",
    "\n",
    "# Converting data types\n",
    "df['Age'] = df['Age'].astype(float)\n",
    "print(df.dtypes)\n",
    "\n",
    "# String operations\n",
    "df['Name'] = df['Name'].str.upper()\n",
    "print(df)"
   ]
  },
  {
   "cell_type": "markdown",
   "id": "b06f652e",
   "metadata": {},
   "source": [
    "## 5. Data Transformation\n",
    "Perform transformations like renaming, reshaping, and applying functions."
   ]
  },
  {
   "cell_type": "code",
   "execution_count": null,
   "id": "05ea1368",
   "metadata": {},
   "outputs": [],
   "source": [
    "# Adding and renaming columns\n",
    "df['Salary'] = [50000, 60000, 70000]\n",
    "df.rename(columns={'Salary': 'Income'}, inplace=True)\n",
    "print(df)\n",
    "\n",
    "# Applying functions\n",
    "df['Income_after_tax'] = df['Income'].apply(lambda x: x * 0.7)\n",
    "print(df)\n",
    "\n",
    "# Pivot tables\n",
    "pivot = pd.pivot_table(df, values='Income', index='Age', aggfunc='mean')\n",
    "print(pivot)"
   ]
  },
  {
   "cell_type": "markdown",
   "id": "26a4c81b",
   "metadata": {},
   "source": [
    "## 6. Aggregation and Grouping\n",
    "Aggregate and summarize data effectively."
   ]
  },
  {
   "cell_type": "code",
   "execution_count": null,
   "id": "9d45921e",
   "metadata": {},
   "outputs": [],
   "source": [
    "# Grouping data\n",
    "grouped = df.groupby('Age').agg({'Income': ['mean', 'sum']})\n",
    "print(grouped)\n",
    "\n",
    "# Rolling and expanding windows\n",
    "rolling_mean = df['Income'].rolling(window=2).mean()\n",
    "print(rolling_mean)"
   ]
  },
  {
   "cell_type": "markdown",
   "id": "32bbf20c",
   "metadata": {},
   "source": [
    "## 7. Merging and Combining Data\n",
    "Combine data from multiple sources."
   ]
  },
  {
   "cell_type": "code",
   "execution_count": null,
   "id": "9b5a3c0f",
   "metadata": {},
   "outputs": [],
   "source": [
    "# Merging two DataFrames\n",
    "df2 = pd.DataFrame({'Name': ['Alice', 'Bob'], 'City': ['NYC', 'LA']})\n",
    "merged = pd.merge(df, df2, on='Name', how='left')\n",
    "print(merged)\n",
    "\n",
    "# Concatenating DataFrames\n",
    "df3 = pd.DataFrame({'Name': ['Eve'], 'Age': [40], 'Income': [80000]})\n",
    "concat = pd.concat([df, df3], ignore_index=True)\n",
    "print(concat)"
   ]
  },
  {
   "cell_type": "markdown",
   "id": "291e3738",
   "metadata": {},
   "source": [
    "## 8. Time-Series Data\n",
    "Handle and analyze temporal data efficiently."
   ]
  },
  {
   "cell_type": "code",
   "execution_count": null,
   "id": "2756915b",
   "metadata": {},
   "outputs": [],
   "source": [
    "# Creating a time-series DataFrame\n",
    "time_data = pd.date_range(start='2023-01-01', periods=5, freq='D')\n",
    "time_df = pd.DataFrame({'Date': time_data, 'Value': range(5)})\n",
    "time_df.set_index('Date', inplace=True)\n",
    "print(time_df)\n",
    "\n",
    "# Resampling data\n",
    "resampled = time_df.resample('2D').sum()\n",
    "print(resampled)"
   ]
  },
  {
   "cell_type": "markdown",
   "id": "28d6045d",
   "metadata": {},
   "source": [
    "## 9. Performance Optimization\n",
    "Optimize memory and computational performance."
   ]
  },
  {
   "cell_type": "code",
   "execution_count": null,
   "id": "b7c0b858",
   "metadata": {},
   "outputs": [],
   "source": [
    "# Reducing memory usage by converting data types\n",
    "optimized_df = df.copy()\n",
    "optimized_df['Income'] = pd.to_numeric(optimized_df['Income'], downcast='integer')\n",
    "print(optimized_df.dtypes)\n",
    "\n",
    "# Using vectorized operations\n",
    "df['Adjusted_Income'] = df['Income'] * 0.9\n",
    "print(df)"
   ]
  },
  {
   "cell_type": "markdown",
   "id": "3d9aafd0",
   "metadata": {},
   "source": [
    "## 10. Visualization\n",
    "Quickly visualize data trends and distributions."
   ]
  },
  {
   "cell_type": "code",
   "execution_count": null,
   "id": "9c3771d0",
   "metadata": {},
   "outputs": [],
   "source": [
    "# Basic plotting\n",
    "df['Income'].plot(kind='bar')"
   ]
  },
  {
   "cell_type": "markdown",
   "id": "a578d30e",
   "metadata": {},
   "source": [
    "## 11. Advanced Topics\n",
    "Master advanced operations like MultiIndex, custom aggregations, and handling hierarchical data."
   ]
  },
  {
   "cell_type": "code",
   "execution_count": null,
   "id": "255b890e",
   "metadata": {},
   "outputs": [],
   "source": [
    "# MultiIndex DataFrame\n",
    "multi_index_df = pd.DataFrame({'Category': ['A', 'A', 'B'], 'Subcategory': ['X', 'Y', 'Z'], 'Values': [1, 2, 3]})\n",
    "multi_index_df.set_index(['Category', 'Subcategory'], inplace=True)\n",
    "print(multi_index_df)\n",
    "\n",
    "# Custom aggregations\n",
    "custom_agg = df.agg({'Income': ['sum', 'mean'], 'Age': 'max'})\n",
    "print(custom_agg)"
   ]
  }
 ],
 "metadata": {
  "kernelspec": {
   "display_name": "Python 3 (ipykernel)",
   "language": "python",
   "name": "python3"
  },
  "language_info": {
   "codemirror_mode": {
    "name": "ipython",
    "version": 3
   },
   "file_extension": ".py",
   "mimetype": "text/x-python",
   "name": "python",
   "nbconvert_exporter": "python",
   "pygments_lexer": "ipython3",
   "version": "3.11.3"
  }
 },
 "nbformat": 4,
 "nbformat_minor": 5
}
