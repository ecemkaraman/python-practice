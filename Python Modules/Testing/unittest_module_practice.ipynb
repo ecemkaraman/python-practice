{
 "cells": [
  {
   "cell_type": "markdown",
   "id": "e00cd350",
   "metadata": {},
   "source": [
    "# **Python `unittest` Module Practice**\n",
    "This notebook provides an overview and practice examples for the `unittest` module in Python, which is used for writing and executing unit tests."
   ]
  },
  {
   "cell_type": "markdown",
   "id": "bec89be4",
   "metadata": {},
   "source": [
    "## **1. Basic Setup**\n",
    "The `unittest` module is part of Python's standard library, so no additional installation is required."
   ]
  },
  {
   "cell_type": "code",
   "execution_count": null,
   "id": "a95e1b51",
   "metadata": {},
   "outputs": [],
   "source": [
    "import unittest"
   ]
  },
  {
   "cell_type": "markdown",
   "id": "b239f265",
   "metadata": {},
   "source": [
    "## **2. Writing a Basic Test Case**"
   ]
  },
  {
   "cell_type": "code",
   "execution_count": null,
   "id": "e404477d",
   "metadata": {},
   "outputs": [],
   "source": [
    "# Create a test case by inheriting from unittest.TestCase\n",
    "class TestMathOperations(unittest.TestCase):\n",
    "\n",
    "    def test_addition(self):\n",
    "        self.assertEqual(1 + 1, 2)\n",
    "\n",
    "    def test_subtraction(self):\n",
    "        self.assertEqual(5 - 3, 2)\n",
    "\n",
    "# Run the tests\n",
    "if __name__ == '__main__':\n",
    "    unittest.main(argv=[''], exit=False)"
   ]
  },
  {
   "cell_type": "markdown",
   "id": "53988f4c",
   "metadata": {},
   "source": [
    "## **3. Setting Up and Tearing Down**"
   ]
  },
  {
   "cell_type": "code",
   "execution_count": null,
   "id": "f0b68204",
   "metadata": {},
   "outputs": [],
   "source": [
    "class TestExample(unittest.TestCase):\n",
    "\n",
    "    def setUp(self):\n",
    "        self.data = [1, 2, 3]\n",
    "        print(\"Setting up test case\")\n",
    "\n",
    "    def tearDown(self):\n",
    "        self.data = None\n",
    "        print(\"Tearing down test case\")\n",
    "\n",
    "    def test_sum(self):\n",
    "        self.assertEqual(sum(self.data), 6)\n",
    "\n",
    "if __name__ == '__main__':\n",
    "    unittest.main(argv=[''], exit=False)"
   ]
  },
  {
   "cell_type": "markdown",
   "id": "60641738",
   "metadata": {},
   "source": [
    "## **4. Using Assertions**"
   ]
  },
  {
   "cell_type": "code",
   "execution_count": null,
   "id": "0a92adee",
   "metadata": {},
   "outputs": [],
   "source": [
    "class TestAssertions(unittest.TestCase):\n",
    "\n",
    "    def test_assertions(self):\n",
    "        self.assertTrue(3 > 2)\n",
    "        self.assertFalse(2 > 3)\n",
    "        self.assertEqual(5, 5)\n",
    "        self.assertNotEqual(5, 4)\n",
    "        self.assertIn(3, [1, 2, 3])\n",
    "        self.assertNotIn(4, [1, 2, 3])\n",
    "\n",
    "if __name__ == '__main__':\n",
    "    unittest.main(argv=[''], exit=False)"
   ]
  },
  {
   "cell_type": "markdown",
   "id": "0fea7f99",
   "metadata": {},
   "source": [
    "## **5. Skipping Tests**"
   ]
  },
  {
   "cell_type": "code",
   "execution_count": null,
   "id": "6d2c877a",
   "metadata": {},
   "outputs": [],
   "source": [
    "class TestSkipped(unittest.TestCase):\n",
    "\n",
    "    @unittest.skip(\"Skipping this test\")\n",
    "    def test_skipped(self):\n",
    "        self.assertEqual(1 + 1, 2)\n",
    "\n",
    "    @unittest.skipIf(True, \"Condition is True\")\n",
    "    def test_skipped_if(self):\n",
    "        self.assertEqual(1 + 1, 2)\n",
    "\n",
    "if __name__ == '__main__':\n",
    "    unittest.main(argv=[''], exit=False)"
   ]
  },
  {
   "cell_type": "markdown",
   "id": "71f4cad9",
   "metadata": {},
   "source": [
    "## **6. Grouping Tests into a Test Suite**"
   ]
  },
  {
   "cell_type": "code",
   "execution_count": null,
   "id": "e8d33b69",
   "metadata": {},
   "outputs": [],
   "source": [
    "def suite():\n",
    "    suite = unittest.TestSuite()\n",
    "    suite.addTest(TestMathOperations('test_addition'))\n",
    "    suite.addTest(TestMathOperations('test_subtraction'))\n",
    "    return suite\n",
    "\n",
    "if __name__ == '__main__':\n",
    "    runner = unittest.TextTestRunner()\n",
    "    runner.run(suite())"
   ]
  },
  {
   "cell_type": "markdown",
   "id": "60cb6bf6",
   "metadata": {},
   "source": [
    "## **7. Practical Example: Testing a Calculator Class**"
   ]
  },
  {
   "cell_type": "code",
   "execution_count": null,
   "id": "ab38263b",
   "metadata": {},
   "outputs": [],
   "source": [
    "class Calculator:\n",
    "    def add(self, x, y):\n",
    "        return x + y\n",
    "\n",
    "    def subtract(self, x, y):\n",
    "        return x - y\n",
    "\n",
    "class TestCalculator(unittest.TestCase):\n",
    "\n",
    "    def setUp(self):\n",
    "        self.calc = Calculator()\n",
    "\n",
    "    def test_add(self):\n",
    "        self.assertEqual(self.calc.add(2, 3), 5)\n",
    "\n",
    "    def test_subtract(self):\n",
    "        self.assertEqual(self.calc.subtract(5, 3), 2)\n",
    "\n",
    "if __name__ == '__main__':\n",
    "    unittest.main(argv=[''], exit=False)"
   ]
  }
 ],
 "metadata": {},
 "nbformat": 4,
 "nbformat_minor": 5
}
