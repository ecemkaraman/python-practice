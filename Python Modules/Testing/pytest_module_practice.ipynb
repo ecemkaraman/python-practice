{
 "cells": [
  {
   "cell_type": "markdown",
   "id": "f2f36063",
   "metadata": {},
   "source": [
    "# **Python `pytest` Module Practice**\n",
    "This notebook provides an overview and practice examples for the `pytest` module in Python, which is used for writing and executing unit tests."
   ]
  },
  {
   "cell_type": "markdown",
   "id": "923b5bad",
   "metadata": {},
   "source": [
    "## **1. Basic Setup**\n",
    "Install `pytest` if not already installed by running:\n",
    "```bash\n",
    "pip install pytest\n",
    "```"
   ]
  },
  {
   "cell_type": "markdown",
   "id": "849adadb",
   "metadata": {},
   "source": [
    "## **2. Writing a Basic Test**\n",
    "Create a Python file named `test_sample.py` and add the following content:"
   ]
  },
  {
   "cell_type": "code",
   "execution_count": null,
   "id": "83575bee",
   "metadata": {},
   "outputs": [],
   "source": [
    "# Content of test_sample.py\n",
    "def add(x, y):\n",
    "    return x + y\n",
    "\n",
    "def test_add():\n",
    "    assert add(2, 3) == 5\n",
    "    assert add(0, 0) == 0\n",
    "    assert add(-1, 1) == 0"
   ]
  },
  {
   "cell_type": "markdown",
   "id": "9f5a28dd",
   "metadata": {},
   "source": [
    "## **3. Running Tests**\n",
    "Run the tests using the command:\n",
    "```bash\n",
    "pytest test_sample.py\n",
    "```"
   ]
  },
  {
   "cell_type": "markdown",
   "id": "0e74e09c",
   "metadata": {},
   "source": [
    "## **4. Using Fixtures**"
   ]
  },
  {
   "cell_type": "code",
   "execution_count": null,
   "id": "f1fc0f3c",
   "metadata": {},
   "outputs": [],
   "source": [
    "# Content of test_sample.py\n",
    "import pytest\n",
    "\n",
    "@pytest.fixture\n",
    "def sample_data():\n",
    "    return [1, 2, 3, 4, 5]\n",
    "\n",
    "def test_sample_data(sample_data):\n",
    "    assert sum(sample_data) == 15\n",
    "    assert len(sample_data) == 5"
   ]
  },
  {
   "cell_type": "markdown",
   "id": "fbaf1666",
   "metadata": {},
   "source": [
    "## **5. Parametrized Tests**"
   ]
  },
  {
   "cell_type": "code",
   "execution_count": null,
   "id": "2bdcc740",
   "metadata": {},
   "outputs": [],
   "source": [
    "# Content of test_sample.py\n",
    "import pytest\n",
    "\n",
    "@pytest.mark.parametrize(\"x, y, result\", [\n",
    "    (2, 3, 5),\n",
    "    (0, 0, 0),\n",
    "    (-1, 1, 0),\n",
    "])\n",
    "def test_add(x, y, result):\n",
    "    assert x + y == result"
   ]
  },
  {
   "cell_type": "markdown",
   "id": "1376cd36",
   "metadata": {},
   "source": [
    "## **6. Grouping Tests**"
   ]
  },
  {
   "cell_type": "code",
   "execution_count": null,
   "id": "555931ab",
   "metadata": {},
   "outputs": [],
   "source": [
    "# Content of test_sample.py\n",
    "class TestMathOperations:\n",
    "    def test_addition(self):\n",
    "        assert 1 + 1 == 2\n",
    "\n",
    "    def test_subtraction(self):\n",
    "        assert 5 - 3 == 2"
   ]
  },
  {
   "cell_type": "markdown",
   "id": "6544ba40",
   "metadata": {},
   "source": [
    "## **7. Capturing Logs**"
   ]
  },
  {
   "cell_type": "code",
   "execution_count": null,
   "id": "bb70db0e",
   "metadata": {},
   "outputs": [],
   "source": [
    "# Content of test_sample.py\n",
    "import logging\n",
    "\n",
    "def test_logging(caplog):\n",
    "    logging.warning(\"This is a warning\")\n",
    "    assert \"warning\" in caplog.text"
   ]
  },
  {
   "cell_type": "markdown",
   "id": "f4d0d1c2",
   "metadata": {},
   "source": [
    "## **8. Marking Tests**"
   ]
  },
  {
   "cell_type": "code",
   "execution_count": null,
   "id": "e7bf348f",
   "metadata": {},
   "outputs": [],
   "source": [
    "# Content of test_sample.py\n",
    "import pytest\n",
    "\n",
    "@pytest.mark.slow\n",
    "def test_slow_function():\n",
    "    import time\n",
    "    time.sleep(5)\n",
    "    assert True"
   ]
  },
  {
   "cell_type": "markdown",
   "id": "ea458a1c",
   "metadata": {},
   "source": [
    "## **9. Running Specific Tests**\n",
    "Run specific tests using markers:\n",
    "```bash\n",
    "pytest -m slow\n",
    "```"
   ]
  },
  {
   "cell_type": "markdown",
   "id": "bfd1e4fb",
   "metadata": {},
   "source": [
    "## **10. Practical Example: Testing a Calculator Class**"
   ]
  },
  {
   "cell_type": "code",
   "execution_count": null,
   "id": "5a3389e0",
   "metadata": {},
   "outputs": [],
   "source": [
    "# Content of test_calculator.py\n",
    "class Calculator:\n",
    "    def add(self, x, y):\n",
    "        return x + y\n",
    "\n",
    "    def subtract(self, x, y):\n",
    "        return x - y\n",
    "\n",
    "def test_calculator_add():\n",
    "    calc = Calculator()\n",
    "    assert calc.add(2, 3) == 5\n",
    "\n",
    "def test_calculator_subtract():\n",
    "    calc = Calculator()\n",
    "    assert calc.subtract(5, 3) == 2"
   ]
  }
 ],
 "metadata": {},
 "nbformat": 4,
 "nbformat_minor": 5
}
