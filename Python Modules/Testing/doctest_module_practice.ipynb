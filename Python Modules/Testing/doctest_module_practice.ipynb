{
 "cells": [
  {
   "cell_type": "markdown",
   "id": "436029cd",
   "metadata": {},
   "source": [
    "# **Python `doctest` Module Practice**\n",
    "This notebook provides an overview and practice examples for the `doctest` module in Python, which is used for embedding tests in documentation strings and running them as part of the test suite."
   ]
  },
  {
   "cell_type": "markdown",
   "id": "999a1ba3",
   "metadata": {},
   "source": [
    "## **1. Basic Setup**\n",
    "The `doctest` module is part of Python's standard library, so no additional installation is required."
   ]
  },
  {
   "cell_type": "code",
   "execution_count": null,
   "id": "2a7a92c9",
   "metadata": {},
   "outputs": [],
   "source": [
    "import doctest"
   ]
  },
  {
   "cell_type": "markdown",
   "id": "33284841",
   "metadata": {},
   "source": [
    "## **2. Writing a Simple Doctest**"
   ]
  },
  {
   "cell_type": "code",
   "execution_count": null,
   "id": "86625063",
   "metadata": {},
   "outputs": [],
   "source": [
    "def add(x, y):\n",
    "    \"\"\"Adds two numbers.\n",
    "\n",
    "    >>> add(2, 3)\n",
    "    5\n",
    "    >>> add(0, 0)\n",
    "    0\n",
    "    >>> add(-1, 1)\n",
    "    0\n",
    "    \"\"\"\n",
    "    return x + y\n",
    "\n",
    "if __name__ == \"__main__\":\n",
    "    doctest.testmod()"
   ]
  },
  {
   "cell_type": "markdown",
   "id": "336cd52f",
   "metadata": {},
   "source": [
    "## **3. Doctests with Edge Cases**"
   ]
  },
  {
   "cell_type": "code",
   "execution_count": null,
   "id": "d4cf3f6e",
   "metadata": {},
   "outputs": [],
   "source": [
    "def divide(x, y):\n",
    "    \"\"\"Divides x by y.\n",
    "\n",
    "    >>> divide(6, 2)\n",
    "    3.0\n",
    "    >>> divide(5, 2)\n",
    "    2.5\n",
    "    >>> divide(1, 0)  # doctest: +IGNORE_EXCEPTION_DETAIL\n",
    "    Traceback (most recent call last):\n",
    "    ZeroDivisionError\n",
    "    \"\"\"\n",
    "    return x / y\n",
    "\n",
    "if __name__ == \"__main__\":\n",
    "    doctest.testmod()"
   ]
  },
  {
   "cell_type": "markdown",
   "id": "77b25c48",
   "metadata": {},
   "source": [
    "## **4. Running Doctests from a Script**\n",
    "To run doctests in a script, include the following code at the end of the file:"
   ]
  },
  {
   "cell_type": "code",
   "execution_count": null,
   "id": "783bd9f0",
   "metadata": {},
   "outputs": [],
   "source": [
    "if __name__ == \"__main__\":\n",
    "    import doctest\n",
    "    doctest.testmod()"
   ]
  },
  {
   "cell_type": "markdown",
   "id": "667b35d3",
   "metadata": {},
   "source": [
    "## **5. Testing Functions in a Module**"
   ]
  },
  {
   "cell_type": "code",
   "execution_count": null,
   "id": "f6b21d59",
   "metadata": {},
   "outputs": [],
   "source": [
    "# Save this code to a file named `math_utils.py`\n",
    "def multiply(x, y):\n",
    "    \"\"\"Multiplies two numbers.\n",
    "\n",
    "    >>> multiply(2, 3)\n",
    "    6\n",
    "    >>> multiply(0, 5)\n",
    "    0\n",
    "    \"\"\"\n",
    "    return x * y\n",
    "\n",
    "# In a separate script or notebook, run the doctest:\n",
    "# >>> import doctest\n",
    "# >>> import math_utils\n",
    "# >>> doctest.testmod(math_utils)"
   ]
  },
  {
   "cell_type": "markdown",
   "id": "fd132dc6",
   "metadata": {},
   "source": [
    "## **6. Controlling Output with Doctest Options**"
   ]
  },
  {
   "cell_type": "code",
   "execution_count": null,
   "id": "e3b4271f",
   "metadata": {},
   "outputs": [],
   "source": [
    "def approximately_equal(x, y):\n",
    "    \"\"\"Checks if two numbers are approximately equal.\n",
    "\n",
    "    >>> approximately_equal(0.1 + 0.2, 0.3)  # doctest: +ELLIPSIS\n",
    "    True\n",
    "    \"\"\"\n",
    "    return abs(x - y) < 1e-9\n",
    "\n",
    "if __name__ == \"__main__\":\n",
    "    doctest.testmod()"
   ]
  },
  {
   "cell_type": "markdown",
   "id": "0240f271",
   "metadata": {},
   "source": [
    "## **7. Practical Example: Validating String Transformations**"
   ]
  },
  {
   "cell_type": "code",
   "execution_count": null,
   "id": "097e18c1",
   "metadata": {},
   "outputs": [],
   "source": [
    "def to_uppercase(s):\n",
    "    \"\"\"Converts a string to uppercase.\n",
    "\n",
    "    >>> to_uppercase('hello')\n",
    "    'HELLO'\n",
    "    >>> to_uppercase('Python')\n",
    "    'PYTHON'\n",
    "    \"\"\"\n",
    "    return s.upper()\n",
    "\n",
    "if __name__ == \"__main__\":\n",
    "    doctest.testmod()"
   ]
  }
 ],
 "metadata": {},
 "nbformat": 4,
 "nbformat_minor": 5
}
