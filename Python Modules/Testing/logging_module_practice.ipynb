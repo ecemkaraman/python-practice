{
 "cells": [
  {
   "cell_type": "markdown",
   "id": "4aa750ba",
   "metadata": {},
   "source": [
    "# **Python `logging` Module Practice**\n",
    "This notebook provides an overview and practice examples for the `logging` module in Python, which is used for tracking events that happen during program execution."
   ]
  },
  {
   "cell_type": "markdown",
   "id": "2b8801a7",
   "metadata": {},
   "source": [
    "## **1. Basic Setup**\n",
    "The `logging` module is part of Python's standard library, so no additional installation is required."
   ]
  },
  {
   "cell_type": "code",
   "execution_count": null,
   "id": "6577076a",
   "metadata": {},
   "outputs": [],
   "source": [
    "import logging\n",
    "\n",
    "# Set up basic configuration\n",
    "logging.basicConfig(level=logging.INFO)"
   ]
  },
  {
   "cell_type": "markdown",
   "id": "a8445b30",
   "metadata": {},
   "source": [
    "## **2. Logging Messages**"
   ]
  },
  {
   "cell_type": "code",
   "execution_count": null,
   "id": "05d70e7e",
   "metadata": {},
   "outputs": [],
   "source": [
    "logging.debug(\"This is a debug message\")\n",
    "logging.info(\"This is an info message\")\n",
    "logging.warning(\"This is a warning message\")\n",
    "logging.error(\"This is an error message\")\n",
    "logging.critical(\"This is a critical message\")"
   ]
  },
  {
   "cell_type": "markdown",
   "id": "3e257c20",
   "metadata": {},
   "source": [
    "## **3. Customizing the Logging Format**"
   ]
  },
  {
   "cell_type": "code",
   "execution_count": null,
   "id": "7f930023",
   "metadata": {},
   "outputs": [],
   "source": [
    "logging.basicConfig(\n",
    "    format=\"%(asctime)s - %(levelname)s - %(message)s\",\n",
    "    level=logging.DEBUG\n",
    ")\n",
    "logging.info(\"Logging with custom format\")"
   ]
  },
  {
   "cell_type": "markdown",
   "id": "01666b70",
   "metadata": {},
   "source": [
    "## **4. Logging to a File**"
   ]
  },
  {
   "cell_type": "code",
   "execution_count": null,
   "id": "722cc186",
   "metadata": {},
   "outputs": [],
   "source": [
    "logging.basicConfig(\n",
    "    filename=\"example.log\",\n",
    "    filemode=\"w\",\n",
    "    format=\"%(asctime)s - %(levelname)s - %(message)s\",\n",
    "    level=logging.DEBUG\n",
    ")\n",
    "logging.info(\"This message is logged to a file\")"
   ]
  },
  {
   "cell_type": "markdown",
   "id": "81eeecd0",
   "metadata": {},
   "source": [
    "## **5. Using Different Loggers**"
   ]
  },
  {
   "cell_type": "code",
   "execution_count": null,
   "id": "c7341644",
   "metadata": {},
   "outputs": [],
   "source": [
    "logger = logging.getLogger(\"customLogger\")\n",
    "logger.setLevel(logging.WARNING)\n",
    "\n",
    "logger.warning(\"This is a warning from customLogger\")\n",
    "logger.error(\"This is an error from customLogger\")"
   ]
  },
  {
   "cell_type": "markdown",
   "id": "81a66dcf",
   "metadata": {},
   "source": [
    "## **6. Adding Handlers**"
   ]
  },
  {
   "cell_type": "code",
   "execution_count": null,
   "id": "feb84aa5",
   "metadata": {},
   "outputs": [],
   "source": [
    "logger = logging.getLogger(\"multiHandlerLogger\")\n",
    "file_handler = logging.FileHandler(\"multi_handler.log\")\n",
    "console_handler = logging.StreamHandler()\n",
    "\n",
    "formatter = logging.Formatter(\"%(asctime)s - %(name)s - %(levelname)s - %(message)s\")\n",
    "file_handler.setFormatter(formatter)\n",
    "console_handler.setFormatter(formatter)\n",
    "\n",
    "logger.addHandler(file_handler)\n",
    "logger.addHandler(console_handler)\n",
    "logger.setLevel(logging.INFO)\n",
    "\n",
    "logger.info(\"This message goes to both the console and the log file\")"
   ]
  },
  {
   "cell_type": "markdown",
   "id": "f5d29040",
   "metadata": {},
   "source": [
    "## **7. Using Filters**"
   ]
  },
  {
   "cell_type": "code",
   "execution_count": null,
   "id": "24c39894",
   "metadata": {},
   "outputs": [],
   "source": [
    "class InfoFilter(logging.Filter):\n",
    "    def filter(self, record):\n",
    "        return record.levelno == logging.INFO\n",
    "\n",
    "logger = logging.getLogger(\"filteredLogger\")\n",
    "logger.setLevel(logging.DEBUG)\n",
    "handler = logging.StreamHandler()\n",
    "handler.addFilter(InfoFilter())\n",
    "\n",
    "logger.addHandler(handler)\n",
    "logger.info(\"This is an info message\")\n",
    "logger.warning(\"This warning message will not appear\")"
   ]
  },
  {
   "cell_type": "markdown",
   "id": "4c15b2b4",
   "metadata": {},
   "source": [
    "## **8. Practical Example: Logging in a Script**"
   ]
  },
  {
   "cell_type": "code",
   "execution_count": null,
   "id": "e5747d95",
   "metadata": {},
   "outputs": [],
   "source": [
    "def divide(a, b):\n",
    "    if b == 0:\n",
    "        logging.error(\"Division by zero attempted\")\n",
    "        return None\n",
    "    result = a / b\n",
    "    logging.info(f\"Division successful: {a} / {b} = {result}\")\n",
    "    return result\n",
    "\n",
    "logging.basicConfig(level=logging.DEBUG)\n",
    "divide(10, 2)\n",
    "divide(10, 0)"
   ]
  }
 ],
 "metadata": {},
 "nbformat": 4,
 "nbformat_minor": 5
}
