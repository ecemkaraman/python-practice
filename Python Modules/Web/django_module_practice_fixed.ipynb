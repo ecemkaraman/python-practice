{
 "cells": [
  {
   "cell_type": "markdown",
   "id": "99d26fb3",
   "metadata": {},
   "source": [
    "# **Python `Django` Module Practice**\n",
    "This notebook provides an overview and practice examples for the `Django` framework in Python, a high-level framework for building web applications."
   ]
  },
  {
   "cell_type": "markdown",
   "id": "d79a56b2",
   "metadata": {},
   "source": [
    "## **1. Setting Up a Django Project**\n",
    "Start by installing Django and creating a new project."
   ]
  },
  {
   "cell_type": "code",
   "execution_count": null,
   "id": "e0b42020",
   "metadata": {},
   "outputs": [],
   "source": [
    "# Install Django (uncomment to run)\n",
    "# !pip install django\n",
    "\n",
    "# Create a new Django project\n",
    "# !django-admin startproject myproject"
   ]
  },
  {
   "cell_type": "markdown",
   "id": "cdf07243",
   "metadata": {},
   "source": [
    "## **2. Running the Development Server**"
   ]
  },
  {
   "cell_type": "code",
   "execution_count": null,
   "id": "746220bf",
   "metadata": {},
   "outputs": [],
   "source": [
    "# Navigate to the project folder and run the server\n",
    "# !cd myproject && python manage.py runserver\n",
    "\n",
    "# Visit http://127.0.0.1:8000 in your browser to see the default Django welcome page."
   ]
  },
  {
   "cell_type": "markdown",
   "id": "cfc14860",
   "metadata": {},
   "source": [
    "## **3. Creating a Django App**"
   ]
  },
  {
   "cell_type": "code",
   "execution_count": null,
   "id": "d4e83cd2",
   "metadata": {},
   "outputs": [],
   "source": [
    "# Create a new app inside the project\n",
    "# !cd myproject && python manage.py startapp myapp\n",
    "\n",
    "# Register the app in the project's settings.py file by adding 'myapp' to INSTALLED_APPS."
   ]
  },
  {
   "cell_type": "markdown",
   "id": "200d54fd",
   "metadata": {},
   "source": [
    "## **4. Defining Models**"
   ]
  },
  {
   "cell_type": "code",
   "execution_count": null,
   "id": "b079070b",
   "metadata": {},
   "outputs": [],
   "source": [
    "# In myapp/models.py\n",
    "from django.db import models\n",
    "\n",
    "class Post(models.Model):\n",
    "    title = models.CharField(max_length=100)\n",
    "    content = models.TextField()\n",
    "\n",
    "    def __str__(self):\n",
    "        return self.title\n",
    "\n",
    "# Apply migrations:\n",
    "# !cd myproject && python manage.py makemigrations && python manage.py migrate"
   ]
  },
  {
   "cell_type": "markdown",
   "id": "b5c23ecf",
   "metadata": {},
   "source": [
    "## **5. Using the Admin Panel**"
   ]
  },
  {
   "cell_type": "code",
   "execution_count": null,
   "id": "991aee92",
   "metadata": {},
   "outputs": [],
   "source": [
    "# In myapp/admin.py\n",
    "from django.contrib import admin\n",
    "from .models import Post\n",
    "\n",
    "admin.site.register(Post)\n",
    "\n",
    "# Create a superuser to access the admin panel:\n",
    "# !cd myproject && python manage.py createsuperuser"
   ]
  },
  {
   "cell_type": "markdown",
   "id": "05717d21",
   "metadata": {},
   "source": [
    "## **6. Creating Views and URLs**"
   ]
  },
  {
   "cell_type": "code",
   "execution_count": null,
   "id": "e74e0c91",
   "metadata": {},
   "outputs": [],
   "source": [
    "# In myapp/views.py\n",
    "from django.http import HttpResponse\n",
    "\n",
    "\n",
    "def home(request):\n",
    "    return HttpResponse('<h1>Welcome to the Home Page</h1>')\n",
    "\n",
    "# In myproject/urls.py\n",
    "from django.contrib import admin\n",
    "from django.urls import path\n",
    "from myapp import views\n",
    "\n",
    "urlpatterns = [\n",
    "    path('admin/', admin.site.urls),\n",
    "    path('', views.home, name='home'),\n",
    "]"
   ]
  },
  {
   "cell_type": "markdown",
   "id": "066dec7d",
   "metadata": {},
   "source": [
    "## **7. Using Templates**"
   ]
  },
  {
   "cell_type": "code",
   "execution_count": null,
   "id": "0a59b786",
   "metadata": {},
   "outputs": [],
   "source": [
    "# Create a templates folder in the myapp directory and add an HTML file (e.g., home.html)\n",
    "# In myapp/views.py\n",
    "from django.shortcuts import render\n",
    "\n",
    "def home(request):\n",
    "    return render(request, 'home.html')\n",
    "\n",
    "# Example `home.html` file:\n",
    "# <html>\n",
    "# <body>\n",
    "# <h1>Welcome to {{ site_name }}</h1>\n",
    "# </body>\n",
    "# </html>\n",
    "\n",
    "# Pass context to the template in the view:\n",
    "# return render(request, 'home.html', {'site_name': 'Django Practice Site'})"
   ]
  },
  {
   "cell_type": "markdown",
   "id": "a6352dbc",
   "metadata": {},
   "source": [
    "## **8. Handling Forms**"
   ]
  },
  {
   "cell_type": "code",
   "execution_count": null,
   "id": "c9043978",
   "metadata": {},
   "outputs": [],
   "source": [
    "# In myapp/forms.py\n",
    "from django import forms\n",
    "\n",
    "class PostForm(forms.Form):\n",
    "    title = forms.CharField(max_length=100)\n",
    "    content = forms.CharField(widget=forms.Textarea)\n",
    "\n",
    "# In myapp/views.py\n",
    "from django.shortcuts import render\n",
    "from .forms import PostForm\n",
    "from django.http import HttpResponse\n",
    "\n",
    "\n",
    "def create_post(request):\n",
    "    if request.method == 'POST':\n",
    "        form = PostForm(request.POST)\n",
    "        if form.is_valid():\n",
    "            print(form.cleaned_data)\n",
    "            return HttpResponse('<h1>Post Created</h1>')\n",
    "    else:\n",
    "        form = PostForm()\n",
    "    return render(request, 'form.html', {'form': form})"
   ]
  },
  {
   "cell_type": "markdown",
   "id": "fb594874",
   "metadata": {},
   "source": [
    "## **9. Adding Static Files**"
   ]
  },
  {
   "cell_type": "code",
   "execution_count": null,
   "id": "74bb88be",
   "metadata": {},
   "outputs": [],
   "source": [
    "# In settings.py, add STATICFILES_DIRS:\n",
    "# STATICFILES_DIRS = [BASE_DIR / 'static']\n",
    "\n",
    "# Create a static folder and add files (e.g., CSS, JS, images)\n",
    "# Reference static files in templates:\n",
    "# <link rel=\"stylesheet\" href=\"{% static 'style.css' %}\">\n",
    "\n",
    "# Ensure 'django.contrib.staticfiles' is in INSTALLED_APPS."
   ]
  },
  {
   "cell_type": "markdown",
   "id": "fa79f7a2",
   "metadata": {},
   "source": [
    "## **10. Building APIs with Django Rest Framework (DRF)**"
   ]
  },
  {
   "cell_type": "code",
   "execution_count": null,
   "id": "2f1bf203",
   "metadata": {},
   "outputs": [],
   "source": [
    "# Install DRF (uncomment to run)\n",
    "# !pip install djangorestframework\n",
    "\n",
    "# Add 'rest_framework' to INSTALLED_APPS in settings.py.\n",
    "\n",
    "# In myapp/serializers.py\n",
    "from rest_framework import serializers\n",
    "from .models import Post\n",
    "\n",
    "class PostSerializer(serializers.ModelSerializer):\n",
    "    class Meta:\n",
    "        model = Post\n",
    "        fields = '__all__'\n",
    "\n",
    "# In myapp/views.py\n",
    "from rest_framework.response import Response\n",
    "from rest_framework.views import APIView\n",
    "from .serializers import PostSerializer\n",
    "from .models import Post\n",
    "\n",
    "class PostListAPIView(APIView):\n",
    "    def get(self, request):\n",
    "        posts = Post.objects.all()\n",
    "        serializer = PostSerializer(posts, many=True)\n",
    "        return Response(serializer.data)\n",
    "\n",
    "# Add to URLs:\n",
    "# path('api/posts/', PostListAPIView.as_view(), name='post-list')"
   ]
  },
  {
   "cell_type": "markdown",
   "id": "b15c73b3",
   "metadata": {},
   "source": [
    "## **11. Deploying Django Applications**"
   ]
  },
  {
   "cell_type": "code",
   "execution_count": null,
   "id": "9a3ae6ed",
   "metadata": {},
   "outputs": [],
   "source": [
    "# Use Gunicorn and a web server (e.g., Nginx) for deployment.\n",
    "# Install Gunicorn (uncomment to run):\n",
    "# !pip install gunicorn\n",
    "\n",
    "# Run Gunicorn server:\n",
    "# !gunicorn myproject.wsgi"
   ]
  }
 ],
 "metadata": {},
 "nbformat": 4,
 "nbformat_minor": 5
}
