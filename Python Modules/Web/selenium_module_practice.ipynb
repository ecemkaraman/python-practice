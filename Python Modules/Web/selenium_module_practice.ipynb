{
 "cells": [
  {
   "cell_type": "markdown",
   "id": "9828440c",
   "metadata": {},
   "source": [
    "# **Python `selenium` Module Practice**\n",
    "This notebook provides an overview and practice examples for the `selenium` module in Python, a powerful tool for automating web browsers and performing browser-based tasks like testing and scraping."
   ]
  },
  {
   "cell_type": "markdown",
   "id": "df8d2fdc",
   "metadata": {},
   "source": [
    "## **1. Installing Selenium and Setting Up WebDriver**"
   ]
  },
  {
   "cell_type": "code",
   "execution_count": null,
   "id": "eef1dcfc",
   "metadata": {},
   "outputs": [],
   "source": [
    "# Install Selenium (uncomment to run)\n",
    "# !pip install selenium\n",
    "\n",
    "# Download the appropriate WebDriver for your browser (e.g., ChromeDriver for Chrome)\n",
    "# Place it in a directory accessible to your script."
   ]
  },
  {
   "cell_type": "markdown",
   "id": "bec91af5",
   "metadata": {},
   "source": [
    "## **2. Starting a Browser Session**"
   ]
  },
  {
   "cell_type": "code",
   "execution_count": null,
   "id": "f3927e34",
   "metadata": {},
   "outputs": [],
   "source": [
    "from selenium import webdriver\n",
    "from selenium.webdriver.common.by import By\n",
    "\n",
    "# Start a browser session\n",
    "# Replace 'path/to/chromedriver' with the actual path to your WebDriver\n",
    "# driver = webdriver.Chrome(executable_path='path/to/chromedriver')\n",
    "\n",
    "# Open a webpage\n",
    "# driver.get('https://www.example.com')\n",
    "\n",
    "# Print the title of the page\n",
    "# print(driver.title)\n",
    "\n",
    "# Close the browser\n",
    "# driver.quit()"
   ]
  },
  {
   "cell_type": "markdown",
   "id": "53e243d4",
   "metadata": {},
   "source": [
    "## **3. Locating Elements**"
   ]
  },
  {
   "cell_type": "code",
   "execution_count": null,
   "id": "a99ac9e2",
   "metadata": {},
   "outputs": [],
   "source": [
    "# Locate elements using different strategies\n",
    "# element = driver.find_element(By.ID, 'element-id')\n",
    "# element = driver.find_element(By.NAME, 'element-name')\n",
    "# element = driver.find_element(By.XPATH, '//tag[@attribute=\"value\"]')\n",
    "# element = driver.find_element(By.CSS_SELECTOR, 'tag.class')"
   ]
  },
  {
   "cell_type": "markdown",
   "id": "ae132aa0",
   "metadata": {},
   "source": [
    "## **4. Interacting with Web Elements**"
   ]
  },
  {
   "cell_type": "code",
   "execution_count": null,
   "id": "be3ca7a1",
   "metadata": {},
   "outputs": [],
   "source": [
    "# Click a button\n",
    "# button = driver.find_element(By.ID, 'submit-button')\n",
    "# button.click()\n",
    "\n",
    "# Enter text in a text box\n",
    "# textbox = driver.find_element(By.NAME, 'search')\n",
    "# textbox.send_keys('Selenium')"
   ]
  },
  {
   "cell_type": "markdown",
   "id": "4b8eac20",
   "metadata": {},
   "source": [
    "## **5. Waiting for Elements**"
   ]
  },
  {
   "cell_type": "code",
   "execution_count": null,
   "id": "77f27e06",
   "metadata": {},
   "outputs": [],
   "source": [
    "from selenium.webdriver.common.by import By\n",
    "from selenium.webdriver.support.ui import WebDriverWait\n",
    "from selenium.webdriver.support import expected_conditions as EC\n",
    "\n",
    "# Wait for an element to be visible\n",
    "# wait = WebDriverWait(driver, 10)\n",
    "# element = wait.until(EC.visibility_of_element_located((By.ID, 'element-id')))"
   ]
  },
  {
   "cell_type": "markdown",
   "id": "5bdd9a3c",
   "metadata": {},
   "source": [
    "## **6. Handling Alerts**"
   ]
  },
  {
   "cell_type": "code",
   "execution_count": null,
   "id": "8c047675",
   "metadata": {},
   "outputs": [],
   "source": [
    "# Handle JavaScript alerts\n",
    "# alert = driver.switch_to.alert\n",
    "# print(alert.text)\n",
    "# alert.accept()  # Accept the alert"
   ]
  },
  {
   "cell_type": "markdown",
   "id": "e86761db",
   "metadata": {},
   "source": [
    "## **7. Taking Screenshots**"
   ]
  },
  {
   "cell_type": "code",
   "execution_count": null,
   "id": "ea34ecc6",
   "metadata": {},
   "outputs": [],
   "source": [
    "# Take a screenshot of the current page\n",
    "# driver.save_screenshot('screenshot.png')\n",
    "# print('Screenshot saved as screenshot.png')"
   ]
  },
  {
   "cell_type": "markdown",
   "id": "ff5573b0",
   "metadata": {},
   "source": [
    "## **8. Navigating Between Pages**"
   ]
  },
  {
   "cell_type": "code",
   "execution_count": null,
   "id": "82f86d73",
   "metadata": {},
   "outputs": [],
   "source": [
    "# Navigate to a URL\n",
    "# driver.get('https://www.example.com')\n",
    "\n",
    "# Go back\n",
    "# driver.back()\n",
    "\n",
    "# Go forward\n",
    "# driver.forward()"
   ]
  },
  {
   "cell_type": "markdown",
   "id": "170b32ab",
   "metadata": {},
   "source": [
    "## **9. Handling Multiple Browser Tabs**"
   ]
  },
  {
   "cell_type": "code",
   "execution_count": null,
   "id": "ee5178f2",
   "metadata": {},
   "outputs": [],
   "source": [
    "# Open a new tab and switch to it\n",
    "# driver.execute_script('window.open(\"https://www.example.com\");')\n",
    "# driver.switch_to.window(driver.window_handles[1])\n",
    "\n",
    "# Close the tab and switch back\n",
    "# driver.close()\n",
    "# driver.switch_to.window(driver.window_handles[0])"
   ]
  },
  {
   "cell_type": "markdown",
   "id": "8c0a35e7",
   "metadata": {},
   "source": [
    "## **10. Extracting Data**"
   ]
  },
  {
   "cell_type": "code",
   "execution_count": null,
   "id": "e1fd3931",
   "metadata": {},
   "outputs": [],
   "source": [
    "# Extract text from an element\n",
    "# element = driver.find_element(By.XPATH, '//h1')\n",
    "# print(element.text)"
   ]
  },
  {
   "cell_type": "markdown",
   "id": "dfa9347b",
   "metadata": {},
   "source": [
    "## **11. Handling Frames and iFrames**"
   ]
  },
  {
   "cell_type": "code",
   "execution_count": null,
   "id": "f588b966",
   "metadata": {},
   "outputs": [],
   "source": [
    "# Switch to an iFrame\n",
    "# driver.switch_to.frame('iframe-name')\n",
    "\n",
    "# Switch back to the default content\n",
    "# driver.switch_to.default_content()"
   ]
  },
  {
   "cell_type": "markdown",
   "id": "6e650456",
   "metadata": {},
   "source": [
    "## **12. Executing JavaScript**"
   ]
  },
  {
   "cell_type": "code",
   "execution_count": null,
   "id": "22fa6ea9",
   "metadata": {},
   "outputs": [],
   "source": [
    "# Execute JavaScript on the page\n",
    "# driver.execute_script('alert(\"Hello from Selenium!\");')"
   ]
  },
  {
   "cell_type": "markdown",
   "id": "b71dc308",
   "metadata": {},
   "source": [
    "## **13. Advanced: Headless Browsing**"
   ]
  },
  {
   "cell_type": "code",
   "execution_count": null,
   "id": "25477e9e",
   "metadata": {},
   "outputs": [],
   "source": [
    "from selenium.webdriver.chrome.options import Options\n",
    "\n",
    "# Set up headless mode\n",
    "# options = Options()\n",
    "# options.add_argument('--headless')\n",
    "# driver = webdriver.Chrome(executable_path='path/to/chromedriver', options=options)\n",
    "\n",
    "# driver.get('https://www.example.com')\n",
    "# print(driver.title)\n",
    "# driver.quit()"
   ]
  },
  {
   "cell_type": "markdown",
   "id": "4099d18d",
   "metadata": {},
   "source": [
    "## **14. Practical Example: Automating a Search**"
   ]
  },
  {
   "cell_type": "code",
   "execution_count": null,
   "id": "f589f524",
   "metadata": {},
   "outputs": [],
   "source": [
    "# Automate a search on a webpage\n",
    "# driver.get('https://www.google.com')\n",
    "# search_box = driver.find_element(By.NAME, 'q')\n",
    "# search_box.send_keys('Python Selenium')\n",
    "# search_box.submit()\n",
    "\n",
    "# Wait for results\n",
    "# wait = WebDriverWait(driver, 10)\n",
    "# wait.until(EC.presence_of_element_located((By.ID, 'search')))\n",
    "# print('Search results loaded.')"
   ]
  }
 ],
 "metadata": {},
 "nbformat": 4,
 "nbformat_minor": 5
}
