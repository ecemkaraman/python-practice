{
 "cells": [
  {
   "cell_type": "markdown",
   "id": "3513b8a3",
   "metadata": {},
   "source": [
    "# **Python `urllib` Module Practice**\n",
    "This notebook provides an overview and practice examples for the `urllib` module in Python, which is used for handling URL operations like opening URLs, parsing URLs, and sending HTTP requests."
   ]
  },
  {
   "cell_type": "markdown",
   "id": "6afca287",
   "metadata": {},
   "source": [
    "## **1. Importing urllib**\n",
    "The `urllib` module is divided into submodules like `request`, `parse`, `error`, and `robotparser`. Let's start by importing them."
   ]
  },
  {
   "cell_type": "code",
   "execution_count": null,
   "id": "dc38cb08",
   "metadata": {},
   "outputs": [],
   "source": [
    "import urllib.request\n",
    "import urllib.parse\n",
    "import urllib.error"
   ]
  },
  {
   "cell_type": "markdown",
   "id": "e5662ba6",
   "metadata": {},
   "source": [
    "## **2. Fetching Data from a URL**"
   ]
  },
  {
   "cell_type": "code",
   "execution_count": null,
   "id": "75011053",
   "metadata": {},
   "outputs": [],
   "source": [
    "# Fetch content from a URL\n",
    "url = 'https://www.example.com'\n",
    "response = urllib.request.urlopen(url)\n",
    "print('Status Code:', response.getcode())\n",
    "print('Content:', response.read().decode('utf-8'))"
   ]
  },
  {
   "cell_type": "markdown",
   "id": "ea398b4c",
   "metadata": {},
   "source": [
    "## **3. Sending Data with POST Requests**"
   ]
  },
  {
   "cell_type": "code",
   "execution_count": null,
   "id": "aeac2b24",
   "metadata": {},
   "outputs": [],
   "source": [
    "# Send a POST request\n",
    "url = 'https://httpbin.org/post'\n",
    "data = urllib.parse.urlencode({'key': 'value'}).encode('utf-8')\n",
    "response = urllib.request.urlopen(url, data=data)\n",
    "print('Response:', response.read().decode('utf-8'))"
   ]
  },
  {
   "cell_type": "markdown",
   "id": "276d8e74",
   "metadata": {},
   "source": [
    "## **4. Handling Errors**"
   ]
  },
  {
   "cell_type": "code",
   "execution_count": null,
   "id": "43103898",
   "metadata": {},
   "outputs": [],
   "source": [
    "# Handle HTTP errors\n",
    "url = 'https://www.nonexistentwebsite.com'\n",
    "try:\n",
    "    urllib.request.urlopen(url)\n",
    "except urllib.error.URLError as e:\n",
    "    print('Error:', e.reason)"
   ]
  },
  {
   "cell_type": "markdown",
   "id": "16655884",
   "metadata": {},
   "source": [
    "## **5. Custom Headers**"
   ]
  },
  {
   "cell_type": "code",
   "execution_count": null,
   "id": "dcec15d9",
   "metadata": {},
   "outputs": [],
   "source": [
    "# Add custom headers to a request\n",
    "url = 'https://httpbin.org/headers'\n",
    "headers = {'User-Agent': 'my-app'}\n",
    "request = urllib.request.Request(url, headers=headers)\n",
    "response = urllib.request.urlopen(request)\n",
    "print('Response:', response.read().decode('utf-8'))"
   ]
  },
  {
   "cell_type": "markdown",
   "id": "64b5e160",
   "metadata": {},
   "source": [
    "## **6. URL Encoding and Decoding**"
   ]
  },
  {
   "cell_type": "code",
   "execution_count": null,
   "id": "5ead027a",
   "metadata": {},
   "outputs": [],
   "source": [
    "# Encode query parameters\n",
    "params = {'q': 'Python urllib', 'page': 1}\n",
    "encoded_params = urllib.parse.urlencode(params)\n",
    "print('Encoded URL:', f'https://www.example.com/search?{encoded_params}')\n",
    "\n",
    "# Decode query parameters\n",
    "query = 'q=Python+urllib&page=1'\n",
    "decoded_params = urllib.parse.parse_qs(query)\n",
    "print('Decoded Params:', decoded_params)"
   ]
  },
  {
   "cell_type": "markdown",
   "id": "4182fb83",
   "metadata": {},
   "source": [
    "## **7. Parsing URLs**"
   ]
  },
  {
   "cell_type": "code",
   "execution_count": null,
   "id": "b56ee49d",
   "metadata": {},
   "outputs": [],
   "source": [
    "# Parse a URL\n",
    "url = 'https://www.example.com/search?q=Python+urllib&page=1'\n",
    "parsed_url = urllib.parse.urlparse(url)\n",
    "print('Parsed URL:', parsed_url)\n",
    "\n",
    "# Build a URL from components\n",
    "url_components = urllib.parse.ParseResult(scheme='https', netloc='www.example.com', path='/search', params='', query='q=Python+urllib&page=1', fragment='')\n",
    "print('Reconstructed URL:', urllib.parse.urlunparse(url_components))"
   ]
  },
  {
   "cell_type": "markdown",
   "id": "cfa1ef20",
   "metadata": {},
   "source": [
    "## **8. Downloading Files**"
   ]
  },
  {
   "cell_type": "code",
   "execution_count": null,
   "id": "8ca25c58",
   "metadata": {},
   "outputs": [],
   "source": [
    "# Download a file from a URL\n",
    "url = 'https://via.placeholder.com/150'\n",
    "file_name = 'placeholder.png'\n",
    "urllib.request.urlretrieve(url, file_name)\n",
    "print(f'File downloaded: {file_name}')"
   ]
  },
  {
   "cell_type": "markdown",
   "id": "9ff87871",
   "metadata": {},
   "source": [
    "## **9. Working with Robots.txt**"
   ]
  },
  {
   "cell_type": "code",
   "execution_count": null,
   "id": "e688f1ad",
   "metadata": {},
   "outputs": [],
   "source": [
    "# Check if a URL is allowed by robots.txt\n",
    "from urllib.robotparser import RobotFileParser\n",
    "\n",
    "url = 'https://www.example.com/robots.txt'\n",
    "rp = RobotFileParser()\n",
    "rp.set_url(url)\n",
    "rp.read()\n",
    "print('Can fetch /search:', rp.can_fetch('*', '/search'))"
   ]
  },
  {
   "cell_type": "markdown",
   "id": "c41cb0c7",
   "metadata": {},
   "source": [
    "## **10. Practical Example: URL Shortener**"
   ]
  },
  {
   "cell_type": "code",
   "execution_count": null,
   "id": "9361478b",
   "metadata": {},
   "outputs": [],
   "source": [
    "# Create a URL shortener function\n",
    "\n",
    "def shorten_url(long_url):\n",
    "    api_url = 'https://tinyurl.com/api-create.php'\n",
    "    encoded_url = urllib.parse.urlencode({'url': long_url})\n",
    "    response = urllib.request.urlopen(f'{api_url}?{encoded_url}')\n",
    "    return response.read().decode('utf-8')\n",
    "\n",
    "short_url = shorten_url('https://www.example.com')\n",
    "print('Shortened URL:', short_url)"
   ]
  }
 ],
 "metadata": {},
 "nbformat": 4,
 "nbformat_minor": 5
}
