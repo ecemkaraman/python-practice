{
 "cells": [
  {
   "cell_type": "markdown",
   "id": "8f5620c2",
   "metadata": {},
   "source": [
    "# **Python `requests` Module Practice**\n",
    "This notebook provides an overview and practice examples for the `requests` module in Python, a popular library for making HTTP requests."
   ]
  },
  {
   "cell_type": "markdown",
   "id": "34399e8a",
   "metadata": {},
   "source": [
    "## **1. Basic Setup**\n",
    "Let's start by importing the `requests` module."
   ]
  },
  {
   "cell_type": "code",
   "execution_count": null,
   "id": "bf828292",
   "metadata": {},
   "outputs": [],
   "source": [
    "import requests"
   ]
  },
  {
   "cell_type": "markdown",
   "id": "9820eb2f",
   "metadata": {},
   "source": [
    "## **2. Sending GET Requests**"
   ]
  },
  {
   "cell_type": "code",
   "execution_count": null,
   "id": "ee3546ed",
   "metadata": {},
   "outputs": [],
   "source": [
    "# Make a GET request to a public API\n",
    "response = requests.get('https://jsonplaceholder.typicode.com/posts/1')\n",
    "print('Status Code:', response.status_code)\n",
    "print('Response JSON:', response.json())"
   ]
  },
  {
   "cell_type": "markdown",
   "id": "b42f471e",
   "metadata": {},
   "source": [
    "## **3. Sending POST Requests**"
   ]
  },
  {
   "cell_type": "code",
   "execution_count": null,
   "id": "027b4926",
   "metadata": {},
   "outputs": [],
   "source": [
    "# Send data in a POST request\n",
    "payload = {'title': 'foo', 'body': 'bar', 'userId': 1}\n",
    "response = requests.post('https://jsonplaceholder.typicode.com/posts', json=payload)\n",
    "print('Status Code:', response.status_code)\n",
    "print('Response JSON:', response.json())"
   ]
  },
  {
   "cell_type": "markdown",
   "id": "1ebc002d",
   "metadata": {},
   "source": [
    "## **4. Sending PUT Requests**"
   ]
  },
  {
   "cell_type": "code",
   "execution_count": null,
   "id": "9b5f21dd",
   "metadata": {},
   "outputs": [],
   "source": [
    "# Update data with a PUT request\n",
    "payload = {'id': 1, 'title': 'updated title', 'body': 'updated body', 'userId': 1}\n",
    "response = requests.put('https://jsonplaceholder.typicode.com/posts/1', json=payload)\n",
    "print('Status Code:', response.status_code)\n",
    "print('Response JSON:', response.json())"
   ]
  },
  {
   "cell_type": "markdown",
   "id": "b4470f13",
   "metadata": {},
   "source": [
    "## **5. Sending DELETE Requests**"
   ]
  },
  {
   "cell_type": "code",
   "execution_count": null,
   "id": "7bbc92be",
   "metadata": {},
   "outputs": [],
   "source": [
    "# Delete a resource\n",
    "response = requests.delete('https://jsonplaceholder.typicode.com/posts/1')\n",
    "print('Status Code:', response.status_code)"
   ]
  },
  {
   "cell_type": "markdown",
   "id": "81ad6dde",
   "metadata": {},
   "source": [
    "## **6. Custom Headers**"
   ]
  },
  {
   "cell_type": "code",
   "execution_count": null,
   "id": "7bac841f",
   "metadata": {},
   "outputs": [],
   "source": [
    "# Add custom headers to a request\n",
    "headers = {'User-Agent': 'my-app'}\n",
    "response = requests.get('https://jsonplaceholder.typicode.com/posts/1', headers=headers)\n",
    "print('Headers Sent:', headers)\n",
    "print('Response JSON:', response.json())"
   ]
  },
  {
   "cell_type": "markdown",
   "id": "16d835c6",
   "metadata": {},
   "source": [
    "## **7. Query Parameters**"
   ]
  },
  {
   "cell_type": "code",
   "execution_count": null,
   "id": "c49a5db5",
   "metadata": {},
   "outputs": [],
   "source": [
    "# Pass query parameters in a GET request\n",
    "params = {'userId': 1}\n",
    "response = requests.get('https://jsonplaceholder.typicode.com/posts', params=params)\n",
    "print('URL:', response.url)\n",
    "print('Response JSON:', response.json())"
   ]
  },
  {
   "cell_type": "markdown",
   "id": "ea6b496e",
   "metadata": {},
   "source": [
    "## **8. Handling Timeouts**"
   ]
  },
  {
   "cell_type": "code",
   "execution_count": null,
   "id": "ea79f57b",
   "metadata": {},
   "outputs": [],
   "source": [
    "# Set a timeout for a request\n",
    "try:\n",
    "    response = requests.get('https://jsonplaceholder.typicode.com/posts', timeout=0.01)\n",
    "except requests.exceptions.Timeout:\n",
    "    print('The request timed out!')"
   ]
  },
  {
   "cell_type": "markdown",
   "id": "332d6704",
   "metadata": {},
   "source": [
    "## **9. Handling Errors**"
   ]
  },
  {
   "cell_type": "code",
   "execution_count": null,
   "id": "d4ab5fb0",
   "metadata": {},
   "outputs": [],
   "source": [
    "# Handle HTTP errors\n",
    "response = requests.get('https://jsonplaceholder.typicode.com/nonexistent')\n",
    "if response.status_code != 200:\n",
    "    print(f'Error: {response.status_code}')"
   ]
  },
  {
   "cell_type": "markdown",
   "id": "6a3ef7c9",
   "metadata": {},
   "source": [
    "## **10. Working with JSON**"
   ]
  },
  {
   "cell_type": "code",
   "execution_count": null,
   "id": "4e0637b9",
   "metadata": {},
   "outputs": [],
   "source": [
    "# Automatically parse JSON responses\n",
    "response = requests.get('https://jsonplaceholder.typicode.com/posts/1')\n",
    "data = response.json()\n",
    "print('Title:', data['title'])"
   ]
  },
  {
   "cell_type": "markdown",
   "id": "79fdb898",
   "metadata": {},
   "source": [
    "## **11. Downloading Files**"
   ]
  },
  {
   "cell_type": "code",
   "execution_count": null,
   "id": "82ca2551",
   "metadata": {},
   "outputs": [],
   "source": [
    "# Download and save a file\n",
    "response = requests.get('https://via.placeholder.com/150', stream=True)\n",
    "with open('placeholder.png', 'wb') as file:\n",
    "    for chunk in response.iter_content(chunk_size=1024):\n",
    "        file.write(chunk)\n",
    "print('File downloaded: placeholder.png')"
   ]
  },
  {
   "cell_type": "markdown",
   "id": "4f822a49",
   "metadata": {},
   "source": [
    "## **12. Authentication**"
   ]
  },
  {
   "cell_type": "code",
   "execution_count": null,
   "id": "61e251cb",
   "metadata": {},
   "outputs": [],
   "source": [
    "# Send a request with basic authentication\n",
    "response = requests.get('https://httpbin.org/basic-auth/user/pass', auth=('user', 'pass'))\n",
    "print('Authenticated:', response.json())"
   ]
  },
  {
   "cell_type": "markdown",
   "id": "6961b0a5",
   "metadata": {},
   "source": [
    "## **13. Session Objects**"
   ]
  },
  {
   "cell_type": "code",
   "execution_count": null,
   "id": "daf834cf",
   "metadata": {},
   "outputs": [],
   "source": [
    "# Use a session object to persist parameters across requests\n",
    "session = requests.Session()\n",
    "session.headers.update({'User-Agent': 'my-session-app'})\n",
    "response = session.get('https://jsonplaceholder.typicode.com/posts/1')\n",
    "print('Session Headers:', session.headers)\n",
    "print('Response JSON:', response.json())"
   ]
  }
 ],
 "metadata": {},
 "nbformat": 4,
 "nbformat_minor": 5
}
