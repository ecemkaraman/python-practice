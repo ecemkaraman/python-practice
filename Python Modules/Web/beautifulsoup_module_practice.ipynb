{
 "cells": [
  {
   "cell_type": "markdown",
   "id": "3ee8bb88",
   "metadata": {},
   "source": [
    "# **Python `BeautifulSoup` Module Practice**\n",
    "This notebook provides an overview and practice examples for the `BeautifulSoup` module from the `bs4` package in Python, which is used for parsing and navigating HTML and XML documents."
   ]
  },
  {
   "cell_type": "markdown",
   "id": "fc337e90",
   "metadata": {},
   "source": [
    "## **1. Basic Setup**\n",
    "Let's start by importing the `BeautifulSoup` module."
   ]
  },
  {
   "cell_type": "code",
   "execution_count": null,
   "id": "dccb0f87",
   "metadata": {},
   "outputs": [],
   "source": [
    "from bs4 import BeautifulSoup"
   ]
  },
  {
   "cell_type": "markdown",
   "id": "dd73132a",
   "metadata": {},
   "source": [
    "## **2. Creating a BeautifulSoup Object**"
   ]
  },
  {
   "cell_type": "code",
   "execution_count": null,
   "id": "410e9ca4",
   "metadata": {},
   "outputs": [],
   "source": [
    "# Parse a simple HTML string\n",
    "html_doc = \"\"\"\n",
    "<html><head><title>Test Title</title></head>\n",
    "<body><p class=\"content\">Hello, World!</p></body></html>\n",
    "\"\"\"\n",
    "soup = BeautifulSoup(html_doc, 'html.parser')\n",
    "print(soup.prettify())"
   ]
  },
  {
   "cell_type": "markdown",
   "id": "d3b89f98",
   "metadata": {},
   "source": [
    "## **3. Navigating the Parse Tree**"
   ]
  },
  {
   "cell_type": "code",
   "execution_count": null,
   "id": "edfee21f",
   "metadata": {},
   "outputs": [],
   "source": [
    "# Accessing specific tags\n",
    "print('Title tag:', soup.title)\n",
    "print('Title text:', soup.title.string)\n",
    "print('Paragraph tag:', soup.p)\n",
    "print('Paragraph class:', soup.p['class'])"
   ]
  },
  {
   "cell_type": "markdown",
   "id": "54a6f456",
   "metadata": {},
   "source": [
    "## **4. Searching the Parse Tree**"
   ]
  },
  {
   "cell_type": "code",
   "execution_count": null,
   "id": "003138b4",
   "metadata": {},
   "outputs": [],
   "source": [
    "# Find a single tag\n",
    "print(soup.find('p'))"
   ]
  },
  {
   "cell_type": "code",
   "execution_count": null,
   "id": "37e987a1",
   "metadata": {},
   "outputs": [],
   "source": [
    "# Find all tags of a specific type\n",
    "print(soup.find_all('p'))"
   ]
  },
  {
   "cell_type": "code",
   "execution_count": null,
   "id": "231345bb",
   "metadata": {},
   "outputs": [],
   "source": [
    "# Search by CSS class\n",
    "print(soup.find('p', class_='content'))"
   ]
  },
  {
   "cell_type": "code",
   "execution_count": null,
   "id": "98f57b50",
   "metadata": {},
   "outputs": [],
   "source": [
    "# Search by attributes\n",
    "print(soup.find(attrs={'class': 'content'}))"
   ]
  },
  {
   "cell_type": "markdown",
   "id": "fb3db094",
   "metadata": {},
   "source": [
    "## **5. Modifying the Parse Tree**"
   ]
  },
  {
   "cell_type": "code",
   "execution_count": null,
   "id": "f0457a2e",
   "metadata": {},
   "outputs": [],
   "source": [
    "# Modify a tag's contents\n",
    "soup.title.string = 'New Title'\n",
    "print(soup.title)"
   ]
  },
  {
   "cell_type": "code",
   "execution_count": null,
   "id": "7522ee11",
   "metadata": {},
   "outputs": [],
   "source": [
    "# Add a new tag\n",
    "new_tag = soup.new_tag('div')\n",
    "new_tag.string = 'This is a new div.'\n",
    "soup.body.append(new_tag)\n",
    "print(soup.body.prettify())"
   ]
  },
  {
   "cell_type": "markdown",
   "id": "26405125",
   "metadata": {},
   "source": [
    "## **6. Extracting Data**"
   ]
  },
  {
   "cell_type": "code",
   "execution_count": null,
   "id": "c97c8bb2",
   "metadata": {},
   "outputs": [],
   "source": [
    "# Get all text from the document\n",
    "print(soup.get_text())"
   ]
  },
  {
   "cell_type": "code",
   "execution_count": null,
   "id": "6af18dd4",
   "metadata": {},
   "outputs": [],
   "source": [
    "# Get the name of a tag\n",
    "print(soup.p.name)"
   ]
  },
  {
   "cell_type": "markdown",
   "id": "ce3bb479",
   "metadata": {},
   "source": [
    "## **7. Working with Navigable Strings**"
   ]
  },
  {
   "cell_type": "code",
   "execution_count": null,
   "id": "78bc565c",
   "metadata": {},
   "outputs": [],
   "source": [
    "# Access the content of a tag as a NavigableString\n",
    "nav_string = soup.p.string\n",
    "print(nav_string)\n",
    "print(type(nav_string))"
   ]
  },
  {
   "cell_type": "code",
   "execution_count": null,
   "id": "6c103486",
   "metadata": {},
   "outputs": [],
   "source": [
    "# Replace a NavigableString\n",
    "soup.p.string.replace_with('Updated content!')\n",
    "print(soup.p)"
   ]
  },
  {
   "cell_type": "markdown",
   "id": "bfabb4f4",
   "metadata": {},
   "source": [
    "## **8. Traversing the Parse Tree**"
   ]
  },
  {
   "cell_type": "code",
   "execution_count": null,
   "id": "54497321",
   "metadata": {},
   "outputs": [],
   "source": [
    "# Parent of a tag\n",
    "print('Parent of title:', soup.title.parent.name)"
   ]
  },
  {
   "cell_type": "code",
   "execution_count": null,
   "id": "893d40be",
   "metadata": {},
   "outputs": [],
   "source": [
    "# All children of a tag\n",
    "print('Children of body:', [child.name for child in soup.body.children if child.name])"
   ]
  },
  {
   "cell_type": "code",
   "execution_count": null,
   "id": "9d372bb0",
   "metadata": {},
   "outputs": [],
   "source": [
    "# Siblings of a tag\n",
    "print('Next sibling of title:', soup.title.next_sibling)"
   ]
  },
  {
   "cell_type": "markdown",
   "id": "dd799aa1",
   "metadata": {},
   "source": [
    "## **9. Using CSS Selectors**"
   ]
  },
  {
   "cell_type": "code",
   "execution_count": null,
   "id": "cce74c98",
   "metadata": {},
   "outputs": [],
   "source": [
    "# Select elements using CSS selectors\n",
    "print(soup.select('p.content'))"
   ]
  },
  {
   "cell_type": "code",
   "execution_count": null,
   "id": "256edcc6",
   "metadata": {},
   "outputs": [],
   "source": [
    "# Select nested elements\n",
    "print(soup.select('body p'))"
   ]
  },
  {
   "cell_type": "markdown",
   "id": "64b2d273",
   "metadata": {},
   "source": [
    "## **10. Parsing XML**"
   ]
  },
  {
   "cell_type": "code",
   "execution_count": null,
   "id": "7d9f7d97",
   "metadata": {},
   "outputs": [],
   "source": [
    "# Parse an XML document\n",
    "xml_doc = \"\"\"\n",
    "<data>\n",
    "    <item id=\"1\">Item 1</item>\n",
    "    <item id=\"2\">Item 2</item>\n",
    "</data>\n",
    "\"\"\"\n",
    "soup_xml = BeautifulSoup(xml_doc, 'xml')\n",
    "print(soup_xml.prettify())\n",
    "print('First item:', soup_xml.find('item').string)"
   ]
  },
  {
   "cell_type": "markdown",
   "id": "7210c2f8",
   "metadata": {},
   "source": [
    "## **11. Handling Real HTML**"
   ]
  },
  {
   "cell_type": "code",
   "execution_count": null,
   "id": "035bcb16",
   "metadata": {},
   "outputs": [],
   "source": [
    "# Fetch and parse a live webpage (requires requests)\n",
    "import requests\n",
    "url = 'https://example.com'\n",
    "response = requests.get(url)\n",
    "soup_live = BeautifulSoup(response.text, 'html.parser')\n",
    "print('Title of the page:', soup_live.title.string)"
   ]
  }
 ],
 "metadata": {},
 "nbformat": 4,
 "nbformat_minor": 5
}
