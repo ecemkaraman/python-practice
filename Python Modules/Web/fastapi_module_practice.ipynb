{
 "cells": [
  {
   "cell_type": "markdown",
   "id": "c298c971",
   "metadata": {},
   "source": [
    "# **Python `FastAPI` Module Practice**\n",
    "This notebook provides an overview and practice examples for the `FastAPI` module in Python, a modern, fast (high-performance), web framework for building APIs."
   ]
  },
  {
   "cell_type": "markdown",
   "id": "c33f6605",
   "metadata": {},
   "source": [
    "## **1. Installing FastAPI and Running a Basic App**"
   ]
  },
  {
   "cell_type": "code",
   "execution_count": null,
   "id": "7ecd666c",
   "metadata": {},
   "outputs": [],
   "source": [
    "# Install FastAPI and Uvicorn (uncomment to run)\n",
    "# !pip install fastapi uvicorn\n",
    "\n",
    "# Create a basic FastAPI app\n",
    "from fastapi import FastAPI\n",
    "\n",
    "app = FastAPI()\n",
    "\n",
    "@app.get('/')\n",
    "def read_root():\n",
    "    return {\"message\": \"Welcome to FastAPI!\"}\n",
    "\n",
    "# To run the server, use the following command in the terminal:\n",
    "# uvicorn <notebook_name>:app --reload\n",
    "# Replace <notebook_name> with the name of this notebook file without the extension."
   ]
  },
  {
   "cell_type": "markdown",
   "id": "b7791eb4",
   "metadata": {},
   "source": [
    "## **2. Creating Routes**"
   ]
  },
  {
   "cell_type": "code",
   "execution_count": null,
   "id": "7bd66b52",
   "metadata": {},
   "outputs": [],
   "source": [
    "@app.get('/items/{item_id}')\n",
    "def read_item(item_id: int, q: str = None):\n",
    "    return {\"item_id\": item_id, \"q\": q}\n",
    "\n",
    "# Example: Accessing /items/5?q=example will return {\"item_id\": 5, \"q\": \"example\"}"
   ]
  },
  {
   "cell_type": "markdown",
   "id": "0bd847b7",
   "metadata": {},
   "source": [
    "## **3. Handling POST Requests**"
   ]
  },
  {
   "cell_type": "code",
   "execution_count": null,
   "id": "2fab50b9",
   "metadata": {},
   "outputs": [],
   "source": [
    "from pydantic import BaseModel\n",
    "\n",
    "class Item(BaseModel):\n",
    "    name: str\n",
    "    description: str = None\n",
    "    price: float\n",
    "    tax: float = None\n",
    "\n",
    "@app.post('/items/')\n",
    "def create_item(item: Item):\n",
    "    return {\"item_name\": item.name, \"item_price_with_tax\": item.price + (item.tax or 0)}"
   ]
  },
  {
   "cell_type": "markdown",
   "id": "301c63ee",
   "metadata": {},
   "source": [
    "## **4. Query Parameters**"
   ]
  },
  {
   "cell_type": "code",
   "execution_count": null,
   "id": "4466348c",
   "metadata": {},
   "outputs": [],
   "source": [
    "@app.get('/search')\n",
    "def search_items(q: str, max_results: int = 10):\n",
    "    return {\"query\": q, \"max_results\": max_results}"
   ]
  },
  {
   "cell_type": "markdown",
   "id": "73582058",
   "metadata": {},
   "source": [
    "## **5. Request Body and Validation**"
   ]
  },
  {
   "cell_type": "code",
   "execution_count": null,
   "id": "0dceeb36",
   "metadata": {},
   "outputs": [],
   "source": [
    "@app.put('/items/{item_id}')\n",
    "def update_item(item_id: int, item: Item):\n",
    "    return {\"item_id\": item_id, \"updated_item\": item}"
   ]
  },
  {
   "cell_type": "markdown",
   "id": "11e38893",
   "metadata": {},
   "source": [
    "## **6. Using Path Parameters**"
   ]
  },
  {
   "cell_type": "code",
   "execution_count": null,
   "id": "09ea02a0",
   "metadata": {},
   "outputs": [],
   "source": [
    "@app.get('/users/{user_id}')\n",
    "def get_user(user_id: int):\n",
    "    return {\"user_id\": user_id}"
   ]
  },
  {
   "cell_type": "markdown",
   "id": "1a0f9a19",
   "metadata": {},
   "source": [
    "## **7. Response Models**"
   ]
  },
  {
   "cell_type": "code",
   "execution_count": null,
   "id": "5b29da41",
   "metadata": {},
   "outputs": [],
   "source": [
    "from fastapi.responses import JSONResponse\n",
    "\n",
    "@app.get('/custom-response/{status_code}')\n",
    "def custom_response(status_code: int):\n",
    "    return JSONResponse(content={\"message\": \"Custom Response\"}, status_code=status_code)"
   ]
  },
  {
   "cell_type": "markdown",
   "id": "2f543305",
   "metadata": {},
   "source": [
    "## **8. Error Handling**"
   ]
  },
  {
   "cell_type": "code",
   "execution_count": null,
   "id": "90c78406",
   "metadata": {},
   "outputs": [],
   "source": [
    "from fastapi import HTTPException\n",
    "\n",
    "@app.get('/error-example/{item_id}')\n",
    "def read_item(item_id: int):\n",
    "    if item_id > 10:\n",
    "        raise HTTPException(status_code=404, detail=\"Item not found\")\n",
    "    return {\"item_id\": item_id}"
   ]
  },
  {
   "cell_type": "markdown",
   "id": "f0a6cef4",
   "metadata": {},
   "source": [
    "## **9. Dependency Injection**"
   ]
  },
  {
   "cell_type": "code",
   "execution_count": null,
   "id": "2033e561",
   "metadata": {},
   "outputs": [],
   "source": [
    "from fastapi import Depends\n",
    "\n",
    "def common_query_parameters(q: str = None):\n",
    "    return {\"q\": q}\n",
    "\n",
    "@app.get('/dependencies/')\n",
    "def dependencies_example(params: dict = Depends(common_query_parameters)):\n",
    "    return params"
   ]
  },
  {
   "cell_type": "markdown",
   "id": "c4771394",
   "metadata": {},
   "source": [
    "## **10. Static Files**"
   ]
  },
  {
   "cell_type": "code",
   "execution_count": null,
   "id": "0cb236fd",
   "metadata": {},
   "outputs": [],
   "source": [
    "# Install the `aiofiles` library for serving static files (uncomment to run)\n",
    "# !pip install aiofiles\n",
    "\n",
    "from fastapi.staticfiles import StaticFiles\n",
    "\n",
    "app.mount(\"/static\", StaticFiles(directory=\"static\"), name=\"static\")\n",
    "\n",
    "# Place files in the `static` folder and access them at /static/<file_name>."
   ]
  },
  {
   "cell_type": "markdown",
   "id": "76919478",
   "metadata": {},
   "source": [
    "## **11. Building APIs with FastAPI**"
   ]
  },
  {
   "cell_type": "code",
   "execution_count": null,
   "id": "bf07b5c8",
   "metadata": {},
   "outputs": [],
   "source": [
    "# Example of a simple API\n",
    "@app.get('/api/users')\n",
    "def get_users():\n",
    "    users = [\n",
    "        {\"id\": 1, \"name\": \"John\"},\n",
    "        {\"id\": 2, \"name\": \"Jane\"}\n",
    "    ]\n",
    "    return users"
   ]
  },
  {
   "cell_type": "markdown",
   "id": "cb3c7c47",
   "metadata": {},
   "source": [
    "## **12. Testing with FastAPI**"
   ]
  },
  {
   "cell_type": "code",
   "execution_count": null,
   "id": "d8347d45",
   "metadata": {},
   "outputs": [],
   "source": [
    "# Install the `pytest` library (uncomment to run)\n",
    "# !pip install pytest\n",
    "\n",
    "from fastapi.testclient import TestClient\n",
    "\n",
    "client = TestClient(app)\n",
    "\n",
    "def test_read_root():\n",
    "    response = client.get('/')\n",
    "    assert response.status_code == 200\n",
    "    assert response.json() == {\"message\": \"Welcome to FastAPI!\"}"
   ]
  }
 ],
 "metadata": {},
 "nbformat": 4,
 "nbformat_minor": 5
}
