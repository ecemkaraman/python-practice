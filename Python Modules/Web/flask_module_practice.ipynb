{
 "cells": [
  {
   "cell_type": "markdown",
   "id": "ef3716c4",
   "metadata": {},
   "source": [
    "# **Python `Flask` Module Practice**\n",
    "This notebook provides an overview and practice examples for the `Flask` module in Python, a lightweight web application framework for building web APIs and applications."
   ]
  },
  {
   "cell_type": "markdown",
   "id": "98443b5d",
   "metadata": {},
   "source": [
    "## **1. Basic Setup**\n",
    "Let's start by importing the `Flask` module and creating a basic application."
   ]
  },
  {
   "cell_type": "code",
   "execution_count": null,
   "id": "72dd9257",
   "metadata": {},
   "outputs": [],
   "source": [
    "from flask import Flask\n",
    "\n",
    "# Create a Flask app instance\n",
    "app = Flask(__name__)"
   ]
  },
  {
   "cell_type": "markdown",
   "id": "c3979eef",
   "metadata": {},
   "source": [
    "## **2. Creating Routes**"
   ]
  },
  {
   "cell_type": "code",
   "execution_count": null,
   "id": "d16766a1",
   "metadata": {},
   "outputs": [],
   "source": [
    "@app.route('/')\n",
    "def home():\n",
    "    return 'Welcome to the Flask App!'\n",
    "\n",
    "@app.route('/about')\n",
    "def about():\n",
    "    return 'This is the About Page.'\n",
    "\n",
    "# Uncomment the following lines to run the app\n",
    "# if __name__ == '__main__':\n",
    "#     app.run(debug=True)"
   ]
  },
  {
   "cell_type": "markdown",
   "id": "4bfe9fc0",
   "metadata": {},
   "source": [
    "## **3. Handling Query Parameters**"
   ]
  },
  {
   "cell_type": "code",
   "execution_count": null,
   "id": "b945ed70",
   "metadata": {},
   "outputs": [],
   "source": [
    "from flask import request\n",
    "\n",
    "@app.route('/search')\n",
    "def search():\n",
    "    query = request.args.get('q', '')\n",
    "    return f'Search results for: {query}'\n",
    "\n",
    "# Uncomment the following lines to run the app\n",
    "# if __name__ == '__main__':\n",
    "#     app.run(debug=True)"
   ]
  },
  {
   "cell_type": "markdown",
   "id": "7355555d",
   "metadata": {},
   "source": [
    "## **4. Handling POST Requests**"
   ]
  },
  {
   "cell_type": "code",
   "execution_count": null,
   "id": "b99feb35",
   "metadata": {},
   "outputs": [],
   "source": [
    "from flask import jsonify\n",
    "\n",
    "@app.route('/api/data', methods=['POST'])\n",
    "def post_data():\n",
    "    data = request.get_json()\n",
    "    return jsonify({'received': data}), 201\n",
    "\n",
    "# Uncomment the following lines to run the app\n",
    "# if __name__ == '__main__':\n",
    "#     app.run(debug=True)"
   ]
  },
  {
   "cell_type": "markdown",
   "id": "d2e4e373",
   "metadata": {},
   "source": [
    "## **5. Using Templates**"
   ]
  },
  {
   "cell_type": "code",
   "execution_count": null,
   "id": "5eac15a2",
   "metadata": {},
   "outputs": [],
   "source": [
    "from flask import render_template\n",
    "\n",
    "@app.route('/greet/<name>')\n",
    "def greet(name):\n",
    "    return render_template('greet.html', name=name)\n",
    "\n",
    "# Example of `greet.html` file:\n",
    "# <html>\n",
    "# <body>\n",
    "# <h1>Hello, {{ name }}!</h1>\n",
    "# </body>\n",
    "# </html>\n",
    "\n",
    "# Uncomment the following lines to run the app\n",
    "# if __name__ == '__main__':\n",
    "#     app.run(debug=True)"
   ]
  },
  {
   "cell_type": "markdown",
   "id": "6cc01edf",
   "metadata": {},
   "source": [
    "## **6. Handling Forms**"
   ]
  },
  {
   "cell_type": "code",
   "execution_count": null,
   "id": "15f667bf",
   "metadata": {},
   "outputs": [],
   "source": [
    "from flask import render_template, redirect, url_for\n",
    "\n",
    "@app.route('/form', methods=['GET', 'POST'])\n",
    "def form():\n",
    "    if request.method == 'POST':\n",
    "        name = request.form['name']\n",
    "        return redirect(url_for('greet', name=name))\n",
    "    return render_template('form.html')\n",
    "\n",
    "# Example of `form.html` file:\n",
    "# <html>\n",
    "# <body>\n",
    "# <form method=\"POST\">\n",
    "# Name: <input type=\"text\" name=\"name\">\n",
    "# <input type=\"submit\">\n",
    "# </form>\n",
    "# </body>\n",
    "# </html>\n",
    "\n",
    "# Uncomment the following lines to run the app\n",
    "# if __name__ == '__main__':\n",
    "#     app.run(debug=True)"
   ]
  },
  {
   "cell_type": "markdown",
   "id": "6837991c",
   "metadata": {},
   "source": [
    "## **7. Working with Static Files**"
   ]
  },
  {
   "cell_type": "code",
   "execution_count": null,
   "id": "6e90b362",
   "metadata": {},
   "outputs": [],
   "source": [
    "# Serving static files from the `static` folder\n",
    "# Place your static files (e.g., images, CSS, JS) in the `static` directory\n",
    "\n",
    "@app.route('/static-example')\n",
    "def static_example():\n",
    "    return '<img src=\"/static/example.jpg\" alt=\"Example Image\">'\n",
    "\n",
    "# Uncomment the following lines to run the app\n",
    "# if __name__ == '__main__':\n",
    "#     app.run(debug=True)"
   ]
  },
  {
   "cell_type": "markdown",
   "id": "184d2326",
   "metadata": {},
   "source": [
    "## **8. Error Handling**"
   ]
  },
  {
   "cell_type": "code",
   "execution_count": null,
   "id": "1dabb38a",
   "metadata": {},
   "outputs": [],
   "source": [
    "@app.errorhandler(404)\n",
    "def page_not_found(e):\n",
    "    return '<h1>404 - Page Not Found</h1>', 404\n",
    "\n",
    "@app.errorhandler(500)\n",
    "def internal_server_error(e):\n",
    "    return '<h1>500 - Internal Server Error</h1>', 500\n",
    "\n",
    "# Uncomment the following lines to run the app\n",
    "# if __name__ == '__main__':\n",
    "#     app.run(debug=True)"
   ]
  },
  {
   "cell_type": "markdown",
   "id": "8946926b",
   "metadata": {},
   "source": [
    "## **9. Creating APIs with Flask**"
   ]
  },
  {
   "cell_type": "code",
   "execution_count": null,
   "id": "521abcc6",
   "metadata": {},
   "outputs": [],
   "source": [
    "@app.route('/api/users')\n",
    "def get_users():\n",
    "    users = [{'id': 1, 'name': 'John'}, {'id': 2, 'name': 'Jane'}]\n",
    "    return jsonify(users)\n",
    "\n",
    "# Uncomment the following lines to run the app\n",
    "# if __name__ == '__main__':\n",
    "#     app.run(debug=True)"
   ]
  },
  {
   "cell_type": "markdown",
   "id": "b04fabef",
   "metadata": {},
   "source": [
    "## **10. Flask Extensions**"
   ]
  },
  {
   "cell_type": "code",
   "execution_count": null,
   "id": "6918c42d",
   "metadata": {},
   "outputs": [],
   "source": [
    "# Using Flask extensions like Flask-SQLAlchemy for database integration\n",
    "from flask_sqlalchemy import SQLAlchemy\n",
    "\n",
    "app.config['SQLALCHEMY_DATABASE_URI'] = 'sqlite:///example.db'\n",
    "db = SQLAlchemy(app)\n",
    "\n",
    "class User(db.Model):\n",
    "    id = db.Column(db.Integer, primary_key=True)\n",
    "    name = db.Column(db.String(80), nullable=False)\n",
    "\n",
    "@app.route('/api/add-user', methods=['POST'])\n",
    "def add_user():\n",
    "    data = request.get_json()\n",
    "    user = User(name=data['name'])\n",
    "    db.session.add(user)\n",
    "    db.session.commit()\n",
    "    return jsonify({'message': 'User added'}), 201\n",
    "\n",
    "# Uncomment the following lines to run the app\n",
    "# if __name__ == '__main__':\n",
    "#     db.create_all()\n",
    "#     app.run(debug=True)"
   ]
  }
 ],
 "metadata": {},
 "nbformat": 4,
 "nbformat_minor": 5
}
