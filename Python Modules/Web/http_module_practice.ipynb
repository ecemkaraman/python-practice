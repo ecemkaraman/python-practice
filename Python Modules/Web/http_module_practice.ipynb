{
 "cells": [
  {
   "cell_type": "markdown",
   "id": "6f16f801",
   "metadata": {},
   "source": [
    "# **Python `http` Module Practice**\n",
    "This notebook provides an overview and practice examples for the `http` module in Python, which is part of the standard library for handling HTTP requests and responses."
   ]
  },
  {
   "cell_type": "markdown",
   "id": "3c00b421",
   "metadata": {},
   "source": [
    "## **1. Basic Setup**\n",
    "Let's start by importing the `http` module and its submodules."
   ]
  },
  {
   "cell_type": "code",
   "execution_count": null,
   "id": "10722919",
   "metadata": {},
   "outputs": [],
   "source": [
    "import http.client\n",
    "import http.server\n",
    "import http.cookies"
   ]
  },
  {
   "cell_type": "markdown",
   "id": "6defc8a3",
   "metadata": {},
   "source": [
    "## **2. Making HTTP Requests with `http.client`**"
   ]
  },
  {
   "cell_type": "code",
   "execution_count": null,
   "id": "92625966",
   "metadata": {},
   "outputs": [],
   "source": [
    "# Create a connection to a server\n",
    "conn = http.client.HTTPSConnection('jsonplaceholder.typicode.com')\n",
    "\n",
    "# Make a GET request\n",
    "conn.request('GET', '/posts/1')\n",
    "response = conn.getresponse()\n",
    "print('Status:', response.status)\n",
    "print('Headers:', response.headers)\n",
    "print('Body:', response.read().decode())\n",
    "conn.close()"
   ]
  },
  {
   "cell_type": "markdown",
   "id": "9e80c521",
   "metadata": {},
   "source": [
    "## **3. Sending Data in POST Requests**"
   ]
  },
  {
   "cell_type": "code",
   "execution_count": null,
   "id": "aff7b2dd",
   "metadata": {},
   "outputs": [],
   "source": [
    "# Send a POST request with JSON data\n",
    "conn = http.client.HTTPSConnection('jsonplaceholder.typicode.com')\n",
    "headers = {'Content-type': 'application/json'}\n",
    "data = '{\"title\": \"foo\", \"body\": \"bar\", \"userId\": 1}'\n",
    "conn.request('POST', '/posts', body=data, headers=headers)\n",
    "response = conn.getresponse()\n",
    "print('Status:', response.status)\n",
    "print('Response:', response.read().decode())\n",
    "conn.close()"
   ]
  },
  {
   "cell_type": "markdown",
   "id": "0c6c6a00",
   "metadata": {},
   "source": [
    "## **4. Using HTTP Server**"
   ]
  },
  {
   "cell_type": "code",
   "execution_count": null,
   "id": "fdabe2a6",
   "metadata": {},
   "outputs": [],
   "source": [
    "# Simple HTTP server\n",
    "from http.server import HTTPServer, BaseHTTPRequestHandler\n",
    "\n",
    "class SimpleHTTPRequestHandler(BaseHTTPRequestHandler):\n",
    "    def do_GET(self):\n",
    "        self.send_response(200)\n",
    "        self.send_header('Content-type', 'text/html')\n",
    "        self.end_headers()\n",
    "        self.wfile.write(b'Hello, World!')\n",
    "\n",
    "# Uncomment the lines below to run the server\n",
    "# server = HTTPServer(('localhost', 8000), SimpleHTTPRequestHandler)\n",
    "# print('Starting server on http://localhost:8000')\n",
    "# server.serve_forever()"
   ]
  },
  {
   "cell_type": "markdown",
   "id": "8cba9fc5",
   "metadata": {},
   "source": [
    "## **5. Handling Cookies with `http.cookies`**"
   ]
  },
  {
   "cell_type": "code",
   "execution_count": null,
   "id": "5ac99efc",
   "metadata": {},
   "outputs": [],
   "source": [
    "# Create and manipulate cookies\n",
    "cookie = http.cookies.SimpleCookie()\n",
    "cookie['username'] = 'JohnDoe'\n",
    "cookie['username']['path'] = '/'\n",
    "cookie['username']['domain'] = 'example.com'\n",
    "print('Cookie Output:', cookie.output())\n",
    "print('Cookie Header:', cookie.output(header='Cookie'))"
   ]
  },
  {
   "cell_type": "markdown",
   "id": "cf5d7068",
   "metadata": {},
   "source": [
    "## **6. Parsing Headers**"
   ]
  },
  {
   "cell_type": "code",
   "execution_count": null,
   "id": "bce18f57",
   "metadata": {},
   "outputs": [],
   "source": [
    "# Parse HTTP headers\n",
    "from http.client import parse_headers\n",
    "from io import StringIO\n",
    "\n",
    "headers_text = \"\"\"Content-Type: text/html\n",
    "Content-Length: 123\n",
    "\"\"\"\n",
    "headers = parse_headers(StringIO(headers_text))\n",
    "print('Parsed Headers:', dict(headers))"
   ]
  },
  {
   "cell_type": "markdown",
   "id": "5831f12d",
   "metadata": {},
   "source": [
    "## **7. Practical Example: HTTP Client**"
   ]
  },
  {
   "cell_type": "code",
   "execution_count": null,
   "id": "15977478",
   "metadata": {},
   "outputs": [],
   "source": [
    "# A reusable HTTP GET function\n",
    "\n",
    "def fetch_url(host, path):\n",
    "    conn = http.client.HTTPSConnection(host)\n",
    "    conn.request('GET', path)\n",
    "    response = conn.getresponse()\n",
    "    data = response.read().decode()\n",
    "    conn.close()\n",
    "    return {'status': response.status, 'headers': dict(response.headers), 'body': data}\n",
    "\n",
    "result = fetch_url('jsonplaceholder.typicode.com', '/posts/1')\n",
    "print('Fetched Data:', result)"
   ]
  }
 ],
 "metadata": {},
 "nbformat": 4,
 "nbformat_minor": 5
}
